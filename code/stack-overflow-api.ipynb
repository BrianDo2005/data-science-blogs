{
 "cells": [
  {
   "cell_type": "markdown",
   "metadata": {
    "ein.tags": [
     "worksheet-0"
    ],
    "slideshow": {
     "slide_type": "-"
    }
   },
   "source": [
    "# Use Stack Overflow API to get some R packages"
   ]
  },
  {
   "cell_type": "markdown",
   "metadata": {
    "ein.tags": [
     "worksheet-0"
    ],
    "slideshow": {
     "slide_type": "-"
    }
   },
   "source": [
    "demo:\n",
    "https://api.stackexchange.com/docs/tags-by-name#order=desc&sort=popular&tags=r&filter=default&site=stackoverflow&run=true\n",
    "\n",
    "more complex searches:\n",
    "https://api.stackexchange.com/docs/search#order=desc&sort=creation&tagged=pebble-watch%3Bpebble-sdk%3Bcloudpebble&filter=default&site=stackoverflow&run=true\n",
    "\n",
    "docs:\n",
    "https://api.stackexchange.com/docs"
   ]
  },
  {
   "cell_type": "markdown",
   "metadata": {
    "ein.tags": [
     "worksheet-0"
    ],
    "slideshow": {
     "slide_type": "-"
    }
   },
   "source": [
    "## Get overall site info"
   ]
  },
  {
   "cell_type": "code",
   "execution_count": 33,
   "metadata": {
    "autoscroll": "json-false",
    "collapsed": false,
    "ein.tags": [
     "worksheet-0"
    ],
    "slideshow": {
     "slide_type": "-"
    }
   },
   "outputs": [],
   "source": [
    "# MAIN SITE INFO\n",
    "import requests\n",
    "\n",
    "INFOURL = \"https://api.stackexchange.com/2.2/info\"\n",
    "\n",
    "params = {\n",
    "  \"site\" : \"stackoverflow\",\n",
    "  }\n",
    "\n",
    "r = requests.get(INFOURL, params=params)"
   ]
  },
  {
   "cell_type": "code",
   "execution_count": 34,
   "metadata": {
    "autoscroll": "json-false",
    "collapsed": false,
    "ein.tags": [
     "worksheet-0"
    ],
    "slideshow": {
     "slide_type": "-"
    }
   },
   "outputs": [
    {
     "data": {
      "text/plain": [
       "{u'has_more': False,\n",
       " u'items': [{u'answers_per_minute': 4.68,\n",
       "   u'api_revision': u'2017.1.3.24329',\n",
       "   u'badges_per_minute': 4.74,\n",
       "   u'new_active_users': 14,\n",
       "   u'questions_per_minute': 2.95,\n",
       "   u'total_accepted': 7109350,\n",
       "   u'total_answers': 20764842,\n",
       "   u'total_badges': 21064610,\n",
       "   u'total_comments': 64349713,\n",
       "   u'total_questions': 13084567,\n",
       "   u'total_unanswered': 3663370,\n",
       "   u'total_users': 6546816,\n",
       "   u'total_votes': 93818947}],\n",
       " u'quota_max': 300,\n",
       " u'quota_remaining': 281}"
      ]
     },
     "execution_count": 34,
     "metadata": {},
     "output_type": "execute_result"
    }
   ],
   "source": [
    "r.json()"
   ]
  },
  {
   "cell_type": "markdown",
   "metadata": {
    "ein.tags": [
     "worksheet-0"
    ],
    "slideshow": {
     "slide_type": "-"
    }
   },
   "source": [
    "## Get data for SO tags"
   ]
  },
  {
   "cell_type": "markdown",
   "metadata": {
    "ein.tags": [
     "worksheet-0"
    ],
    "slideshow": {
     "slide_type": "-"
    }
   },
   "source": [
    "structure:\n",
    "\n",
    "/2.2/tags/dplyr/info?order=desc&sort=popular&site=stackoverflow"
   ]
  },
  {
   "cell_type": "code",
   "execution_count": 58,
   "metadata": {
    "autoscroll": "json-false",
    "collapsed": false,
    "ein.tags": [
     "worksheet-0"
    ],
    "slideshow": {
     "slide_type": "-"
    }
   },
   "outputs": [],
   "source": [
    "def get_tag_data(tag):\n",
    "  BASEURL = \"https://api.stackexchange.com/2.2/tags/\"\n",
    "  \n",
    "  params = {\n",
    "    \"site\" : \"stackoverflow\"\n",
    "  }\n",
    "  \n",
    "  r = requests.get(BASEURL + tag + \"/info\", params=params)\n",
    "  print r.url\n",
    "  return r.json()['items']"
   ]
  },
  {
   "cell_type": "code",
   "execution_count": 59,
   "metadata": {
    "autoscroll": "json-false",
    "collapsed": false,
    "ein.tags": [
     "worksheet-0"
    ],
    "slideshow": {
     "slide_type": "-"
    }
   },
   "outputs": [
    {
     "data": {
      "text/plain": [
       "[{u'count': 14947,\n",
       "  u'has_synonyms': True,\n",
       "  u'is_moderator_only': False,\n",
       "  u'is_required': False,\n",
       "  u'name': u'ggplot2'},\n",
       " {u'count': 4927,\n",
       "  u'has_synonyms': False,\n",
       "  u'is_moderator_only': False,\n",
       "  u'is_required': False,\n",
       "  u'name': u'data.table'},\n",
       " {u'count': 4131,\n",
       "  u'has_synonyms': False,\n",
       "  u'is_moderator_only': False,\n",
       "  u'is_required': False,\n",
       "  u'name': u'dplyr'}]"
      ]
     },
     "execution_count": 59,
     "metadata": {},
     "output_type": "execute_result"
    },
    {
     "name": "stdout",
     "output_type": "stream",
     "text": [
      "https://api.stackexchange.com/2.2/tags/dplyr;data.table;ggplot2/info?site=stackoverflow\n"
     ]
    }
   ],
   "source": [
    "get_tag_data(\"dplyr;data.table;ggplot2\")"
   ]
  },
  {
   "cell_type": "code",
   "execution_count": 60,
   "metadata": {
    "autoscroll": "json-false",
    "collapsed": false,
    "ein.tags": [
     "worksheet-0"
    ],
    "slideshow": {
     "slide_type": "-"
    }
   },
   "outputs": [],
   "source": [
    "# TODO: build into data frame, as input use some list of top R packages"
   ]
  },
  {
   "cell_type": "code",
   "execution_count": 0,
   "metadata": {
    "autoscroll": "json-false",
    "collapsed": false,
    "ein.tags": [
     "worksheet-0"
    ],
    "slideshow": {
     "slide_type": "-"
    }
   },
   "outputs": [],
   "source": []
  }
 ],
 "metadata": {
  "kernelspec": {
   "display_name": "Python 2",
   "name": "python2"
  },
  "name": "stack-overflow-api.ipynb"
 },
 "nbformat": 4,
 "nbformat_minor": 1
}
