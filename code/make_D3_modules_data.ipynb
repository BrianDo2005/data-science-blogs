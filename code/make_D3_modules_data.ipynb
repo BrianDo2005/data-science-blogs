{
 "cells": [
  {
   "cell_type": "markdown",
   "metadata": {},
   "source": [
    "### Using D3 modules excluded from make_js_viz_data.ipynb"
   ]
  },
  {
   "cell_type": "code",
   "execution_count": 1,
   "metadata": {
    "collapsed": true
   },
   "outputs": [],
   "source": [
    "import requests\n",
    "import logging\n",
    "import pandas as pd\n",
    "import numpy as np\n",
    "import urllib2\n",
    "import dill\n",
    "import time\n",
    "import json\n",
    "from datetime import date, timedelta\n",
    "from bs4 import BeautifulSoup\n",
    "import unicodedata\n",
    "import csv\n",
    "import sys\n",
    "sys.path.append('../code')"
   ]
  },
  {
   "cell_type": "code",
   "execution_count": 2,
   "metadata": {
    "collapsed": true
   },
   "outputs": [],
   "source": [
    "with open('../output/D3mods_pkgs.csv', 'rb') as f:\n",
    "    reader = csv.reader(f)\n",
    "    D3_modules = list(reader)\n",
    "    D3_modules = D3_modules[0]"
   ]
  },
  {
   "cell_type": "code",
   "execution_count": 3,
   "metadata": {
    "collapsed": false
   },
   "outputs": [
    {
     "name": "stdout",
     "output_type": "stream",
     "text": [
      "['d3-hcg', 'd3-table', 'mpld3', 'd3-timelines', 'd3-horizon-chart', 'd3-axes', 'forest-d3', 'd3-component', 'd3-resume', 'd3-timeline', 'd3-hexbin', 'd3', 'd3-mesh', 'd3-geo-warp', 'd3-geo', 'd3pie', 'd3-shape', 'd3-scale-chromatic', 'react-d3-components', 'd3-x3dom-shape', 'd3-format', 'd3-binarytree', 'd3.chart', 'd3-components', 'd3-area-label', 'd3-force-cluster', 'd3-summary-tiles', 'd3-annotation', 'd3-source-sink', 'd3-axis', 'd3-tube-map', 'd3-kit', 'd3fc', 'd3-collection', 'd3-canvas-transition', 'd3-bar', 'd3-binaryree', 'd3-wrap', 'd3-view', 'd3-peaks', '@plotly/d3-sankey', 'd3-bboxCollide', 'd3-force-3d', 'd3-scale-interactive', 'd3-czip', 'd3-polygon', 'd3-hierarchy', 'd3-geo-projection', 'd3-brush-2', 'd3-let', '@zambezi/d3-rebind', 'd3-brush', 'd3-foodweb', 'd3-icon', 'd3-force-bounce', 'd3-beeswarm', 'd3-ellipse-force', 'd3-interpolate', 'g-chartcolour', 'd3panels', 'bki-d3-timer', 'd3-sankeyseq', 'd3-nelson-rules', 'd3-hypergraph', 'd3-hist2d', 'd3act', 'd3-graphviz', 'd3-dsv', 'd3.svg.ribbon', 'd3-annotate', 'd3-array', 'd3-path', 'd3-xyzoom', 'd3-heatmap', 'leaflet-d3', 'd3-cartogram', 'd3-force-container', 'd3-force-attract', 'd3.sketchy', '@hpcc-js/d3-bullet', 'd3-labeler', 'wikimaps-d3js-atlas', 'd3.svg.circularbrush', 'd3-quant', 'd3-timer', 'd3-zoom', 'd3-tip', 'd3-radial-axis', 'd3-textwrap', 'react-d3-library', 'd3-plus', 'd3-tile', 'd3-voronoi', 'd3-svg-annotation', 'd3-foo', 'd3-loom', 'd3-exploder', 'd3-random', 'erd3', 'd3.js', 'd3-transition', 'd3-dispatch', 'd3-gtimeline', 'd3-lasso', 'd3-tipy', 'd3xter', 'd3-scale-cluster', 'd3-bumps-chart', 'd3-transition-bki', 'd3-force-surface', 'd3-flame-graph', 'd3-force', 'd3-swoopy-drag', 'graph-scroll', 'd3-timeseries', 'd3-legend', 'd3-geomap', 'd3-time', 'd3-circle', 'd3.slider', 'd3-hsv', 'd3-rect', 'd3-cloud', 'd3-simplecharts', 'd3-request', 'd3-symbol-extra', 'd3-hexjson', 'd3-shotchart', 'd3.chart.sankey', 'd3-selection-multi', 'd3-sankey-diagram', 'd3-force-gravity', 'd3-jnd', 'd3-svg-legend', 'd3-helpers', 'd3moji', 'd3-iconarray', 'd3-format-india', 'd3-context-menu', 'd3-scale-2', 'd3-line-chunked', 'react-d3-map', 'd3-compose', 'd3scription', 'd3-xray', 'd3-cam02', 'd3-starterkit', 'd3-ring-note', 'd3-sparql', 'd3-fetch', 'd3-quadtree', 'd3.geo2rect', 'd3-dot', 'd3-queue', '@monfera/d3-sankey', 'd3-logictree', 'd3-ease', 'd2b', 'd3-force-magnetic', 'd3-contour', 'd3-trail', 'd3-history', 'd3-octree', 'd3-marcon', 'd3-message-sequence', 'd3kit-timeline', 'd3-line', 'd3-sankey', 'd3-jetpack-module', 'd3-extended', 'react-d3', 'd3funnel', 'd3-selection', 'd3-geo-voronoi', 'd3-parent', 'd3-time-format', 'd3-electrophoresis', 'd3-scale', 'd3-drag', 'd3-colorbar', 'd3plus-text', 'd3-axonometric', 'd3-gridding', 'd3-selection-multi-bki', 'dagre-d3', 'd3-jetpack', 'd3-color', 'd3-color-2', 'd3plus', 'd3-multichord', 'g-legend', 'd3-interpolate-path', 'd3-chord']\n"
     ]
    }
   ],
   "source": [
    "print D3_modules"
   ]
  },
  {
   "cell_type": "code",
   "execution_count": 4,
   "metadata": {
    "collapsed": false
   },
   "outputs": [
    {
     "data": {
      "text/plain": [
       "193"
      ]
     },
     "execution_count": 4,
     "metadata": {},
     "output_type": "execute_result"
    }
   ],
   "source": [
    "len(D3_modules)"
   ]
  },
  {
   "cell_type": "code",
   "execution_count": 5,
   "metadata": {
    "collapsed": false
   },
   "outputs": [],
   "source": [
    "D3_modules.remove('d3') #only want to look at modules, not d3 as a whole\n",
    "D3_modules.remove('d3.js')"
   ]
  },
  {
   "cell_type": "markdown",
   "metadata": {},
   "source": [
    "### Get github forks and stars"
   ]
  },
  {
   "cell_type": "code",
   "execution_count": 6,
   "metadata": {
    "collapsed": true
   },
   "outputs": [],
   "source": [
    "with open(\"../code/secrets/github-token.nogit\", \"rb\") as f:\n",
    "    token = f.read()\n",
    "headers = {'Authorization': 'token %s' % token}"
   ]
  },
  {
   "cell_type": "code",
   "execution_count": 7,
   "metadata": {
    "collapsed": true
   },
   "outputs": [],
   "source": [
    "def get_data_from_github(query):\n",
    "    \"\"\"Use github search to return stats from top query result\"\"\"\n",
    "    \n",
    "    r = requests.get('https://api.github.com/search/repositories?q='+query.replace(\"@\",\"\"),\n",
    "                     headers=headers)\n",
    "    r.raise_for_status()\n",
    "    try:\n",
    "        res = r.json()['items'][0]\n",
    "        return {'module':query, 'github_repo': res['full_name'], 'stars': res['stargazers_count'], 'forks': res['forks_count'], \n",
    "                'description': unicodedata.normalize('NFKD', res['description']).encode('ascii','ignore')}\n",
    "    except:\n",
    "        return {'module':query, 'github_repo': 'NA', 'stars': np.NaN, 'forks': np.NaN, 'description': 'NA'}"
   ]
  },
  {
   "cell_type": "code",
   "execution_count": 8,
   "metadata": {
    "collapsed": false
   },
   "outputs": [
    {
     "name": "stdout",
     "output_type": "stream",
     "text": [
      "DONE\n"
     ]
    }
   ],
   "source": [
    "# use generator to avoid repeat API calls; API limit with token: 30 api calls/min\n",
    "github_data = []\n",
    "for ii in range(int(len(D3_modules)/20)):\n",
    "    start = ii*20\n",
    "    end = (ii+1)*20\n",
    "    data = [res for res in (get_data_from_github(query) for query in D3_modules[start:end])\n",
    "        if res is not None]\n",
    "    github_data.extend(data)\n",
    "    time.sleep(61) \n",
    "data = [res for res in (get_data_from_github(query) for query in D3_modules[end:])\n",
    "        if res is not None]\n",
    "github_data.extend(data)\n",
    "print \"DONE\""
   ]
  },
  {
   "cell_type": "code",
   "execution_count": 9,
   "metadata": {
    "collapsed": true
   },
   "outputs": [],
   "source": [
    "githubDF = pd.DataFrame(github_data)[['module','github_repo', 'stars', 'forks']]"
   ]
  },
  {
   "cell_type": "code",
   "execution_count": 10,
   "metadata": {
    "collapsed": false
   },
   "outputs": [
    {
     "data": {
      "text/html": [
       "<div>\n",
       "<table border=\"1\" class=\"dataframe\">\n",
       "  <thead>\n",
       "    <tr style=\"text-align: right;\">\n",
       "      <th></th>\n",
       "      <th>module</th>\n",
       "      <th>github_repo</th>\n",
       "      <th>stars</th>\n",
       "      <th>forks</th>\n",
       "    </tr>\n",
       "  </thead>\n",
       "  <tbody>\n",
       "    <tr>\n",
       "      <th>120</th>\n",
       "      <td>d3-cloud</td>\n",
       "      <td>jasondavies/d3-cloud</td>\n",
       "      <td>2175.0</td>\n",
       "      <td>757.0</td>\n",
       "    </tr>\n",
       "    <tr>\n",
       "      <th>168</th>\n",
       "      <td>react-d3</td>\n",
       "      <td>esbullington/react-d3</td>\n",
       "      <td>1640.0</td>\n",
       "      <td>180.0</td>\n",
       "    </tr>\n",
       "    <tr>\n",
       "      <th>2</th>\n",
       "      <td>mpld3</td>\n",
       "      <td>mpld3/mpld3</td>\n",
       "      <td>1490.0</td>\n",
       "      <td>259.0</td>\n",
       "    </tr>\n",
       "    <tr>\n",
       "      <th>15</th>\n",
       "      <td>d3-shape</td>\n",
       "      <td>d3/d3-shape</td>\n",
       "      <td>1444.0</td>\n",
       "      <td>125.0</td>\n",
       "    </tr>\n",
       "    <tr>\n",
       "      <th>151</th>\n",
       "      <td>d3-queue</td>\n",
       "      <td>d3/d3-queue</td>\n",
       "      <td>1320.0</td>\n",
       "      <td>128.0</td>\n",
       "    </tr>\n",
       "  </tbody>\n",
       "</table>\n",
       "</div>"
      ],
      "text/plain": [
       "       module            github_repo   stars  forks\n",
       "120  d3-cloud   jasondavies/d3-cloud  2175.0  757.0\n",
       "168  react-d3  esbullington/react-d3  1640.0  180.0\n",
       "2       mpld3            mpld3/mpld3  1490.0  259.0\n",
       "15   d3-shape            d3/d3-shape  1444.0  125.0\n",
       "151  d3-queue            d3/d3-queue  1320.0  128.0"
      ]
     },
     "execution_count": 10,
     "metadata": {},
     "output_type": "execute_result"
    }
   ],
   "source": [
    "githubDF.sort_values(['stars'],ascending=False).head()"
   ]
  },
  {
   "cell_type": "markdown",
   "metadata": {},
   "source": [
    "### Get stack overflow tags and questions"
   ]
  },
  {
   "cell_type": "code",
   "execution_count": 11,
   "metadata": {
    "collapsed": true
   },
   "outputs": [],
   "source": [
    "baseurl = 'https://api.stackexchange.com/2.2/search/advanced'\n",
    "\n",
    "def get_so_tag_counts(tag):\n",
    "#Given tag, return tag counts\n",
    "    params = {\n",
    "    \"site\": \"stackoverflow\",\n",
    "    \"key\": \"y38PeNERQJQIC8EPliKAVQ((\",\n",
    "    \"tagged\": tag,  \n",
    "    \"filter\": 'total'}\n",
    "    try:\n",
    "        r = requests.get(baseurl, params=params)\n",
    "        return r.json()['total']\n",
    "    except:\n",
    "        return 0\n",
    "\n",
    "def get_so_question_counts(package):\n",
    "#Given package, return count of questions containing package name\n",
    "    params = {\n",
    "    \"site\": \"stackoverflow\",\n",
    "    \"key\": \"y38PeNERQJQIC8EPliKAVQ((\",\n",
    "    \"q\": package,  \n",
    "    \"filter\": \"total\"}\n",
    "    try:\n",
    "        r = requests.get(baseurl, params=params)\n",
    "        return r.json()['total']\n",
    "    except:\n",
    "        return 0    "
   ]
  },
  {
   "cell_type": "code",
   "execution_count": 12,
   "metadata": {
    "collapsed": false
   },
   "outputs": [],
   "source": [
    "so_data = [{'module':module, 'tag_count':get_so_tag_counts(module),'question_count':get_so_question_counts(module)}\n",
    " for module in D3_modules]"
   ]
  },
  {
   "cell_type": "code",
   "execution_count": 13,
   "metadata": {
    "collapsed": true
   },
   "outputs": [],
   "source": [
    "so_DF = pd.DataFrame(so_data)[['module','tag_count', 'question_count']]"
   ]
  },
  {
   "cell_type": "code",
   "execution_count": 14,
   "metadata": {
    "collapsed": false
   },
   "outputs": [
    {
     "data": {
      "text/html": [
       "<div>\n",
       "<table border=\"1\" class=\"dataframe\">\n",
       "  <thead>\n",
       "    <tr style=\"text-align: right;\">\n",
       "      <th></th>\n",
       "      <th>module</th>\n",
       "      <th>tag_count</th>\n",
       "      <th>question_count</th>\n",
       "    </tr>\n",
       "  </thead>\n",
       "  <tbody>\n",
       "    <tr>\n",
       "      <th>2</th>\n",
       "      <td>mpld3</td>\n",
       "      <td>85</td>\n",
       "      <td>127</td>\n",
       "    </tr>\n",
       "    <tr>\n",
       "      <th>182</th>\n",
       "      <td>dagre-d3</td>\n",
       "      <td>52</td>\n",
       "      <td>74</td>\n",
       "    </tr>\n",
       "    <tr>\n",
       "      <th>186</th>\n",
       "      <td>d3plus</td>\n",
       "      <td>49</td>\n",
       "      <td>52</td>\n",
       "    </tr>\n",
       "    <tr>\n",
       "      <th>168</th>\n",
       "      <td>react-d3</td>\n",
       "      <td>29</td>\n",
       "      <td>350</td>\n",
       "    </tr>\n",
       "    <tr>\n",
       "      <th>31</th>\n",
       "      <td>d3fc</td>\n",
       "      <td>5</td>\n",
       "      <td>6</td>\n",
       "    </tr>\n",
       "  </tbody>\n",
       "</table>\n",
       "</div>"
      ],
      "text/plain": [
       "       module  tag_count  question_count\n",
       "2       mpld3         85             127\n",
       "182  dagre-d3         52              74\n",
       "186    d3plus         49              52\n",
       "168  react-d3         29             350\n",
       "31       d3fc          5               6"
      ]
     },
     "execution_count": 14,
     "metadata": {},
     "output_type": "execute_result"
    }
   ],
   "source": [
    "so_DF.sort_values(['tag_count'],ascending=False).head()"
   ]
  },
  {
   "cell_type": "markdown",
   "metadata": {},
   "source": [
    "### Get npmjs downloads and growth rate"
   ]
  },
  {
   "cell_type": "code",
   "execution_count": 15,
   "metadata": {
    "collapsed": true
   },
   "outputs": [],
   "source": [
    "def extract_count(html):\n",
    "    total_dl = 0\n",
    "    day_queries = json.loads(html).get(u'downloads')\n",
    "    for day in day_queries:\n",
    "        total_dl += day.get(u'downloads')\n",
    "    return total_dl\n",
    "\n",
    "def get_npmjs_counts(package, start_date, end_date):\n",
    "    #retruns total downloads between dates\n",
    "    #enter package and dates as strings, date format YYYY-MM-DD\n",
    "    try:\n",
    "        response = urllib2.urlopen('https://api.npmjs.org/downloads/range/'+start_date+':'+end_date+'/'+package)\n",
    "        return extract_count(response.read())\n",
    "    except urllib2.HTTPError, e:\n",
    "        return np.nan\n",
    "\n",
    "def get_npmjs_cmgr(package, first_month, last_month):\n",
    "    #returns compound monthly growth rate\n",
    "    #enter package as string, date as list of two integers [YYYY, M]\n",
    "    try:\n",
    "        d1 = date(first_month[0], first_month[1], 1)\n",
    "        d2 = date(last_month[0], last_month[1], 1)\n",
    "        month_diff = (d2.year - d1.year) * 12 + d2.month - d1.month + 1\n",
    "        d1_end = d1 + timedelta(days=30)\n",
    "        month1_counts = extract_count(urllib2.urlopen('https://api.npmjs.org/downloads/range/'\n",
    "                                                  +d1.strftime(\"%Y-%m-%d\")+':'+d1_end.strftime(\"%Y-%m-%d\")+'/'+package).read())\n",
    "        d2_end = d2 + timedelta(days=30)\n",
    "        month2_counts = extract_count(urllib2.urlopen('https://api.npmjs.org/downloads/range/'\n",
    "                                                  +d2.strftime(\"%Y-%m-%d\")+':'+d2_end.strftime(\"%Y-%m-%d\")+'/'+package).read())\n",
    "        if month1_counts == 0:\n",
    "            return np.nan\n",
    "        return (((month2_counts/float(month1_counts))**(1.0/month_diff))-1.0)\n",
    "    except urllib2.HTTPError, e:\n",
    "        return np.nan\n",
    "    \n",
    "\n",
    "def get_npmjs_stats(npm_package_list):\n",
    "    #returns downloads in last 3 years, and 6 month compound monthly growth rate\n",
    "    downloads =[]\n",
    "    growth_rates = []\n",
    "    for package in npm_package_list:\n",
    "        downloads.append(get_npmjs_counts(package, '2014-08-01','2017-07-31'))\n",
    "        growth_rates.append(get_npmjs_cmgr(package, [2017, 2], [2017, 7]))\n",
    "    return downloads, growth_rates"
   ]
  },
  {
   "cell_type": "code",
   "execution_count": 16,
   "metadata": {
    "collapsed": false
   },
   "outputs": [],
   "source": [
    "[downloads, growth_rates] = get_npmjs_stats(D3_modules)\n",
    "downloadsDF = pd.DataFrame(np.column_stack([D3_modules, downloads, growth_rates]), \n",
    "                               columns=['module', 'downloads', 'growth_rates'])"
   ]
  },
  {
   "cell_type": "markdown",
   "metadata": {},
   "source": [
    "### put all stats together"
   ]
  },
  {
   "cell_type": "code",
   "execution_count": 17,
   "metadata": {
    "collapsed": true
   },
   "outputs": [],
   "source": [
    "bigDF = githubDF.merge(so_DF,on='module').merge(downloadsDF,on='module')"
   ]
  },
  {
   "cell_type": "code",
   "execution_count": 18,
   "metadata": {
    "collapsed": false
   },
   "outputs": [
    {
     "data": {
      "text/html": [
       "<div>\n",
       "<table border=\"1\" class=\"dataframe\">\n",
       "  <thead>\n",
       "    <tr style=\"text-align: right;\">\n",
       "      <th></th>\n",
       "      <th>module</th>\n",
       "      <th>github_repo</th>\n",
       "      <th>stars</th>\n",
       "      <th>forks</th>\n",
       "      <th>tag_count</th>\n",
       "      <th>question_count</th>\n",
       "      <th>downloads</th>\n",
       "      <th>growth_rates</th>\n",
       "    </tr>\n",
       "  </thead>\n",
       "  <tbody>\n",
       "    <tr>\n",
       "      <th>0</th>\n",
       "      <td>d3-hcg</td>\n",
       "      <td>d3/d3-hcg</td>\n",
       "      <td>9.0</td>\n",
       "      <td>3.0</td>\n",
       "      <td>0</td>\n",
       "      <td>1</td>\n",
       "      <td>1021.0</td>\n",
       "      <td>-0.166516548034</td>\n",
       "    </tr>\n",
       "    <tr>\n",
       "      <th>1</th>\n",
       "      <td>d3-table</td>\n",
       "      <td>RajanRastogi/d3-table</td>\n",
       "      <td>4.0</td>\n",
       "      <td>1.0</td>\n",
       "      <td>0</td>\n",
       "      <td>1434</td>\n",
       "      <td>211.0</td>\n",
       "      <td>0.064440073412</td>\n",
       "    </tr>\n",
       "    <tr>\n",
       "      <th>2</th>\n",
       "      <td>mpld3</td>\n",
       "      <td>mpld3/mpld3</td>\n",
       "      <td>1490.0</td>\n",
       "      <td>259.0</td>\n",
       "      <td>85</td>\n",
       "      <td>127</td>\n",
       "      <td>nan</td>\n",
       "      <td>nan</td>\n",
       "    </tr>\n",
       "    <tr>\n",
       "      <th>3</th>\n",
       "      <td>d3-timelines</td>\n",
       "      <td>jiahuang/d3-timeline</td>\n",
       "      <td>770.0</td>\n",
       "      <td>236.0</td>\n",
       "      <td>0</td>\n",
       "      <td>136</td>\n",
       "      <td>246.0</td>\n",
       "      <td>nan</td>\n",
       "    </tr>\n",
       "    <tr>\n",
       "      <th>4</th>\n",
       "      <td>d3-horizon-chart</td>\n",
       "      <td>kmandov/d3-horizon-chart</td>\n",
       "      <td>38.0</td>\n",
       "      <td>7.0</td>\n",
       "      <td>0</td>\n",
       "      <td>14</td>\n",
       "      <td>2330.0</td>\n",
       "      <td>0.0844578398263</td>\n",
       "    </tr>\n",
       "  </tbody>\n",
       "</table>\n",
       "</div>"
      ],
      "text/plain": [
       "             module               github_repo   stars  forks  tag_count  \\\n",
       "0            d3-hcg                 d3/d3-hcg     9.0    3.0          0   \n",
       "1          d3-table     RajanRastogi/d3-table     4.0    1.0          0   \n",
       "2             mpld3               mpld3/mpld3  1490.0  259.0         85   \n",
       "3      d3-timelines      jiahuang/d3-timeline   770.0  236.0          0   \n",
       "4  d3-horizon-chart  kmandov/d3-horizon-chart    38.0    7.0          0   \n",
       "\n",
       "   question_count downloads     growth_rates  \n",
       "0               1    1021.0  -0.166516548034  \n",
       "1            1434     211.0   0.064440073412  \n",
       "2             127       nan              nan  \n",
       "3             136     246.0              nan  \n",
       "4              14    2330.0  0.0844578398263  "
      ]
     },
     "execution_count": 18,
     "metadata": {},
     "output_type": "execute_result"
    }
   ],
   "source": [
    "bigDF.head()"
   ]
  },
  {
   "cell_type": "code",
   "execution_count": 19,
   "metadata": {
    "collapsed": true
   },
   "outputs": [],
   "source": [
    "bigDF.to_csv(\"../output/D3_modules_Data.csv\")"
   ]
  },
  {
   "cell_type": "code",
   "execution_count": null,
   "metadata": {
    "collapsed": true
   },
   "outputs": [],
   "source": []
  }
 ],
 "metadata": {
  "anaconda-cloud": {},
  "kernelspec": {
   "display_name": "Python [default]",
   "language": "python",
   "name": "python2"
  },
  "language_info": {
   "codemirror_mode": {
    "name": "ipython",
    "version": 2
   },
   "file_extension": ".py",
   "mimetype": "text/x-python",
   "name": "python",
   "nbconvert_exporter": "python",
   "pygments_lexer": "ipython2",
   "version": "2.7.12"
  }
 },
 "nbformat": 4,
 "nbformat_minor": 1
}
