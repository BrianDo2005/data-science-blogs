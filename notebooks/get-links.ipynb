{
 "cells": [
  {
   "cell_type": "markdown",
   "metadata": {},
   "source": [
    "# Get links\n",
    "\n",
    "Given task view list of packages: https://cran.r-project.org/web/views/MachineLearning.html\n",
    "\n",
    "Use the canonical link form \"https://cran.r-project.org/package=myPackage\" [with redirect]\n",
    "\n",
    "to obtain the URL of the package"
   ]
  },
  {
   "cell_type": "code",
   "execution_count": 1,
   "metadata": {
    "collapsed": true
   },
   "outputs": [],
   "source": [
    "import requests\n",
    "from bs4 import BeautifulSoup\n",
    "import logging\n",
    "import pandas as pd"
   ]
  },
  {
   "cell_type": "code",
   "execution_count": 2,
   "metadata": {
    "collapsed": true
   },
   "outputs": [],
   "source": [
    "import sys\n",
    "sys.path.append('../code')\n",
    "import utils as utils"
   ]
  },
  {
   "cell_type": "code",
   "execution_count": 3,
   "metadata": {
    "collapsed": false
   },
   "outputs": [
    {
     "name": "stdout",
     "output_type": "stream",
     "text": [
      "['ahaz', 'arules', 'BayesTree', 'biglasso', 'bigRR']\n"
     ]
    }
   ],
   "source": [
    "package_list = utils.read_package_txt(\"../package-list-from-cran-task-view.txt\")\n",
    "\n",
    "print package_list[:5]"
   ]
  },
  {
   "cell_type": "markdown",
   "metadata": {},
   "source": [
    "# Find github repo links for these packages"
   ]
  },
  {
   "cell_type": "code",
   "execution_count": 4,
   "metadata": {
    "collapsed": true
   },
   "outputs": [],
   "source": [
    "logging.basicConfig(level=logging.INFO)"
   ]
  },
  {
   "cell_type": "code",
   "execution_count": 5,
   "metadata": {
    "collapsed": true
   },
   "outputs": [],
   "source": [
    "BASEURL = \"https://cran.r-project.org/\""
   ]
  },
  {
   "cell_type": "code",
   "execution_count": 100,
   "metadata": {
    "collapsed": true
   },
   "outputs": [],
   "source": [
    "def get_urls_for_pkg(package):\n",
    "    \"\"\"Given package name, find its webpage and extract package source links (incl. github)\n",
    "    \n",
    "    source links: URL and BUGURL (as available)\n",
    "    see example: https://cran.r-project.org/package=ranger\n",
    "    Grab the URL and the BugReports URL. Ultimately, we want the github repo link.\"\"\"\n",
    "\n",
    "    urls = None\n",
    "    bug_urls = None\n",
    "    all_urls = None\n",
    "    github_url = None\n",
    "    \n",
    "    r = requests.get(BASEURL + \"package=\" + package)\n",
    "    soup = BeautifulSoup(r.text, 'lxml')\n",
    "    body = soup.select('body')[0]\n",
    "    url_ = body.findNext('td', text='URL:')\n",
    "    bug_ = body.findNext('td', text='BugReports:')\n",
    "    \n",
    "    if url_ is not None:\n",
    "        urls = [url.text for url in url_.findNext('td').findAll('a')]\n",
    "    if bug_ is not None:\n",
    "        bug_urls = [url.text for url in bug_.findNext('td').findAll('a')]\n",
    "    # some or both of (urls, bug_urls) may be None:\n",
    "    if urls is not None:\n",
    "        all_urls = list(set(urls + bug_urls if bug_urls is not None else urls))\n",
    "    if all_urls is not None:\n",
    "        github_url = [url for url in all_urls if 'github' in url.lower()]\n",
    "    # return any one github url, or None:\n",
    "    # (there may be main github link + 'issues' link)\n",
    "    github_url = next(iter(github_url or []), None)\n",
    "\n",
    "    logging.info(\"Found urls: {0}\".format(all_urls))\n",
    "    return {\"github_url\" : github_url, \"all_urls\": all_urls}"
   ]
  },
  {
   "cell_type": "code",
   "execution_count": 101,
   "metadata": {
    "collapsed": false
   },
   "outputs": [
    {
     "name": "stderr",
     "output_type": "stream",
     "text": [
      "INFO:root:Found urls: [u'http://www.gorst.dk/software.htm']\n",
      "INFO:root:Found urls: [u'http://lyle.smu.edu/IDA/arules', u'https://github.com/mhahsler/arules/issues']\n",
      "INFO:root:Found urls: [u'http://www.r-project.org', u'http://www.rob-mcculloch.org']\n",
      "INFO:root:Found urls: [u'https://github.com/YaohuiZeng/biglasso/issues', u'https://github.com/YaohuiZeng/biglasso']\n",
      "INFO:root:Found urls: None\n",
      "INFO:root:Found urls: None\n",
      "INFO:root:Found urls: [u'https://github.com/mbq/Boruta/issues', u'https://m2.icm.edu.pl/boruta/']\n",
      "INFO:root:Found urls: None\n",
      "INFO:root:Found urls: None\n",
      "INFO:root:Found urls: [u'https://github.com/topepo/caret/issues', u'https://github.com/topepo/caret/']\n",
      "INFO:root:Found urls: [u'http://lkm.fri.uni-lj.si/rmarko/software/']\n",
      "INFO:root:Found urls: None\n",
      "INFO:root:Found urls: None\n",
      "INFO:root:Found urls: None\n",
      "INFO:root:Found urls: [u'http://www.milbo.users.sonic.net/earth']\n",
      "INFO:root:Found urls: [u'http://www.stat.umn.edu/~hzou']\n",
      "INFO:root:Found urls: [u'http://www-stat.stanford.edu/~tibs/ElemStatLearn/']\n",
      "INFO:root:Found urls: None\n",
      "INFO:root:Found urls: None\n",
      "INFO:root:Found urls: None\n",
      "INFO:root:Found urls: [u'http://sci2s.ugr.es/dicits/software/FRBS']\n",
      "INFO:root:Found urls: None\n",
      "INFO:root:Found urls: [u'https://github.com/boost-R/gamboostLSS']\n",
      "INFO:root:Found urls: [u'http://code.google.com/p/gradientboostedmodels/']\n",
      "INFO:root:Found urls: [u'http://www.jstatsoft.org/v33/i01/.']\n",
      "INFO:root:Found urls: None\n",
      "INFO:root:Found urls: None\n",
      "INFO:root:Found urls: [u'https://github.com/gmum/gmum.r', u'https://github.com/gmum/gmum.r/issues']\n",
      "INFO:root:Found urls: None\n",
      "INFO:root:Found urls: None\n",
      "INFO:root:Found urls: [u'https://github.com/h2oai/h2o-3', u'http://jira.h2o.ai']\n",
      "INFO:root:Found urls: None\n",
      "INFO:root:Found urls: None\n",
      "INFO:root:Found urls: None\n",
      "INFO:root:Found urls: None\n",
      "INFO:root:Found urls: None\n",
      "INFO:root:Found urls: [u'http://www.statistik.tu-dortmund.de']\n",
      "INFO:root:Found urls: [u'http://www-stat.stanford.edu/~hastie/Papers/#LARS']\n",
      "INFO:root:Found urls: [u'http://www.maths.uwa.edu.au/~berwin/software/lasso.html']\n",
      "INFO:root:Found urls: [u'http://dnalytics.com/liblinear/']\n",
      "INFO:root:Found urls: None\n",
      "INFO:root:Found urls: None\n",
      "INFO:root:Found urls: None\n",
      "INFO:root:Found urls: [u'https://github.com/boost-R/mboost', u'https://github.com/boost-R/mboost/issues']\n",
      "INFO:root:Found urls: [u'https://github.com/mlr-org/mlr', u'https://github.com/mlr-org/mlr/issues']\n",
      "INFO:root:Found urls: [u'http://github.com/pbreheny/ncvreg/issues', u'http://myweb.uiowa.edu/pbreheny/publications/Breheny2011.pdf']\n",
      "INFO:root:Found urls: [u'http://www.stats.ox.ac.uk/pub/MASS4/']\n",
      "INFO:root:Found urls: None\n",
      "INFO:root:Found urls: [u'https://github.com/vonjd/OneR', u'https://github.com/vonjd/OneR/issues']\n",
      "INFO:root:Found urls: None\n",
      "INFO:root:Found urls: [u'http://party.R-forge.R-project.org']\n",
      "INFO:root:Found urls: [u'http://partykit.R-Forge.R-project.org/partykit']\n",
      "INFO:root:Found urls: None\n",
      "INFO:root:Found urls: None\n",
      "INFO:root:Found urls: None\n",
      "INFO:root:Found urls: None\n",
      "INFO:root:Found urls: [u'https://www.stat.berkeley.edu/~breiman/RandomForests/']\n",
      "INFO:root:Found urls: [u'http://web.ccs.miami.edu/~hishwaran', u'http://www.kogalur.com']\n",
      "INFO:root:Found urls: [u'https://github.com/imbs-hl/ranger', u'https://github.com/imbs-hl/ranger/issues']\n",
      "INFO:root:Found urls: [u'http://rattle.togaware.com/']\n",
      "INFO:root:Found urls: [u'https://github.com/suiji/Arborist', u'http://www.suiji.org/arborist']\n",
      "INFO:root:Found urls: [u'http://www.r-project.org']\n",
      "INFO:root:Found urls: None\n",
      "INFO:root:Found urls: [u'http://pages.stern.nyu.edu/~jsimonof/REEMtree/']\n",
      "INFO:root:Found urls: [u'http://www.stats.ox.ac.uk/~meinshau/']\n",
      "INFO:root:Found urls: [u'http://sekhon.berkeley.edu/rgenoud/']\n",
      "INFO:root:Found urls: [u'http://rsymbolic.org/projects/show/rgp']\n",
      "INFO:root:Found urls: [u'http://sci2s.ugr.es/dicits/software/Rmalschains']\n",
      "INFO:root:Found urls: [u'http://www3.dsi.uminho.pt/pcortez/rminer.html', u'http://cran.r-project.org/package=rminer']\n",
      "INFO:root:Found urls: [u'http://qua.st/rnn', u'https://github.com/bquast/rnn/issues', u'https://github.com/bquast/rnn']\n",
      "INFO:root:Found urls: [u'http://rocr.bioinf.mpi-sb.mpg.de/']\n",
      "INFO:root:Found urls: [u'https://github.com/janusza/RoughSets']\n",
      "INFO:root:Found urls: None\n",
      "INFO:root:Found urls: None\n",
      "INFO:root:Found urls: [u'https://github.com/cbergmeir/RSNNS', u'https://github.com/cbergmeir/RSNNS/issues']\n",
      "INFO:root:Found urls: None\n",
      "INFO:root:Found urls: [u'http://www.r-project.org', u'http://members.iquest.net/~softrx']\n",
      "INFO:root:Found urls: [u'http://strimmerlab.org/software/sda/']\n",
      "INFO:root:Found urls: [u'http://www.stat.columbia.edu/~yangfeng/pubs/jss1375.pdf']\n",
      "INFO:root:Found urls: None\n",
      "INFO:root:Found urls: [u'https://github.com/hofnerb/stabs']\n",
      "INFO:root:Found urls: [u'https://github.com/ecpolley/SuperLearner']\n",
      "INFO:root:Found urls: [u'http://www.jmlr.org/papers/volume5/hastie04a/hastie04a.pdf']\n",
      "INFO:root:Found urls: [u'http://bobby.gramacy.com/r_packages/tgp']\n",
      "INFO:root:Found urls: None\n",
      "INFO:root:Found urls: [u'http://ligarto.org/rdiaz/Software/Software.html', u'http://ligarto.org/rdiaz/Papers/rfVS/randomForestVarSel.html', u'https://github.com/rdiaz02/varSelRF']\n",
      "INFO:root:Found urls: None\n"
     ]
    }
   ],
   "source": [
    "urls = {}\n",
    "\n",
    "urls = {package: get_urls_for_pkg(package) for package in package_list}"
   ]
  },
  {
   "cell_type": "code",
   "execution_count": 102,
   "metadata": {
    "collapsed": false
   },
   "outputs": [
    {
     "data": {
      "text/html": [
       "<div>\n",
       "<table border=\"1\" class=\"dataframe\">\n",
       "  <thead>\n",
       "    <tr style=\"text-align: right;\">\n",
       "      <th></th>\n",
       "      <th>github_url</th>\n",
       "      <th>all_urls</th>\n",
       "    </tr>\n",
       "  </thead>\n",
       "  <tbody>\n",
       "    <tr>\n",
       "      <th>BayesTree</th>\n",
       "      <td>None</td>\n",
       "      <td>[http://www.r-project.org, http://www.rob-mccu...</td>\n",
       "    </tr>\n",
       "    <tr>\n",
       "      <th>Boruta</th>\n",
       "      <td>https://github.com/mbq/Boruta/issues</td>\n",
       "      <td>[https://github.com/mbq/Boruta/issues, https:/...</td>\n",
       "    </tr>\n",
       "    <tr>\n",
       "      <th>C50</th>\n",
       "      <td>None</td>\n",
       "      <td>None</td>\n",
       "    </tr>\n",
       "    <tr>\n",
       "      <th>CORElearn</th>\n",
       "      <td>None</td>\n",
       "      <td>[http://lkm.fri.uni-lj.si/rmarko/software/]</td>\n",
       "    </tr>\n",
       "    <tr>\n",
       "      <th>CoxBoost</th>\n",
       "      <td>None</td>\n",
       "      <td>None</td>\n",
       "    </tr>\n",
       "  </tbody>\n",
       "</table>\n",
       "</div>"
      ],
      "text/plain": [
       "                                     github_url  \\\n",
       "BayesTree                                  None   \n",
       "Boruta     https://github.com/mbq/Boruta/issues   \n",
       "C50                                        None   \n",
       "CORElearn                                  None   \n",
       "CoxBoost                                   None   \n",
       "\n",
       "                                                    all_urls  \n",
       "BayesTree  [http://www.r-project.org, http://www.rob-mccu...  \n",
       "Boruta     [https://github.com/mbq/Boruta/issues, https:/...  \n",
       "C50                                                     None  \n",
       "CORElearn        [http://lkm.fri.uni-lj.si/rmarko/software/]  \n",
       "CoxBoost                                                None  "
      ]
     },
     "execution_count": 102,
     "metadata": {},
     "output_type": "execute_result"
    }
   ],
   "source": [
    "df_urls = pd.DataFrame.from_dict(urls, orient='index')\n",
    "df_urls.head()"
   ]
  },
  {
   "cell_type": "code",
   "execution_count": 104,
   "metadata": {
    "collapsed": false
   },
   "outputs": [],
   "source": [
    "df_urls.to_csv(\"../data/package_urls.csv\")"
   ]
  },
  {
   "cell_type": "code",
   "execution_count": null,
   "metadata": {
    "collapsed": true
   },
   "outputs": [],
   "source": []
  },
  {
   "cell_type": "code",
   "execution_count": 69,
   "metadata": {
    "collapsed": false
   },
   "outputs": [
    {
     "data": {
      "text/plain": [
       "['asdfs', 'asdffff']"
      ]
     },
     "execution_count": 69,
     "metadata": {},
     "output_type": "execute_result"
    }
   ],
   "source": [
    "x + y if x else y"
   ]
  },
  {
   "cell_type": "code",
   "execution_count": null,
   "metadata": {
    "collapsed": true
   },
   "outputs": [],
   "source": []
  },
  {
   "cell_type": "code",
   "execution_count": null,
   "metadata": {
    "collapsed": true
   },
   "outputs": [],
   "source": []
  },
  {
   "cell_type": "code",
   "execution_count": null,
   "metadata": {
    "collapsed": true
   },
   "outputs": [],
   "source": []
  },
  {
   "cell_type": "code",
   "execution_count": 92,
   "metadata": {
    "collapsed": false
   },
   "outputs": [
    {
     "name": "stderr",
     "output_type": "stream",
     "text": [
      "INFO:root:Found urls: [u'http://www.gorst.dk/software.htm']\n",
      "INFO:root:Found urls: [u'http://lyle.smu.edu/IDA/arules', u'https://github.com/mhahsler/arules/issues']\n",
      "INFO:root:Found urls: [u'http://www.r-project.org', u'http://www.rob-mcculloch.org']\n",
      "INFO:root:Found urls: [u'https://github.com/YaohuiZeng/biglasso/issues', u'https://github.com/YaohuiZeng/biglasso']\n"
     ]
    },
    {
     "ename": "TypeError",
     "evalue": "'NoneType' object is not iterable",
     "output_type": "error",
     "traceback": [
      "\u001b[0;31m---------------------------------------------------------------------------\u001b[0m",
      "\u001b[0;31mTypeError\u001b[0m                                 Traceback (most recent call last)",
      "\u001b[0;32m<ipython-input-92-7a9edc0f62eb>\u001b[0m in \u001b[0;36m<module>\u001b[0;34m()\u001b[0m\n\u001b[1;32m      1\u001b[0m \u001b[0murls\u001b[0m \u001b[0;34m=\u001b[0m \u001b[0;34m{\u001b[0m\u001b[0;34m}\u001b[0m\u001b[0;34m\u001b[0m\u001b[0m\n\u001b[1;32m      2\u001b[0m \u001b[0;34m\u001b[0m\u001b[0m\n\u001b[0;32m----> 3\u001b[0;31m \u001b[0murls\u001b[0m \u001b[0;34m=\u001b[0m \u001b[0;34m{\u001b[0m\u001b[0mpackage\u001b[0m\u001b[0;34m:\u001b[0m \u001b[0mget_urls_for_pkg\u001b[0m\u001b[0;34m(\u001b[0m\u001b[0mpackage\u001b[0m\u001b[0;34m)\u001b[0m \u001b[0;32mfor\u001b[0m \u001b[0mpackage\u001b[0m \u001b[0;32min\u001b[0m \u001b[0mpackage_list\u001b[0m\u001b[0;34m}\u001b[0m\u001b[0;34m\u001b[0m\u001b[0m\n\u001b[0m",
      "\u001b[0;32m<ipython-input-92-7a9edc0f62eb>\u001b[0m in \u001b[0;36m<dictcomp>\u001b[0;34m((package,))\u001b[0m\n\u001b[1;32m      1\u001b[0m \u001b[0murls\u001b[0m \u001b[0;34m=\u001b[0m \u001b[0;34m{\u001b[0m\u001b[0;34m}\u001b[0m\u001b[0;34m\u001b[0m\u001b[0m\n\u001b[1;32m      2\u001b[0m \u001b[0;34m\u001b[0m\u001b[0m\n\u001b[0;32m----> 3\u001b[0;31m \u001b[0murls\u001b[0m \u001b[0;34m=\u001b[0m \u001b[0;34m{\u001b[0m\u001b[0mpackage\u001b[0m\u001b[0;34m:\u001b[0m \u001b[0mget_urls_for_pkg\u001b[0m\u001b[0;34m(\u001b[0m\u001b[0mpackage\u001b[0m\u001b[0;34m)\u001b[0m \u001b[0;32mfor\u001b[0m \u001b[0mpackage\u001b[0m \u001b[0;32min\u001b[0m \u001b[0mpackage_list\u001b[0m\u001b[0;34m}\u001b[0m\u001b[0;34m\u001b[0m\u001b[0m\n\u001b[0m",
      "\u001b[0;32m<ipython-input-89-bf197c468775>\u001b[0m in \u001b[0;36mget_urls_for_pkg\u001b[0;34m(package)\u001b[0m\n\u001b[1;32m     23\u001b[0m     \u001b[0;32mif\u001b[0m \u001b[0murls\u001b[0m \u001b[0;32mis\u001b[0m \u001b[0;32mnot\u001b[0m \u001b[0mNone\u001b[0m\u001b[0;34m:\u001b[0m\u001b[0;34m\u001b[0m\u001b[0m\n\u001b[1;32m     24\u001b[0m         \u001b[0mall_urls\u001b[0m \u001b[0;34m=\u001b[0m \u001b[0mlist\u001b[0m\u001b[0;34m(\u001b[0m\u001b[0mset\u001b[0m\u001b[0;34m(\u001b[0m\u001b[0murls\u001b[0m \u001b[0;34m+\u001b[0m \u001b[0mbug_urls\u001b[0m \u001b[0;32mif\u001b[0m \u001b[0mbug_urls\u001b[0m \u001b[0;32mis\u001b[0m \u001b[0;32mnot\u001b[0m \u001b[0mNone\u001b[0m \u001b[0;32melse\u001b[0m \u001b[0murls\u001b[0m\u001b[0;34m)\u001b[0m\u001b[0;34m)\u001b[0m\u001b[0;34m\u001b[0m\u001b[0m\n\u001b[0;32m---> 25\u001b[0;31m     \u001b[0mgithub_url\u001b[0m \u001b[0;34m=\u001b[0m \u001b[0;34m[\u001b[0m\u001b[0murl\u001b[0m \u001b[0;32mfor\u001b[0m \u001b[0murl\u001b[0m \u001b[0;32min\u001b[0m \u001b[0mall_urls\u001b[0m \u001b[0;32mif\u001b[0m \u001b[0;34m'github'\u001b[0m \u001b[0;32min\u001b[0m \u001b[0murl\u001b[0m\u001b[0;34m.\u001b[0m\u001b[0mlower\u001b[0m\u001b[0;34m(\u001b[0m\u001b[0;34m)\u001b[0m\u001b[0;34m]\u001b[0m\u001b[0;34m\u001b[0m\u001b[0m\n\u001b[0m\u001b[1;32m     26\u001b[0m     \u001b[0;32mif\u001b[0m \u001b[0mlen\u001b[0m\u001b[0;34m(\u001b[0m\u001b[0mgithub_url\u001b[0m\u001b[0;34m)\u001b[0m \u001b[0;34m>\u001b[0m \u001b[0;36m1\u001b[0m\u001b[0;34m:\u001b[0m\u001b[0;34m\u001b[0m\u001b[0m\n\u001b[1;32m     27\u001b[0m         \u001b[0mgithub_url\u001b[0m \u001b[0;34m=\u001b[0m \u001b[0mgithub_url\u001b[0m\u001b[0;34m[\u001b[0m\u001b[0;36m0\u001b[0m\u001b[0;34m]\u001b[0m\u001b[0;34m\u001b[0m\u001b[0m\n",
      "\u001b[0;31mTypeError\u001b[0m: 'NoneType' object is not iterable"
     ]
    }
   ],
   "source": [
    "urls = {}\n",
    "\n",
    "urls = {package: get_urls_for_pkg(package) for package in package_list}"
   ]
  },
  {
   "cell_type": "code",
   "execution_count": 15,
   "metadata": {
    "collapsed": false
   },
   "outputs": [
    {
     "data": {
      "text/html": [
       "<div>\n",
       "<table border=\"1\" class=\"dataframe\">\n",
       "  <thead>\n",
       "    <tr style=\"text-align: right;\">\n",
       "      <th></th>\n",
       "      <th>bug_urls</th>\n",
       "      <th>urls</th>\n",
       "    </tr>\n",
       "  </thead>\n",
       "  <tbody>\n",
       "    <tr>\n",
       "      <th>BayesTree</th>\n",
       "      <td>None</td>\n",
       "      <td>[http://www.r-project.org, http://www.rob-mccu...</td>\n",
       "    </tr>\n",
       "    <tr>\n",
       "      <th>Boruta</th>\n",
       "      <td>[https://github.com/mbq/Boruta/issues]</td>\n",
       "      <td>[https://m2.icm.edu.pl/boruta/]</td>\n",
       "    </tr>\n",
       "    <tr>\n",
       "      <th>C50</th>\n",
       "      <td>None</td>\n",
       "      <td>None</td>\n",
       "    </tr>\n",
       "    <tr>\n",
       "      <th>CORElearn</th>\n",
       "      <td>None</td>\n",
       "      <td>[http://lkm.fri.uni-lj.si/rmarko/software/]</td>\n",
       "    </tr>\n",
       "    <tr>\n",
       "      <th>CoxBoost</th>\n",
       "      <td>None</td>\n",
       "      <td>None</td>\n",
       "    </tr>\n",
       "  </tbody>\n",
       "</table>\n",
       "</div>"
      ],
      "text/plain": [
       "                                         bug_urls  \\\n",
       "BayesTree                                    None   \n",
       "Boruta     [https://github.com/mbq/Boruta/issues]   \n",
       "C50                                          None   \n",
       "CORElearn                                    None   \n",
       "CoxBoost                                     None   \n",
       "\n",
       "                                                        urls  \n",
       "BayesTree  [http://www.r-project.org, http://www.rob-mccu...  \n",
       "Boruta                       [https://m2.icm.edu.pl/boruta/]  \n",
       "C50                                                     None  \n",
       "CORElearn        [http://lkm.fri.uni-lj.si/rmarko/software/]  \n",
       "CoxBoost                                                None  "
      ]
     },
     "execution_count": 15,
     "metadata": {},
     "output_type": "execute_result"
    }
   ],
   "source": [
    "df_urls = pd.DataFrame.from_dict(urls, orient='index')\n",
    "df_urls.head()"
   ]
  },
  {
   "cell_type": "code",
   "execution_count": null,
   "metadata": {
    "collapsed": true
   },
   "outputs": [],
   "source": [
    "df_urls.to_csv(\"../data/package_urls.csv\")"
   ]
  },
  {
   "cell_type": "code",
   "execution_count": 79,
   "metadata": {
    "collapsed": false
   },
   "outputs": [
    {
     "name": "stderr",
     "output_type": "stream",
     "text": [
      "INFO:root:Found urls: [u'https://github.com/imbs-hl/ranger']\n"
     ]
    },
    {
     "data": {
      "text/plain": [
       "{'bug_urls': [u'https://github.com/imbs-hl/ranger/issues'],\n",
       " 'github_url': u'https://github.com/imbs-hl/ranger',\n",
       " 'urls': [u'https://github.com/imbs-hl/ranger']}"
      ]
     },
     "execution_count": 79,
     "metadata": {},
     "output_type": "execute_result"
    }
   ],
   "source": [
    "get_urls_for_pkg('ranger')"
   ]
  },
  {
   "cell_type": "code",
   "execution_count": null,
   "metadata": {
    "collapsed": false
   },
   "outputs": [],
   "source": [
    "type(urls)"
   ]
  },
  {
   "cell_type": "code",
   "execution_count": 23,
   "metadata": {
    "collapsed": true
   },
   "outputs": [],
   "source": [
    "x=[]"
   ]
  },
  {
   "cell_type": "code",
   "execution_count": 24,
   "metadata": {
    "collapsed": false
   },
   "outputs": [
    {
     "data": {
      "text/plain": [
       "0"
      ]
     },
     "execution_count": 24,
     "metadata": {},
     "output_type": "execute_result"
    }
   ],
   "source": [
    "len(x)"
   ]
  },
  {
   "cell_type": "code",
   "execution_count": null,
   "metadata": {
    "collapsed": false
   },
   "outputs": [],
   "source": [
    "urls = [get_url_for_pkg(package) for package in package_list[:2]\n",
    "        if get_url_for_pkg(package) is not None]"
   ]
  },
  {
   "cell_type": "code",
   "execution_count": null,
   "metadata": {
    "collapsed": false
   },
   "outputs": [],
   "source": [
    "urls"
   ]
  },
  {
   "cell_type": "raw",
   "metadata": {},
   "source": [
    "<td>URL:</td>\n",
    "<td><a href=\"https://github.com/imbs-hl/ranger\">https://github.com/imbs-hl/ranger</a></td>\n",
    "</tr>"
   ]
  },
  {
   "cell_type": "code",
   "execution_count": null,
   "metadata": {
    "collapsed": false
   },
   "outputs": [],
   "source": [
    "body = x.select('body')[0]"
   ]
  },
  {
   "cell_type": "code",
   "execution_count": null,
   "metadata": {
    "collapsed": false
   },
   "outputs": [],
   "source": [
    "x = body.findNext('td', text='URL:').findNext('td').find('a').text\n",
    "x"
   ]
  },
  {
   "cell_type": "code",
   "execution_count": 16,
   "metadata": {
    "collapsed": false
   },
   "outputs": [],
   "source": [
    "x = 'asdf ad as fsa sadf'.split()"
   ]
  },
  {
   "cell_type": "code",
   "execution_count": 19,
   "metadata": {
    "collapsed": false
   },
   "outputs": [
    {
     "data": {
      "text/plain": [
       "['asdf', 'ad', 'as', 'fsa', 'sadf']"
      ]
     },
     "execution_count": 19,
     "metadata": {},
     "output_type": "execute_result"
    }
   ],
   "source": [
    "x"
   ]
  },
  {
   "cell_type": "code",
   "execution_count": 20,
   "metadata": {
    "collapsed": false
   },
   "outputs": [
    {
     "data": {
      "text/plain": [
       "['ad', 'as', 'fsa', 'sadf']"
      ]
     },
     "execution_count": 20,
     "metadata": {},
     "output_type": "execute_result"
    }
   ],
   "source": [
    "x[1:]"
   ]
  },
  {
   "cell_type": "code",
   "execution_count": 47,
   "metadata": {
    "collapsed": true
   },
   "outputs": [],
   "source": [
    "y = [u'http://ligarto.org/rdiaz/Software/Software.html', u'http://ligarto.org/rdiaz/Papers/rfVS/randomForestVarSel.html', u'https://github.com/rdiaz02/varSelRF']"
   ]
  },
  {
   "cell_type": "code",
   "execution_count": 48,
   "metadata": {
    "collapsed": true
   },
   "outputs": [],
   "source": [
    "x = [u'http://ligarto.org/rdiaz/Software/Software.html', u'http://ligarto.org/rdiaz/Papers/rfVS/randomForestVarSel.html']"
   ]
  },
  {
   "cell_type": "code",
   "execution_count": 50,
   "metadata": {
    "collapsed": false
   },
   "outputs": [
    {
     "data": {
      "text/plain": [
       "[u'http://ligarto.org/rdiaz/Software/Software.html',\n",
       " u'http://ligarto.org/rdiaz/Papers/rfVS/randomForestVarSel.html',\n",
       " u'https://github.com/rdiaz02/varSelRF']"
      ]
     },
     "execution_count": 50,
     "metadata": {},
     "output_type": "execute_result"
    }
   ],
   "source": [
    "list(set(x + y))"
   ]
  },
  {
   "cell_type": "code",
   "execution_count": null,
   "metadata": {
    "collapsed": true
   },
   "outputs": [],
   "source": []
  },
  {
   "cell_type": "code",
   "execution_count": 38,
   "metadata": {
    "collapsed": false
   },
   "outputs": [
    {
     "data": {
      "text/plain": [
       "[]"
      ]
     },
     "execution_count": 38,
     "metadata": {},
     "output_type": "execute_result"
    }
   ],
   "source": [
    "[link for link in x if 'github' in link]"
   ]
  },
  {
   "cell_type": "code",
   "execution_count": null,
   "metadata": {
    "collapsed": true
   },
   "outputs": [],
   "source": []
  }
 ],
 "metadata": {
  "kernelspec": {
   "display_name": "Python 2",
   "language": "python",
   "name": "python2"
  },
  "language_info": {
   "codemirror_mode": {
    "name": "ipython",
    "version": 2
   },
   "file_extension": ".py",
   "mimetype": "text/x-python",
   "name": "python",
   "nbconvert_exporter": "python",
   "pygments_lexer": "ipython2",
   "version": "2.7.12"
  }
 },
 "nbformat": 4,
 "nbformat_minor": 1
}
