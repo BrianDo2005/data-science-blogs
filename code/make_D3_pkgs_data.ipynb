{
 "cells": [
  {
   "cell_type": "markdown",
   "metadata": {},
   "source": [
    "## Ranking D3.js packages (libraries, plugins, and utilities)"
   ]
  },
  {
   "cell_type": "code",
   "execution_count": null,
   "metadata": {
    "collapsed": true
   },
   "outputs": [],
   "source": [
    "import requests\n",
    "import logging\n",
    "import pandas as pd\n",
    "import numpy as np\n",
    "import urllib2\n",
    "import dill\n",
    "import time\n",
    "import json\n",
    "from datetime import date, timedelta\n",
    "from bs4 import BeautifulSoup\n",
    "import unicodedata\n",
    "import csv\n",
    "import sys\n",
    "sys.path.append('../code')"
   ]
  },
  {
   "cell_type": "markdown",
   "metadata": {},
   "source": [
    "## Get D3 packages list\n",
    "https://github.com/wbkd/awesome-d3"
   ]
  },
  {
   "cell_type": "code",
   "execution_count": 2,
   "metadata": {
    "collapsed": true
   },
   "outputs": [],
   "source": [
    "r1 = requests.get('https://github.com/wbkd/awesome-d3')\n",
    "soup1 = BeautifulSoup(r1.text, 'lxml')\n",
    "D3_packages = []"
   ]
  },
  {
   "cell_type": "code",
   "execution_count": 14,
   "metadata": {
    "collapsed": true
   },
   "outputs": [],
   "source": [
    "D3_packages = ['billboard', 'britecharts', 'bullet chart', 'cirrus.js', 'cubism', 'colajs', 'c3', 'dagre-d3', 'dc', 'dimple', 'd3.chart', 'd3.chart.sankey', 'd3-bar', 'd3-bumps-chart', 'd3-circle', 'd3-dot', 'd3-heatmap', 'd3-line', 'd3-flame-graph', 'd3-horizon-chart', 'd3-message-sequence', 'd3-timeline', 'd3fc', 'd3-funnel', 'd3panels', 'd3pie', 'd3xter', 'd3 timeseries', 'd4', 'dtree', 'epoch', 'eventDrops', 'fancycharts', 'firespray', 'forest-d3', 'gantt-chart', 'insights', 'metrics-graphics', 'micropolar', 'mpld3', 'nvd3', 'peek', 'plotly', 'plottable', 'pykcharts', 'radar chart', 'rickshaw', 'sankey', 'taucharts', 'techan', 'uvcharts', 'vega', 'vizabi', 'xkcdplot', 'angular-nvd3', 'd3act', 'd3 simplecharts', 'ember charts', 'n3-charts', 'react-d3', 'react-d3-components', 'react-d3-library', 'react-stockcharts', 'react-vis', 'recharts', 'victory', 'vx', 'd3.chart', 'koto', 'carto map', 'd3-composite-projections', 'datamaps', 'd3 cartogram', 'd3 exploder', 'd3 geo projection', 'd3 geomap', 'd3.geo2rect', 'mapmap', 'mapsense.js', 'maptable', 'simple map', 'spam', 'leaflet-d3', 'react d3 map', 'wikimaps-d3js atlas', 'chroniton', 'd3kit-timeline', 'd3scription', 'd3-annotate', 'd3-area-label', 'd3-component', 'd3-extended', 'd3-helpers', 'd3-history', 'd3-iconarray', 'd3kit', 'd3-labeler', 'd3-lasso', 'd3-legend', 'd3-loom', 'd3-nelson-rules', 'd3-peaks', 'd3-ring-note', 'd3-scale-cluster', 'd3-sparql', 'd3-starterkit', 'd3-tip', 'd3-tipy', 'd3-trail', 'd3-xray', 'd3slider', 'd3-svg-circularbrush', 'd3-svg-ribbon', 'iopctrl', 'jetpack', 'kodama', 'swoopyarrows', 'd3-swoopy-drag', 'textures', 'chess-dataviz', 'codeflower', 'comic.js', 'dragit', 'd3moji', 'd3-cloud', 'd3-context-menu', 'd3-force-gravity', 'd3-resume', 'd3.sketchy', 'd3plus', 'd3plus-text', 'graph-scroll', 'jsdoc2diagram', 'mermaid', 'netvis']"
   ]
  },
  {
   "cell_type": "code",
   "execution_count": 15,
   "metadata": {
    "collapsed": false
   },
   "outputs": [
    {
     "name": "stdout",
     "output_type": "stream",
     "text": [
      "['billboard', 'britecharts', 'bullet chart', 'cirrus.js', 'cubism', 'colajs', 'c3', 'dagre-d3', 'dc', 'dimple', 'd3.chart', 'd3.chart.sankey', 'd3-bar', 'd3-bumps-chart', 'd3-circle', 'd3-dot', 'd3-heatmap', 'd3-line', 'd3-flame-graph', 'd3-horizon-chart', 'd3-message-sequence', 'd3-timeline', 'd3fc', 'd3-funnel', 'd3panels', 'd3pie', 'd3xter', 'd3 timeseries', 'd4', 'dtree', 'epoch', 'eventDrops', 'fancycharts', 'firespray', 'forest-d3', 'gantt-chart', 'insights', 'metrics-graphics', 'micropolar', 'mpld3', 'nvd3', 'peek', 'plotly', 'plottable', 'pykcharts', 'radar chart', 'rickshaw', 'sankey', 'taucharts', 'techan', 'uvcharts', 'vega', 'vizabi', 'xkcdplot', 'angular-nvd3', 'd3act', 'd3 simplecharts', 'ember charts', 'n3-charts', 'react-d3', 'react-d3-components', 'react-d3-library', 'react-stockcharts', 'react-vis', 'recharts', 'victory', 'vx', 'd3.chart', 'koto', 'carto map', 'd3-composite-projections', 'datamaps', 'd3 cartogram', 'd3 exploder', 'd3 geo projection', 'd3 geomap', 'd3.geo2rect', 'mapmap', 'mapsense.js', 'maptable', 'simple map', 'spam', 'leaflet-d3', 'react d3 map', 'wikimaps-d3js atlas', 'chroniton', 'd3kit-timeline', 'd3scription', 'd3-annotate', 'd3-area-label', 'd3-component', 'd3-extended', 'd3-helpers', 'd3-history', 'd3-iconarray', 'd3kit', 'd3-labeler', 'd3-lasso', 'd3-legend', 'd3-loom', 'd3-nelson-rules', 'd3-peaks', 'd3-ring-note', 'd3-scale-cluster', 'd3-sparql', 'd3-starterkit', 'd3-tip', 'd3-tipy', 'd3-trail', 'd3-xray', 'd3slider', 'd3-svg-circularbrush', 'd3-svg-ribbon', 'iopctrl', 'jetpack', 'kodama', 'swoopyarrows', 'd3-swoopy-drag', 'textures', 'chess-dataviz', 'codeflower', 'comic.js', 'dragit', 'd3moji', 'd3-cloud', 'd3-context-menu', 'd3-force-gravity', 'd3-resume', 'd3.sketchy', 'd3plus', 'd3plus-text', 'graph-scroll', 'jsdoc2diagram', 'mermaid', 'netvis']\n"
     ]
    }
   ],
   "source": [
    "print D3_packages"
   ]
  },
  {
   "cell_type": "code",
   "execution_count": 21,
   "metadata": {
    "collapsed": false
   },
   "outputs": [
    {
     "data": {
      "text/plain": [
       "135"
      ]
     },
     "execution_count": 21,
     "metadata": {},
     "output_type": "execute_result"
    }
   ],
   "source": [
    "len(D3_packages)"
   ]
  },
  {
   "cell_type": "code",
   "execution_count": 94,
   "metadata": {
    "collapsed": false
   },
   "outputs": [],
   "source": [
    "pkgsDF = pd.read_csv('../data/D3_pkgs.csv')"
   ]
  },
  {
   "cell_type": "markdown",
   "metadata": {},
   "source": [
    "## Get Github forks and stars"
   ]
  },
  {
   "cell_type": "code",
   "execution_count": 52,
   "metadata": {
    "collapsed": false
   },
   "outputs": [
    {
     "data": {
      "text/html": [
       "<div>\n",
       "<table border=\"1\" class=\"dataframe\">\n",
       "  <thead>\n",
       "    <tr style=\"text-align: right;\">\n",
       "      <th></th>\n",
       "      <th>package</th>\n",
       "      <th>github_repo</th>\n",
       "      <th>tags</th>\n",
       "      <th>search_terms</th>\n",
       "    </tr>\n",
       "  </thead>\n",
       "  <tbody>\n",
       "    <tr>\n",
       "      <th>0</th>\n",
       "      <td>billboard</td>\n",
       "      <td>mick/billboard</td>\n",
       "      <td>[billboard]</td>\n",
       "      <td>[billboard-d3]</td>\n",
       "    </tr>\n",
       "    <tr>\n",
       "      <th>1</th>\n",
       "      <td>britecharts</td>\n",
       "      <td>eventbrite/britecharts</td>\n",
       "      <td>[britecharts]</td>\n",
       "      <td>[britecharts]</td>\n",
       "    </tr>\n",
       "    <tr>\n",
       "      <th>2</th>\n",
       "      <td>bullet chart</td>\n",
       "      <td>stefanwalther/qvD3BulletCharts</td>\n",
       "      <td>[bullet-chart]</td>\n",
       "      <td>[bullet-chart]</td>\n",
       "    </tr>\n",
       "    <tr>\n",
       "      <th>3</th>\n",
       "      <td>cirrus.js</td>\n",
       "      <td>NaN</td>\n",
       "      <td>[cirrus.js]</td>\n",
       "      <td>[cirrus.js]</td>\n",
       "    </tr>\n",
       "    <tr>\n",
       "      <th>4</th>\n",
       "      <td>cubism</td>\n",
       "      <td>square/cubism</td>\n",
       "      <td>[cubism.js]</td>\n",
       "      <td>[cubism]</td>\n",
       "    </tr>\n",
       "  </tbody>\n",
       "</table>\n",
       "</div>"
      ],
      "text/plain": [
       "        package                     github_repo            tags  \\\n",
       "0     billboard                  mick/billboard     [billboard]   \n",
       "1   britecharts          eventbrite/britecharts   [britecharts]   \n",
       "2  bullet chart  stefanwalther/qvD3BulletCharts  [bullet-chart]   \n",
       "3     cirrus.js                             NaN     [cirrus.js]   \n",
       "4        cubism                   square/cubism     [cubism.js]   \n",
       "\n",
       "     search_terms  \n",
       "0  [billboard-d3]  \n",
       "1   [britecharts]  \n",
       "2  [bullet-chart]  \n",
       "3     [cirrus.js]  \n",
       "4        [cubism]  "
      ]
     },
     "execution_count": 52,
     "metadata": {},
     "output_type": "execute_result"
    }
   ],
   "source": [
    "pkgsDF.head()"
   ]
  },
  {
   "cell_type": "code",
   "execution_count": 17,
   "metadata": {
    "collapsed": true
   },
   "outputs": [],
   "source": [
    "with open(\"../code/secrets/github-token.nogit\", \"rb\") as f:\n",
    "    token = f.read()"
   ]
  },
  {
   "cell_type": "code",
   "execution_count": 18,
   "metadata": {
    "collapsed": true
   },
   "outputs": [],
   "source": [
    "headers = {'Authorization': 'token %s' % token}"
   ]
  },
  {
   "cell_type": "code",
   "execution_count": 76,
   "metadata": {
    "collapsed": true
   },
   "outputs": [],
   "source": [
    "def get_data_from_github(repo):\n",
    "    \"\"\"Use github repo from DF to return stars and forks\"\"\"\n",
    "    if str(repo)== 'nan':\n",
    "        return {'github_repo': repo, 'stars': 'NA', 'forks': 'NA'}\n",
    "      \n",
    "    r = requests.get('https://api.github.com/repos/'+str(repo),\n",
    "                     headers=headers)\n",
    "    r.raise_for_status()\n",
    "    try:\n",
    "        res = r.json()\n",
    "        return {'github_repo': repo, 'stars': res['stargazers_count'], 'forks': res['forks_count']}\n",
    "    except:\n",
    "        return {'github_repo': repo, 'stars': 'NA', 'forks': 'NA'}"
   ]
  },
  {
   "cell_type": "code",
   "execution_count": 51,
   "metadata": {
    "collapsed": false
   },
   "outputs": [],
   "source": [
    "repoList = pkgsDF['github_repo'].tolist()"
   ]
  },
  {
   "cell_type": "code",
   "execution_count": 78,
   "metadata": {
    "collapsed": false
   },
   "outputs": [
    {
     "name": "stdout",
     "output_type": "stream",
     "text": [
      "DONE\n"
     ]
    }
   ],
   "source": [
    "# use generator to avoid repeat API calls\n",
    "data1 = [res for res in (get_data_from_github(q) for q in repoList[:29])\n",
    "        if res is not None]\n",
    "time.sleep(61)      # API limit with token: 30 api calls/min\n",
    "data2 = [res for res in (get_data_from_github(q) for q in repoList[29:57])\n",
    "        if res is not None]\n",
    "time.sleep(61)\n",
    "data3 = [res for res in (get_data_from_github(q) for q in repoList[57:85])\n",
    "        if res is not None]\n",
    "time.sleep(61)\n",
    "data4 = [res for res in (get_data_from_github(q) for q in repoList[85:104])\n",
    "        if res is not None]\n",
    "time.sleep(61)\n",
    "data5 = [res for res in (get_data_from_github(q) for q in repoList[104:])\n",
    "        if res is not None]\n",
    "print \"DONE\""
   ]
  },
  {
   "cell_type": "code",
   "execution_count": 79,
   "metadata": {
    "collapsed": true
   },
   "outputs": [],
   "source": [
    "githubDF = pd.DataFrame(data1 + data2 + data3 + data4 + data5)[['github_repo', 'stars', 'forks']]"
   ]
  },
  {
   "cell_type": "code",
   "execution_count": 104,
   "metadata": {
    "collapsed": true
   },
   "outputs": [],
   "source": [
    "pkgsDF['forks'] = githubDF['forks']\n",
    "pkgsDF['stars'] = githubDF['stars']"
   ]
  },
  {
   "cell_type": "code",
   "execution_count": null,
   "metadata": {
    "collapsed": false
   },
   "outputs": [],
   "source": []
  },
  {
   "cell_type": "code",
   "execution_count": null,
   "metadata": {
    "collapsed": false
   },
   "outputs": [],
   "source": []
  },
  {
   "cell_type": "code",
   "execution_count": 41,
   "metadata": {
    "collapsed": false
   },
   "outputs": [],
   "source": [
    "github.to_csv(\"../data/D3_pkgs.csv\", columns = ['package','full_name'], index= False)"
   ]
  },
  {
   "cell_type": "code",
   "execution_count": null,
   "metadata": {
    "collapsed": true
   },
   "outputs": [],
   "source": [
    "with open(\"../data/D3_pkgs.csv\", \"w\") as f:\n",
    "        writer = csv.writer(f)\n",
    "        for k,v in github_names_dict.iteritems():\n",
    "            writer.writerow([k] + [v])"
   ]
  },
  {
   "cell_type": "markdown",
   "metadata": {},
   "source": [
    "## Get StackOverflow tags and questions"
   ]
  },
  {
   "cell_type": "code",
   "execution_count": 26,
   "metadata": {
    "collapsed": true
   },
   "outputs": [],
   "source": [
    "baseurl = 'https://api.stackexchange.com/2.2/search/advanced'\n",
    "\n",
    "def get_so_tag_counts(tag):\n",
    "#Given tag, return tag counts\n",
    "    params = {\n",
    "    \"site\": \"stackoverflow\",\n",
    "    \"key\": \"y38PeNERQJQIC8EPliKAVQ((\",\n",
    "    \"tagged\": tag,  \n",
    "    \"filter\": 'total'}\n",
    "    try:\n",
    "        r = requests.get(baseurl, params=params)\n",
    "        return r.json()['total']\n",
    "    except:\n",
    "        return 0\n",
    "\n",
    "def get_so_question_counts(package):\n",
    "#Given package, return count of questions containing package name\n",
    "    params = {\n",
    "    \"site\": \"stackoverflow\",\n",
    "    \"key\": \"y38PeNERQJQIC8EPliKAVQ((\",\n",
    "    \"q\": package,  \n",
    "    \"filter\": \"total\"}\n",
    "    try:\n",
    "        r = requests.get(baseurl, params=params)\n",
    "        return r.json()['total']\n",
    "    except:\n",
    "        return 0    "
   ]
  },
  {
   "cell_type": "code",
   "execution_count": 89,
   "metadata": {
    "collapsed": true
   },
   "outputs": [],
   "source": [
    "pkgTags = pkgsDF['tags'].tolist()"
   ]
  },
  {
   "cell_type": "code",
   "execution_count": 90,
   "metadata": {
    "collapsed": true
   },
   "outputs": [],
   "source": [
    "tag_data = []\n",
    "for tags in pkgTags:\n",
    "    total_count = 0\n",
    "    for alias in tags.split(';'):\n",
    "        total_count += get_so_tag_counts(alias)\n",
    "    tag_data.append({'tags':tags, 'so_tag_count': total_count}) "
   ]
  },
  {
   "cell_type": "code",
   "execution_count": 102,
   "metadata": {
    "collapsed": true
   },
   "outputs": [],
   "source": [
    "so_tagsDF = pd.DataFrame(tag_data)[['tags', 'so_tag_count']]\n",
    "so_tagsDF.columns = ['tags', 'so_tag_counts']\n",
    "pkgsDF['so_tag_counts'] = so_tagsDF['so_tag_counts']"
   ]
  },
  {
   "cell_type": "code",
   "execution_count": 95,
   "metadata": {
    "collapsed": false
   },
   "outputs": [],
   "source": [
    "pkgTerms = pkgsDF['search_terms'].tolist()"
   ]
  },
  {
   "cell_type": "code",
   "execution_count": 96,
   "metadata": {
    "collapsed": false
   },
   "outputs": [],
   "source": [
    "question_data = []\n",
    "for terms in pkgTerms:\n",
    "    total_count = 0\n",
    "    for term in terms.split(';'):\n",
    "        total_count += get_so_question_counts(term)\n",
    "    question_data.append({'search_terms':terms, 'so_question_count': total_count})"
   ]
  },
  {
   "cell_type": "code",
   "execution_count": 97,
   "metadata": {
    "collapsed": false
   },
   "outputs": [],
   "source": [
    "so_questDF = pd.DataFrame(question_data)[['search_terms', 'so_question_count']]\n",
    "so_questDF.columns = ['search_terms', 'so_question_count']\n",
    "pkgsDF['so_questions_counts'] = so_questDF['so_question_count']"
   ]
  },
  {
   "cell_type": "markdown",
   "metadata": {},
   "source": [
    "## Get download counts from npmjs"
   ]
  },
  {
   "cell_type": "code",
   "execution_count": null,
   "metadata": {
    "collapsed": true
   },
   "outputs": [],
   "source": []
  },
  {
   "cell_type": "code",
   "execution_count": 98,
   "metadata": {
    "collapsed": false
   },
   "outputs": [],
   "source": [
    "def extract_count(html):\n",
    "    total_dl = 0\n",
    "    day_queries = json.loads(html).get(u'downloads')\n",
    "    for day in day_queries:\n",
    "        total_dl += day.get(u'downloads')\n",
    "    return total_dl\n",
    "\n",
    "def get_npmjs_counts(package, start_date, end_date):\n",
    "    #retruns total downloads between dates\n",
    "    #enter package and dates as strings, date format YYYY-MM-DD\n",
    "    try:\n",
    "        response = urllib2.urlopen('https://api.npmjs.org/downloads/range/'+start_date+':'+end_date+'/'+package)\n",
    "        return extract_count(response.read())\n",
    "    except urllib2.HTTPError, e:\n",
    "        return 'NA'\n",
    "\n",
    "def get_npmjs_cmgr(package, first_month, last_month):\n",
    "    #returns compound monthly growth rate\n",
    "    #enter package as string, date as list of two integers [YYYY, M]\n",
    "    try:\n",
    "        d1 = date(first_month[0], first_month[1], 1)\n",
    "        d2 = date(last_month[0], last_month[1], 1)\n",
    "        month_diff = (d2.year - d1.year) * 12 + d2.month - d1.month + 1\n",
    "        d1_end = d1 + timedelta(days=30)\n",
    "        month1_counts = extract_count(urllib2.urlopen('https://api.npmjs.org/downloads/range/'\n",
    "                                                  +d1.strftime(\"%Y-%m-%d\")+':'+d1_end.strftime(\"%Y-%m-%d\")+'/'+package).read())\n",
    "        d2_end = d2 + timedelta(days=30)\n",
    "        month2_counts = extract_count(urllib2.urlopen('https://api.npmjs.org/downloads/range/'\n",
    "                                                  +d2.strftime(\"%Y-%m-%d\")+':'+d2_end.strftime(\"%Y-%m-%d\")+'/'+package).read())\n",
    "        if month1_counts == 0:\n",
    "            return 'NA'\n",
    "        return (((month2_counts/float(month1_counts))**(1.0/month_diff))-1.0)\n",
    "    except urllib2.HTTPError, e:\n",
    "        return 'NA'\n",
    "    \n",
    "\n",
    "def get_npmjs_stats(npm_package_list):\n",
    "    #returns downloads in last 3 years, and 6 month compound monthly growth rate\n",
    "    downloads =[]\n",
    "    growth_rates = []\n",
    "    for package in npm_package_list:\n",
    "        downloads.append(get_npmjs_counts(package, '2014-08-01','2017-07-31'))\n",
    "        growth_rates.append(get_npmjs_cmgr(package, [2017, 2], [2017, 7]))\n",
    "    return downloads, growth_rates"
   ]
  },
  {
   "cell_type": "code",
   "execution_count": 99,
   "metadata": {
    "collapsed": true
   },
   "outputs": [],
   "source": [
    "pkgs = pkgsDF['package']\n",
    "[downloads, growth_rates] = get_npmjs_stats(pkgs)\n",
    "downloadsDF = pd.DataFrame(np.column_stack([pkgs, downloads, growth_rates]), \n",
    "                               columns=['package', 'downloads', 'growth_rates'])\n",
    "pkgsDF['downloads'] = downloadsDF['downloads']\n",
    "pkgsDF['dl_growth_rates'] = downloadsDF['growth_rates']"
   ]
  },
  {
   "cell_type": "markdown",
   "metadata": {},
   "source": [
    "## All data combined"
   ]
  },
  {
   "cell_type": "code",
   "execution_count": 106,
   "metadata": {
    "collapsed": true
   },
   "outputs": [],
   "source": [
    "pkgsDF.to_csv(\"../output/D3_pkgs_data.csv\")"
   ]
  },
  {
   "cell_type": "code",
   "execution_count": 105,
   "metadata": {
    "collapsed": false
   },
   "outputs": [
    {
     "data": {
      "text/html": [
       "<div>\n",
       "<table border=\"1\" class=\"dataframe\">\n",
       "  <thead>\n",
       "    <tr style=\"text-align: right;\">\n",
       "      <th></th>\n",
       "      <th>package</th>\n",
       "      <th>github_repo</th>\n",
       "      <th>tags</th>\n",
       "      <th>search_terms</th>\n",
       "      <th>so_questions_counts</th>\n",
       "      <th>downloads</th>\n",
       "      <th>dl_growth_rates</th>\n",
       "      <th>so_tag_counts</th>\n",
       "      <th>forks</th>\n",
       "      <th>stars</th>\n",
       "    </tr>\n",
       "  </thead>\n",
       "  <tbody>\n",
       "    <tr>\n",
       "      <th>0</th>\n",
       "      <td>billboard</td>\n",
       "      <td>mick/billboard</td>\n",
       "      <td>[billboard]</td>\n",
       "      <td>[billboard-d3]</td>\n",
       "      <td>0</td>\n",
       "      <td>445</td>\n",
       "      <td>0.064440073412</td>\n",
       "      <td>0</td>\n",
       "      <td>6</td>\n",
       "      <td>12</td>\n",
       "    </tr>\n",
       "    <tr>\n",
       "      <th>1</th>\n",
       "      <td>britecharts</td>\n",
       "      <td>eventbrite/britecharts</td>\n",
       "      <td>[britecharts]</td>\n",
       "      <td>[britecharts]</td>\n",
       "      <td>0</td>\n",
       "      <td>6445</td>\n",
       "      <td>1.10558106204</td>\n",
       "      <td>0</td>\n",
       "      <td>91</td>\n",
       "      <td>2571</td>\n",
       "    </tr>\n",
       "    <tr>\n",
       "      <th>2</th>\n",
       "      <td>bullet chart</td>\n",
       "      <td>stefanwalther/qvD3BulletCharts</td>\n",
       "      <td>[bullet-chart]</td>\n",
       "      <td>[bullet-chart]</td>\n",
       "      <td>11</td>\n",
       "      <td>584</td>\n",
       "      <td>-0.0427851196966</td>\n",
       "      <td>11</td>\n",
       "      <td>6</td>\n",
       "      <td>7</td>\n",
       "    </tr>\n",
       "    <tr>\n",
       "      <th>3</th>\n",
       "      <td>cirrus.js</td>\n",
       "      <td>NaN</td>\n",
       "      <td>[cirrus.js]</td>\n",
       "      <td>[cirrus.js]</td>\n",
       "      <td>0</td>\n",
       "      <td>NA</td>\n",
       "      <td>NA</td>\n",
       "      <td>0</td>\n",
       "      <td>NA</td>\n",
       "      <td>NA</td>\n",
       "    </tr>\n",
       "    <tr>\n",
       "      <th>4</th>\n",
       "      <td>cubism</td>\n",
       "      <td>square/cubism</td>\n",
       "      <td>[cubism.js]</td>\n",
       "      <td>[cubism]</td>\n",
       "      <td>0</td>\n",
       "      <td>6309</td>\n",
       "      <td>-0.057776985543</td>\n",
       "      <td>92</td>\n",
       "      <td>541</td>\n",
       "      <td>4554</td>\n",
       "    </tr>\n",
       "  </tbody>\n",
       "</table>\n",
       "</div>"
      ],
      "text/plain": [
       "        package                     github_repo            tags  \\\n",
       "0     billboard                  mick/billboard     [billboard]   \n",
       "1   britecharts          eventbrite/britecharts   [britecharts]   \n",
       "2  bullet chart  stefanwalther/qvD3BulletCharts  [bullet-chart]   \n",
       "3     cirrus.js                             NaN     [cirrus.js]   \n",
       "4        cubism                   square/cubism     [cubism.js]   \n",
       "\n",
       "     search_terms  so_questions_counts downloads   dl_growth_rates  \\\n",
       "0  [billboard-d3]                    0       445    0.064440073412   \n",
       "1   [britecharts]                    0      6445     1.10558106204   \n",
       "2  [bullet-chart]                   11       584  -0.0427851196966   \n",
       "3     [cirrus.js]                    0        NA                NA   \n",
       "4        [cubism]                    0      6309   -0.057776985543   \n",
       "\n",
       "   so_tag_counts forks stars  \n",
       "0              0     6    12  \n",
       "1              0    91  2571  \n",
       "2             11     6     7  \n",
       "3              0    NA    NA  \n",
       "4             92   541  4554  "
      ]
     },
     "execution_count": 105,
     "metadata": {},
     "output_type": "execute_result"
    }
   ],
   "source": [
    "pkgsDF.head()"
   ]
  },
  {
   "cell_type": "code",
   "execution_count": 11,
   "metadata": {
    "collapsed": false
   },
   "outputs": [],
   "source": []
  },
  {
   "cell_type": "code",
   "execution_count": null,
   "metadata": {
    "collapsed": false
   },
   "outputs": [],
   "source": []
  },
  {
   "cell_type": "code",
   "execution_count": null,
   "metadata": {
    "collapsed": true
   },
   "outputs": [],
   "source": []
  }
 ],
 "metadata": {
  "kernelspec": {
   "display_name": "Python [default]",
   "language": "python",
   "name": "python2"
  },
  "language_info": {
   "codemirror_mode": {
    "name": "ipython",
    "version": 2
   },
   "file_extension": ".py",
   "mimetype": "text/x-python",
   "name": "python",
   "nbconvert_exporter": "python",
   "pygments_lexer": "ipython2",
   "version": "2.7.12"
  }
 },
 "nbformat": 4,
 "nbformat_minor": 1
}
