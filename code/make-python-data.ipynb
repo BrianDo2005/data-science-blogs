{
 "cells": [
  {
   "cell_type": "markdown",
   "metadata": {},
   "source": [
    "# Ranking python packages"
   ]
  },
  {
   "cell_type": "code",
   "execution_count": 1,
   "metadata": {
    "collapsed": false
   },
   "outputs": [],
   "source": [
    "import requests\n",
    "import logging\n",
    "import pandas as pd\n",
    "import urllib\n",
    "import dill\n",
    "import time"
   ]
  },
  {
   "cell_type": "code",
   "execution_count": 2,
   "metadata": {
    "collapsed": true
   },
   "outputs": [],
   "source": [
    "import sys\n",
    "sys.path.append('../code')\n",
    "\n",
    "import utils as utils\n",
    "import get_stack_overflow_data as gso"
   ]
  },
  {
   "cell_type": "markdown",
   "metadata": {},
   "source": [
    "# Create package list"
   ]
  },
  {
   "cell_type": "markdown",
   "metadata": {},
   "source": [
    "# 1\n",
    "https://github.com/rasbt/pattern_classification/blob/master/resources/python_data_libraries.md"
   ]
  },
  {
   "cell_type": "code",
   "execution_count": 3,
   "metadata": {
    "collapsed": false
   },
   "outputs": [],
   "source": [
    "with open(\"../data/python_pkgs1.txt\", 'rb') as f:\n",
    "    lines = f.readlines()\n",
    "    src_url1 = lines[0].strip()\n",
    "    pkgs1 = [p.strip().lower() for p in lines[1:]]"
   ]
  },
  {
   "cell_type": "code",
   "execution_count": 4,
   "metadata": {
    "collapsed": false
   },
   "outputs": [
    {
     "data": {
      "text/plain": [
       "'https://github.com/rasbt/pattern_classification/blob/master/resources/python_data_libraries.md'"
      ]
     },
     "execution_count": 4,
     "metadata": {},
     "output_type": "execute_result"
    }
   ],
   "source": [
    "src_url1"
   ]
  },
  {
   "cell_type": "code",
   "execution_count": 5,
   "metadata": {
    "collapsed": false
   },
   "outputs": [
    {
     "name": "stdout",
     "output_type": "stream",
     "text": [
      "['ipython-notebook', 'numpy', 'pandas', 'scipy', 'sympy', 'statsmodels', 'scikit-learn', 'shogun', 'pybrain', 'pylearn2', 'pymc', 'bokeh', 'd3py', 'ggplot', 'matplotlib', 'plotly', 'prettyplotlib', 'seaborn', 'csvkit', 'pytables', 'sqlite3']\n"
     ]
    }
   ],
   "source": [
    "print pkgs1"
   ]
  },
  {
   "cell_type": "markdown",
   "metadata": {},
   "source": [
    "## 2\n",
    "https://www.upwork.com/hiring/data/15-python-libraries-data-science/"
   ]
  },
  {
   "cell_type": "code",
   "execution_count": 6,
   "metadata": {
    "collapsed": false
   },
   "outputs": [],
   "source": [
    "from bs4 import BeautifulSoup"
   ]
  },
  {
   "cell_type": "code",
   "execution_count": 7,
   "metadata": {
    "collapsed": true
   },
   "outputs": [],
   "source": [
    "URL = 'https://www.upwork.com/hiring/data/15-python-libraries-data-science/'\n",
    "\n",
    "def scrape_package_list(url):\n",
    "    r = requests.get(url)\n",
    "    soup = BeautifulSoup(r.text, 'lxml')\n",
    "    pkg_list = [ol.find_all('strong') for ol in soup.find_all('ol')]\n",
    "    pkgs = [[str(item.text.lower()) for item in l] for l in pkg_list]\n",
    "    return sum(pkgs, [])"
   ]
  },
  {
   "cell_type": "code",
   "execution_count": 8,
   "metadata": {
    "collapsed": true
   },
   "outputs": [],
   "source": [
    "pkgs2 = scrape_package_list(URL)"
   ]
  },
  {
   "cell_type": "code",
   "execution_count": 9,
   "metadata": {
    "collapsed": false
   },
   "outputs": [
    {
     "name": "stdout",
     "output_type": "stream",
     "text": [
      "['numpy', 'scipy', 'pandas', 'ipython', 'matplotlib', 'scikit-learn', 'theano', 'tensorflow', 'scrapy', 'nltk', 'pattern', 'seaborn', 'bokeh', 'basemap', 'networkx']\n"
     ]
    }
   ],
   "source": [
    "print pkgs2"
   ]
  },
  {
   "cell_type": "markdown",
   "metadata": {},
   "source": [
    "## 3\n",
    "http://www.datasciencecentral.com/profiles/blogs/9-python-analytics-libraries-1"
   ]
  },
  {
   "cell_type": "code",
   "execution_count": 10,
   "metadata": {
    "collapsed": true
   },
   "outputs": [],
   "source": [
    "# only one extra\n",
    "pkgs3 = ['mlpy']"
   ]
  },
  {
   "cell_type": "markdown",
   "metadata": {},
   "source": [
    "## 4 FIX!\n",
    "manually add a few (also, ggplot is now ggpy) and correct any 2 words to dash-separated\n",
    "\n",
    "plotly.py is for github search"
   ]
  },
  {
   "cell_type": "code",
   "execution_count": 11,
   "metadata": {
    "collapsed": true
   },
   "outputs": [],
   "source": [
    "pkgs4 = ['ggpy', 'plotly.py', 'ipython', 'jupyter', 'jupyter-notebook', 'ipython-notebook']"
   ]
  },
  {
   "cell_type": "markdown",
   "metadata": {},
   "source": [
    "## Combine list"
   ]
  },
  {
   "cell_type": "code",
   "execution_count": 12,
   "metadata": {
    "collapsed": false
   },
   "outputs": [
    {
     "name": "stdout",
     "output_type": "stream",
     "text": [
      "[21, 15, 1, 6]\n"
     ]
    }
   ],
   "source": [
    "print map(len, [pkgs1, pkgs2, pkgs3, pkgs4])"
   ]
  },
  {
   "cell_type": "code",
   "execution_count": 13,
   "metadata": {
    "collapsed": false
   },
   "outputs": [
    {
     "name": "stdout",
     "output_type": "stream",
     "text": [
      "33\n"
     ]
    }
   ],
   "source": [
    "pkgs = [p.lower() for p in list(set(pkgs1 + pkgs2 + pkgs3 + pkgs4))]\n",
    "pkgs.remove('sqlite3')  # base python\n",
    "print len(pkgs)"
   ]
  },
  {
   "cell_type": "code",
   "execution_count": 14,
   "metadata": {
    "collapsed": false
   },
   "outputs": [
    {
     "data": {
      "text/plain": [
       "['plotly.py',\n",
       " 'networkx',\n",
       " 'jupyter-notebook',\n",
       " 'seaborn',\n",
       " 'pattern',\n",
       " 'scrapy',\n",
       " 'ggpy',\n",
       " 'bokeh',\n",
       " 'sympy',\n",
       " 'numpy',\n",
       " 'pandas',\n",
       " 'pybrain',\n",
       " 'shogun',\n",
       " 'pylearn2',\n",
       " 'matplotlib',\n",
       " 'ggplot',\n",
       " 'csvkit',\n",
       " 'scipy',\n",
       " 'tensorflow',\n",
       " 'ipython',\n",
       " 'prettyplotlib',\n",
       " 'jupyter',\n",
       " 'pymc',\n",
       " 'pytables',\n",
       " 'scikit-learn',\n",
       " 'mlpy',\n",
       " 'plotly',\n",
       " 'statsmodels',\n",
       " 'theano',\n",
       " 'd3py',\n",
       " 'ipython-notebook',\n",
       " 'basemap',\n",
       " 'nltk']"
      ]
     },
     "execution_count": 14,
     "metadata": {},
     "output_type": "execute_result"
    }
   ],
   "source": [
    "pkgs"
   ]
  },
  {
   "cell_type": "code",
   "execution_count": 15,
   "metadata": {
    "collapsed": true
   },
   "outputs": [],
   "source": [
    "with open(\"../data/python_pkgs_final.txt\", \"w\") as f:\n",
    "    f.writelines(\" \".join(pkgs))"
   ]
  },
  {
   "cell_type": "code",
   "execution_count": null,
   "metadata": {
    "collapsed": true
   },
   "outputs": [],
   "source": []
  },
  {
   "cell_type": "code",
   "execution_count": null,
   "metadata": {
    "collapsed": true
   },
   "outputs": [],
   "source": []
  },
  {
   "cell_type": "markdown",
   "metadata": {},
   "source": [
    "# Now, get metrics and save to csv"
   ]
  },
  {
   "cell_type": "code",
   "execution_count": 16,
   "metadata": {
    "collapsed": true
   },
   "outputs": [],
   "source": [
    "logging.basicConfig(level=logging.INFO)"
   ]
  },
  {
   "cell_type": "markdown",
   "metadata": {},
   "source": [
    "# Get Github stats"
   ]
  },
  {
   "cell_type": "code",
   "execution_count": 17,
   "metadata": {
    "collapsed": false
   },
   "outputs": [],
   "source": [
    "with open(\"../code/secrets/github-token.nogit\", \"rb\") as f:\n",
    "    token = f.read()"
   ]
  },
  {
   "cell_type": "code",
   "execution_count": 18,
   "metadata": {
    "collapsed": true
   },
   "outputs": [],
   "source": [
    "headers = {'Authorization': 'token %s' % token}"
   ]
  },
  {
   "cell_type": "code",
   "execution_count": 19,
   "metadata": {
    "collapsed": false
   },
   "outputs": [],
   "source": [
    "def get_data_from_search(query):\n",
    "    \"\"\"Use github search to return stars, forks for top query result\"\"\"\n",
    "    \n",
    "    r = requests.get('https://api.github.com/search/repositories?q='+\\\n",
    "                             query, \n",
    "                     headers=headers)\n",
    "    r.raise_for_status()\n",
    "    try:\n",
    "        res = r.json()['items'][0]\n",
    "        return {'package': query, 'full_name': res['full_name'],\n",
    "                'stars': res['stargazers_count'], 'forks': res['forks_count']}\n",
    "    except:\n",
    "        return None"
   ]
  },
  {
   "cell_type": "code",
   "execution_count": 20,
   "metadata": {
    "collapsed": false
   },
   "outputs": [
    {
     "data": {
      "text/plain": [
       "{'forks': 559,\n",
       " 'full_name': u'jupyter/notebook',\n",
       " 'package': 'jupyter notebook',\n",
       " 'stars': 1877}"
      ]
     },
     "execution_count": 20,
     "metadata": {},
     "output_type": "execute_result"
    }
   ],
   "source": [
    "res = get_data_from_search('jupyter notebook')\n",
    "res"
   ]
  },
  {
   "cell_type": "code",
   "execution_count": 21,
   "metadata": {
    "collapsed": false
   },
   "outputs": [
    {
     "name": "stdout",
     "output_type": "stream",
     "text": [
      "DONE\n"
     ]
    }
   ],
   "source": [
    "# if get error \"403 Client Error: Forbidden for url:\"\n",
    "# then wait 60 seconds before running this cell\n",
    "\n",
    "# use generator to avoid repeat API calls\n",
    "data1 = [res for res in (get_data_from_search(q) for q in pkgs[:28])\n",
    "        if res is not None]\n",
    "\n",
    "time.sleep(61)      # API limit with token: 30 api calls/min\n",
    "\n",
    "data2 = [res for res in (get_data_from_search(q) for q in pkgs[28:])\n",
    "        if res is not None]\n",
    "\n",
    "print \"DONE\""
   ]
  },
  {
   "cell_type": "code",
   "execution_count": 22,
   "metadata": {
    "collapsed": false
   },
   "outputs": [
    {
     "data": {
      "text/html": [
       "<div>\n",
       "<table border=\"1\" class=\"dataframe\">\n",
       "  <thead>\n",
       "    <tr style=\"text-align: right;\">\n",
       "      <th></th>\n",
       "      <th>package</th>\n",
       "      <th>full_name</th>\n",
       "      <th>forks</th>\n",
       "      <th>stars</th>\n",
       "    </tr>\n",
       "  </thead>\n",
       "  <tbody>\n",
       "    <tr>\n",
       "      <th>0</th>\n",
       "      <td>plotly.py</td>\n",
       "      <td>plotly/plotly.py</td>\n",
       "      <td>441</td>\n",
       "      <td>1822</td>\n",
       "    </tr>\n",
       "    <tr>\n",
       "      <th>1</th>\n",
       "      <td>networkx</td>\n",
       "      <td>networkx/networkx</td>\n",
       "      <td>819</td>\n",
       "      <td>2662</td>\n",
       "    </tr>\n",
       "    <tr>\n",
       "      <th>2</th>\n",
       "      <td>jupyter-notebook</td>\n",
       "      <td>jupyter/notebook</td>\n",
       "      <td>559</td>\n",
       "      <td>1877</td>\n",
       "    </tr>\n",
       "    <tr>\n",
       "      <th>3</th>\n",
       "      <td>seaborn</td>\n",
       "      <td>mwaskom/seaborn</td>\n",
       "      <td>542</td>\n",
       "      <td>3656</td>\n",
       "    </tr>\n",
       "    <tr>\n",
       "      <th>4</th>\n",
       "      <td>pattern</td>\n",
       "      <td>clips/pattern</td>\n",
       "      <td>950</td>\n",
       "      <td>5109</td>\n",
       "    </tr>\n",
       "    <tr>\n",
       "      <th>5</th>\n",
       "      <td>scrapy</td>\n",
       "      <td>scrapy/scrapy</td>\n",
       "      <td>4954</td>\n",
       "      <td>18025</td>\n",
       "    </tr>\n",
       "    <tr>\n",
       "      <th>6</th>\n",
       "      <td>ggpy</td>\n",
       "      <td>yhat/ggpy</td>\n",
       "      <td>399</td>\n",
       "      <td>2852</td>\n",
       "    </tr>\n",
       "    <tr>\n",
       "      <th>7</th>\n",
       "      <td>bokeh</td>\n",
       "      <td>bokeh/bokeh</td>\n",
       "      <td>1260</td>\n",
       "      <td>5328</td>\n",
       "    </tr>\n",
       "    <tr>\n",
       "      <th>8</th>\n",
       "      <td>sympy</td>\n",
       "      <td>sympy/sympy</td>\n",
       "      <td>1787</td>\n",
       "      <td>3546</td>\n",
       "    </tr>\n",
       "    <tr>\n",
       "      <th>9</th>\n",
       "      <td>numpy</td>\n",
       "      <td>numpy/numpy</td>\n",
       "      <td>1864</td>\n",
       "      <td>3823</td>\n",
       "    </tr>\n",
       "    <tr>\n",
       "      <th>10</th>\n",
       "      <td>pandas</td>\n",
       "      <td>pandas-dev/pandas</td>\n",
       "      <td>3342</td>\n",
       "      <td>8317</td>\n",
       "    </tr>\n",
       "    <tr>\n",
       "      <th>11</th>\n",
       "      <td>pybrain</td>\n",
       "      <td>pybrain/pybrain</td>\n",
       "      <td>662</td>\n",
       "      <td>2198</td>\n",
       "    </tr>\n",
       "    <tr>\n",
       "      <th>12</th>\n",
       "      <td>shogun</td>\n",
       "      <td>shogun-toolbox/shogun</td>\n",
       "      <td>662</td>\n",
       "      <td>1275</td>\n",
       "    </tr>\n",
       "    <tr>\n",
       "      <th>13</th>\n",
       "      <td>pylearn2</td>\n",
       "      <td>lisa-lab/pylearn2</td>\n",
       "      <td>952</td>\n",
       "      <td>2313</td>\n",
       "    </tr>\n",
       "    <tr>\n",
       "      <th>14</th>\n",
       "      <td>matplotlib</td>\n",
       "      <td>matplotlib/matplotlib</td>\n",
       "      <td>2279</td>\n",
       "      <td>4709</td>\n",
       "    </tr>\n",
       "    <tr>\n",
       "      <th>15</th>\n",
       "      <td>ggplot</td>\n",
       "      <td>tidyverse/ggplot2</td>\n",
       "      <td>826</td>\n",
       "      <td>2210</td>\n",
       "    </tr>\n",
       "    <tr>\n",
       "      <th>16</th>\n",
       "      <td>csvkit</td>\n",
       "      <td>wireservice/csvkit</td>\n",
       "      <td>360</td>\n",
       "      <td>2491</td>\n",
       "    </tr>\n",
       "    <tr>\n",
       "      <th>17</th>\n",
       "      <td>scipy</td>\n",
       "      <td>scipy/scipy</td>\n",
       "      <td>1641</td>\n",
       "      <td>2835</td>\n",
       "    </tr>\n",
       "    <tr>\n",
       "      <th>18</th>\n",
       "      <td>tensorflow</td>\n",
       "      <td>tensorflow/tensorflow</td>\n",
       "      <td>20549</td>\n",
       "      <td>44062</td>\n",
       "    </tr>\n",
       "    <tr>\n",
       "      <th>19</th>\n",
       "      <td>ipython</td>\n",
       "      <td>ipython/ipython</td>\n",
       "      <td>3268</td>\n",
       "      <td>11040</td>\n",
       "    </tr>\n",
       "    <tr>\n",
       "      <th>20</th>\n",
       "      <td>prettyplotlib</td>\n",
       "      <td>olgabot/prettyplotlib</td>\n",
       "      <td>115</td>\n",
       "      <td>1175</td>\n",
       "    </tr>\n",
       "    <tr>\n",
       "      <th>21</th>\n",
       "      <td>jupyter</td>\n",
       "      <td>jupyter/jupyter</td>\n",
       "      <td>128</td>\n",
       "      <td>369</td>\n",
       "    </tr>\n",
       "    <tr>\n",
       "      <th>22</th>\n",
       "      <td>pymc</td>\n",
       "      <td>pymc-devs/pymc</td>\n",
       "      <td>134</td>\n",
       "      <td>467</td>\n",
       "    </tr>\n",
       "    <tr>\n",
       "      <th>23</th>\n",
       "      <td>pytables</td>\n",
       "      <td>PyTables/PyTables</td>\n",
       "      <td>123</td>\n",
       "      <td>542</td>\n",
       "    </tr>\n",
       "    <tr>\n",
       "      <th>24</th>\n",
       "      <td>scikit-learn</td>\n",
       "      <td>scikit-learn/scikit-learn</td>\n",
       "      <td>8968</td>\n",
       "      <td>16070</td>\n",
       "    </tr>\n",
       "    <tr>\n",
       "      <th>25</th>\n",
       "      <td>mlpy</td>\n",
       "      <td>lukauskas/mlpy-plus-dtw</td>\n",
       "      <td>7</td>\n",
       "      <td>15</td>\n",
       "    </tr>\n",
       "    <tr>\n",
       "      <th>26</th>\n",
       "      <td>plotly</td>\n",
       "      <td>ropensci/plotly</td>\n",
       "      <td>301</td>\n",
       "      <td>833</td>\n",
       "    </tr>\n",
       "    <tr>\n",
       "      <th>27</th>\n",
       "      <td>statsmodels</td>\n",
       "      <td>statsmodels/statsmodels</td>\n",
       "      <td>913</td>\n",
       "      <td>1831</td>\n",
       "    </tr>\n",
       "    <tr>\n",
       "      <th>28</th>\n",
       "      <td>theano</td>\n",
       "      <td>Theano/Theano</td>\n",
       "      <td>1915</td>\n",
       "      <td>5533</td>\n",
       "    </tr>\n",
       "    <tr>\n",
       "      <th>29</th>\n",
       "      <td>d3py</td>\n",
       "      <td>mikedewar/d3py</td>\n",
       "      <td>190</td>\n",
       "      <td>1164</td>\n",
       "    </tr>\n",
       "    <tr>\n",
       "      <th>30</th>\n",
       "      <td>ipython-notebook</td>\n",
       "      <td>liyanage/ipython-notebook</td>\n",
       "      <td>8</td>\n",
       "      <td>94</td>\n",
       "    </tr>\n",
       "    <tr>\n",
       "      <th>31</th>\n",
       "      <td>basemap</td>\n",
       "      <td>matplotlib/basemap</td>\n",
       "      <td>121</td>\n",
       "      <td>244</td>\n",
       "    </tr>\n",
       "    <tr>\n",
       "      <th>32</th>\n",
       "      <td>nltk</td>\n",
       "      <td>nltk/nltk</td>\n",
       "      <td>1266</td>\n",
       "      <td>4262</td>\n",
       "    </tr>\n",
       "  </tbody>\n",
       "</table>\n",
       "</div>"
      ],
      "text/plain": [
       "             package                  full_name  forks  stars\n",
       "0          plotly.py           plotly/plotly.py    441   1822\n",
       "1           networkx          networkx/networkx    819   2662\n",
       "2   jupyter-notebook           jupyter/notebook    559   1877\n",
       "3            seaborn            mwaskom/seaborn    542   3656\n",
       "4            pattern              clips/pattern    950   5109\n",
       "5             scrapy              scrapy/scrapy   4954  18025\n",
       "6               ggpy                  yhat/ggpy    399   2852\n",
       "7              bokeh                bokeh/bokeh   1260   5328\n",
       "8              sympy                sympy/sympy   1787   3546\n",
       "9              numpy                numpy/numpy   1864   3823\n",
       "10            pandas          pandas-dev/pandas   3342   8317\n",
       "11           pybrain            pybrain/pybrain    662   2198\n",
       "12            shogun      shogun-toolbox/shogun    662   1275\n",
       "13          pylearn2          lisa-lab/pylearn2    952   2313\n",
       "14        matplotlib      matplotlib/matplotlib   2279   4709\n",
       "15            ggplot          tidyverse/ggplot2    826   2210\n",
       "16            csvkit         wireservice/csvkit    360   2491\n",
       "17             scipy                scipy/scipy   1641   2835\n",
       "18        tensorflow      tensorflow/tensorflow  20549  44062\n",
       "19           ipython            ipython/ipython   3268  11040\n",
       "20     prettyplotlib      olgabot/prettyplotlib    115   1175\n",
       "21           jupyter            jupyter/jupyter    128    369\n",
       "22              pymc             pymc-devs/pymc    134    467\n",
       "23          pytables          PyTables/PyTables    123    542\n",
       "24      scikit-learn  scikit-learn/scikit-learn   8968  16070\n",
       "25              mlpy    lukauskas/mlpy-plus-dtw      7     15\n",
       "26            plotly            ropensci/plotly    301    833\n",
       "27       statsmodels    statsmodels/statsmodels    913   1831\n",
       "28            theano              Theano/Theano   1915   5533\n",
       "29              d3py             mikedewar/d3py    190   1164\n",
       "30  ipython-notebook  liyanage/ipython-notebook      8     94\n",
       "31           basemap         matplotlib/basemap    121    244\n",
       "32              nltk                  nltk/nltk   1266   4262"
      ]
     },
     "execution_count": 22,
     "metadata": {},
     "output_type": "execute_result"
    }
   ],
   "source": [
    "# use plotly.py result\n",
    "github = pd.DataFrame(data1 + data2)[['package', 'full_name', 'forks', 'stars']]\n",
    "github"
   ]
  },
  {
   "cell_type": "code",
   "execution_count": null,
   "metadata": {
    "collapsed": true
   },
   "outputs": [],
   "source": []
  },
  {
   "cell_type": "code",
   "execution_count": 23,
   "metadata": {
    "collapsed": true
   },
   "outputs": [],
   "source": [
    "github.to_csv(\"../data/python_results_github.csv\", index=False)"
   ]
  },
  {
   "cell_type": "markdown",
   "metadata": {},
   "source": [
    "# Get Stack Overflow"
   ]
  },
  {
   "cell_type": "code",
   "execution_count": 24,
   "metadata": {
    "collapsed": false
   },
   "outputs": [
    {
     "data": {
      "text/plain": [
       "[{u'count': 1917,\n",
       "  u'has_synonyms': False,\n",
       "  u'is_moderator_only': False,\n",
       "  u'is_required': False,\n",
       "  u'name': u'ipython-notebook'}]"
      ]
     },
     "execution_count": 24,
     "metadata": {},
     "output_type": "execute_result"
    }
   ],
   "source": [
    "# check\n",
    "# returns ipython-notebook\n",
    "gso.get_tag_counts(['jupyter-notebook'])"
   ]
  },
  {
   "cell_type": "code",
   "execution_count": 25,
   "metadata": {
    "collapsed": false
   },
   "outputs": [],
   "source": [
    "tag_counts = gso.get_tag_counts(pkgs)"
   ]
  },
  {
   "cell_type": "code",
   "execution_count": 26,
   "metadata": {
    "collapsed": false
   },
   "outputs": [
    {
     "data": {
      "text/html": [
       "<div>\n",
       "<table border=\"1\" class=\"dataframe\">\n",
       "  <thead>\n",
       "    <tr style=\"text-align: right;\">\n",
       "      <th></th>\n",
       "      <th>package</th>\n",
       "      <th>so_tag_counts</th>\n",
       "    </tr>\n",
       "  </thead>\n",
       "  <tbody>\n",
       "    <tr>\n",
       "      <th>0</th>\n",
       "      <td>pandas</td>\n",
       "      <td>35647</td>\n",
       "    </tr>\n",
       "    <tr>\n",
       "      <th>1</th>\n",
       "      <td>numpy</td>\n",
       "      <td>31915</td>\n",
       "    </tr>\n",
       "    <tr>\n",
       "      <th>2</th>\n",
       "      <td>design-patterns</td>\n",
       "      <td>23043</td>\n",
       "    </tr>\n",
       "    <tr>\n",
       "      <th>3</th>\n",
       "      <td>matplotlib</td>\n",
       "      <td>21080</td>\n",
       "    </tr>\n",
       "    <tr>\n",
       "      <th>4</th>\n",
       "      <td>ggplot2</td>\n",
       "      <td>15142</td>\n",
       "    </tr>\n",
       "  </tbody>\n",
       "</table>\n",
       "</div>"
      ],
      "text/plain": [
       "           package  so_tag_counts\n",
       "0           pandas          35647\n",
       "1            numpy          31915\n",
       "2  design-patterns          23043\n",
       "3       matplotlib          21080\n",
       "4          ggplot2          15142"
      ]
     },
     "execution_count": 26,
     "metadata": {},
     "output_type": "execute_result"
    }
   ],
   "source": [
    "df_tags = pd.DataFrame(tag_counts)[['name', 'count']]\n",
    "df_tags.columns = ['package', 'so_tag_counts']\n",
    "df_tags.head()"
   ]
  },
  {
   "cell_type": "code",
   "execution_count": 27,
   "metadata": {
    "collapsed": false
   },
   "outputs": [
    {
     "name": "stdout",
     "output_type": "stream",
     "text": [
      "DONE\n"
     ]
    }
   ],
   "source": [
    "body_counts = {pkg: gso.get_body_count(pkg) for pkg in pkgs}\n",
    "print \"DONE\""
   ]
  },
  {
   "cell_type": "code",
   "execution_count": 28,
   "metadata": {
    "collapsed": false
   },
   "outputs": [],
   "source": [
    "df_questions = pd.DataFrame.from_dict(body_counts, orient='index')\n",
    "df_questions.reset_index(inplace=True)\n",
    "df_questions.columns = ['package', 'so_question_count']"
   ]
  },
  {
   "cell_type": "code",
   "execution_count": 29,
   "metadata": {
    "collapsed": false
   },
   "outputs": [
    {
     "data": {
      "text/html": [
       "<div>\n",
       "<table border=\"1\" class=\"dataframe\">\n",
       "  <thead>\n",
       "    <tr style=\"text-align: right;\">\n",
       "      <th></th>\n",
       "      <th>package</th>\n",
       "      <th>so_tag_counts</th>\n",
       "      <th>so_question_count</th>\n",
       "    </tr>\n",
       "  </thead>\n",
       "  <tbody>\n",
       "    <tr>\n",
       "      <th>0</th>\n",
       "      <td>pandas</td>\n",
       "      <td>35647.0</td>\n",
       "      <td>41472.0</td>\n",
       "    </tr>\n",
       "    <tr>\n",
       "      <th>1</th>\n",
       "      <td>numpy</td>\n",
       "      <td>31915.0</td>\n",
       "      <td>55381.0</td>\n",
       "    </tr>\n",
       "    <tr>\n",
       "      <th>2</th>\n",
       "      <td>design-patterns</td>\n",
       "      <td>23043.0</td>\n",
       "      <td>NaN</td>\n",
       "    </tr>\n",
       "    <tr>\n",
       "      <th>3</th>\n",
       "      <td>matplotlib</td>\n",
       "      <td>21080.0</td>\n",
       "      <td>24728.0</td>\n",
       "    </tr>\n",
       "    <tr>\n",
       "      <th>4</th>\n",
       "      <td>ggplot2</td>\n",
       "      <td>15142.0</td>\n",
       "      <td>NaN</td>\n",
       "    </tr>\n",
       "  </tbody>\n",
       "</table>\n",
       "</div>"
      ],
      "text/plain": [
       "           package  so_tag_counts  so_question_count\n",
       "0           pandas        35647.0            41472.0\n",
       "1            numpy        31915.0            55381.0\n",
       "2  design-patterns        23043.0                NaN\n",
       "3       matplotlib        21080.0            24728.0\n",
       "4          ggplot2        15142.0                NaN"
      ]
     },
     "execution_count": 29,
     "metadata": {},
     "output_type": "execute_result"
    }
   ],
   "source": [
    "so = df_tags.merge(df_questions, on='package', how='outer')\n",
    "so.head()"
   ]
  },
  {
   "cell_type": "code",
   "execution_count": 30,
   "metadata": {
    "collapsed": false
   },
   "outputs": [],
   "source": [
    "so.to_csv(\"../data/python_results_so.csv\", index=False)"
   ]
  },
  {
   "cell_type": "markdown",
   "metadata": {},
   "source": [
    "# Get download counts"
   ]
  },
  {
   "cell_type": "markdown",
   "metadata": {},
   "source": [
    "**NOTE**: this uses file created separately!"
   ]
  },
  {
   "cell_type": "code",
   "execution_count": 31,
   "metadata": {
    "collapsed": false
   },
   "outputs": [
    {
     "data": {
      "text/html": [
       "<div>\n",
       "<table border=\"1\" class=\"dataframe\">\n",
       "  <thead>\n",
       "    <tr style=\"text-align: right;\">\n",
       "      <th></th>\n",
       "      <th>package</th>\n",
       "      <th>downloads</th>\n",
       "    </tr>\n",
       "  </thead>\n",
       "  <tbody>\n",
       "    <tr>\n",
       "      <th>0</th>\n",
       "      <td>jupyter</td>\n",
       "      <td>398702</td>\n",
       "    </tr>\n",
       "    <tr>\n",
       "      <th>1</th>\n",
       "      <td>notebook</td>\n",
       "      <td>791071</td>\n",
       "    </tr>\n",
       "    <tr>\n",
       "      <th>2</th>\n",
       "      <td>networkx</td>\n",
       "      <td>3838384</td>\n",
       "    </tr>\n",
       "    <tr>\n",
       "      <th>3</th>\n",
       "      <td>seaborn</td>\n",
       "      <td>414400</td>\n",
       "    </tr>\n",
       "    <tr>\n",
       "      <th>4</th>\n",
       "      <td>Pattern</td>\n",
       "      <td>302116</td>\n",
       "    </tr>\n",
       "  </tbody>\n",
       "</table>\n",
       "</div>"
      ],
      "text/plain": [
       "    package  downloads\n",
       "0   jupyter     398702\n",
       "1  notebook     791071\n",
       "2  networkx    3838384\n",
       "3   seaborn     414400\n",
       "4   Pattern     302116"
      ]
     },
     "execution_count": 31,
     "metadata": {},
     "output_type": "execute_result"
    }
   ],
   "source": [
    "def extract_count(line):\n",
    "    parts = line.split(\" - \")\n",
    "    if len(parts) == 2:\n",
    "        package = parts[0].split(\":\")[-1]\n",
    "        count = int(parts[1].replace(\",\", \"\"))\n",
    "        return package, count\n",
    "    else:\n",
    "        return None\n",
    "\n",
    "def get_pypi_counts():\n",
    "    with open(\"../data/python_pypi_counts.log\", \"r\") as f:\n",
    "        lines = [line.strip() for line in f.readlines() if line.strip()]\n",
    "    return [extract_count(line) for line in lines\n",
    "            if extract_count(line) is not None]\n",
    "\n",
    "counts = get_pypi_counts()\n",
    "\n",
    "pypi = pd.DataFrame(counts, columns=['package', 'downloads'])\n",
    "pypi.head()"
   ]
  },
  {
   "cell_type": "code",
   "execution_count": 32,
   "metadata": {
    "collapsed": false
   },
   "outputs": [],
   "source": [
    "pypi.drop_duplicates(inplace=True)"
   ]
  },
  {
   "cell_type": "code",
   "execution_count": 33,
   "metadata": {
    "collapsed": true
   },
   "outputs": [],
   "source": [
    "pypi.to_csv(\"../data/python_results_pypi.csv\", index=False)"
   ]
  },
  {
   "cell_type": "markdown",
   "metadata": {},
   "source": [
    "# Combine all data"
   ]
  },
  {
   "cell_type": "code",
   "execution_count": 34,
   "metadata": {
    "collapsed": true
   },
   "outputs": [],
   "source": [
    "# do this in /code/python-analysis.R"
   ]
  },
  {
   "cell_type": "code",
   "execution_count": 35,
   "metadata": {
    "collapsed": false
   },
   "outputs": [
    {
     "data": {
      "text/html": [
       "<div>\n",
       "<table border=\"1\" class=\"dataframe\">\n",
       "  <thead>\n",
       "    <tr style=\"text-align: right;\">\n",
       "      <th></th>\n",
       "      <th>package</th>\n",
       "      <th>full_name</th>\n",
       "      <th>forks</th>\n",
       "      <th>stars</th>\n",
       "      <th>so_tag_counts</th>\n",
       "      <th>so_question_count</th>\n",
       "      <th>downloads</th>\n",
       "    </tr>\n",
       "  </thead>\n",
       "  <tbody>\n",
       "    <tr>\n",
       "      <th>0</th>\n",
       "      <td>plotly.py</td>\n",
       "      <td>plotly/plotly.py</td>\n",
       "      <td>441.0</td>\n",
       "      <td>1822.0</td>\n",
       "      <td>NaN</td>\n",
       "      <td>22.0</td>\n",
       "      <td>NaN</td>\n",
       "    </tr>\n",
       "    <tr>\n",
       "      <th>1</th>\n",
       "      <td>networkx</td>\n",
       "      <td>networkx/networkx</td>\n",
       "      <td>819.0</td>\n",
       "      <td>2662.0</td>\n",
       "      <td>1447.0</td>\n",
       "      <td>1899.0</td>\n",
       "      <td>3838384.0</td>\n",
       "    </tr>\n",
       "    <tr>\n",
       "      <th>2</th>\n",
       "      <td>jupyter-notebook</td>\n",
       "      <td>jupyter/notebook</td>\n",
       "      <td>559.0</td>\n",
       "      <td>1877.0</td>\n",
       "      <td>NaN</td>\n",
       "      <td>2858.0</td>\n",
       "      <td>NaN</td>\n",
       "    </tr>\n",
       "    <tr>\n",
       "      <th>3</th>\n",
       "      <td>seaborn</td>\n",
       "      <td>mwaskom/seaborn</td>\n",
       "      <td>542.0</td>\n",
       "      <td>3656.0</td>\n",
       "      <td>1021.0</td>\n",
       "      <td>1304.0</td>\n",
       "      <td>414400.0</td>\n",
       "    </tr>\n",
       "    <tr>\n",
       "      <th>4</th>\n",
       "      <td>pattern</td>\n",
       "      <td>clips/pattern</td>\n",
       "      <td>950.0</td>\n",
       "      <td>5109.0</td>\n",
       "      <td>NaN</td>\n",
       "      <td>204535.0</td>\n",
       "      <td>NaN</td>\n",
       "    </tr>\n",
       "  </tbody>\n",
       "</table>\n",
       "</div>"
      ],
      "text/plain": [
       "            package          full_name  forks   stars  so_tag_counts  \\\n",
       "0         plotly.py   plotly/plotly.py  441.0  1822.0            NaN   \n",
       "1          networkx  networkx/networkx  819.0  2662.0         1447.0   \n",
       "2  jupyter-notebook   jupyter/notebook  559.0  1877.0            NaN   \n",
       "3           seaborn    mwaskom/seaborn  542.0  3656.0         1021.0   \n",
       "4           pattern      clips/pattern  950.0  5109.0            NaN   \n",
       "\n",
       "   so_question_count  downloads  \n",
       "0               22.0        NaN  \n",
       "1             1899.0  3838384.0  \n",
       "2             2858.0        NaN  \n",
       "3             1304.0   414400.0  \n",
       "4           204535.0        NaN  "
      ]
     },
     "execution_count": 35,
     "metadata": {},
     "output_type": "execute_result"
    }
   ],
   "source": [
    "df1 = github.merge(so, on='package', how='outer')\n",
    "df = df1.merge(pypi, on='package', how='outer')\n",
    "df.head()"
   ]
  },
  {
   "cell_type": "code",
   "execution_count": null,
   "metadata": {
    "collapsed": true
   },
   "outputs": [],
   "source": []
  },
  {
   "cell_type": "code",
   "execution_count": 36,
   "metadata": {
    "collapsed": false
   },
   "outputs": [
    {
     "data": {
      "text/html": [
       "<div>\n",
       "<table border=\"1\" class=\"dataframe\">\n",
       "  <thead>\n",
       "    <tr style=\"text-align: right;\">\n",
       "      <th></th>\n",
       "      <th>package</th>\n",
       "      <th>downloads</th>\n",
       "    </tr>\n",
       "  </thead>\n",
       "  <tbody>\n",
       "    <tr>\n",
       "      <th>0</th>\n",
       "      <td>ipython</td>\n",
       "      <td>9219641</td>\n",
       "    </tr>\n",
       "    <tr>\n",
       "      <th>1</th>\n",
       "      <td>jupyter</td>\n",
       "      <td>398702</td>\n",
       "    </tr>\n",
       "    <tr>\n",
       "      <th>2</th>\n",
       "      <td>Theano</td>\n",
       "      <td>608210</td>\n",
       "    </tr>\n",
       "    <tr>\n",
       "      <th>3</th>\n",
       "      <td>tensorflow</td>\n",
       "      <td>35501</td>\n",
       "    </tr>\n",
       "  </tbody>\n",
       "</table>\n",
       "</div>"
      ],
      "text/plain": [
       "      package  downloads\n",
       "0     ipython    9219641\n",
       "1     jupyter     398702\n",
       "2      Theano     608210\n",
       "3  tensorflow      35501"
      ]
     },
     "execution_count": 36,
     "metadata": {},
     "output_type": "execute_result"
    }
   ],
   "source": [
    "def extract_count(line):\n",
    "    parts = line.split(\" - \")\n",
    "    if len(parts) == 2:\n",
    "        package = parts[0].split(\":\")[-1]\n",
    "        count = int(parts[1].replace(\",\", \"\"))\n",
    "        return package, count\n",
    "    else:\n",
    "        return None\n",
    "\n",
    "def get_pypi_counts():\n",
    "    with open(\"results.txt\", \"r\") as f:\n",
    "        lines = [line.strip() for line in f.readlines() if line.strip()]\n",
    "    return [extract_count(line) for line in lines\n",
    "            if extract_count(line) is not None]\n",
    "\n",
    "counts = get_pypi_counts()\n",
    "\n",
    "pypi = pd.DataFrame(counts, columns=['package', 'downloads'])\n",
    "pypi.head()"
   ]
  },
  {
   "cell_type": "code",
   "execution_count": 37,
   "metadata": {
    "collapsed": true
   },
   "outputs": [],
   "source": [
    "# sxt"
   ]
  },
  {
   "cell_type": "code",
   "execution_count": null,
   "metadata": {
    "collapsed": true
   },
   "outputs": [],
   "source": []
  }
 ],
 "metadata": {
  "kernelspec": {
   "display_name": "Python 2",
   "language": "python",
   "name": "python2"
  },
  "language_info": {
   "codemirror_mode": {
    "name": "ipython",
    "version": 2
   },
   "file_extension": ".py",
   "mimetype": "text/x-python",
   "name": "python",
   "nbconvert_exporter": "python",
   "pygments_lexer": "ipython2",
   "version": "2.7.12"
  }
 },
 "nbformat": 4,
 "nbformat_minor": 1
}
