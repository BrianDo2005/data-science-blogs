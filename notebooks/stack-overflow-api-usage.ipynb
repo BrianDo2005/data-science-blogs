{
 "cells": [
  {
   "cell_type": "markdown",
   "metadata": {
    "ein.tags": [
     "worksheet-0"
    ],
    "slideshow": {
     "slide_type": "-"
    }
   },
   "source": [
    "# Use Stack Overflow API to get some R packages"
   ]
  },
  {
   "cell_type": "markdown",
   "metadata": {
    "ein.tags": [
     "worksheet-0"
    ],
    "slideshow": {
     "slide_type": "-"
    }
   },
   "source": [
    "[demo](https://api.stackexchange.com/docs/tags-by-name#order=desc&sort=popular&tags=r&filter=default&site=stackoverflow&run=true)\n",
    "\n",
    "[more complex searches](https://api.stackexchange.com/docs/search#order=desc&sort=creation&tagged=pebble-watch%3Bpebble-sdk%3Bcloudpebble&filter=default&site=stackoverflow&run=true)\n",
    "\n",
    "[full docs](https://api.stackexchange.com/docs)"
   ]
  },
  {
   "cell_type": "code",
   "execution_count": 24,
   "metadata": {
    "collapsed": false
   },
   "outputs": [],
   "source": [
    "import requests\n",
    "import pandas as pd\n",
    "import logging\n",
    "%matplotlib inline"
   ]
  },
  {
   "cell_type": "code",
   "execution_count": 66,
   "metadata": {
    "collapsed": true
   },
   "outputs": [],
   "source": [
    "logging.basicConfig(level=logging.INFO)"
   ]
  },
  {
   "cell_type": "code",
   "execution_count": 85,
   "metadata": {
    "collapsed": true
   },
   "outputs": [],
   "source": [
    "GLOBAL_PARAMS = {\n",
    "    \"site\" : \"stackoverflow\",\n",
    "    \"key\" : \"y38PeNERQJQIC8EPliKAVQ((\"\n",
    "}"
   ]
  },
  {
   "cell_type": "markdown",
   "metadata": {
    "ein.tags": [
     "worksheet-0"
    ],
    "slideshow": {
     "slide_type": "-"
    }
   },
   "source": [
    "## Get overall site info\n",
    "You may need to add API key if you reach limits. Find 'GLOBAL' in this notebook."
   ]
  },
  {
   "cell_type": "code",
   "execution_count": 69,
   "metadata": {
    "autoscroll": "json-false",
    "collapsed": false,
    "ein.tags": [
     "worksheet-0"
    ],
    "slideshow": {
     "slide_type": "-"
    }
   },
   "outputs": [],
   "source": [
    "# MAIN SITE INFO\n",
    "INFOURL = \"https://api.stackexchange.com/2.2/info\"\n",
    "\n",
    "params = {\n",
    "  \"site\" : \"stackoverflow\",\n",
    "  }\n",
    "\n",
    "r = requests.get(INFOURL, params=params)"
   ]
  },
  {
   "cell_type": "code",
   "execution_count": 70,
   "metadata": {
    "autoscroll": "json-false",
    "collapsed": false,
    "ein.tags": [
     "worksheet-0"
    ],
    "slideshow": {
     "slide_type": "-"
    }
   },
   "outputs": [
    {
     "data": {
      "text/plain": [
       "{u'error_id': 502,\n",
       " u'error_message': u'too many requests from this IP, more requests available in 12423 seconds',\n",
       " u'error_name': u'throttle_violation'}"
      ]
     },
     "execution_count": 70,
     "metadata": {},
     "output_type": "execute_result"
    }
   ],
   "source": [
    "r.json()"
   ]
  },
  {
   "cell_type": "markdown",
   "metadata": {
    "ein.tags": [
     "worksheet-0"
    ],
    "slideshow": {
     "slide_type": "-"
    }
   },
   "source": [
    "## Counts based on individual tags"
   ]
  },
  {
   "cell_type": "code",
   "execution_count": 71,
   "metadata": {
    "collapsed": false
   },
   "outputs": [
    {
     "data": {
      "text/plain": [
       "['dplyr', 'digest', 'ggplot', 'ggplot2', 'rcpp', 'magrittr', 'caret']"
      ]
     },
     "execution_count": 71,
     "metadata": {},
     "output_type": "execute_result"
    }
   ],
   "source": [
    "# SO api is NOT case-sensitive\n",
    "package_list = ['dplyr', 'digest', 'ggplot', 'ggplot2', 'rcpp', 'magrittr', 'caret']\n",
    "package_list"
   ]
  },
  {
   "cell_type": "code",
   "execution_count": 89,
   "metadata": {
    "autoscroll": "json-false",
    "collapsed": false,
    "ein.tags": [
     "worksheet-0"
    ],
    "slideshow": {
     "slide_type": "-"
    }
   },
   "outputs": [],
   "source": [
    "def get_tag_counts(tag_list):\n",
    "    \"\"\"\"Given tag list, return tag counts as json\"\"\"\n",
    "    \n",
    "    formatted_tags = ';'.join(tag_list)\n",
    "    url = \"https://api.stackexchange.com/2.2/tags/\" + formatted_tags + \"/info\"\n",
    "  \n",
    "    try:\n",
    "        r = requests.get(url, params=GLOBAL_PARAMS)\n",
    "        if r.json()['has_more']:\n",
    "            print \"WARNING: Request has more data than is not shown here.\"\n",
    "        return r.json()['items']\n",
    "    except:\n",
    "        logging.warning(\"Error in response.\")"
   ]
  },
  {
   "cell_type": "code",
   "execution_count": 90,
   "metadata": {
    "collapsed": false
   },
   "outputs": [],
   "source": [
    "tag_counts = get_tag_counts(package_list)"
   ]
  },
  {
   "cell_type": "code",
   "execution_count": 91,
   "metadata": {
    "collapsed": false
   },
   "outputs": [
    {
     "data": {
      "text/html": [
       "<div>\n",
       "<table border=\"1\" class=\"dataframe\">\n",
       "  <thead>\n",
       "    <tr style=\"text-align: right;\">\n",
       "      <th></th>\n",
       "      <th>count</th>\n",
       "      <th>has_synonyms</th>\n",
       "      <th>is_moderator_only</th>\n",
       "      <th>is_required</th>\n",
       "      <th>name</th>\n",
       "    </tr>\n",
       "  </thead>\n",
       "  <tbody>\n",
       "    <tr>\n",
       "      <th>0</th>\n",
       "      <td>14979</td>\n",
       "      <td>True</td>\n",
       "      <td>False</td>\n",
       "      <td>False</td>\n",
       "      <td>ggplot2</td>\n",
       "    </tr>\n",
       "    <tr>\n",
       "      <th>1</th>\n",
       "      <td>4149</td>\n",
       "      <td>False</td>\n",
       "      <td>False</td>\n",
       "      <td>False</td>\n",
       "      <td>dplyr</td>\n",
       "    </tr>\n",
       "    <tr>\n",
       "      <th>2</th>\n",
       "      <td>1269</td>\n",
       "      <td>False</td>\n",
       "      <td>False</td>\n",
       "      <td>False</td>\n",
       "      <td>rcpp</td>\n",
       "    </tr>\n",
       "    <tr>\n",
       "      <th>3</th>\n",
       "      <td>556</td>\n",
       "      <td>False</td>\n",
       "      <td>False</td>\n",
       "      <td>False</td>\n",
       "      <td>caret</td>\n",
       "    </tr>\n",
       "    <tr>\n",
       "      <th>4</th>\n",
       "      <td>385</td>\n",
       "      <td>False</td>\n",
       "      <td>False</td>\n",
       "      <td>False</td>\n",
       "      <td>digest</td>\n",
       "    </tr>\n",
       "    <tr>\n",
       "      <th>5</th>\n",
       "      <td>120</td>\n",
       "      <td>False</td>\n",
       "      <td>False</td>\n",
       "      <td>False</td>\n",
       "      <td>magrittr</td>\n",
       "    </tr>\n",
       "  </tbody>\n",
       "</table>\n",
       "</div>"
      ],
      "text/plain": [
       "   count has_synonyms is_moderator_only is_required      name\n",
       "0  14979         True             False       False   ggplot2\n",
       "1   4149        False             False       False     dplyr\n",
       "2   1269        False             False       False      rcpp\n",
       "3    556        False             False       False     caret\n",
       "4    385        False             False       False    digest\n",
       "5    120        False             False       False  magrittr"
      ]
     },
     "execution_count": 91,
     "metadata": {},
     "output_type": "execute_result"
    }
   ],
   "source": [
    "pd.DataFrame(tag_counts)"
   ]
  },
  {
   "cell_type": "code",
   "execution_count": null,
   "metadata": {
    "collapsed": true
   },
   "outputs": [],
   "source": [
    "tag_url = \"https://api.stackexchange.com/2.2/tags/\"\n",
    "\n",
    "\n",
    "for i in range(1):\n",
    "    two_tags = str('r;' + package_list[i])\n",
    "    url = tag_url + two_tags + \"/info?site=stackoverflow\"\n",
    "  \n",
    "    r = requests.get(url)\n",
    "    print r.json()\n",
    "    print r.json()['items']"
   ]
  },
  {
   "cell_type": "markdown",
   "metadata": {
    "autoscroll": "json-false",
    "collapsed": false,
    "ein.tags": [
     "worksheet-0"
    ],
    "slideshow": {
     "slide_type": "-"
    }
   },
   "source": [
    "## Counts based on presence in question body"
   ]
  },
  {
   "cell_type": "code",
   "execution_count": 133,
   "metadata": {
    "collapsed": false
   },
   "outputs": [],
   "source": [
    "def get_body_count(body_string, tag=None):\n",
    "    \"\"\"Given ONE string, return number of SO questions containing it\n",
    "  \n",
    "    possibly tagged with TAG\n",
    "    uses filter=total to return counts only\n",
    "    \"\"\"\n",
    "    \n",
    "    baseurl = 'https://api.stackexchange.com/2.2/search/advanced'\n",
    "    \n",
    "    params = {\n",
    "        'q': body_string,\n",
    "        'filter': 'total',\n",
    "    }\n",
    "    \n",
    "    params.update(GLOBAL_PARAMS)\n",
    "    if tag:\n",
    "        params.update({'tagged': tag})\n",
    "\n",
    "    r = requests.get(baseurl, params=params)\n",
    "    return r.json()"
   ]
  },
  {
   "cell_type": "code",
   "execution_count": 129,
   "metadata": {
    "autoscroll": "json-false",
    "collapsed": false,
    "ein.tags": [
     "worksheet-0"
    ],
    "slideshow": {
     "slide_type": "-"
    }
   },
   "outputs": [
    {
     "name": "stdout",
     "output_type": "stream",
     "text": [
      "https://api.stackexchange.com/2.2/search/advanced?q=dplyr&filter=total&site=stackoverflow&key=y38PeNERQJQIC8EPliKAVQ%28%28\n",
      "https://api.stackexchange.com/2.2/search/advanced?q=digest&filter=total&site=stackoverflow&key=y38PeNERQJQIC8EPliKAVQ%28%28\n",
      "https://api.stackexchange.com/2.2/search/advanced?q=ggplot&filter=total&site=stackoverflow&key=y38PeNERQJQIC8EPliKAVQ%28%28\n",
      "https://api.stackexchange.com/2.2/search/advanced?q=ggplot2&filter=total&site=stackoverflow&key=y38PeNERQJQIC8EPliKAVQ%28%28\n",
      "https://api.stackexchange.com/2.2/search/advanced?q=rcpp&filter=total&site=stackoverflow&key=y38PeNERQJQIC8EPliKAVQ%28%28\n",
      "https://api.stackexchange.com/2.2/search/advanced?q=magrittr&filter=total&site=stackoverflow&key=y38PeNERQJQIC8EPliKAVQ%28%28\n",
      "https://api.stackexchange.com/2.2/search/advanced?q=caret&filter=total&site=stackoverflow&key=y38PeNERQJQIC8EPliKAVQ%28%28\n"
     ]
    }
   ],
   "source": [
    "question_body_counts = { item: get_body_count(item) for item in package_list}"
   ]
  },
  {
   "cell_type": "code",
   "execution_count": 130,
   "metadata": {
    "collapsed": false
   },
   "outputs": [
    {
     "data": {
      "text/plain": [
       "{'caret': {u'total': 12819},\n",
       " 'digest': {u'total': 14060},\n",
       " 'dplyr': {u'total': 6355},\n",
       " 'ggplot': {u'total': 14552},\n",
       " 'ggplot2': {u'total': 17359},\n",
       " 'magrittr': {u'total': 410},\n",
       " 'rcpp': {u'total': 1696}}"
      ]
     },
     "execution_count": 130,
     "metadata": {},
     "output_type": "execute_result"
    }
   ],
   "source": [
    "question_body_counts"
   ]
  },
  {
   "cell_type": "markdown",
   "metadata": {},
   "source": [
    "## Counts based on presence in question body, with [r] tag"
   ]
  },
  {
   "cell_type": "code",
   "execution_count": 131,
   "metadata": {
    "collapsed": false
   },
   "outputs": [
    {
     "name": "stdout",
     "output_type": "stream",
     "text": [
      "https://api.stackexchange.com/2.2/search/advanced?q=dplyr&filter=total&tagged=r&site=stackoverflow&key=y38PeNERQJQIC8EPliKAVQ%28%28\n",
      "https://api.stackexchange.com/2.2/search/advanced?q=digest&filter=total&tagged=r&site=stackoverflow&key=y38PeNERQJQIC8EPliKAVQ%28%28\n",
      "https://api.stackexchange.com/2.2/search/advanced?q=ggplot&filter=total&tagged=r&site=stackoverflow&key=y38PeNERQJQIC8EPliKAVQ%28%28\n",
      "https://api.stackexchange.com/2.2/search/advanced?q=ggplot2&filter=total&tagged=r&site=stackoverflow&key=y38PeNERQJQIC8EPliKAVQ%28%28\n",
      "https://api.stackexchange.com/2.2/search/advanced?q=rcpp&filter=total&tagged=r&site=stackoverflow&key=y38PeNERQJQIC8EPliKAVQ%28%28\n",
      "https://api.stackexchange.com/2.2/search/advanced?q=magrittr&filter=total&tagged=r&site=stackoverflow&key=y38PeNERQJQIC8EPliKAVQ%28%28\n",
      "https://api.stackexchange.com/2.2/search/advanced?q=caret&filter=total&tagged=r&site=stackoverflow&key=y38PeNERQJQIC8EPliKAVQ%28%28\n"
     ]
    }
   ],
   "source": [
    "tag = 'r'\n",
    "question_body_counts = { item: get_body_count(item, tag=tag) for item in package_list}"
   ]
  },
  {
   "cell_type": "code",
   "execution_count": 132,
   "metadata": {
    "collapsed": false
   },
   "outputs": [
    {
     "data": {
      "text/plain": [
       "{'caret': {u'total': 1064},\n",
       " 'digest': {u'total': 226},\n",
       " 'dplyr': {u'total': 6241},\n",
       " 'ggplot': {u'total': 14020},\n",
       " 'ggplot2': {u'total': 17042},\n",
       " 'magrittr': {u'total': 402},\n",
       " 'rcpp': {u'total': 1472}}"
      ]
     },
     "execution_count": 132,
     "metadata": {},
     "output_type": "execute_result"
    }
   ],
   "source": [
    "question_body_counts"
   ]
  },
  {
   "cell_type": "code",
   "execution_count": null,
   "metadata": {
    "collapsed": true
   },
   "outputs": [],
   "source": []
  },
  {
   "cell_type": "markdown",
   "metadata": {},
   "source": [
    "# Counts based on [r] TAG + question BODY"
   ]
  },
  {
   "cell_type": "code",
   "execution_count": null,
   "metadata": {
    "collapsed": true
   },
   "outputs": [],
   "source": [
    "def get_tag_counts_with_r_tag(tag_list):\n",
    "    \"\"\"\"Given tag list, return tag counts which appear with the tag 'r'\n",
    "    \n",
    "    Returns json\"\"\"\n",
    "    \n",
    "    \n",
    "    formatted_tags = ';'.join(tag_list)\n",
    "    tag_url = \"https://api.stackexchange.com/2.2/tags/\"\n",
    "    url = tag_url + formatted_tags + \"/info?site=stackoverflow\"\n",
    "  \n",
    "    r = requests.get(url)\n",
    "    if r.json()['has_more']:\n",
    "        logging.warning()\"WARNING: Request has more data than is not shown here.\")\n",
    "    return r.json()['items']"
   ]
  },
  {
   "cell_type": "markdown",
   "metadata": {
    "collapsed": true
   },
   "source": [
    "# Visualizations"
   ]
  },
  {
   "cell_type": "code",
   "execution_count": 91,
   "metadata": {
    "collapsed": false
   },
   "outputs": [
    {
     "data": {
      "text/html": [
       "<div>\n",
       "<table border=\"1\" class=\"dataframe\">\n",
       "  <thead>\n",
       "    <tr style=\"text-align: right;\">\n",
       "      <th></th>\n",
       "      <th>name</th>\n",
       "      <th>count</th>\n",
       "      <th>type</th>\n",
       "    </tr>\n",
       "  </thead>\n",
       "  <tbody>\n",
       "    <tr>\n",
       "      <th>0</th>\n",
       "      <td>caret</td>\n",
       "      <td>3989</td>\n",
       "      <td>in_question_body</td>\n",
       "    </tr>\n",
       "    <tr>\n",
       "      <th>1</th>\n",
       "      <td>dplyr</td>\n",
       "      <td>2020</td>\n",
       "      <td>in_question_body</td>\n",
       "    </tr>\n",
       "    <tr>\n",
       "      <th>2</th>\n",
       "      <td>ggplot</td>\n",
       "      <td>4290</td>\n",
       "      <td>in_question_body</td>\n",
       "    </tr>\n",
       "    <tr>\n",
       "      <th>3</th>\n",
       "      <td>magrittr</td>\n",
       "      <td>58</td>\n",
       "      <td>in_question_body</td>\n",
       "    </tr>\n",
       "    <tr>\n",
       "      <th>4</th>\n",
       "      <td>ggplot2</td>\n",
       "      <td>4829</td>\n",
       "      <td>in_question_body</td>\n",
       "    </tr>\n",
       "  </tbody>\n",
       "</table>\n",
       "</div>"
      ],
      "text/plain": [
       "       name  count              type\n",
       "0     caret   3989  in_question_body\n",
       "1     dplyr   2020  in_question_body\n",
       "2    ggplot   4290  in_question_body\n",
       "3  magrittr     58  in_question_body\n",
       "4   ggplot2   4829  in_question_body"
      ]
     },
     "execution_count": 91,
     "metadata": {},
     "output_type": "execute_result"
    }
   ],
   "source": [
    "df_body = pd.DataFrame.from_dict(question_body_counts, orient='index')\n",
    "df_body.reset_index(inplace=True)\n",
    "df_body.columns = [['name', 'count']]\n",
    "df_body['type'] = 'in_question_body'\n",
    "df_body.sort_values(by='count', inplace=True, ascending=False)\n",
    "df_body.head()"
   ]
  },
  {
   "cell_type": "code",
   "execution_count": 92,
   "metadata": {
    "collapsed": false
   },
   "outputs": [
    {
     "data": {
      "text/html": [
       "<div>\n",
       "<table border=\"1\" class=\"dataframe\">\n",
       "  <thead>\n",
       "    <tr style=\"text-align: right;\">\n",
       "      <th></th>\n",
       "      <th>name</th>\n",
       "      <th>count</th>\n",
       "      <th>type</th>\n",
       "    </tr>\n",
       "  </thead>\n",
       "  <tbody>\n",
       "    <tr>\n",
       "      <th>0</th>\n",
       "      <td>ggplot2</td>\n",
       "      <td>14962</td>\n",
       "      <td>tagged</td>\n",
       "    </tr>\n",
       "    <tr>\n",
       "      <th>1</th>\n",
       "      <td>dplyr</td>\n",
       "      <td>4139</td>\n",
       "      <td>tagged</td>\n",
       "    </tr>\n",
       "    <tr>\n",
       "      <th>2</th>\n",
       "      <td>rcpp</td>\n",
       "      <td>1266</td>\n",
       "      <td>tagged</td>\n",
       "    </tr>\n",
       "    <tr>\n",
       "      <th>3</th>\n",
       "      <td>caret</td>\n",
       "      <td>556</td>\n",
       "      <td>tagged</td>\n",
       "    </tr>\n",
       "    <tr>\n",
       "      <th>4</th>\n",
       "      <td>digest</td>\n",
       "      <td>383</td>\n",
       "      <td>tagged</td>\n",
       "    </tr>\n",
       "  </tbody>\n",
       "</table>\n",
       "</div>"
      ],
      "text/plain": [
       "      name  count    type\n",
       "0  ggplot2  14962  tagged\n",
       "1    dplyr   4139  tagged\n",
       "2     rcpp   1266  tagged\n",
       "3    caret    556  tagged\n",
       "4   digest    383  tagged"
      ]
     },
     "execution_count": 92,
     "metadata": {},
     "output_type": "execute_result"
    }
   ],
   "source": [
    "df_tags = pd.DataFrame(tag_counts)[['name', 'count']]\n",
    "df_tags['type'] = 'tagged'\n",
    "df_tags.head()"
   ]
  },
  {
   "cell_type": "code",
   "execution_count": 93,
   "metadata": {
    "collapsed": false
   },
   "outputs": [
    {
     "data": {
      "text/html": [
       "<div>\n",
       "<table border=\"1\" class=\"dataframe\">\n",
       "  <thead>\n",
       "    <tr style=\"text-align: right;\">\n",
       "      <th></th>\n",
       "      <th>name</th>\n",
       "      <th>count</th>\n",
       "      <th>type</th>\n",
       "    </tr>\n",
       "  </thead>\n",
       "  <tbody>\n",
       "    <tr>\n",
       "      <th>0</th>\n",
       "      <td>ggplot2</td>\n",
       "      <td>14962</td>\n",
       "      <td>tagged</td>\n",
       "    </tr>\n",
       "    <tr>\n",
       "      <th>1</th>\n",
       "      <td>dplyr</td>\n",
       "      <td>4139</td>\n",
       "      <td>tagged</td>\n",
       "    </tr>\n",
       "    <tr>\n",
       "      <th>2</th>\n",
       "      <td>rcpp</td>\n",
       "      <td>1266</td>\n",
       "      <td>tagged</td>\n",
       "    </tr>\n",
       "    <tr>\n",
       "      <th>3</th>\n",
       "      <td>caret</td>\n",
       "      <td>556</td>\n",
       "      <td>tagged</td>\n",
       "    </tr>\n",
       "    <tr>\n",
       "      <th>4</th>\n",
       "      <td>digest</td>\n",
       "      <td>383</td>\n",
       "      <td>tagged</td>\n",
       "    </tr>\n",
       "    <tr>\n",
       "      <th>5</th>\n",
       "      <td>magrittr</td>\n",
       "      <td>119</td>\n",
       "      <td>tagged</td>\n",
       "    </tr>\n",
       "    <tr>\n",
       "      <th>6</th>\n",
       "      <td>digest</td>\n",
       "      <td>5143</td>\n",
       "      <td>in_question_body</td>\n",
       "    </tr>\n",
       "    <tr>\n",
       "      <th>4</th>\n",
       "      <td>ggplot2</td>\n",
       "      <td>4829</td>\n",
       "      <td>in_question_body</td>\n",
       "    </tr>\n",
       "    <tr>\n",
       "      <th>2</th>\n",
       "      <td>ggplot</td>\n",
       "      <td>4290</td>\n",
       "      <td>in_question_body</td>\n",
       "    </tr>\n",
       "    <tr>\n",
       "      <th>0</th>\n",
       "      <td>caret</td>\n",
       "      <td>3989</td>\n",
       "      <td>in_question_body</td>\n",
       "    </tr>\n",
       "    <tr>\n",
       "      <th>1</th>\n",
       "      <td>dplyr</td>\n",
       "      <td>2020</td>\n",
       "      <td>in_question_body</td>\n",
       "    </tr>\n",
       "    <tr>\n",
       "      <th>5</th>\n",
       "      <td>rcpp</td>\n",
       "      <td>1006</td>\n",
       "      <td>in_question_body</td>\n",
       "    </tr>\n",
       "    <tr>\n",
       "      <th>3</th>\n",
       "      <td>magrittr</td>\n",
       "      <td>58</td>\n",
       "      <td>in_question_body</td>\n",
       "    </tr>\n",
       "  </tbody>\n",
       "</table>\n",
       "</div>"
      ],
      "text/plain": [
       "       name  count              type\n",
       "0   ggplot2  14962            tagged\n",
       "1     dplyr   4139            tagged\n",
       "2      rcpp   1266            tagged\n",
       "3     caret    556            tagged\n",
       "4    digest    383            tagged\n",
       "5  magrittr    119            tagged\n",
       "6    digest   5143  in_question_body\n",
       "4   ggplot2   4829  in_question_body\n",
       "2    ggplot   4290  in_question_body\n",
       "0     caret   3989  in_question_body\n",
       "1     dplyr   2020  in_question_body\n",
       "5      rcpp   1006  in_question_body\n",
       "3  magrittr     58  in_question_body"
      ]
     },
     "execution_count": 93,
     "metadata": {},
     "output_type": "execute_result"
    }
   ],
   "source": [
    "df = pd.concat([df_tags, df_body])\n",
    "df.sort_values(by = ['type', 'count'], inplace=True, ascending=False)\n",
    "df"
   ]
  },
  {
   "cell_type": "code",
   "execution_count": 94,
   "metadata": {
    "collapsed": false
   },
   "outputs": [
    {
     "data": {
      "text/html": [
       "\n",
       "    <div class=\"bk-banner\">\n",
       "        <a href=\"http://bokeh.pydata.org\" target=\"_blank\" class=\"bk-logo bk-logo-small bk-logo-notebook\"></a>\n",
       "        <span id=\"7ad4ffb0-ae12-4fa0-8234-d6e84f41ee74\">Loading BokehJS ...</span>\n",
       "    </div>"
      ]
     },
     "metadata": {},
     "output_type": "display_data"
    },
    {
     "data": {
      "application/javascript": [
       "\n",
       "(function(global) {\n",
       "  function now() {\n",
       "    return new Date();\n",
       "  }\n",
       "\n",
       "  if (typeof (window._bokeh_onload_callbacks) === \"undefined\") {\n",
       "    window._bokeh_onload_callbacks = [];\n",
       "  }\n",
       "\n",
       "  function run_callbacks() {\n",
       "    window._bokeh_onload_callbacks.forEach(function(callback) { callback() });\n",
       "    delete window._bokeh_onload_callbacks\n",
       "    console.info(\"Bokeh: all callbacks have finished\");\n",
       "  }\n",
       "\n",
       "  function load_libs(js_urls, callback) {\n",
       "    window._bokeh_onload_callbacks.push(callback);\n",
       "    if (window._bokeh_is_loading > 0) {\n",
       "      console.log(\"Bokeh: BokehJS is being loaded, scheduling callback at\", now());\n",
       "      return null;\n",
       "    }\n",
       "    if (js_urls == null || js_urls.length === 0) {\n",
       "      run_callbacks();\n",
       "      return null;\n",
       "    }\n",
       "    console.log(\"Bokeh: BokehJS not loaded, scheduling load and callback at\", now());\n",
       "    window._bokeh_is_loading = js_urls.length;\n",
       "    for (var i = 0; i < js_urls.length; i++) {\n",
       "      var url = js_urls[i];\n",
       "      var s = document.createElement('script');\n",
       "      s.src = url;\n",
       "      s.async = false;\n",
       "      s.onreadystatechange = s.onload = function() {\n",
       "        window._bokeh_is_loading--;\n",
       "        if (window._bokeh_is_loading === 0) {\n",
       "          console.log(\"Bokeh: all BokehJS libraries loaded\");\n",
       "          run_callbacks()\n",
       "        }\n",
       "      };\n",
       "      s.onerror = function() {\n",
       "        console.warn(\"failed to load library \" + url);\n",
       "      };\n",
       "      console.log(\"Bokeh: injecting script tag for BokehJS library: \", url);\n",
       "      document.getElementsByTagName(\"head\")[0].appendChild(s);\n",
       "    }\n",
       "  };\n",
       "\n",
       "  var js_urls = ['https://cdn.pydata.org/bokeh/release/bokeh-0.11.1.min.js', 'https://cdn.pydata.org/bokeh/release/bokeh-widgets-0.11.1.min.js', 'https://cdn.pydata.org/bokeh/release/bokeh-compiler-0.11.1.min.js'];\n",
       "\n",
       "  var inline_js = [\n",
       "    function(Bokeh) {\n",
       "      Bokeh.set_log_level(\"info\");\n",
       "    },\n",
       "    \n",
       "    function(Bokeh) {\n",
       "      Bokeh.$(\"#7ad4ffb0-ae12-4fa0-8234-d6e84f41ee74\").text(\"BokehJS successfully loaded\");\n",
       "    },\n",
       "    function(Bokeh) {\n",
       "      console.log(\"Bokeh: injecting CSS: https://cdn.pydata.org/bokeh/release/bokeh-0.11.1.min.css\");\n",
       "      Bokeh.embed.inject_css(\"https://cdn.pydata.org/bokeh/release/bokeh-0.11.1.min.css\");\n",
       "      console.log(\"Bokeh: injecting CSS: https://cdn.pydata.org/bokeh/release/bokeh-widgets-0.11.1.min.css\");\n",
       "      Bokeh.embed.inject_css(\"https://cdn.pydata.org/bokeh/release/bokeh-widgets-0.11.1.min.css\");\n",
       "    }\n",
       "  ];\n",
       "\n",
       "  function run_inline_js() {\n",
       "    for (var i = 0; i < inline_js.length; i++) {\n",
       "      inline_js[i](window.Bokeh);\n",
       "    }\n",
       "  }\n",
       "\n",
       "  if (window._bokeh_is_loading === 0) {\n",
       "    console.log(\"Bokeh: BokehJS loaded, going straight to plotting\");\n",
       "    run_inline_js();\n",
       "  } else {\n",
       "    load_libs(js_urls, function() {\n",
       "      console.log(\"Bokeh: BokehJS plotting callback run at\", now());\n",
       "      run_inline_js();\n",
       "    });\n",
       "  }\n",
       "}(this));"
      ]
     },
     "metadata": {},
     "output_type": "display_data"
    }
   ],
   "source": [
    "from bokeh.io import output_notebook, show\n",
    "from bokeh.charts import Bar\n",
    "from bokeh.charts.attributes import cat\n",
    "\n",
    "\n",
    "output_notebook()"
   ]
  },
  {
   "cell_type": "code",
   "execution_count": 95,
   "metadata": {
    "collapsed": false
   },
   "outputs": [
    {
     "data": {
      "text/html": [
       "\n",
       "\n",
       "    <div class=\"plotdiv\" id=\"cd87ed81-6e19-425e-90e6-173efb0f3429\"></div>\n",
       "<script type=\"text/javascript\">\n",
       "  \n",
       "  (function(global) {\n",
       "    function now() {\n",
       "      return new Date();\n",
       "    }\n",
       "  \n",
       "    if (typeof (window._bokeh_onload_callbacks) === \"undefined\") {\n",
       "      window._bokeh_onload_callbacks = [];\n",
       "    }\n",
       "  \n",
       "    function run_callbacks() {\n",
       "      window._bokeh_onload_callbacks.forEach(function(callback) { callback() });\n",
       "      delete window._bokeh_onload_callbacks\n",
       "      console.info(\"Bokeh: all callbacks have finished\");\n",
       "    }\n",
       "  \n",
       "    function load_libs(js_urls, callback) {\n",
       "      window._bokeh_onload_callbacks.push(callback);\n",
       "      if (window._bokeh_is_loading > 0) {\n",
       "        console.log(\"Bokeh: BokehJS is being loaded, scheduling callback at\", now());\n",
       "        return null;\n",
       "      }\n",
       "      if (js_urls == null || js_urls.length === 0) {\n",
       "        run_callbacks();\n",
       "        return null;\n",
       "      }\n",
       "      console.log(\"Bokeh: BokehJS not loaded, scheduling load and callback at\", now());\n",
       "      window._bokeh_is_loading = js_urls.length;\n",
       "      for (var i = 0; i < js_urls.length; i++) {\n",
       "        var url = js_urls[i];\n",
       "        var s = document.createElement('script');\n",
       "        s.src = url;\n",
       "        s.async = false;\n",
       "        s.onreadystatechange = s.onload = function() {\n",
       "          window._bokeh_is_loading--;\n",
       "          if (window._bokeh_is_loading === 0) {\n",
       "            console.log(\"Bokeh: all BokehJS libraries loaded\");\n",
       "            run_callbacks()\n",
       "          }\n",
       "        };\n",
       "        s.onerror = function() {\n",
       "          console.warn(\"failed to load library \" + url);\n",
       "        };\n",
       "        console.log(\"Bokeh: injecting script tag for BokehJS library: \", url);\n",
       "        document.getElementsByTagName(\"head\")[0].appendChild(s);\n",
       "      }\n",
       "    };var element = document.getElementById(\"cd87ed81-6e19-425e-90e6-173efb0f3429\");\n",
       "    if (element == null) {\n",
       "      console.log(\"Bokeh: ERROR: autoload.js configured with elementid 'cd87ed81-6e19-425e-90e6-173efb0f3429' but no matching script tag was found. \")\n",
       "      return false;\n",
       "    }\n",
       "  \n",
       "    var js_urls = [];\n",
       "  \n",
       "    var inline_js = [\n",
       "      function(Bokeh) {\n",
       "        Bokeh.$(function() {\n",
       "            var docs_json = {\"151d2659-a429-4235-87d1-1f7add53f0d3\":{\"roots\":{\"references\":[{\"attributes\":{\"plot\":{\"id\":\"20741ffe-5e2e-478d-b977-42a4db532730\",\"subtype\":\"Chart\",\"type\":\"Plot\"}},\"id\":\"a282ccd1-fad3-4c96-9e05-cf6ec7a9e6fc\",\"type\":\"PanTool\"},{\"attributes\":{\"fill_alpha\":{\"field\":\"fill_alpha\"},\"fill_color\":{\"field\":\"color\"},\"height\":{\"field\":\"height\",\"units\":\"data\"},\"line_color\":{\"field\":\"line_color\"},\"width\":{\"field\":\"width\",\"units\":\"data\"},\"x\":{\"field\":\"x\"},\"y\":{\"field\":\"y\"}},\"id\":\"db84a796-f61b-4630-b433-45d7d70953c9\",\"type\":\"Rect\"},{\"attributes\":{},\"id\":\"4c21c566-1fd1-4653-924b-d974cd5b2f09\",\"type\":\"CategoricalTickFormatter\"},{\"attributes\":{\"callback\":null,\"column_names\":[\"line_color\",\"line_alpha\",\"color\",\"fill_alpha\",\"height\",\"width\",\"y\",\"x\"],\"data\":{\"chart_index\":[{\"name\":\"rcpp\",\"type\":\"in_question_body\"}],\"color\":[\"#f22c40\"],\"fill_alpha\":[0.8],\"height\":[1006.0],\"line_alpha\":[1.0],\"line_color\":[\"white\"],\"name\":[\"rcpp\"],\"type\":[\"in_question_body\"],\"width\":[0.2],\"x\":[\"rcpp:0.666666666667\"],\"y\":[503.0]}},\"id\":\"e4d87d80-504d-45d6-afb9-22587645fdc7\",\"type\":\"ColumnDataSource\"},{\"attributes\":{\"fill_alpha\":{\"field\":\"fill_alpha\"},\"fill_color\":{\"field\":\"color\"},\"height\":{\"field\":\"height\",\"units\":\"data\"},\"line_color\":{\"field\":\"line_color\"},\"width\":{\"field\":\"width\",\"units\":\"data\"},\"x\":{\"field\":\"x\"},\"y\":{\"field\":\"y\"}},\"id\":\"b9bf9963-6a97-4455-b2f2-11f356c4b5b9\",\"type\":\"Rect\"},{\"attributes\":{\"callback\":null,\"column_names\":[\"line_color\",\"line_alpha\",\"color\",\"fill_alpha\",\"height\",\"width\",\"y\",\"x\"],\"data\":{\"chart_index\":[{\"name\":\"caret\",\"type\":\"tagged\"}],\"color\":[\"#5ab738\"],\"fill_alpha\":[0.8],\"height\":[556.0],\"line_alpha\":[1.0],\"line_color\":[\"white\"],\"name\":[\"caret\"],\"type\":[\"tagged\"],\"width\":[0.2],\"x\":[\"caret:0.333333333333\"],\"y\":[278.0]}},\"id\":\"8c12e894-7d58-43ed-a467-9b4fa7237c5b\",\"type\":\"ColumnDataSource\"},{\"attributes\":{\"plot\":{\"id\":\"151e6670-6ea1-462b-860d-8411b8f54666\",\"subtype\":\"Chart\",\"type\":\"Plot\"}},\"id\":\"8bb08cff-22cb-409f-a615-a37c3de300c5\",\"type\":\"ResizeTool\"},{\"attributes\":{\"axis_label\":\"Value\",\"formatter\":{\"id\":\"e40db650-6af8-4380-9cc7-a8891ad2b12b\",\"type\":\"BasicTickFormatter\"},\"plot\":{\"id\":\"2c43db82-4aca-4f9b-bc0f-a5974c4da3eb\",\"subtype\":\"Chart\",\"type\":\"Plot\"},\"ticker\":{\"id\":\"0158b1ed-5394-4cbb-993a-465b0b59b1bb\",\"type\":\"BasicTicker\"}},\"id\":\"00b5f90b-c346-48d0-a0bc-c3181b2276d5\",\"type\":\"LinearAxis\"},{\"attributes\":{\"callback\":null,\"end\":15710.1},\"id\":\"391a20a5-bb33-4396-bdb1-3b7397ed8d50\",\"type\":\"Range1d\"},{\"attributes\":{\"fill_alpha\":{\"field\":\"fill_alpha\"},\"fill_color\":{\"field\":\"color\"},\"height\":{\"field\":\"height\",\"units\":\"data\"},\"line_color\":{\"field\":\"line_color\"},\"width\":{\"field\":\"width\",\"units\":\"data\"},\"x\":{\"field\":\"x\"},\"y\":{\"field\":\"y\"}},\"id\":\"fc36dd4f-f397-4b13-a32f-128a1cd0d755\",\"type\":\"Rect\"},{\"attributes\":{\"plot\":{\"id\":\"151e6670-6ea1-462b-860d-8411b8f54666\",\"subtype\":\"Chart\",\"type\":\"Plot\"}},\"id\":\"86c17c39-ca69-44b4-9e76-2c7a348c6139\",\"type\":\"PreviewSaveTool\"},{\"attributes\":{\"plot\":{\"id\":\"7f1bd811-eed1-4002-8757-7c097c3d2e4a\",\"subtype\":\"Chart\",\"type\":\"Plot\"}},\"id\":\"ef73f018-7e01-4575-a23d-22ca206cfed5\",\"type\":\"PreviewSaveTool\"},{\"attributes\":{\"data_source\":{\"id\":\"73a2494f-f92c-40f6-8406-212ff5ee03f5\",\"type\":\"ColumnDataSource\"},\"glyph\":{\"id\":\"a3f97217-4be1-45a6-8018-8c80a2e5ee2a\",\"type\":\"Rect\"},\"hover_glyph\":null,\"nonselection_glyph\":null,\"selection_glyph\":null},\"id\":\"ff1bbcb0-cde4-4f5a-9d95-daa7c81fa69c\",\"type\":\"GlyphRenderer\"},{\"attributes\":{\"axis_label\":\"Name\",\"formatter\":{\"id\":\"e603ac69-c4be-484b-9ca1-d650fc0ce8c9\",\"type\":\"CategoricalTickFormatter\"},\"major_label_orientation\":0.7853981633974483,\"plot\":{\"id\":\"151e6670-6ea1-462b-860d-8411b8f54666\",\"subtype\":\"Chart\",\"type\":\"Plot\"},\"ticker\":{\"id\":\"0bb78d93-b0ad-4114-af3f-e8ca80148a0d\",\"type\":\"CategoricalTicker\"}},\"id\":\"5c7d1ea9-5cd0-43d9-bdd2-12901fa35a16\",\"type\":\"CategoricalAxis\"},{\"attributes\":{\"plot\":{\"id\":\"1f041ec7-043c-4c87-b7f7-ed2707dd03cc\",\"subtype\":\"Chart\",\"type\":\"Plot\"}},\"id\":\"71a5de8d-1319-4f4d-9249-acbf4ee599c2\",\"type\":\"ResetTool\"},{\"attributes\":{\"legends\":[[\"tagged\",[{\"id\":\"73eb9591-4aa7-40a3-82e6-c14e8e30e2bf\",\"type\":\"GlyphRenderer\"}]],[\"in_question_body\",[{\"id\":\"9f4af40d-f7ed-4066-8d54-1c4a719c82a7\",\"type\":\"GlyphRenderer\"}]]],\"plot\":{\"id\":\"f6353f8b-83f4-40a3-8d47-3210b358534c\",\"subtype\":\"Chart\",\"type\":\"Plot\"}},\"id\":\"41ddff79-21a8-46d8-957e-10702d394db5\",\"type\":\"Legend\"},{\"attributes\":{\"callback\":null,\"column_names\":[\"line_color\",\"line_alpha\",\"color\",\"fill_alpha\",\"height\",\"width\",\"y\",\"x\"],\"data\":{\"chart_index\":[{\"name\":\"digest\",\"type\":\"in_question_body\"}],\"color\":[\"#f22c40\"],\"fill_alpha\":[0.8],\"height\":[5143.0],\"line_alpha\":[1.0],\"line_color\":[\"white\"],\"name\":[\"digest\"],\"type\":[\"in_question_body\"],\"width\":[0.2],\"x\":[\"digest:0.666666666667\"],\"y\":[2571.5]}},\"id\":\"5fb5cf97-f3a2-4b01-a86f-0ab8ad6dd716\",\"type\":\"ColumnDataSource\"},{\"attributes\":{\"callback\":null,\"factors\":[\"caret\",\"digest\",\"dplyr\",\"ggplot2\",\"magrittr\",\"rcpp\"]},\"id\":\"e73c2620-84b1-4cf3-b242-7ee1018a8b48\",\"type\":\"FactorRange\"},{\"attributes\":{\"fill_alpha\":{\"field\":\"fill_alpha\"},\"fill_color\":{\"field\":\"color\"},\"height\":{\"field\":\"height\",\"units\":\"data\"},\"line_color\":{\"field\":\"line_color\"},\"width\":{\"field\":\"width\",\"units\":\"data\"},\"x\":{\"field\":\"x\"},\"y\":{\"field\":\"y\"}},\"id\":\"fd314e6c-68b2-4ecc-99df-3aa9e0c02bf3\",\"type\":\"Rect\"},{\"attributes\":{\"callback\":null,\"column_names\":[\"line_color\",\"line_alpha\",\"color\",\"fill_alpha\",\"height\",\"width\",\"y\",\"x\"],\"data\":{\"chart_index\":[{\"name\":\"magrittr\",\"type\":\"tagged\"}],\"color\":[\"#5ab738\"],\"fill_alpha\":[0.8],\"height\":[119.0],\"line_alpha\":[1.0],\"line_color\":[\"white\"],\"name\":[\"magrittr\"],\"type\":[\"tagged\"],\"width\":[0.2],\"x\":[\"magrittr:0.333333333333\"],\"y\":[59.5]}},\"id\":\"057c3012-05ce-4b8b-8f66-e8962d98534b\",\"type\":\"ColumnDataSource\"},{\"attributes\":{\"plot\":{\"id\":\"7e3c663f-5581-4f0b-b8c4-70083a389886\",\"subtype\":\"Chart\",\"type\":\"Plot\"}},\"id\":\"e8b2cdd7-30fe-470e-9aed-9ab0636ea74a\",\"type\":\"WheelZoomTool\"},{\"attributes\":{},\"id\":\"47746a24-b567-44b5-b1a4-135e1eec3400\",\"type\":\"ToolEvents\"},{\"attributes\":{\"data_source\":{\"id\":\"08adfd6e-f5a9-4f2f-b9e6-7723d2888b53\",\"type\":\"ColumnDataSource\"},\"glyph\":{\"id\":\"8682fda5-e580-421e-863e-de48038c91c1\",\"type\":\"Rect\"},\"hover_glyph\":null,\"nonselection_glyph\":null,\"selection_glyph\":null},\"id\":\"e014c4c3-e2f8-4109-9cd6-b813cd10c578\",\"type\":\"GlyphRenderer\"},{\"attributes\":{\"data_source\":{\"id\":\"1658af9f-b03f-45d6-ab78-b3962df07b39\",\"type\":\"ColumnDataSource\"},\"glyph\":{\"id\":\"1084f5a2-0208-4935-9cd7-b7ac28147523\",\"type\":\"Rect\"},\"hover_glyph\":null,\"nonselection_glyph\":null,\"selection_glyph\":null},\"id\":\"d6b43566-7b79-46e3-b251-b75b0b160adf\",\"type\":\"GlyphRenderer\"},{\"attributes\":{\"plot\":{\"id\":\"2c43db82-4aca-4f9b-bc0f-a5974c4da3eb\",\"subtype\":\"Chart\",\"type\":\"Plot\"}},\"id\":\"7abfd761-f306-4602-bbde-b6589ec4a886\",\"type\":\"ResizeTool\"},{\"attributes\":{\"callback\":null,\"column_names\":[\"line_color\",\"line_alpha\",\"color\",\"fill_alpha\",\"height\",\"width\",\"y\",\"x\"],\"data\":{\"chart_index\":[{\"name\":\"ggplot\",\"type\":\"in_question_body\"}],\"color\":[\"#f22c40\"],\"fill_alpha\":[0.8],\"height\":[4290.0],\"line_alpha\":[1.0],\"line_color\":[\"white\"],\"name\":[\"ggplot\"],\"type\":[\"in_question_body\"],\"width\":[0.2],\"x\":[\"ggplot:0.666666666667\"],\"y\":[2145.0]}},\"id\":\"6be9fdf4-557d-4643-bc50-19492ce51340\",\"type\":\"ColumnDataSource\"},{\"attributes\":{\"plot\":{\"id\":\"20741ffe-5e2e-478d-b977-42a4db532730\",\"subtype\":\"Chart\",\"type\":\"Plot\"}},\"id\":\"a133019f-32a4-44e5-82d7-644e536555b0\",\"type\":\"ResizeTool\"},{\"attributes\":{\"data_source\":{\"id\":\"99937a81-a1e7-4530-a493-0d430ff66670\",\"type\":\"ColumnDataSource\"},\"glyph\":{\"id\":\"59e94c0b-426a-48dc-886f-c97a7daa1004\",\"type\":\"Rect\"},\"hover_glyph\":null,\"nonselection_glyph\":null,\"selection_glyph\":null},\"id\":\"72321632-9048-494c-b9e2-0de9f8d1659c\",\"type\":\"GlyphRenderer\"},{\"attributes\":{\"fill_alpha\":{\"field\":\"fill_alpha\"},\"fill_color\":{\"field\":\"color\"},\"height\":{\"field\":\"height\",\"units\":\"data\"},\"line_color\":{\"field\":\"line_color\"},\"width\":{\"field\":\"width\",\"units\":\"data\"},\"x\":{\"field\":\"x\"},\"y\":{\"field\":\"y\"}},\"id\":\"eaea2a80-682c-4133-bc55-a65cfecd2f4e\",\"type\":\"Rect\"},{\"attributes\":{\"data_source\":{\"id\":\"8b9d2ffd-9aa0-48d4-8b20-85102d4e6b0b\",\"type\":\"ColumnDataSource\"},\"glyph\":{\"id\":\"57f3c3de-c93b-4d9e-bb29-b45b9e4bad61\",\"type\":\"Rect\"},\"hover_glyph\":null,\"nonselection_glyph\":null,\"selection_glyph\":null},\"id\":\"162fd793-bf7f-4c3c-93a8-c593a7ffa10e\",\"type\":\"GlyphRenderer\"},{\"attributes\":{\"data_source\":{\"id\":\"a1c30522-4b33-4745-8211-fc0f9374c619\",\"type\":\"ColumnDataSource\"},\"glyph\":{\"id\":\"8f828167-ee2b-438d-90bf-97290c714cb7\",\"type\":\"Rect\"},\"hover_glyph\":null,\"nonselection_glyph\":null,\"selection_glyph\":null},\"id\":\"aab55f66-61c2-4a69-9279-233d892e947d\",\"type\":\"GlyphRenderer\"},{\"attributes\":{},\"id\":\"93906bb4-b802-48bb-a0d8-e230535b909c\",\"type\":\"ToolEvents\"},{\"attributes\":{\"fill_alpha\":{\"field\":\"fill_alpha\"},\"fill_color\":{\"field\":\"color\"},\"height\":{\"field\":\"height\",\"units\":\"data\"},\"line_color\":{\"field\":\"line_color\"},\"width\":{\"field\":\"width\",\"units\":\"data\"},\"x\":{\"field\":\"x\"},\"y\":{\"field\":\"y\"}},\"id\":\"7d7b67e4-9ec6-4b15-8a22-fcfe61a61831\",\"type\":\"Rect\"},{\"attributes\":{\"callback\":null,\"column_names\":[\"line_color\",\"line_alpha\",\"color\",\"fill_alpha\",\"height\",\"width\",\"y\",\"x\"],\"data\":{\"chart_index\":[{\"name\":\"dplyr\",\"type\":\"tagged\"}],\"color\":[\"#5ab738\"],\"fill_alpha\":[0.8],\"height\":[4139.0],\"line_alpha\":[1.0],\"line_color\":[\"white\"],\"name\":[\"dplyr\"],\"type\":[\"tagged\"],\"width\":[0.2],\"x\":[\"dplyr:0.333333333333\"],\"y\":[2069.5]}},\"id\":\"79e9ca8d-bd97-4236-ad1e-2b53ee3fcf3e\",\"type\":\"ColumnDataSource\"},{\"attributes\":{\"data_source\":{\"id\":\"ef744af0-6fd0-4752-bf20-78288e07eefa\",\"type\":\"ColumnDataSource\"},\"glyph\":{\"id\":\"32c2542a-e3db-44b7-b02b-e724b3e6334b\",\"type\":\"Rect\"},\"hover_glyph\":null,\"nonselection_glyph\":null,\"selection_glyph\":null},\"id\":\"573996d1-9d14-48dc-8f7a-bc66840da92a\",\"type\":\"GlyphRenderer\"},{\"attributes\":{\"plot\":{\"id\":\"f6353f8b-83f4-40a3-8d47-3210b358534c\",\"subtype\":\"Chart\",\"type\":\"Plot\"}},\"id\":\"f80349e5-cad5-409e-949c-5ddee62366d3\",\"type\":\"WheelZoomTool\"},{\"attributes\":{\"data_source\":{\"id\":\"5d869e64-74df-4e35-b36f-45f48ea96803\",\"type\":\"ColumnDataSource\"},\"glyph\":{\"id\":\"bbce6773-7490-4068-900c-3f93c9153b4c\",\"type\":\"Rect\"},\"hover_glyph\":null,\"nonselection_glyph\":null,\"selection_glyph\":null},\"id\":\"86f9e6df-c6dd-45f2-bb8e-9cd4f7a8d649\",\"type\":\"GlyphRenderer\"},{\"attributes\":{},\"id\":\"534551bc-af1c-44ba-a7ee-2b577c58c855\",\"type\":\"BasicTicker\"},{\"attributes\":{\"fill_alpha\":{\"field\":\"fill_alpha\"},\"fill_color\":{\"field\":\"color\"},\"height\":{\"field\":\"height\",\"units\":\"data\"},\"line_color\":{\"field\":\"line_color\"},\"width\":{\"field\":\"width\",\"units\":\"data\"},\"x\":{\"field\":\"x\"},\"y\":{\"field\":\"y\"}},\"id\":\"59e94c0b-426a-48dc-886f-c97a7daa1004\",\"type\":\"Rect\"},{\"attributes\":{\"axis_label\":\"Day\",\"formatter\":{\"id\":\"8427d288-b3c4-49e2-96d6-0119406c0d69\",\"type\":\"CategoricalTickFormatter\"},\"major_label_orientation\":0.7853981633974483,\"plot\":{\"id\":\"2c43db82-4aca-4f9b-bc0f-a5974c4da3eb\",\"subtype\":\"Chart\",\"type\":\"Plot\"},\"ticker\":{\"id\":\"1c7a2c65-2b16-4c4c-8e54-643a65103a69\",\"type\":\"CategoricalTicker\"}},\"id\":\"45400d01-ef2d-4f4d-acfd-4d831a029777\",\"type\":\"CategoricalAxis\"},{\"attributes\":{\"callback\":null,\"column_names\":[\"line_color\",\"line_alpha\",\"color\",\"fill_alpha\",\"height\",\"width\",\"y\",\"x\"],\"data\":{\"chart_index\":[{\"name\":\"digest\",\"type\":\"tagged\"}],\"color\":[\"#5ab738\"],\"fill_alpha\":[0.8],\"height\":[383.0],\"line_alpha\":[1.0],\"line_color\":[\"white\"],\"name\":[\"digest\"],\"type\":[\"tagged\"],\"width\":[0.2],\"x\":[\"digest:0.333333333333\"],\"y\":[191.5]}},\"id\":\"8cb2f91e-74c5-4603-b87d-846aa60dde34\",\"type\":\"ColumnDataSource\"},{\"attributes\":{\"callback\":null,\"column_names\":[\"line_color\",\"line_alpha\",\"color\",\"fill_alpha\",\"height\",\"width\",\"y\",\"x\"],\"data\":{\"chart_index\":[{\"days\":\"Wednesday\"}],\"color\":[\"#f22c40\"],\"days\":[\"Wednesday\"],\"fill_alpha\":[0.8],\"height\":[5.0],\"line_alpha\":[1.0],\"line_color\":[\"white\"],\"width\":[0.8],\"x\":[\"Wednesday\"],\"y\":[2.5]}},\"id\":\"99937a81-a1e7-4530-a493-0d430ff66670\",\"type\":\"ColumnDataSource\"},{\"attributes\":{\"fill_alpha\":{\"field\":\"fill_alpha\"},\"fill_color\":{\"field\":\"color\"},\"height\":{\"field\":\"height\",\"units\":\"data\"},\"line_color\":{\"field\":\"line_color\"},\"width\":{\"field\":\"width\",\"units\":\"data\"},\"x\":{\"field\":\"x\"},\"y\":{\"field\":\"y\"}},\"id\":\"3a5840a8-487d-4a3b-922b-6b434e2d8aee\",\"type\":\"Rect\"},{\"attributes\":{},\"id\":\"e256abac-e7d1-4eaf-8a75-3b4e53c23ca7\",\"type\":\"CategoricalTicker\"},{\"attributes\":{\"axis_label\":\"Name\",\"formatter\":{\"id\":\"4c21c566-1fd1-4653-924b-d974cd5b2f09\",\"type\":\"CategoricalTickFormatter\"},\"major_label_orientation\":0.7853981633974483,\"plot\":{\"id\":\"20741ffe-5e2e-478d-b977-42a4db532730\",\"subtype\":\"Chart\",\"type\":\"Plot\"},\"ticker\":{\"id\":\"24fd1e74-fc4d-44cb-9dc1-ca2453100ad5\",\"type\":\"CategoricalTicker\"}},\"id\":\"a7f64aed-15a4-4e30-b2b3-b4047407abd7\",\"type\":\"CategoricalAxis\"},{\"attributes\":{\"plot\":{\"id\":\"f6353f8b-83f4-40a3-8d47-3210b358534c\",\"subtype\":\"Chart\",\"type\":\"Plot\"}},\"id\":\"5b1a4ea9-2d85-4743-afcb-350be20498a5\",\"type\":\"PanTool\"},{\"attributes\":{\"fill_alpha\":{\"field\":\"fill_alpha\"},\"fill_color\":{\"field\":\"color\"},\"height\":{\"field\":\"height\",\"units\":\"data\"},\"line_color\":{\"field\":\"line_color\"},\"width\":{\"field\":\"width\",\"units\":\"data\"},\"x\":{\"field\":\"x\"},\"y\":{\"field\":\"y\"}},\"id\":\"971b5ef2-0e65-4651-84ac-e9ddabcc5c50\",\"type\":\"Rect\"},{\"attributes\":{\"callback\":null,\"column_names\":[\"line_color\",\"line_alpha\",\"color\",\"fill_alpha\",\"height\",\"width\",\"y\",\"x\"],\"data\":{\"chart_index\":[{\"name\":\"ggplot2\",\"type\":\"in_question_body\"}],\"color\":[\"#f22c40\"],\"fill_alpha\":[0.8],\"height\":[4829.0],\"line_alpha\":[1.0],\"line_color\":[\"white\"],\"name\":[\"ggplot2\"],\"type\":[\"in_question_body\"],\"width\":[0.2],\"x\":[\"ggplot2:0.666666666667\"],\"y\":[2414.5]}},\"id\":\"5027e9d1-9f22-46cd-8c50-56314d5c0a23\",\"type\":\"ColumnDataSource\"},{\"attributes\":{\"callback\":null,\"column_names\":[\"line_color\",\"line_alpha\",\"color\",\"fill_alpha\",\"height\",\"width\",\"y\",\"x\"],\"data\":{\"chart_index\":[{\"name\":\"caret\",\"type\":\"in_question_body\"}],\"color\":[\"#f22c40\"],\"fill_alpha\":[0.8],\"height\":[3989.0],\"line_alpha\":[1.0],\"line_color\":[\"white\"],\"name\":[\"caret\"],\"type\":[\"in_question_body\"],\"width\":[0.2],\"x\":[\"caret:0.666666666667\"],\"y\":[1994.5]}},\"id\":\"521f362d-6e53-4750-819b-54a60ff5a3df\",\"type\":\"ColumnDataSource\"},{\"attributes\":{},\"id\":\"01f54080-b5da-4f65-b772-d1da7376aee2\",\"type\":\"BasicTickFormatter\"},{\"attributes\":{\"callback\":null,\"column_names\":[\"line_color\",\"line_alpha\",\"color\",\"fill_alpha\",\"height\",\"width\",\"y\",\"x\"],\"data\":{\"chart_index\":[{\"name\":\"dplyr\",\"type\":\"in_question_body\"}],\"color\":[\"#f22c40\"],\"fill_alpha\":[0.8],\"height\":[2020.0],\"line_alpha\":[1.0],\"line_color\":[\"white\"],\"name\":[\"dplyr\"],\"type\":[\"in_question_body\"],\"width\":[0.2],\"x\":[\"dplyr:0.666666666667\"],\"y\":[1010.0]}},\"id\":\"0d815641-9e55-424b-82d3-0db978ce33bc\",\"type\":\"ColumnDataSource\"},{\"attributes\":{\"data_source\":{\"id\":\"6382b026-4637-412a-81c3-d06955b5e548\",\"type\":\"ColumnDataSource\"},\"glyph\":{\"id\":\"99f3fce6-6105-447a-a2a1-5544fde5df12\",\"type\":\"Rect\"},\"hover_glyph\":null,\"nonselection_glyph\":null,\"selection_glyph\":null},\"id\":\"092ab48d-d398-4f81-97cc-0509dc5634db\",\"type\":\"GlyphRenderer\"},{\"attributes\":{\"data_source\":{\"id\":\"462f9208-a3e3-4c27-82f2-e51eaa183b1c\",\"type\":\"ColumnDataSource\"},\"glyph\":{\"id\":\"4e2e0a52-b08a-4808-9beb-36bd4007ef39\",\"type\":\"Rect\"},\"hover_glyph\":null,\"nonselection_glyph\":null,\"selection_glyph\":null},\"id\":\"32310c37-cd59-48a5-8d09-e20f8f0a58e1\",\"type\":\"GlyphRenderer\"},{\"attributes\":{\"callback\":null,\"column_names\":[\"line_color\",\"line_alpha\",\"color\",\"fill_alpha\",\"height\",\"width\",\"y\",\"x\"],\"data\":{\"chart_index\":[{\"name\":\"dplyr\",\"type\":\"in_question_body\"}],\"color\":[\"#f22c40\"],\"fill_alpha\":[0.8],\"height\":[2020.0],\"line_alpha\":[1.0],\"line_color\":[\"white\"],\"name\":[\"dplyr\"],\"type\":[\"in_question_body\"],\"width\":[0.2],\"x\":[\"dplyr:0.666666666667\"],\"y\":[1010.0]}},\"id\":\"b2b91ff2-468b-44e8-b97e-2fac9d0a23a4\",\"type\":\"ColumnDataSource\"},{\"attributes\":{\"callback\":null,\"column_names\":[\"line_color\",\"line_alpha\",\"color\",\"fill_alpha\",\"height\",\"width\",\"y\",\"x\"],\"data\":{\"chart_index\":[{\"name\":\"caret\",\"type\":\"tagged\"}],\"color\":[\"#5ab738\"],\"fill_alpha\":[0.8],\"height\":[556.0],\"line_alpha\":[1.0],\"line_color\":[\"white\"],\"name\":[\"caret\"],\"type\":[\"tagged\"],\"width\":[0.2],\"x\":[\"caret:0.333333333333\"],\"y\":[278.0]}},\"id\":\"84afef88-c62a-47a7-bab6-66cba1133447\",\"type\":\"ColumnDataSource\"},{\"attributes\":{\"data_source\":{\"id\":\"9d756f05-9396-4d50-8e39-f64721a12b38\",\"type\":\"ColumnDataSource\"},\"glyph\":{\"id\":\"34673b2e-34eb-4bf2-bbf3-4bede87f14af\",\"type\":\"Rect\"},\"hover_glyph\":null,\"nonselection_glyph\":null,\"selection_glyph\":null},\"id\":\"f37da99e-46cf-4172-95e7-2b5d47291e46\",\"type\":\"GlyphRenderer\"},{\"attributes\":{\"data_source\":{\"id\":\"38036548-fbc9-46e1-bc4c-199fbbc79242\",\"type\":\"ColumnDataSource\"},\"glyph\":{\"id\":\"b6240add-96b4-4515-85b9-682748f3c3d9\",\"type\":\"Rect\"},\"hover_glyph\":null,\"nonselection_glyph\":null,\"selection_glyph\":null},\"id\":\"13e701ac-71fc-405e-9a10-b2667f388eea\",\"type\":\"GlyphRenderer\"},{\"attributes\":{\"callback\":null,\"column_names\":[\"line_color\",\"line_alpha\",\"color\",\"fill_alpha\",\"height\",\"width\",\"y\",\"x\"],\"data\":{\"chart_index\":[{\"days\":\"Sunday\"}],\"color\":[\"#f22c40\"],\"days\":[\"Sunday\"],\"fill_alpha\":[0.8],\"height\":[2.0],\"line_alpha\":[1.0],\"line_color\":[\"white\"],\"width\":[0.8],\"x\":[\"Sunday\"],\"y\":[1.0]}},\"id\":\"08adfd6e-f5a9-4f2f-b9e6-7723d2888b53\",\"type\":\"ColumnDataSource\"},{\"attributes\":{\"fill_alpha\":{\"field\":\"fill_alpha\"},\"fill_color\":{\"field\":\"color\"},\"height\":{\"field\":\"height\",\"units\":\"data\"},\"line_color\":{\"field\":\"line_color\"},\"width\":{\"field\":\"width\",\"units\":\"data\"},\"x\":{\"field\":\"x\"},\"y\":{\"field\":\"y\"}},\"id\":\"2feff73e-d4f3-4e66-a0cb-b9b90a15ea68\",\"type\":\"Rect\"},{\"attributes\":{\"fill_alpha\":{\"field\":\"fill_alpha\"},\"fill_color\":{\"field\":\"color\"},\"height\":{\"field\":\"height\",\"units\":\"data\"},\"line_color\":{\"field\":\"line_color\"},\"width\":{\"field\":\"width\",\"units\":\"data\"},\"x\":{\"field\":\"x\"},\"y\":{\"field\":\"y\"}},\"id\":\"33fb1145-0cf8-44e1-b886-c26124b4bff8\",\"type\":\"Rect\"},{\"attributes\":{\"axis_label\":\"Name\",\"formatter\":{\"id\":\"778d1c7f-dfc4-45be-a9ae-f6d126270da4\",\"type\":\"CategoricalTickFormatter\"},\"major_label_orientation\":0.7853981633974483,\"plot\":{\"id\":\"7e3c663f-5581-4f0b-b8c4-70083a389886\",\"subtype\":\"Chart\",\"type\":\"Plot\"},\"ticker\":{\"id\":\"e256abac-e7d1-4eaf-8a75-3b4e53c23ca7\",\"type\":\"CategoricalTicker\"}},\"id\":\"ce2c7bc4-56f5-4b45-a34b-d9f851ee7891\",\"type\":\"CategoricalAxis\"},{\"attributes\":{\"axis_label\":\"Sum( Count )\",\"formatter\":{\"id\":\"2b1fc9ce-f328-45c6-b3fb-399ea83ab159\",\"type\":\"BasicTickFormatter\"},\"plot\":{\"id\":\"20741ffe-5e2e-478d-b977-42a4db532730\",\"subtype\":\"Chart\",\"type\":\"Plot\"},\"ticker\":{\"id\":\"d28bedb5-f460-467c-a865-05ec2ed1b51f\",\"type\":\"BasicTicker\"}},\"id\":\"e60ecd4e-6e15-4b1e-aa57-9c271a74c86a\",\"type\":\"LinearAxis\"},{\"attributes\":{\"callback\":null,\"column_names\":[\"line_color\",\"line_alpha\",\"color\",\"fill_alpha\",\"height\",\"width\",\"y\",\"x\"],\"data\":{\"chart_index\":[{\"name\":\"ggplot2\",\"type\":\"tagged\"}],\"color\":[\"#5ab738\"],\"fill_alpha\":[0.8],\"height\":[14962.0],\"line_alpha\":[1.0],\"line_color\":[\"white\"],\"name\":[\"ggplot2\"],\"type\":[\"tagged\"],\"width\":[0.2],\"x\":[\"ggplot2:0.333333333333\"],\"y\":[7481.0]}},\"id\":\"71f0c083-5751-42c8-8cd2-661ca89fc673\",\"type\":\"ColumnDataSource\"},{\"attributes\":{\"axis_label\":\"Sum( Count )\",\"formatter\":{\"id\":\"02df684b-ca6c-4837-b258-b13a3319995b\",\"type\":\"BasicTickFormatter\"},\"plot\":{\"id\":\"f6353f8b-83f4-40a3-8d47-3210b358534c\",\"subtype\":\"Chart\",\"type\":\"Plot\"},\"ticker\":{\"id\":\"badcaae2-6288-499a-89ea-b845fbd13652\",\"type\":\"BasicTicker\"}},\"id\":\"49dac14b-a2e0-41d7-8531-1a8ff434e490\",\"type\":\"LinearAxis\"},{\"attributes\":{\"fill_alpha\":{\"field\":\"fill_alpha\"},\"fill_color\":{\"field\":\"color\"},\"height\":{\"field\":\"height\",\"units\":\"data\"},\"line_color\":{\"field\":\"line_color\"},\"width\":{\"field\":\"width\",\"units\":\"data\"},\"x\":{\"field\":\"x\"},\"y\":{\"field\":\"y\"}},\"id\":\"faa0a818-1a74-45e4-8e71-f54948ad5279\",\"type\":\"Rect\"},{\"attributes\":{\"bottom_units\":\"screen\",\"fill_alpha\":{\"value\":0.5},\"fill_color\":{\"value\":\"lightgrey\"},\"left_units\":\"screen\",\"level\":\"overlay\",\"line_alpha\":{\"value\":1.0},\"line_color\":{\"value\":\"black\"},\"line_dash\":[4,4],\"line_width\":{\"value\":2},\"plot\":null,\"render_mode\":\"css\",\"right_units\":\"screen\",\"top_units\":\"screen\"},\"id\":\"cd79446f-10e9-424b-9f70-086fc4e61db2\",\"type\":\"BoxAnnotation\"},{\"attributes\":{\"callback\":null,\"column_names\":[\"line_color\",\"line_alpha\",\"color\",\"fill_alpha\",\"height\",\"width\",\"y\",\"x\"],\"data\":{\"chart_index\":[{\"name\":\"rcpp\",\"type\":\"in_question_body\"}],\"color\":[\"#f22c40\"],\"fill_alpha\":[0.8],\"height\":[1006.0],\"line_alpha\":[1.0],\"line_color\":[\"white\"],\"name\":[\"rcpp\"],\"type\":[\"in_question_body\"],\"width\":[0.2],\"x\":[\"rcpp:0.666666666667\"],\"y\":[503.0]}},\"id\":\"38036548-fbc9-46e1-bc4c-199fbbc79242\",\"type\":\"ColumnDataSource\"},{\"attributes\":{},\"id\":\"9fea5735-be49-4adb-bf7d-0aa1514d0044\",\"type\":\"CategoricalTicker\"},{\"attributes\":{\"fill_alpha\":{\"field\":\"fill_alpha\"},\"fill_color\":{\"field\":\"color\"},\"height\":{\"field\":\"height\",\"units\":\"data\"},\"line_color\":{\"field\":\"line_color\"},\"width\":{\"field\":\"width\",\"units\":\"data\"},\"x\":{\"field\":\"x\"},\"y\":{\"field\":\"y\"}},\"id\":\"bb87665b-61a9-4ab4-89f6-f3e3c139ab76\",\"type\":\"Rect\"},{\"attributes\":{\"callback\":null,\"column_names\":[\"line_color\",\"line_alpha\",\"color\",\"fill_alpha\",\"height\",\"width\",\"y\",\"x\"],\"data\":{\"chart_index\":[{\"name\":\"rcpp\",\"type\":\"in_question_body\"}],\"color\":[\"#f22c40\"],\"fill_alpha\":[0.8],\"height\":[1006.0],\"line_alpha\":[1.0],\"line_color\":[\"white\"],\"name\":[\"rcpp\"],\"type\":[\"in_question_body\"],\"width\":[0.2],\"x\":[\"rcpp:0.666666666667\"],\"y\":[503.0]}},\"id\":\"6e91f912-cdf5-47a1-9552-651a44a84af1\",\"type\":\"ColumnDataSource\"},{\"attributes\":{\"callback\":null,\"column_names\":[\"line_color\",\"line_alpha\",\"color\",\"fill_alpha\",\"height\",\"width\",\"y\",\"x\"],\"data\":{\"chart_index\":[{\"name\":\"magrittr\",\"type\":\"tagged\"}],\"color\":[\"#5ab738\"],\"fill_alpha\":[0.8],\"height\":[119.0],\"line_alpha\":[1.0],\"line_color\":[\"white\"],\"name\":[\"magrittr\"],\"type\":[\"tagged\"],\"width\":[0.2],\"x\":[\"magrittr:0.333333333333\"],\"y\":[59.5]}},\"id\":\"69933222-0740-4c00-8807-4019431c4a71\",\"type\":\"ColumnDataSource\"},{\"attributes\":{\"fill_alpha\":{\"field\":\"fill_alpha\"},\"fill_color\":{\"field\":\"color\"},\"height\":{\"field\":\"height\",\"units\":\"data\"},\"line_color\":{\"field\":\"line_color\"},\"width\":{\"field\":\"width\",\"units\":\"data\"},\"x\":{\"field\":\"x\"},\"y\":{\"field\":\"y\"}},\"id\":\"93e3b3c6-33fb-4542-8ea3-dc08b460ecff\",\"type\":\"Rect\"},{\"attributes\":{\"fill_alpha\":{\"field\":\"fill_alpha\"},\"fill_color\":{\"field\":\"color\"},\"height\":{\"field\":\"height\",\"units\":\"data\"},\"line_color\":{\"field\":\"line_color\"},\"width\":{\"field\":\"width\",\"units\":\"data\"},\"x\":{\"field\":\"x\"},\"y\":{\"field\":\"y\"}},\"id\":\"4ab7b92e-9bee-43ef-b0d6-9d9420af1daa\",\"type\":\"Rect\"},{\"attributes\":{\"callback\":null,\"column_names\":[\"line_color\",\"line_alpha\",\"color\",\"fill_alpha\",\"height\",\"width\",\"y\",\"x\"],\"data\":{\"chart_index\":[{\"name\":\"ggplot2\",\"type\":\"in_question_body\"}],\"color\":[\"#f22c40\"],\"fill_alpha\":[0.8],\"height\":[4829.0],\"line_alpha\":[1.0],\"line_color\":[\"white\"],\"name\":[\"ggplot2\"],\"type\":[\"in_question_body\"],\"width\":[0.2],\"x\":[\"ggplot2:0.666666666667\"],\"y\":[2414.5]}},\"id\":\"8a124dc2-37bd-4c84-a358-d4e2c93ea4d5\",\"type\":\"ColumnDataSource\"},{\"attributes\":{\"callback\":null,\"column_names\":[\"line_color\",\"line_alpha\",\"color\",\"fill_alpha\",\"height\",\"width\",\"y\",\"x\"],\"data\":{\"chart_index\":[{\"name\":\"rcpp\",\"type\":\"tagged\"}],\"color\":[\"#5ab738\"],\"fill_alpha\":[0.8],\"height\":[1266.0],\"line_alpha\":[1.0],\"line_color\":[\"white\"],\"name\":[\"rcpp\"],\"type\":[\"tagged\"],\"width\":[0.2],\"x\":[\"rcpp:0.333333333333\"],\"y\":[633.0]}},\"id\":\"c66b6468-ff0f-4959-b6a3-ae27173b731f\",\"type\":\"ColumnDataSource\"},{\"attributes\":{\"fill_alpha\":{\"field\":\"fill_alpha\"},\"fill_color\":{\"field\":\"color\"},\"height\":{\"field\":\"height\",\"units\":\"data\"},\"line_color\":{\"field\":\"line_color\"},\"width\":{\"field\":\"width\",\"units\":\"data\"},\"x\":{\"field\":\"x\"},\"y\":{\"field\":\"y\"}},\"id\":\"57488390-336b-457e-9060-6684a6f2343c\",\"type\":\"Rect\"},{\"attributes\":{\"plot\":{\"id\":\"20741ffe-5e2e-478d-b977-42a4db532730\",\"subtype\":\"Chart\",\"type\":\"Plot\"}},\"id\":\"092b48fa-005a-4ead-a198-5354ef6d0a46\",\"type\":\"WheelZoomTool\"},{\"attributes\":{\"axis_label\":\"Sum( Count )\",\"formatter\":{\"id\":\"01f54080-b5da-4f65-b772-d1da7376aee2\",\"type\":\"BasicTickFormatter\"},\"plot\":{\"id\":\"7f1bd811-eed1-4002-8757-7c097c3d2e4a\",\"subtype\":\"Chart\",\"type\":\"Plot\"},\"ticker\":{\"id\":\"534551bc-af1c-44ba-a7ee-2b577c58c855\",\"type\":\"BasicTicker\"}},\"id\":\"0e6fdd24-d438-4fcf-b3ed-93f220889f72\",\"type\":\"LinearAxis\"},{\"attributes\":{\"axis_label\":\"Name\",\"formatter\":{\"id\":\"e6cb0070-13ad-4db4-885f-d2dedc6ce351\",\"type\":\"CategoricalTickFormatter\"},\"major_label_orientation\":0.7853981633974483,\"plot\":{\"id\":\"1f041ec7-043c-4c87-b7f7-ed2707dd03cc\",\"subtype\":\"Chart\",\"type\":\"Plot\"},\"ticker\":{\"id\":\"63aab40b-a764-4abe-9425-24e45c7f20d6\",\"type\":\"CategoricalTicker\"}},\"id\":\"3b782bc7-b9c8-429d-8771-b42ab188bd7e\",\"type\":\"CategoricalAxis\"},{\"attributes\":{\"callback\":null,\"factors\":[\"ggplot2\",\"digest\",\"dplyr\",\"caret\",\"rcpp\",\"magrittr\"]},\"id\":\"14cb14c7-bf0c-47d7-88aa-ff5d7fd2901f\",\"type\":\"FactorRange\"},{\"attributes\":{\"data_source\":{\"id\":\"9b428b7d-8320-4289-9f69-c5221e548b5d\",\"type\":\"ColumnDataSource\"},\"glyph\":{\"id\":\"24c1caa1-7f15-4b15-a698-ab2faa8bb0fa\",\"type\":\"Rect\"},\"hover_glyph\":null,\"nonselection_glyph\":null,\"selection_glyph\":null},\"id\":\"16b11690-522d-427c-9ee5-9c97a8c3390e\",\"type\":\"GlyphRenderer\"},{\"attributes\":{\"data_source\":{\"id\":\"521f362d-6e53-4750-819b-54a60ff5a3df\",\"type\":\"ColumnDataSource\"},\"glyph\":{\"id\":\"2a2ea2b6-4d31-48dc-875a-2cba05b9908e\",\"type\":\"Rect\"},\"hover_glyph\":null,\"nonselection_glyph\":null,\"selection_glyph\":null},\"id\":\"c642c1dc-bd19-4c8f-9996-7c24927cac6e\",\"type\":\"GlyphRenderer\"},{\"attributes\":{\"plot\":{\"id\":\"1f041ec7-043c-4c87-b7f7-ed2707dd03cc\",\"subtype\":\"Chart\",\"type\":\"Plot\"}},\"id\":\"42671e32-b083-4197-a91d-b022ffb442e1\",\"type\":\"HelpTool\"},{\"attributes\":{\"data_source\":{\"id\":\"a8923ec1-0928-46dc-92db-131961b477d6\",\"type\":\"ColumnDataSource\"},\"glyph\":{\"id\":\"f7583676-44dd-4e7f-bb68-4b58b028c87f\",\"type\":\"Rect\"},\"hover_glyph\":null,\"nonselection_glyph\":null,\"selection_glyph\":null},\"id\":\"a2cb57e5-2cde-4ab1-ab78-8109a28cabfa\",\"type\":\"GlyphRenderer\"},{\"attributes\":{\"callback\":null,\"column_names\":[\"line_color\",\"line_alpha\",\"color\",\"fill_alpha\",\"height\",\"width\",\"y\",\"x\"],\"data\":{\"chart_index\":[{\"name\":\"magrittr\",\"type\":\"in_question_body\"}],\"color\":[\"#f22c40\"],\"fill_alpha\":[0.8],\"height\":[58.0],\"line_alpha\":[1.0],\"line_color\":[\"white\"],\"name\":[\"magrittr\"],\"type\":[\"in_question_body\"],\"width\":[0.2],\"x\":[\"magrittr:0.666666666667\"],\"y\":[29.0]}},\"id\":\"d9565e21-dab1-41a0-8588-b1f7127c417d\",\"type\":\"ColumnDataSource\"},{\"attributes\":{\"callback\":null,\"column_names\":[\"line_color\",\"line_alpha\",\"color\",\"fill_alpha\",\"height\",\"width\",\"y\",\"x\"],\"data\":{\"chart_index\":[{\"name\":\"magrittr\",\"type\":\"in_question_body\"}],\"color\":[\"#f22c40\"],\"fill_alpha\":[0.8],\"height\":[58.0],\"line_alpha\":[1.0],\"line_color\":[\"white\"],\"name\":[\"magrittr\"],\"type\":[\"in_question_body\"],\"width\":[0.2],\"x\":[\"magrittr:0.666666666667\"],\"y\":[29.0]}},\"id\":\"e6a4c473-94ff-485c-96cb-226aeba45f4d\",\"type\":\"ColumnDataSource\"},{\"attributes\":{\"callback\":null,\"column_names\":[\"line_color\",\"line_alpha\",\"color\",\"fill_alpha\",\"height\",\"width\",\"y\",\"x\"],\"data\":{\"chart_index\":[{\"name\":\"magrittr\",\"type\":\"in_question_body\"}],\"color\":[\"#f22c40\"],\"fill_alpha\":[0.8],\"height\":[58.0],\"line_alpha\":[1.0],\"line_color\":[\"white\"],\"name\":[\"magrittr\"],\"type\":[\"in_question_body\"],\"width\":[0.2],\"x\":[\"magrittr:0.666666666667\"],\"y\":[29.0]}},\"id\":\"462f9208-a3e3-4c27-82f2-e51eaa183b1c\",\"type\":\"ColumnDataSource\"},{\"attributes\":{\"plot\":{\"id\":\"2c43db82-4aca-4f9b-bc0f-a5974c4da3eb\",\"subtype\":\"Chart\",\"type\":\"Plot\"}},\"id\":\"c855d999-177a-4ebd-a5a5-edb1cac11263\",\"type\":\"WheelZoomTool\"},{\"attributes\":{\"callback\":null,\"column_names\":[\"line_color\",\"line_alpha\",\"color\",\"fill_alpha\",\"height\",\"width\",\"y\",\"x\"],\"data\":{\"chart_index\":[{\"name\":\"ggplot2\",\"type\":\"tagged\"}],\"color\":[\"#5ab738\"],\"fill_alpha\":[0.8],\"height\":[14962.0],\"line_alpha\":[1.0],\"line_color\":[\"white\"],\"name\":[\"ggplot2\"],\"type\":[\"tagged\"],\"width\":[0.2],\"x\":[\"ggplot2:0.333333333333\"],\"y\":[7481.0]}},\"id\":\"972e0702-68ae-40bb-822e-01bd057275a7\",\"type\":\"ColumnDataSource\"},{\"attributes\":{\"data_source\":{\"id\":\"c6678e42-7ea5-4988-8875-4f5d00ffa18f\",\"type\":\"ColumnDataSource\"},\"glyph\":{\"id\":\"93e3b3c6-33fb-4542-8ea3-dc08b460ecff\",\"type\":\"Rect\"},\"hover_glyph\":null,\"nonselection_glyph\":null,\"selection_glyph\":null},\"id\":\"814b4af3-97e4-4d95-bf87-122452fc7dc1\",\"type\":\"GlyphRenderer\"},{\"attributes\":{\"data_source\":{\"id\":\"0d815641-9e55-424b-82d3-0db978ce33bc\",\"type\":\"ColumnDataSource\"},\"glyph\":{\"id\":\"d0989615-6087-4fce-8d64-733969852e44\",\"type\":\"Rect\"},\"hover_glyph\":null,\"nonselection_glyph\":null,\"selection_glyph\":null},\"id\":\"5b3fd258-ff0b-4abc-8480-cbc074352d52\",\"type\":\"GlyphRenderer\"},{\"attributes\":{\"data_source\":{\"id\":\"3121ca0d-8f5c-4209-8be1-b5d70745bf4d\",\"type\":\"ColumnDataSource\"},\"glyph\":{\"id\":\"603cf66f-68c1-4102-b4ec-171c4d58cb6e\",\"type\":\"Rect\"},\"hover_glyph\":null,\"nonselection_glyph\":null,\"selection_glyph\":null},\"id\":\"ac4ecc68-6a68-4214-bacd-f3d050eefbd7\",\"type\":\"GlyphRenderer\"},{\"attributes\":{\"data_source\":{\"id\":\"0dd3111f-c978-4268-b5e0-cbaf70ef6538\",\"type\":\"ColumnDataSource\"},\"glyph\":{\"id\":\"e56b8da0-1123-42f9-bf42-8ccb8412c345\",\"type\":\"Rect\"},\"hover_glyph\":null,\"nonselection_glyph\":null,\"selection_glyph\":null},\"id\":\"6b0ec8ea-378b-4b7f-91c1-fbee03ea3ff4\",\"type\":\"GlyphRenderer\"},{\"attributes\":{\"bottom_units\":\"screen\",\"fill_alpha\":{\"value\":0.5},\"fill_color\":{\"value\":\"lightgrey\"},\"left_units\":\"screen\",\"level\":\"overlay\",\"line_alpha\":{\"value\":1.0},\"line_color\":{\"value\":\"black\"},\"line_dash\":[4,4],\"line_width\":{\"value\":2},\"plot\":null,\"render_mode\":\"css\",\"right_units\":\"screen\",\"top_units\":\"screen\"},\"id\":\"8f70315f-8b02-4bb8-a2dc-baeb0093df9b\",\"type\":\"BoxAnnotation\"},{\"attributes\":{\"callback\":null,\"column_names\":[\"line_color\",\"line_alpha\",\"color\",\"fill_alpha\",\"height\",\"width\",\"y\",\"x\"],\"data\":{\"chart_index\":[{\"name\":\"caret\",\"type\":\"in_question_body\"}],\"color\":[\"#f22c40\"],\"fill_alpha\":[0.8],\"height\":[3989.0],\"line_alpha\":[1.0],\"line_color\":[\"white\"],\"name\":[\"caret\"],\"type\":[\"in_question_body\"],\"width\":[0.2],\"x\":[\"caret:0.666666666667\"],\"y\":[1994.5]}},\"id\":\"9f745377-6990-44d1-9047-bfac4c074a84\",\"type\":\"ColumnDataSource\"},{\"attributes\":{\"plot\":{\"id\":\"f6353f8b-83f4-40a3-8d47-3210b358534c\",\"subtype\":\"Chart\",\"type\":\"Plot\"}},\"id\":\"7d85352e-4024-4968-a951-987aab56c269\",\"type\":\"HelpTool\"},{\"attributes\":{\"data_source\":{\"id\":\"c02ac229-91ce-4570-9ce2-3ac6423581fb\",\"type\":\"ColumnDataSource\"},\"glyph\":{\"id\":\"b4413de2-05de-485b-97b0-876055b7a07c\",\"type\":\"Rect\"},\"hover_glyph\":null,\"nonselection_glyph\":null,\"selection_glyph\":null},\"id\":\"c7d8c7f8-887b-4613-af63-0f2ec86064bf\",\"type\":\"GlyphRenderer\"},{\"attributes\":{\"callback\":null,\"column_names\":[\"line_color\",\"line_alpha\",\"color\",\"fill_alpha\",\"height\",\"width\",\"y\",\"x\"],\"data\":{\"chart_index\":[{\"name\":\"dplyr\",\"type\":\"tagged\"}],\"color\":[\"#5ab738\"],\"fill_alpha\":[0.8],\"height\":[4139.0],\"line_alpha\":[1.0],\"line_color\":[\"white\"],\"name\":[\"dplyr\"],\"type\":[\"tagged\"],\"width\":[0.2],\"x\":[\"dplyr:0.333333333333\"],\"y\":[2069.5]}},\"id\":\"7315fc26-b5cd-489c-9a2e-bb6ddd34b218\",\"type\":\"ColumnDataSource\"},{\"attributes\":{\"bottom_units\":\"screen\",\"fill_alpha\":{\"value\":0.5},\"fill_color\":{\"value\":\"lightgrey\"},\"left_units\":\"screen\",\"level\":\"overlay\",\"line_alpha\":{\"value\":1.0},\"line_color\":{\"value\":\"black\"},\"line_dash\":[4,4],\"line_width\":{\"value\":2},\"plot\":null,\"render_mode\":\"css\",\"right_units\":\"screen\",\"top_units\":\"screen\"},\"id\":\"88e590a5-c2dc-4b71-b59f-b553a5bebcea\",\"type\":\"BoxAnnotation\"},{\"attributes\":{\"data_source\":{\"id\":\"e6a4c473-94ff-485c-96cb-226aeba45f4d\",\"type\":\"ColumnDataSource\"},\"glyph\":{\"id\":\"e7bb5d68-7d8a-4102-8c2c-d259ff0369d2\",\"type\":\"Rect\"},\"hover_glyph\":null,\"nonselection_glyph\":null,\"selection_glyph\":null},\"id\":\"1566b725-45c5-4eb7-be46-6d4cef243b24\",\"type\":\"GlyphRenderer\"},{\"attributes\":{\"below\":[{\"id\":\"c7d8de5d-212a-4ebd-b2be-20dbe699656c\",\"type\":\"CategoricalAxis\"}],\"left\":[{\"id\":\"49dac14b-a2e0-41d7-8531-1a8ff434e490\",\"type\":\"LinearAxis\"}],\"legend\":\"top_right\",\"renderers\":[{\"id\":\"204928f1-8f2e-4447-8728-3e3c4269f2f8\",\"type\":\"BoxAnnotation\"},{\"id\":\"73eb9591-4aa7-40a3-82e6-c14e8e30e2bf\",\"type\":\"GlyphRenderer\"},{\"id\":\"9f4af40d-f7ed-4066-8d54-1c4a719c82a7\",\"type\":\"GlyphRenderer\"},{\"id\":\"9e77c2b6-96f5-4dad-b312-90c7a9b6971f\",\"type\":\"GlyphRenderer\"},{\"id\":\"a2cb57e5-2cde-4ab1-ab78-8109a28cabfa\",\"type\":\"GlyphRenderer\"},{\"id\":\"fd12c993-acd1-4bbb-a027-2a9f7453308e\",\"type\":\"GlyphRenderer\"},{\"id\":\"cbbf0e67-a48b-4c92-947b-74613771c8b8\",\"type\":\"GlyphRenderer\"},{\"id\":\"b855a271-f338-47fb-8eb1-f2c4c1bce257\",\"type\":\"GlyphRenderer\"},{\"id\":\"45b6f667-72ce-4e31-b750-aa71648e77d1\",\"type\":\"GlyphRenderer\"},{\"id\":\"ff1bbcb0-cde4-4f5a-9d95-daa7c81fa69c\",\"type\":\"GlyphRenderer\"},{\"id\":\"b9315fdf-b5f4-4a51-8353-519c9547124b\",\"type\":\"GlyphRenderer\"},{\"id\":\"162fd793-bf7f-4c3c-93a8-c593a7ffa10e\",\"type\":\"GlyphRenderer\"},{\"id\":\"d2e8e65a-cd90-4e88-80d1-c8922936d148\",\"type\":\"GlyphRenderer\"},{\"id\":\"41ddff79-21a8-46d8-957e-10702d394db5\",\"type\":\"Legend\"},{\"id\":\"c7d8de5d-212a-4ebd-b2be-20dbe699656c\",\"type\":\"CategoricalAxis\"},{\"id\":\"49dac14b-a2e0-41d7-8531-1a8ff434e490\",\"type\":\"LinearAxis\"},{\"id\":\"61f25e0a-0a81-4f11-a099-3468922ffb26\",\"type\":\"Grid\"}],\"title\":\"PKGS FTW!\",\"title_text_font_size\":{\"value\":\"14pt\"},\"tool_events\":{\"id\":\"9f5009c3-2575-471f-8fa4-1a8fb405ece4\",\"type\":\"ToolEvents\"},\"tools\":[{\"id\":\"5b1a4ea9-2d85-4743-afcb-350be20498a5\",\"type\":\"PanTool\"},{\"id\":\"f80349e5-cad5-409e-949c-5ddee62366d3\",\"type\":\"WheelZoomTool\"},{\"id\":\"d3e29130-2915-4c07-acb2-e296cfb90585\",\"type\":\"BoxZoomTool\"},{\"id\":\"05c280ed-fa3f-41a5-b6a5-4b97d2a99a7b\",\"type\":\"PreviewSaveTool\"},{\"id\":\"9dfa06be-372e-4f27-8aa6-052fd15132d3\",\"type\":\"ResizeTool\"},{\"id\":\"75cbf18c-dd66-4820-ab07-26abf90b8351\",\"type\":\"ResetTool\"},{\"id\":\"7d85352e-4024-4968-a951-987aab56c269\",\"type\":\"HelpTool\"}],\"x_mapper_type\":\"auto\",\"x_range\":{\"id\":\"64c995aa-19a7-45a5-b934-5a5dbbf9e7d0\",\"type\":\"FactorRange\"},\"xgrid\":false,\"xscale\":\"auto\",\"y_mapper_type\":\"auto\",\"y_range\":{\"id\":\"9b32615f-7dca-444e-9c76-bbfc26dfb128\",\"type\":\"Range1d\"},\"yscale\":\"auto\"},\"id\":\"f6353f8b-83f4-40a3-8d47-3210b358534c\",\"subtype\":\"Chart\",\"type\":\"Plot\"},{\"attributes\":{\"data_source\":{\"id\":\"141836ec-4241-4c1b-a476-95d974ad537d\",\"type\":\"ColumnDataSource\"},\"glyph\":{\"id\":\"db84a796-f61b-4630-b433-45d7d70953c9\",\"type\":\"Rect\"},\"hover_glyph\":null,\"nonselection_glyph\":null,\"selection_glyph\":null},\"id\":\"0490f308-d173-4a90-836e-5ff4cda2a4f0\",\"type\":\"GlyphRenderer\"},{\"attributes\":{\"data_source\":{\"id\":\"a07f0fb4-f6e9-4265-9c42-a564380f77f9\",\"type\":\"ColumnDataSource\"},\"glyph\":{\"id\":\"21c8d220-9ad1-46a5-8e12-9d275665c56b\",\"type\":\"Rect\"},\"hover_glyph\":null,\"nonselection_glyph\":null,\"selection_glyph\":null},\"id\":\"88b54cf0-9d2b-40e2-b5aa-f1d1d78e5d03\",\"type\":\"GlyphRenderer\"},{\"attributes\":{\"plot\":{\"id\":\"2c43db82-4aca-4f9b-bc0f-a5974c4da3eb\",\"subtype\":\"Chart\",\"type\":\"Plot\"}},\"id\":\"87651288-8ff8-4361-bed6-d689abc96cda\",\"type\":\"ResetTool\"},{\"attributes\":{\"callback\":null,\"column_names\":[\"line_color\",\"line_alpha\",\"color\",\"fill_alpha\",\"height\",\"width\",\"y\",\"x\"],\"data\":{\"chart_index\":[{\"name\":\"magrittr\",\"type\":\"tagged\"}],\"color\":[\"#5ab738\"],\"fill_alpha\":[0.8],\"height\":[119.0],\"line_alpha\":[1.0],\"line_color\":[\"white\"],\"name\":[\"magrittr\"],\"type\":[\"tagged\"],\"width\":[0.2],\"x\":[\"magrittr:0.333333333333\"],\"y\":[59.5]}},\"id\":\"9a82edcf-0c5b-4fc0-a2bf-50ffd8fe8023\",\"type\":\"ColumnDataSource\"},{\"attributes\":{\"callback\":null,\"column_names\":[\"line_color\",\"line_alpha\",\"color\",\"fill_alpha\",\"height\",\"width\",\"y\",\"x\"],\"data\":{\"chart_index\":[{\"name\":\"ggplot2\",\"type\":\"in_question_body\"}],\"color\":[\"#f22c40\"],\"fill_alpha\":[0.8],\"height\":[4829.0],\"line_alpha\":[1.0],\"line_color\":[\"white\"],\"name\":[\"ggplot2\"],\"type\":[\"in_question_body\"],\"width\":[0.2],\"x\":[\"ggplot2:0.666666666667\"],\"y\":[2414.5]}},\"id\":\"a8aad7b0-96e0-41a4-8146-9c33f6a53b39\",\"type\":\"ColumnDataSource\"},{\"attributes\":{\"callback\":null,\"column_names\":[\"line_color\",\"line_alpha\",\"color\",\"fill_alpha\",\"height\",\"width\",\"y\",\"x\"],\"data\":{\"chart_index\":[{\"name\":\"dplyr\",\"type\":\"in_question_body\"}],\"color\":[\"#f22c40\"],\"fill_alpha\":[0.8],\"height\":[2020.0],\"line_alpha\":[1.0],\"line_color\":[\"white\"],\"name\":[\"dplyr\"],\"type\":[\"in_question_body\"],\"width\":[0.2],\"x\":[\"dplyr:0.666666666667\"],\"y\":[1010.0]}},\"id\":\"3d6413d1-59a6-4c83-a141-8f8921fc0247\",\"type\":\"ColumnDataSource\"},{\"attributes\":{},\"id\":\"45a1b586-e42a-4808-97ef-9b793ce29cf6\",\"type\":\"BasicTickFormatter\"},{\"attributes\":{\"callback\":null,\"column_names\":[\"line_color\",\"line_alpha\",\"color\",\"fill_alpha\",\"height\",\"width\",\"y\",\"x\"],\"data\":{\"chart_index\":[{\"name\":\"ggplot2\",\"type\":\"tagged\"}],\"color\":[\"#5ab738\"],\"fill_alpha\":[0.8],\"height\":[14962.0],\"line_alpha\":[1.0],\"line_color\":[\"white\"],\"name\":[\"ggplot2\"],\"type\":[\"tagged\"],\"width\":[0.2],\"x\":[\"ggplot2:0.333333333333\"],\"y\":[7481.0]}},\"id\":\"00552a69-332c-4d15-ac55-8d168edc5d30\",\"type\":\"ColumnDataSource\"},{\"attributes\":{\"data_source\":{\"id\":\"00552a69-332c-4d15-ac55-8d168edc5d30\",\"type\":\"ColumnDataSource\"},\"glyph\":{\"id\":\"b154b91d-fa49-40fc-8afb-9dc02d802139\",\"type\":\"Rect\"},\"hover_glyph\":null,\"nonselection_glyph\":null,\"selection_glyph\":null},\"id\":\"c0635aa0-6d4d-45e2-b950-e188cb5a3bb5\",\"type\":\"GlyphRenderer\"},{\"attributes\":{\"data_source\":{\"id\":\"383a3cc4-f7b9-40fd-b4b4-ce3e32dcb878\",\"type\":\"ColumnDataSource\"},\"glyph\":{\"id\":\"9a48672a-2571-48f9-9d76-83b466ecf551\",\"type\":\"Rect\"},\"hover_glyph\":null,\"nonselection_glyph\":null,\"selection_glyph\":null},\"id\":\"5c3f1b40-54ac-4511-8bf1-dfc5d22d9e4e\",\"type\":\"GlyphRenderer\"},{\"attributes\":{},\"id\":\"63aab40b-a764-4abe-9425-24e45c7f20d6\",\"type\":\"CategoricalTicker\"},{\"attributes\":{\"fill_alpha\":{\"field\":\"fill_alpha\"},\"fill_color\":{\"field\":\"color\"},\"height\":{\"field\":\"height\",\"units\":\"data\"},\"line_color\":{\"field\":\"line_color\"},\"width\":{\"field\":\"width\",\"units\":\"data\"},\"x\":{\"field\":\"x\"},\"y\":{\"field\":\"y\"}},\"id\":\"2a2ea2b6-4d31-48dc-875a-2cba05b9908e\",\"type\":\"Rect\"},{\"attributes\":{\"fill_alpha\":{\"field\":\"fill_alpha\"},\"fill_color\":{\"field\":\"color\"},\"height\":{\"field\":\"height\",\"units\":\"data\"},\"line_color\":{\"field\":\"line_color\"},\"width\":{\"field\":\"width\",\"units\":\"data\"},\"x\":{\"field\":\"x\"},\"y\":{\"field\":\"y\"}},\"id\":\"64fbd4bb-4db5-4280-bbe8-ebb3c76b134e\",\"type\":\"Rect\"},{\"attributes\":{\"plot\":{\"id\":\"7e3c663f-5581-4f0b-b8c4-70083a389886\",\"subtype\":\"Chart\",\"type\":\"Plot\"}},\"id\":\"96bb2828-cb3a-4712-ad49-58d707daccb1\",\"type\":\"HelpTool\"},{\"attributes\":{\"fill_alpha\":{\"field\":\"fill_alpha\"},\"fill_color\":{\"field\":\"color\"},\"height\":{\"field\":\"height\",\"units\":\"data\"},\"line_color\":{\"field\":\"line_color\"},\"width\":{\"field\":\"width\",\"units\":\"data\"},\"x\":{\"field\":\"x\"},\"y\":{\"field\":\"y\"}},\"id\":\"46fca817-9ca7-4704-9736-fb8a07b83740\",\"type\":\"Rect\"},{\"attributes\":{\"callback\":null,\"column_names\":[\"line_color\",\"line_alpha\",\"color\",\"fill_alpha\",\"height\",\"width\",\"y\",\"x\"],\"data\":{\"chart_index\":[{\"name\":\"dplyr\",\"type\":\"tagged\"}],\"color\":[\"#5ab738\"],\"fill_alpha\":[0.8],\"height\":[4139.0],\"line_alpha\":[1.0],\"line_color\":[\"white\"],\"name\":[\"dplyr\"],\"type\":[\"tagged\"],\"width\":[0.2],\"x\":[\"dplyr:0.333333333333\"],\"y\":[2069.5]}},\"id\":\"a07f0fb4-f6e9-4265-9c42-a564380f77f9\",\"type\":\"ColumnDataSource\"},{\"attributes\":{\"data_source\":{\"id\":\"5fb5cf97-f3a2-4b01-a86f-0ab8ad6dd716\",\"type\":\"ColumnDataSource\"},\"glyph\":{\"id\":\"ecfabdc0-dfd4-46e7-86af-dd56fa031f41\",\"type\":\"Rect\"},\"hover_glyph\":null,\"nonselection_glyph\":null,\"selection_glyph\":null},\"id\":\"29fb5fef-2491-416a-8d56-40070309deaa\",\"type\":\"GlyphRenderer\"},{\"attributes\":{\"data_source\":{\"id\":\"77b4dd95-285f-4d03-8f92-fcd2e49ef4f3\",\"type\":\"ColumnDataSource\"},\"glyph\":{\"id\":\"2feff73e-d4f3-4e66-a0cb-b9b90a15ea68\",\"type\":\"Rect\"},\"hover_glyph\":null,\"nonselection_glyph\":null,\"selection_glyph\":null},\"id\":\"0d3dcaec-cac4-4bd0-8a7d-c62a0f049ee7\",\"type\":\"GlyphRenderer\"},{\"attributes\":{\"callback\":null,\"column_names\":[\"line_color\",\"line_alpha\",\"color\",\"fill_alpha\",\"height\",\"width\",\"y\",\"x\"],\"data\":{\"chart_index\":[{\"name\":\"ggplot2\",\"type\":\"tagged\"}],\"color\":[\"#5ab738\"],\"fill_alpha\":[0.8],\"height\":[14962.0],\"line_alpha\":[1.0],\"line_color\":[\"white\"],\"name\":[\"ggplot2\"],\"type\":[\"tagged\"],\"width\":[0.2],\"x\":[\"ggplot2:0.333333333333\"],\"y\":[7481.0]}},\"id\":\"93113eb2-381e-4831-9400-faa587235053\",\"type\":\"ColumnDataSource\"},{\"attributes\":{\"plot\":{\"id\":\"7e3c663f-5581-4f0b-b8c4-70083a389886\",\"subtype\":\"Chart\",\"type\":\"Plot\"}},\"id\":\"536edd22-b55c-445a-a081-6c236a1e11dd\",\"type\":\"ResizeTool\"},{\"attributes\":{\"fill_alpha\":{\"field\":\"fill_alpha\"},\"fill_color\":{\"field\":\"color\"},\"height\":{\"field\":\"height\",\"units\":\"data\"},\"line_color\":{\"field\":\"line_color\"},\"width\":{\"field\":\"width\",\"units\":\"data\"},\"x\":{\"field\":\"x\"},\"y\":{\"field\":\"y\"}},\"id\":\"f8b5228f-dc3e-4d8c-b657-15cd33c3205a\",\"type\":\"Rect\"},{\"attributes\":{\"data_source\":{\"id\":\"1091ba1e-e527-437d-96da-b9f863793925\",\"type\":\"ColumnDataSource\"},\"glyph\":{\"id\":\"ca78c036-397f-40ff-8a3c-b549809775dd\",\"type\":\"Rect\"},\"hover_glyph\":null,\"nonselection_glyph\":null,\"selection_glyph\":null},\"id\":\"84fc14d4-8f11-45ac-9835-1a4c1e2ae465\",\"type\":\"GlyphRenderer\"},{\"attributes\":{\"data_source\":{\"id\":\"b2b91ff2-468b-44e8-b97e-2fac9d0a23a4\",\"type\":\"ColumnDataSource\"},\"glyph\":{\"id\":\"dbc54b69-1320-4648-923e-fde622a60a98\",\"type\":\"Rect\"},\"hover_glyph\":null,\"nonselection_glyph\":null,\"selection_glyph\":null},\"id\":\"65e83ff0-3feb-4838-af88-039dce555df9\",\"type\":\"GlyphRenderer\"},{\"attributes\":{\"fill_alpha\":{\"field\":\"fill_alpha\"},\"fill_color\":{\"field\":\"color\"},\"height\":{\"field\":\"height\",\"units\":\"data\"},\"line_color\":{\"field\":\"line_color\"},\"width\":{\"field\":\"width\",\"units\":\"data\"},\"x\":{\"field\":\"x\"},\"y\":{\"field\":\"y\"}},\"id\":\"e7bb5d68-7d8a-4102-8c2c-d259ff0369d2\",\"type\":\"Rect\"},{\"attributes\":{},\"id\":\"86e04ff5-105b-4d04-9e17-8b44206916f6\",\"type\":\"BasicTicker\"},{\"attributes\":{\"data_source\":{\"id\":\"144e8e36-b20a-45c1-893b-f19844ac1869\",\"type\":\"ColumnDataSource\"},\"glyph\":{\"id\":\"97979d97-6b6a-44da-a7b8-4b5bc85829e7\",\"type\":\"Rect\"},\"hover_glyph\":null,\"nonselection_glyph\":null,\"selection_glyph\":null},\"id\":\"c99704a1-a539-4ae6-af57-5d3ac14c220c\",\"type\":\"GlyphRenderer\"},{\"attributes\":{\"data_source\":{\"id\":\"93113eb2-381e-4831-9400-faa587235053\",\"type\":\"ColumnDataSource\"},\"glyph\":{\"id\":\"f2c76722-8e6e-4f76-b461-2ee097730ff0\",\"type\":\"Rect\"},\"hover_glyph\":null,\"nonselection_glyph\":null,\"selection_glyph\":null},\"id\":\"3f615a4c-2c7e-4450-88e6-e193ccbc2e9e\",\"type\":\"GlyphRenderer\"},{\"attributes\":{\"callback\":null,\"column_names\":[\"line_color\",\"line_alpha\",\"color\",\"fill_alpha\",\"height\",\"width\",\"y\",\"x\"],\"data\":{\"chart_index\":[{\"name\":\"dplyr\",\"type\":\"in_question_body\"}],\"color\":[\"#f22c40\"],\"fill_alpha\":[0.8],\"height\":[2020.0],\"line_alpha\":[1.0],\"line_color\":[\"white\"],\"name\":[\"dplyr\"],\"type\":[\"in_question_body\"],\"width\":[0.2],\"x\":[\"dplyr:0.666666666667\"],\"y\":[1010.0]}},\"id\":\"a5db960a-d51e-4979-86fb-2793aa391cbe\",\"type\":\"ColumnDataSource\"},{\"attributes\":{\"callback\":null,\"column_names\":[\"line_color\",\"line_alpha\",\"color\",\"fill_alpha\",\"height\",\"width\",\"y\",\"x\"],\"data\":{\"chart_index\":[{\"name\":\"magrittr\",\"type\":\"tagged\"}],\"color\":[\"#5ab738\"],\"fill_alpha\":[0.8],\"height\":[119.0],\"line_alpha\":[1.0],\"line_color\":[\"white\"],\"name\":[\"magrittr\"],\"type\":[\"tagged\"],\"width\":[0.2],\"x\":[\"magrittr:0.333333333333\"],\"y\":[59.5]}},\"id\":\"a84dd95b-6020-4721-91cb-cc40981da9a0\",\"type\":\"ColumnDataSource\"},{\"attributes\":{\"callback\":null,\"column_names\":[\"line_color\",\"line_alpha\",\"color\",\"fill_alpha\",\"height\",\"width\",\"y\",\"x\"],\"data\":{\"chart_index\":[{\"name\":\"magrittr\",\"type\":\"tagged\"}],\"color\":[\"#5ab738\"],\"fill_alpha\":[0.8],\"height\":[119.0],\"line_alpha\":[1.0],\"line_color\":[\"white\"],\"name\":[\"magrittr\"],\"type\":[\"tagged\"],\"width\":[0.2],\"x\":[\"magrittr:0.333333333333\"],\"y\":[59.5]}},\"id\":\"ad27be0d-6fad-4d73-80d7-8ad55668f240\",\"type\":\"ColumnDataSource\"},{\"attributes\":{\"data_source\":{\"id\":\"ea077629-06e5-4a18-ba0f-b16e3bda6475\",\"type\":\"ColumnDataSource\"},\"glyph\":{\"id\":\"46fca817-9ca7-4704-9736-fb8a07b83740\",\"type\":\"Rect\"},\"hover_glyph\":null,\"nonselection_glyph\":null,\"selection_glyph\":null},\"id\":\"e536ab4b-4afe-477e-a83e-298fc2570846\",\"type\":\"GlyphRenderer\"},{\"attributes\":{\"callback\":null,\"column_names\":[\"line_color\",\"line_alpha\",\"color\",\"fill_alpha\",\"height\",\"width\",\"y\",\"x\"],\"data\":{\"chart_index\":[{\"name\":\"caret\",\"type\":\"tagged\"}],\"color\":[\"#5ab738\"],\"fill_alpha\":[0.8],\"height\":[556.0],\"line_alpha\":[1.0],\"line_color\":[\"white\"],\"name\":[\"caret\"],\"type\":[\"tagged\"],\"width\":[0.2],\"x\":[\"caret:0.333333333333\"],\"y\":[278.0]}},\"id\":\"73a2494f-f92c-40f6-8406-212ff5ee03f5\",\"type\":\"ColumnDataSource\"},{\"attributes\":{\"data_source\":{\"id\":\"71f0c083-5751-42c8-8cd2-661ca89fc673\",\"type\":\"ColumnDataSource\"},\"glyph\":{\"id\":\"b9bf9963-6a97-4455-b2f2-11f356c4b5b9\",\"type\":\"Rect\"},\"hover_glyph\":null,\"nonselection_glyph\":null,\"selection_glyph\":null},\"id\":\"13e1dd32-ce04-4193-aeb8-fe21b46fbd26\",\"type\":\"GlyphRenderer\"},{\"attributes\":{\"callback\":null,\"column_names\":[\"line_color\",\"line_alpha\",\"color\",\"fill_alpha\",\"height\",\"width\",\"y\",\"x\"],\"data\":{\"chart_index\":[{\"name\":\"caret\",\"type\":\"tagged\"}],\"color\":[\"#5ab738\"],\"fill_alpha\":[0.8],\"height\":[556.0],\"line_alpha\":[1.0],\"line_color\":[\"white\"],\"name\":[\"caret\"],\"type\":[\"tagged\"],\"width\":[0.2],\"x\":[\"caret:0.333333333333\"],\"y\":[278.0]}},\"id\":\"0b92256e-e989-422e-8d5b-77e548859650\",\"type\":\"ColumnDataSource\"},{\"attributes\":{\"callback\":null,\"column_names\":[\"line_color\",\"line_alpha\",\"color\",\"fill_alpha\",\"height\",\"width\",\"y\",\"x\"],\"data\":{\"chart_index\":[{\"days\":\"Friday\"}],\"color\":[\"#f22c40\"],\"days\":[\"Friday\"],\"fill_alpha\":[0.8],\"height\":[7.0],\"line_alpha\":[1.0],\"line_color\":[\"white\"],\"width\":[0.8],\"x\":[\"Friday\"],\"y\":[3.5]}},\"id\":\"5eb3c972-3227-4a21-a6eb-aed937686504\",\"type\":\"ColumnDataSource\"},{\"attributes\":{\"callback\":null,\"column_names\":[\"line_color\",\"line_alpha\",\"color\",\"fill_alpha\",\"height\",\"width\",\"y\",\"x\"],\"data\":{\"chart_index\":[{\"name\":\"rcpp\",\"type\":\"tagged\"}],\"color\":[\"#5ab738\"],\"fill_alpha\":[0.8],\"height\":[1266.0],\"line_alpha\":[1.0],\"line_color\":[\"white\"],\"name\":[\"rcpp\"],\"type\":[\"tagged\"],\"width\":[0.2],\"x\":[\"rcpp:0.333333333333\"],\"y\":[633.0]}},\"id\":\"5eccbf06-9312-4d8c-bdbc-d13bacc10e9f\",\"type\":\"ColumnDataSource\"},{\"attributes\":{\"fill_alpha\":{\"field\":\"fill_alpha\"},\"fill_color\":{\"field\":\"color\"},\"height\":{\"field\":\"height\",\"units\":\"data\"},\"line_color\":{\"field\":\"line_color\"},\"width\":{\"field\":\"width\",\"units\":\"data\"},\"x\":{\"field\":\"x\"},\"y\":{\"field\":\"y\"}},\"id\":\"926fdea7-f882-4997-b9e3-00c316b74bf2\",\"type\":\"Rect\"},{\"attributes\":{\"data_source\":{\"id\":\"ae7b1bf2-e62d-4e4c-84d0-b1ef642ad37c\",\"type\":\"ColumnDataSource\"},\"glyph\":{\"id\":\"6451bdf8-672f-43ad-a75c-1087afacdbee\",\"type\":\"Rect\"},\"hover_glyph\":null,\"nonselection_glyph\":null,\"selection_glyph\":null},\"id\":\"45e92734-946a-4080-b80d-bbb6fcc36b25\",\"type\":\"GlyphRenderer\"},{\"attributes\":{\"callback\":null,\"factors\":[\"ggplot2\",\"dplyr\",\"rcpp\",\"caret\",\"digest\",\"magrittr\",\"ggplot\"]},\"id\":\"45c9856f-8a25-4aa2-9d2e-e162fb465328\",\"type\":\"FactorRange\"},{\"attributes\":{\"callback\":null,\"factors\":[\"ggplot2\",\"dplyr\",\"rcpp\",\"caret\",\"digest\",\"magrittr\"]},\"id\":\"9941fd97-e2db-4d06-8046-c17f2fe8a4e1\",\"type\":\"FactorRange\"},{\"attributes\":{\"data_source\":{\"id\":\"327f68e5-4a9d-4b97-9aa4-9b236557079d\",\"type\":\"ColumnDataSource\"},\"glyph\":{\"id\":\"8a68a9f1-bc77-4a39-9bfc-b0fff54fd640\",\"type\":\"Rect\"},\"hover_glyph\":null,\"nonselection_glyph\":null,\"selection_glyph\":null},\"id\":\"fd12c993-acd1-4bbb-a027-2a9f7453308e\",\"type\":\"GlyphRenderer\"},{\"attributes\":{\"data_source\":{\"id\":\"69933222-0740-4c00-8807-4019431c4a71\",\"type\":\"ColumnDataSource\"},\"glyph\":{\"id\":\"750d98c1-af2d-497e-a7c7-a04992c6aae1\",\"type\":\"Rect\"},\"hover_glyph\":null,\"nonselection_glyph\":null,\"selection_glyph\":null},\"id\":\"22613ba1-104e-47f7-bf3f-17e219f3ace7\",\"type\":\"GlyphRenderer\"},{\"attributes\":{\"plot\":{\"id\":\"7f1bd811-eed1-4002-8757-7c097c3d2e4a\",\"subtype\":\"Chart\",\"type\":\"Plot\"}},\"id\":\"ee402558-0024-477d-9ba5-a55629b91f83\",\"type\":\"HelpTool\"},{\"attributes\":{\"callback\":null,\"column_names\":[\"line_color\",\"line_alpha\",\"color\",\"fill_alpha\",\"height\",\"width\",\"y\",\"x\"],\"data\":{\"chart_index\":[{\"name\":\"magrittr\",\"type\":\"tagged\"}],\"color\":[\"#5ab738\"],\"fill_alpha\":[0.8],\"height\":[119.0],\"line_alpha\":[1.0],\"line_color\":[\"white\"],\"name\":[\"magrittr\"],\"type\":[\"tagged\"],\"width\":[0.2],\"x\":[\"magrittr:0.333333333333\"],\"y\":[59.5]}},\"id\":\"601e83c6-f523-470b-a9af-87d56cff7777\",\"type\":\"ColumnDataSource\"},{\"attributes\":{\"fill_alpha\":{\"field\":\"fill_alpha\"},\"fill_color\":{\"field\":\"color\"},\"height\":{\"field\":\"height\",\"units\":\"data\"},\"line_color\":{\"field\":\"line_color\"},\"width\":{\"field\":\"width\",\"units\":\"data\"},\"x\":{\"field\":\"x\"},\"y\":{\"field\":\"y\"}},\"id\":\"10fbe14c-685d-4419-b2ea-3ed6283323d6\",\"type\":\"Rect\"},{\"attributes\":{\"below\":[{\"id\":\"ce2c7bc4-56f5-4b45-a34b-d9f851ee7891\",\"type\":\"CategoricalAxis\"}],\"left\":[{\"id\":\"a53df523-60e7-489d-a4f1-2202264dc74a\",\"type\":\"LinearAxis\"}],\"legend\":\"top_right\",\"renderers\":[{\"id\":\"645064c5-b6e0-4b55-98d7-2b8ac09e05ef\",\"type\":\"BoxAnnotation\"},{\"id\":\"3f615a4c-2c7e-4450-88e6-e193ccbc2e9e\",\"type\":\"GlyphRenderer\"},{\"id\":\"88b54cf0-9d2b-40e2-b5aa-f1d1d78e5d03\",\"type\":\"GlyphRenderer\"},{\"id\":\"d6b43566-7b79-46e3-b251-b75b0b160adf\",\"type\":\"GlyphRenderer\"},{\"id\":\"38d57fe2-5619-4495-9d4d-4aadf9a4af43\",\"type\":\"GlyphRenderer\"},{\"id\":\"6d711560-195b-41d2-9aa2-ec9b1a6f831a\",\"type\":\"GlyphRenderer\"},{\"id\":\"19d786c6-c0c8-4f56-8bf8-20be4e0a67a5\",\"type\":\"GlyphRenderer\"},{\"id\":\"ffbcd01b-4f8d-4f6a-8ec7-b17dfae8aa64\",\"type\":\"GlyphRenderer\"},{\"id\":\"a2a7dbed-1465-484d-8b40-dfa5a55e5484\",\"type\":\"GlyphRenderer\"},{\"id\":\"b2e0fd4e-be86-4a10-9917-61f1a3842b45\",\"type\":\"GlyphRenderer\"},{\"id\":\"6b0ec8ea-378b-4b7f-91c1-fbee03ea3ff4\",\"type\":\"GlyphRenderer\"},{\"id\":\"026faf04-0f3a-48f1-a35e-51c4e95c1d9a\",\"type\":\"GlyphRenderer\"},{\"id\":\"32310c37-cd59-48a5-8d09-e20f8f0a58e1\",\"type\":\"GlyphRenderer\"},{\"id\":\"e85fe06e-088a-41b8-998e-0809ce306947\",\"type\":\"Legend\"},{\"id\":\"ce2c7bc4-56f5-4b45-a34b-d9f851ee7891\",\"type\":\"CategoricalAxis\"},{\"id\":\"a53df523-60e7-489d-a4f1-2202264dc74a\",\"type\":\"LinearAxis\"},{\"id\":\"cba3ea9f-e0ec-46c0-a567-3c644f1d0fc6\",\"type\":\"Grid\"}],\"title\":\"PKGS FTW!\",\"title_text_font_size\":{\"value\":\"14pt\"},\"tool_events\":{\"id\":\"c37dd768-2c0e-489c-ab67-65ef58df4bd4\",\"type\":\"ToolEvents\"},\"tools\":[{\"id\":\"6213fed8-a833-4c26-ba20-deaafa5e9869\",\"type\":\"PanTool\"},{\"id\":\"e8b2cdd7-30fe-470e-9aed-9ab0636ea74a\",\"type\":\"WheelZoomTool\"},{\"id\":\"712fa2fc-38bd-4e83-81e1-c67836708a47\",\"type\":\"BoxZoomTool\"},{\"id\":\"b3ba5150-1c6c-4ca0-92f6-7da5d9575128\",\"type\":\"PreviewSaveTool\"},{\"id\":\"536edd22-b55c-445a-a081-6c236a1e11dd\",\"type\":\"ResizeTool\"},{\"id\":\"692fb974-95c4-4953-8394-0833ec166746\",\"type\":\"ResetTool\"},{\"id\":\"96bb2828-cb3a-4712-ad49-58d707daccb1\",\"type\":\"HelpTool\"}],\"x_mapper_type\":\"auto\",\"x_range\":{\"id\":\"9941fd97-e2db-4d06-8046-c17f2fe8a4e1\",\"type\":\"FactorRange\"},\"xgrid\":false,\"xscale\":\"auto\",\"y_mapper_type\":\"auto\",\"y_range\":{\"id\":\"65ee5e27-14dc-4f5e-955e-0593ba648227\",\"type\":\"Range1d\"},\"yscale\":\"auto\"},\"id\":\"7e3c663f-5581-4f0b-b8c4-70083a389886\",\"subtype\":\"Chart\",\"type\":\"Plot\"},{\"attributes\":{\"fill_alpha\":{\"field\":\"fill_alpha\"},\"fill_color\":{\"field\":\"color\"},\"height\":{\"field\":\"height\",\"units\":\"data\"},\"line_color\":{\"field\":\"line_color\"},\"width\":{\"field\":\"width\",\"units\":\"data\"},\"x\":{\"field\":\"x\"},\"y\":{\"field\":\"y\"}},\"id\":\"47d270d6-a570-43ca-bac8-c0713f543d83\",\"type\":\"Rect\"},{\"attributes\":{\"fill_alpha\":{\"field\":\"fill_alpha\"},\"fill_color\":{\"field\":\"color\"},\"height\":{\"field\":\"height\",\"units\":\"data\"},\"line_color\":{\"field\":\"line_color\"},\"width\":{\"field\":\"width\",\"units\":\"data\"},\"x\":{\"field\":\"x\"},\"y\":{\"field\":\"y\"}},\"id\":\"05802b51-14e7-4ac9-9859-b11081df041f\",\"type\":\"Rect\"},{\"attributes\":{\"bottom_units\":\"screen\",\"fill_alpha\":{\"value\":0.5},\"fill_color\":{\"value\":\"lightgrey\"},\"left_units\":\"screen\",\"level\":\"overlay\",\"line_alpha\":{\"value\":1.0},\"line_color\":{\"value\":\"black\"},\"line_dash\":[4,4],\"line_width\":{\"value\":2},\"plot\":null,\"render_mode\":\"css\",\"right_units\":\"screen\",\"top_units\":\"screen\"},\"id\":\"9f51eed1-8da0-48a1-b1ab-183d0842a38b\",\"type\":\"BoxAnnotation\"},{\"attributes\":{\"fill_alpha\":{\"field\":\"fill_alpha\"},\"fill_color\":{\"field\":\"color\"},\"height\":{\"field\":\"height\",\"units\":\"data\"},\"line_color\":{\"field\":\"line_color\"},\"width\":{\"field\":\"width\",\"units\":\"data\"},\"x\":{\"field\":\"x\"},\"y\":{\"field\":\"y\"}},\"id\":\"5f37cd87-7154-477f-92ff-72c074355677\",\"type\":\"Rect\"},{\"attributes\":{\"data_source\":{\"id\":\"457f1a88-e928-41e6-b95d-e07e011a635c\",\"type\":\"ColumnDataSource\"},\"glyph\":{\"id\":\"67808361-e981-4f9f-90f6-2e423f107e7c\",\"type\":\"Rect\"},\"hover_glyph\":null,\"nonselection_glyph\":null,\"selection_glyph\":null},\"id\":\"54f21432-c4d6-4423-bc92-2bfd82f4f8f9\",\"type\":\"GlyphRenderer\"},{\"attributes\":{\"data_source\":{\"id\":\"8cb2f91e-74c5-4603-b87d-846aa60dde34\",\"type\":\"ColumnDataSource\"},\"glyph\":{\"id\":\"57b99ca7-0a64-4f2a-94df-711f070944c5\",\"type\":\"Rect\"},\"hover_glyph\":null,\"nonselection_glyph\":null,\"selection_glyph\":null},\"id\":\"b9315fdf-b5f4-4a51-8353-519c9547124b\",\"type\":\"GlyphRenderer\"},{\"attributes\":{\"callback\":null,\"column_names\":[\"line_color\",\"line_alpha\",\"color\",\"fill_alpha\",\"height\",\"width\",\"y\",\"x\"],\"data\":{\"chart_index\":[{\"name\":\"digest\",\"type\":\"in_question_body\"}],\"color\":[\"#f22c40\"],\"fill_alpha\":[0.8],\"height\":[5143.0],\"line_alpha\":[1.0],\"line_color\":[\"white\"],\"name\":[\"digest\"],\"type\":[\"in_question_body\"],\"width\":[0.2],\"x\":[\"digest:0.666666666667\"],\"y\":[2571.5]}},\"id\":\"a93791e3-dc0e-4d77-9cb2-c76b98448e15\",\"type\":\"ColumnDataSource\"},{\"attributes\":{\"plot\":{\"id\":\"20741ffe-5e2e-478d-b977-42a4db532730\",\"subtype\":\"Chart\",\"type\":\"Plot\"}},\"id\":\"69ef8cb7-d8a0-4ae1-90c0-376d7e1d7dfb\",\"type\":\"HelpTool\"},{\"attributes\":{\"fill_alpha\":{\"field\":\"fill_alpha\"},\"fill_color\":{\"field\":\"color\"},\"height\":{\"field\":\"height\",\"units\":\"data\"},\"line_color\":{\"field\":\"line_color\"},\"width\":{\"field\":\"width\",\"units\":\"data\"},\"x\":{\"field\":\"x\"},\"y\":{\"field\":\"y\"}},\"id\":\"e56b8da0-1123-42f9-bf42-8ccb8412c345\",\"type\":\"Rect\"},{\"attributes\":{\"callback\":null,\"column_names\":[\"line_color\",\"line_alpha\",\"color\",\"fill_alpha\",\"height\",\"width\",\"y\",\"x\"],\"data\":{\"chart_index\":[{\"name\":\"dplyr\",\"type\":\"tagged\"}],\"color\":[\"#5ab738\"],\"fill_alpha\":[0.8],\"height\":[4139.0],\"line_alpha\":[1.0],\"line_color\":[\"white\"],\"name\":[\"dplyr\"],\"type\":[\"tagged\"],\"width\":[0.2],\"x\":[\"dplyr:0.333333333333\"],\"y\":[2069.5]}},\"id\":\"a8923ec1-0928-46dc-92db-131961b477d6\",\"type\":\"ColumnDataSource\"},{\"attributes\":{\"fill_alpha\":{\"field\":\"fill_alpha\"},\"fill_color\":{\"field\":\"color\"},\"height\":{\"field\":\"height\",\"units\":\"data\"},\"line_color\":{\"field\":\"line_color\"},\"width\":{\"field\":\"width\",\"units\":\"data\"},\"x\":{\"field\":\"x\"},\"y\":{\"field\":\"y\"}},\"id\":\"bdce4c34-3268-477a-9840-f934e6560af8\",\"type\":\"Rect\"},{\"attributes\":{\"plot\":{\"id\":\"2c43db82-4aca-4f9b-bc0f-a5974c4da3eb\",\"subtype\":\"Chart\",\"type\":\"Plot\"}},\"id\":\"8306542c-19de-4b67-bb4f-880c34b1f9ff\",\"type\":\"HelpTool\"},{\"attributes\":{\"callback\":null,\"column_names\":[\"line_color\",\"line_alpha\",\"color\",\"fill_alpha\",\"height\",\"width\",\"y\",\"x\"],\"data\":{\"chart_index\":[{\"name\":\"ggplot2\",\"type\":\"tagged\"}],\"color\":[\"#5ab738\"],\"fill_alpha\":[0.8],\"height\":[14962.0],\"line_alpha\":[1.0],\"line_color\":[\"white\"],\"name\":[\"ggplot2\"],\"type\":[\"tagged\"],\"width\":[0.2],\"x\":[\"ggplot2:0.333333333333\"],\"y\":[7481.0]}},\"id\":\"2f10cd2e-0b6c-486a-9bd8-840d3e69c6d6\",\"type\":\"ColumnDataSource\"},{\"attributes\":{\"fill_alpha\":{\"field\":\"fill_alpha\"},\"fill_color\":{\"field\":\"color\"},\"height\":{\"field\":\"height\",\"units\":\"data\"},\"line_color\":{\"field\":\"line_color\"},\"width\":{\"field\":\"width\",\"units\":\"data\"},\"x\":{\"field\":\"x\"},\"y\":{\"field\":\"y\"}},\"id\":\"f63f7448-d73a-4d6b-b996-7dabd2816838\",\"type\":\"Rect\"},{\"attributes\":{\"callback\":null,\"column_names\":[\"line_color\",\"line_alpha\",\"color\",\"fill_alpha\",\"height\",\"width\",\"y\",\"x\"],\"data\":{\"chart_index\":[{\"name\":\"magrittr\",\"type\":\"in_question_body\"}],\"color\":[\"#f22c40\"],\"fill_alpha\":[0.8],\"height\":[58.0],\"line_alpha\":[1.0],\"line_color\":[\"white\"],\"name\":[\"magrittr\"],\"type\":[\"in_question_body\"],\"width\":[0.2],\"x\":[\"magrittr:0.666666666667\"],\"y\":[29.0]}},\"id\":\"141836ec-4241-4c1b-a476-95d974ad537d\",\"type\":\"ColumnDataSource\"},{\"attributes\":{\"plot\":{\"id\":\"7f1bd811-eed1-4002-8757-7c097c3d2e4a\",\"subtype\":\"Chart\",\"type\":\"Plot\"}},\"id\":\"3a56dadf-845c-4dcb-88c1-cac3ef7bcc0e\",\"type\":\"WheelZoomTool\"},{\"attributes\":{\"data_source\":{\"id\":\"a5db960a-d51e-4979-86fb-2793aa391cbe\",\"type\":\"ColumnDataSource\"},\"glyph\":{\"id\":\"bcc56932-a563-4e16-bdaf-03bc0aa86e27\",\"type\":\"Rect\"},\"hover_glyph\":null,\"nonselection_glyph\":null,\"selection_glyph\":null},\"id\":\"fb3c6567-7a04-4719-918d-273d01e05a78\",\"type\":\"GlyphRenderer\"},{\"attributes\":{\"overlay\":{\"id\":\"88e590a5-c2dc-4b71-b59f-b553a5bebcea\",\"type\":\"BoxAnnotation\"},\"plot\":{\"id\":\"7ac9cce2-3107-4d43-90df-66a2275b2679\",\"subtype\":\"Chart\",\"type\":\"Plot\"}},\"id\":\"37525178-75c8-4fa1-bad6-8d8339329bc1\",\"type\":\"BoxZoomTool\"},{\"attributes\":{\"data_source\":{\"id\":\"dc7165fa-7451-4f99-b1ec-bc9c93f4ab03\",\"type\":\"ColumnDataSource\"},\"glyph\":{\"id\":\"50a0ab6c-5187-42cb-af5a-26580ed927db\",\"type\":\"Rect\"},\"hover_glyph\":null,\"nonselection_glyph\":null,\"selection_glyph\":null},\"id\":\"c08b850f-8e34-43e1-91dd-1e6323c18878\",\"type\":\"GlyphRenderer\"},{\"attributes\":{\"fill_alpha\":{\"field\":\"fill_alpha\"},\"fill_color\":{\"field\":\"color\"},\"height\":{\"field\":\"height\",\"units\":\"data\"},\"line_color\":{\"field\":\"line_color\"},\"width\":{\"field\":\"width\",\"units\":\"data\"},\"x\":{\"field\":\"x\"},\"y\":{\"field\":\"y\"}},\"id\":\"50a0ab6c-5187-42cb-af5a-26580ed927db\",\"type\":\"Rect\"},{\"attributes\":{\"plot\":{\"id\":\"151e6670-6ea1-462b-860d-8411b8f54666\",\"subtype\":\"Chart\",\"type\":\"Plot\"}},\"id\":\"7db5f050-002c-43de-b841-b06e6fef277a\",\"type\":\"PanTool\"},{\"attributes\":{\"legends\":[[\"tagged\",[{\"id\":\"13e1dd32-ce04-4193-aeb8-fe21b46fbd26\",\"type\":\"GlyphRenderer\"}]],[\"in_question_body\",[{\"id\":\"bcc07ae5-b543-4c6e-8bf1-b0e823f87bbc\",\"type\":\"GlyphRenderer\"}]]],\"plot\":{\"id\":\"151e6670-6ea1-462b-860d-8411b8f54666\",\"subtype\":\"Chart\",\"type\":\"Plot\"}},\"id\":\"01b1bf46-78a1-4b65-87c0-236466d9c53d\",\"type\":\"Legend\"},{\"attributes\":{\"plot\":{\"id\":\"151e6670-6ea1-462b-860d-8411b8f54666\",\"subtype\":\"Chart\",\"type\":\"Plot\"}},\"id\":\"8ccc861b-5273-40b5-ac28-3d54f2c8d353\",\"type\":\"ResetTool\"},{\"attributes\":{\"callback\":null,\"column_names\":[\"line_color\",\"line_alpha\",\"color\",\"fill_alpha\",\"height\",\"width\",\"y\",\"x\"],\"data\":{\"chart_index\":[{\"name\":\"magrittr\",\"type\":\"tagged\"}],\"color\":[\"#5ab738\"],\"fill_alpha\":[0.8],\"height\":[119.0],\"line_alpha\":[1.0],\"line_color\":[\"white\"],\"name\":[\"magrittr\"],\"type\":[\"tagged\"],\"width\":[0.2],\"x\":[\"magrittr:0.333333333333\"],\"y\":[59.5]}},\"id\":\"8b9d2ffd-9aa0-48d4-8b20-85102d4e6b0b\",\"type\":\"ColumnDataSource\"},{\"attributes\":{\"plot\":{\"id\":\"f6353f8b-83f4-40a3-8d47-3210b358534c\",\"subtype\":\"Chart\",\"type\":\"Plot\"}},\"id\":\"9dfa06be-372e-4f27-8aa6-052fd15132d3\",\"type\":\"ResizeTool\"},{\"attributes\":{},\"id\":\"02df684b-ca6c-4837-b258-b13a3319995b\",\"type\":\"BasicTickFormatter\"},{\"attributes\":{},\"id\":\"f7bc22c9-4f9f-4509-8790-6ff5df64c706\",\"type\":\"BasicTicker\"},{\"attributes\":{\"data_source\":{\"id\":\"c8dfaf4f-42f5-485f-a564-c8562e59e368\",\"type\":\"ColumnDataSource\"},\"glyph\":{\"id\":\"10fbe14c-685d-4419-b2ea-3ed6283323d6\",\"type\":\"Rect\"},\"hover_glyph\":null,\"nonselection_glyph\":null,\"selection_glyph\":null},\"id\":\"f1ce3b04-02af-4a6b-a91a-6e8eda7c0d79\",\"type\":\"GlyphRenderer\"},{\"attributes\":{\"overlay\":{\"id\":\"e1ea3803-f368-43da-9040-099743321f24\",\"type\":\"BoxAnnotation\"},\"plot\":{\"id\":\"2c43db82-4aca-4f9b-bc0f-a5974c4da3eb\",\"subtype\":\"Chart\",\"type\":\"Plot\"}},\"id\":\"cf1990ac-73c2-44ee-ac4f-c40fb7e9e825\",\"type\":\"BoxZoomTool\"},{\"attributes\":{\"fill_alpha\":{\"field\":\"fill_alpha\"},\"fill_color\":{\"field\":\"color\"},\"height\":{\"field\":\"height\",\"units\":\"data\"},\"line_color\":{\"field\":\"line_color\"},\"width\":{\"field\":\"width\",\"units\":\"data\"},\"x\":{\"field\":\"x\"},\"y\":{\"field\":\"y\"}},\"id\":\"24c1caa1-7f15-4b15-a698-ab2faa8bb0fa\",\"type\":\"Rect\"},{\"attributes\":{\"fill_alpha\":{\"field\":\"fill_alpha\"},\"fill_color\":{\"field\":\"color\"},\"height\":{\"field\":\"height\",\"units\":\"data\"},\"line_color\":{\"field\":\"line_color\"},\"width\":{\"field\":\"width\",\"units\":\"data\"},\"x\":{\"field\":\"x\"},\"y\":{\"field\":\"y\"}},\"id\":\"dc959744-557a-46b9-a124-12ee490e02d5\",\"type\":\"Rect\"},{\"attributes\":{\"overlay\":{\"id\":\"8f70315f-8b02-4bb8-a2dc-baeb0093df9b\",\"type\":\"BoxAnnotation\"},\"plot\":{\"id\":\"20741ffe-5e2e-478d-b977-42a4db532730\",\"subtype\":\"Chart\",\"type\":\"Plot\"}},\"id\":\"b4c7937c-3392-470d-80be-6c19ad784b26\",\"type\":\"BoxZoomTool\"},{\"attributes\":{\"data_source\":{\"id\":\"8aa99d66-4ded-464e-be4f-8de7e851dcc2\",\"type\":\"ColumnDataSource\"},\"glyph\":{\"id\":\"33fb1145-0cf8-44e1-b886-c26124b4bff8\",\"type\":\"Rect\"},\"hover_glyph\":null,\"nonselection_glyph\":null,\"selection_glyph\":null},\"id\":\"d2e8e65a-cd90-4e88-80d1-c8922936d148\",\"type\":\"GlyphRenderer\"},{\"attributes\":{},\"id\":\"1c7a2c65-2b16-4c4c-8e54-643a65103a69\",\"type\":\"CategoricalTicker\"},{\"attributes\":{\"fill_alpha\":{\"field\":\"fill_alpha\"},\"fill_color\":{\"field\":\"color\"},\"height\":{\"field\":\"height\",\"units\":\"data\"},\"line_color\":{\"field\":\"line_color\"},\"width\":{\"field\":\"width\",\"units\":\"data\"},\"x\":{\"field\":\"x\"},\"y\":{\"field\":\"y\"}},\"id\":\"e4fbae77-7cba-489e-8c7b-86551d8880f2\",\"type\":\"Rect\"},{\"attributes\":{\"callback\":null,\"column_names\":[\"line_color\",\"line_alpha\",\"color\",\"fill_alpha\",\"height\",\"width\",\"y\",\"x\"],\"data\":{\"chart_index\":[{\"name\":\"digest\",\"type\":\"tagged\"}],\"color\":[\"#5ab738\"],\"fill_alpha\":[0.8],\"height\":[383.0],\"line_alpha\":[1.0],\"line_color\":[\"white\"],\"name\":[\"digest\"],\"type\":[\"tagged\"],\"width\":[0.2],\"x\":[\"digest:0.333333333333\"],\"y\":[191.5]}},\"id\":\"505e0406-8806-41f7-82d0-b9a0f363cff5\",\"type\":\"ColumnDataSource\"},{\"attributes\":{\"callback\":null,\"column_names\":[\"line_color\",\"line_alpha\",\"color\",\"fill_alpha\",\"height\",\"width\",\"y\",\"x\"],\"data\":{\"chart_index\":[{\"name\":\"rcpp\",\"type\":\"in_question_body\"}],\"color\":[\"#f22c40\"],\"fill_alpha\":[0.8],\"height\":[1006.0],\"line_alpha\":[1.0],\"line_color\":[\"white\"],\"name\":[\"rcpp\"],\"type\":[\"in_question_body\"],\"width\":[0.2],\"x\":[\"rcpp:0.666666666667\"],\"y\":[503.0]}},\"id\":\"18f9819d-14a6-493e-9f7a-3386603181eb\",\"type\":\"ColumnDataSource\"},{\"attributes\":{\"data_source\":{\"id\":\"15834ac4-6ec9-47a9-b472-314f550842bf\",\"type\":\"ColumnDataSource\"},\"glyph\":{\"id\":\"47a3752e-30c1-4d77-a883-8818c266de8d\",\"type\":\"Rect\"},\"hover_glyph\":null,\"nonselection_glyph\":null,\"selection_glyph\":null},\"id\":\"5e33c958-ff4d-415c-b7c5-c0876cff1727\",\"type\":\"GlyphRenderer\"},{\"attributes\":{\"fill_alpha\":{\"field\":\"fill_alpha\"},\"fill_color\":{\"field\":\"color\"},\"height\":{\"field\":\"height\",\"units\":\"data\"},\"line_color\":{\"field\":\"line_color\"},\"width\":{\"field\":\"width\",\"units\":\"data\"},\"x\":{\"field\":\"x\"},\"y\":{\"field\":\"y\"}},\"id\":\"8a68a9f1-bc77-4a39-9bfc-b0fff54fd640\",\"type\":\"Rect\"},{\"attributes\":{},\"id\":\"f15004f7-8239-4959-924b-dd367ada196c\",\"type\":\"BasicTickFormatter\"},{\"attributes\":{\"fill_alpha\":{\"field\":\"fill_alpha\"},\"fill_color\":{\"field\":\"color\"},\"height\":{\"field\":\"height\",\"units\":\"data\"},\"line_color\":{\"field\":\"line_color\"},\"width\":{\"field\":\"width\",\"units\":\"data\"},\"x\":{\"field\":\"x\"},\"y\":{\"field\":\"y\"}},\"id\":\"b6240add-96b4-4515-85b9-682748f3c3d9\",\"type\":\"Rect\"},{\"attributes\":{\"plot\":{\"id\":\"151e6670-6ea1-462b-860d-8411b8f54666\",\"subtype\":\"Chart\",\"type\":\"Plot\"}},\"id\":\"eefec5fe-dc6a-48ea-86f1-9d2ab5f9b5da\",\"type\":\"HelpTool\"},{\"attributes\":{\"callback\":null,\"column_names\":[\"line_color\",\"line_alpha\",\"color\",\"fill_alpha\",\"height\",\"width\",\"y\",\"x\"],\"data\":{\"chart_index\":[{\"name\":\"ggplot2\",\"type\":\"tagged\"}],\"color\":[\"#5ab738\"],\"fill_alpha\":[0.8],\"height\":[14962.0],\"line_alpha\":[1.0],\"line_color\":[\"white\"],\"name\":[\"ggplot2\"],\"type\":[\"tagged\"],\"width\":[0.2],\"x\":[\"ggplot2:0.333333333333\"],\"y\":[7481.0]}},\"id\":\"0640dbf0-53a6-4e57-8575-16b060c82a39\",\"type\":\"ColumnDataSource\"},{\"attributes\":{\"callback\":null,\"column_names\":[\"line_color\",\"line_alpha\",\"color\",\"fill_alpha\",\"height\",\"width\",\"y\",\"x\"],\"data\":{\"chart_index\":[{\"name\":\"caret\",\"type\":\"in_question_body\"}],\"color\":[\"#f22c40\"],\"fill_alpha\":[0.8],\"height\":[3989.0],\"line_alpha\":[1.0],\"line_color\":[\"white\"],\"name\":[\"caret\"],\"type\":[\"in_question_body\"],\"width\":[0.2],\"x\":[\"caret:0.666666666667\"],\"y\":[1994.5]}},\"id\":\"18391021-d4c2-4b26-8482-596e9aa85a69\",\"type\":\"ColumnDataSource\"},{\"attributes\":{\"fill_alpha\":{\"field\":\"fill_alpha\"},\"fill_color\":{\"field\":\"color\"},\"height\":{\"field\":\"height\",\"units\":\"data\"},\"line_color\":{\"field\":\"line_color\"},\"width\":{\"field\":\"width\",\"units\":\"data\"},\"x\":{\"field\":\"x\"},\"y\":{\"field\":\"y\"}},\"id\":\"b154b91d-fa49-40fc-8afb-9dc02d802139\",\"type\":\"Rect\"},{\"attributes\":{\"fill_alpha\":{\"field\":\"fill_alpha\"},\"fill_color\":{\"field\":\"color\"},\"height\":{\"field\":\"height\",\"units\":\"data\"},\"line_color\":{\"field\":\"line_color\"},\"width\":{\"field\":\"width\",\"units\":\"data\"},\"x\":{\"field\":\"x\"},\"y\":{\"field\":\"y\"}},\"id\":\"317a62a5-ab8a-4a64-8c29-c08e84923fcb\",\"type\":\"Rect\"},{\"attributes\":{\"fill_alpha\":{\"field\":\"fill_alpha\"},\"fill_color\":{\"field\":\"color\"},\"height\":{\"field\":\"height\",\"units\":\"data\"},\"line_color\":{\"field\":\"line_color\"},\"width\":{\"field\":\"width\",\"units\":\"data\"},\"x\":{\"field\":\"x\"},\"y\":{\"field\":\"y\"}},\"id\":\"572fb087-c3bd-451f-a1b1-cb05b432eaf4\",\"type\":\"Rect\"},{\"attributes\":{},\"id\":\"f1ca1dc9-4e9e-430c-916d-a3f21dc3689c\",\"type\":\"ToolEvents\"},{\"attributes\":{\"legends\":[[\"tagged\",[{\"id\":\"c0635aa0-6d4d-45e2-b950-e188cb5a3bb5\",\"type\":\"GlyphRenderer\"}]],[\"in_question_body\",[{\"id\":\"44a3a59c-9db8-46f5-9d08-f7a5e90f1de1\",\"type\":\"GlyphRenderer\"}]]],\"plot\":{\"id\":\"1f041ec7-043c-4c87-b7f7-ed2707dd03cc\",\"subtype\":\"Chart\",\"type\":\"Plot\"}},\"id\":\"7fd2192c-d3c9-4499-898d-abb529128fe0\",\"type\":\"Legend\"},{\"attributes\":{\"data_source\":{\"id\":\"057c3012-05ce-4b8b-8f66-e8962d98534b\",\"type\":\"ColumnDataSource\"},\"glyph\":{\"id\":\"d0776165-0658-4829-8c15-10f5e2da0686\",\"type\":\"Rect\"},\"hover_glyph\":null,\"nonselection_glyph\":null,\"selection_glyph\":null},\"id\":\"1093052a-fa86-4d89-87f1-991dc9dd59ec\",\"type\":\"GlyphRenderer\"},{\"attributes\":{\"plot\":{\"id\":\"151e6670-6ea1-462b-860d-8411b8f54666\",\"subtype\":\"Chart\",\"type\":\"Plot\"}},\"id\":\"4531bd9f-d6dd-4fbb-b9fb-0d8204f9fb93\",\"type\":\"WheelZoomTool\"},{\"attributes\":{\"data_source\":{\"id\":\"b7c08d25-64eb-475e-89f5-3965ba19420f\",\"type\":\"ColumnDataSource\"},\"glyph\":{\"id\":\"4ab7b92e-9bee-43ef-b0d6-9d9420af1daa\",\"type\":\"Rect\"},\"hover_glyph\":null,\"nonselection_glyph\":null,\"selection_glyph\":null},\"id\":\"e11ff826-d677-46d6-b9b8-758f888affad\",\"type\":\"GlyphRenderer\"},{\"attributes\":{\"fill_alpha\":{\"field\":\"fill_alpha\"},\"fill_color\":{\"field\":\"color\"},\"height\":{\"field\":\"height\",\"units\":\"data\"},\"line_color\":{\"field\":\"line_color\"},\"width\":{\"field\":\"width\",\"units\":\"data\"},\"x\":{\"field\":\"x\"},\"y\":{\"field\":\"y\"}},\"id\":\"34673b2e-34eb-4bf2-bbf3-4bede87f14af\",\"type\":\"Rect\"},{\"attributes\":{\"plot\":{\"id\":\"7ac9cce2-3107-4d43-90df-66a2275b2679\",\"subtype\":\"Chart\",\"type\":\"Plot\"}},\"id\":\"613e487b-31cf-4bfc-8443-51f277b5268d\",\"type\":\"ResizeTool\"},{\"attributes\":{\"fill_alpha\":{\"field\":\"fill_alpha\"},\"fill_color\":{\"field\":\"color\"},\"height\":{\"field\":\"height\",\"units\":\"data\"},\"line_color\":{\"field\":\"line_color\"},\"width\":{\"field\":\"width\",\"units\":\"data\"},\"x\":{\"field\":\"x\"},\"y\":{\"field\":\"y\"}},\"id\":\"a3f97217-4be1-45a6-8018-8c80a2e5ee2a\",\"type\":\"Rect\"},{\"attributes\":{\"fill_alpha\":{\"field\":\"fill_alpha\"},\"fill_color\":{\"field\":\"color\"},\"height\":{\"field\":\"height\",\"units\":\"data\"},\"line_color\":{\"field\":\"line_color\"},\"width\":{\"field\":\"width\",\"units\":\"data\"},\"x\":{\"field\":\"x\"},\"y\":{\"field\":\"y\"}},\"id\":\"ecfabdc0-dfd4-46e7-86af-dd56fa031f41\",\"type\":\"Rect\"},{\"attributes\":{},\"id\":\"8427d288-b3c4-49e2-96d6-0119406c0d69\",\"type\":\"CategoricalTickFormatter\"},{\"attributes\":{\"bottom_units\":\"screen\",\"fill_alpha\":{\"value\":0.5},\"fill_color\":{\"value\":\"lightgrey\"},\"left_units\":\"screen\",\"level\":\"overlay\",\"line_alpha\":{\"value\":1.0},\"line_color\":{\"value\":\"black\"},\"line_dash\":[4,4],\"line_width\":{\"value\":2},\"plot\":null,\"render_mode\":\"css\",\"right_units\":\"screen\",\"top_units\":\"screen\"},\"id\":\"204928f1-8f2e-4447-8728-3e3c4269f2f8\",\"type\":\"BoxAnnotation\"},{\"attributes\":{\"fill_alpha\":{\"field\":\"fill_alpha\"},\"fill_color\":{\"field\":\"color\"},\"height\":{\"field\":\"height\",\"units\":\"data\"},\"line_color\":{\"field\":\"line_color\"},\"width\":{\"field\":\"width\",\"units\":\"data\"},\"x\":{\"field\":\"x\"},\"y\":{\"field\":\"y\"}},\"id\":\"57f3c3de-c93b-4d9e-bb29-b45b9e4bad61\",\"type\":\"Rect\"},{\"attributes\":{\"below\":[{\"id\":\"7b30b1dc-8837-4a08-b6c1-5aac60b61563\",\"type\":\"CategoricalAxis\"}],\"left\":[{\"id\":\"0e6fdd24-d438-4fcf-b3ed-93f220889f72\",\"type\":\"LinearAxis\"}],\"legend\":\"top_right\",\"renderers\":[{\"id\":\"3fbb1107-b5ee-4759-b227-650bbdd6d080\",\"type\":\"BoxAnnotation\"},{\"id\":\"e346a99c-3401-4b26-9b39-91bbf82ddd7e\",\"type\":\"GlyphRenderer\"},{\"id\":\"d4711bb9-bb44-46e6-942d-57df51e3a329\",\"type\":\"GlyphRenderer\"},{\"id\":\"c99704a1-a539-4ae6-af57-5d3ac14c220c\",\"type\":\"GlyphRenderer\"},{\"id\":\"c08b850f-8e34-43e1-91dd-1e6323c18878\",\"type\":\"GlyphRenderer\"},{\"id\":\"2f2fc49b-7dcd-4f9b-ab13-ec3666150906\",\"type\":\"GlyphRenderer\"},{\"id\":\"22613ba1-104e-47f7-bf3f-17e219f3ace7\",\"type\":\"GlyphRenderer\"},{\"id\":\"c642c1dc-bd19-4c8f-9996-7c24927cac6e\",\"type\":\"GlyphRenderer\"},{\"id\":\"5b3fd258-ff0b-4abc-8480-cbc074352d52\",\"type\":\"GlyphRenderer\"},{\"id\":\"f27dc474-cfb5-4a97-b873-c02db7fced5a\",\"type\":\"GlyphRenderer\"},{\"id\":\"86f9e6df-c6dd-45f2-bb8e-9cd4f7a8d649\",\"type\":\"GlyphRenderer\"},{\"id\":\"4954fb34-5bf3-4f2a-ad2b-ebf297c1730f\",\"type\":\"GlyphRenderer\"},{\"id\":\"29fb5fef-2491-416a-8d56-40070309deaa\",\"type\":\"GlyphRenderer\"},{\"id\":\"e09e0356-ea2b-4b60-b93a-729df079d41d\",\"type\":\"Legend\"},{\"id\":\"7b30b1dc-8837-4a08-b6c1-5aac60b61563\",\"type\":\"CategoricalAxis\"},{\"id\":\"0e6fdd24-d438-4fcf-b3ed-93f220889f72\",\"type\":\"LinearAxis\"},{\"id\":\"7afa0b2c-0fe9-4714-a5d0-fa712e68c4da\",\"type\":\"Grid\"}],\"title\":\"PKGS FTW!\",\"title_text_font_size\":{\"value\":\"14pt\"},\"tool_events\":{\"id\":\"8369340e-6f58-4d88-98f9-bfcb4de699f1\",\"type\":\"ToolEvents\"},\"tools\":[{\"id\":\"750b187c-4778-4ef4-b90e-e883d544314e\",\"type\":\"PanTool\"},{\"id\":\"3a56dadf-845c-4dcb-88c1-cac3ef7bcc0e\",\"type\":\"WheelZoomTool\"},{\"id\":\"0eaacc28-d921-4b11-9625-34a7e19a58f8\",\"type\":\"BoxZoomTool\"},{\"id\":\"ef73f018-7e01-4575-a23d-22ca206cfed5\",\"type\":\"PreviewSaveTool\"},{\"id\":\"c3b5bb73-458f-4b4f-8b44-c3361c8a6789\",\"type\":\"ResizeTool\"},{\"id\":\"b9f5664d-348c-4630-93ab-e41aeb8d044e\",\"type\":\"ResetTool\"},{\"id\":\"ee402558-0024-477d-9ba5-a55629b91f83\",\"type\":\"HelpTool\"}],\"x_mapper_type\":\"auto\",\"x_range\":{\"id\":\"0d7e836d-c963-46eb-9fef-66b6a69775ef\",\"type\":\"FactorRange\"},\"xgrid\":false,\"xscale\":\"auto\",\"y_mapper_type\":\"auto\",\"y_range\":{\"id\":\"4b9f1a81-b8d9-4787-98da-281fefbd5002\",\"type\":\"Range1d\"},\"yscale\":\"auto\"},\"id\":\"7f1bd811-eed1-4002-8757-7c097c3d2e4a\",\"subtype\":\"Chart\",\"type\":\"Plot\"},{\"attributes\":{\"dimension\":1,\"plot\":{\"id\":\"7ac9cce2-3107-4d43-90df-66a2275b2679\",\"subtype\":\"Chart\",\"type\":\"Plot\"},\"ticker\":{\"id\":\"86e04ff5-105b-4d04-9e17-8b44206916f6\",\"type\":\"BasicTicker\"}},\"id\":\"ea90b6a0-ffba-4ce4-86e3-0e000b9a9f76\",\"type\":\"Grid\"},{\"attributes\":{\"data_source\":{\"id\":\"9a82edcf-0c5b-4fc0-a2bf-50ffd8fe8023\",\"type\":\"ColumnDataSource\"},\"glyph\":{\"id\":\"e5eed315-f4d1-41ca-8d2f-2b75a0b04ce0\",\"type\":\"Rect\"},\"hover_glyph\":null,\"nonselection_glyph\":null,\"selection_glyph\":null},\"id\":\"581cca4c-fb35-47ed-8c4e-a3cd7f2ffa4f\",\"type\":\"GlyphRenderer\"},{\"attributes\":{\"data_source\":{\"id\":\"5027e9d1-9f22-46cd-8c50-56314d5c0a23\",\"type\":\"ColumnDataSource\"},\"glyph\":{\"id\":\"36528e64-9b02-4b63-8d9b-4c9bc6313fdf\",\"type\":\"Rect\"},\"hover_glyph\":null,\"nonselection_glyph\":null,\"selection_glyph\":null},\"id\":\"2b477d28-3e94-404c-88ae-f85370234c25\",\"type\":\"GlyphRenderer\"},{\"attributes\":{\"callback\":null,\"column_names\":[\"line_color\",\"line_alpha\",\"color\",\"fill_alpha\",\"height\",\"width\",\"y\",\"x\"],\"data\":{\"chart_index\":[{\"name\":\"caret\",\"type\":\"in_question_body\"}],\"color\":[\"#f22c40\"],\"fill_alpha\":[0.8],\"height\":[3989.0],\"line_alpha\":[1.0],\"line_color\":[\"white\"],\"name\":[\"caret\"],\"type\":[\"in_question_body\"],\"width\":[0.2],\"x\":[\"caret:0.666666666667\"],\"y\":[1994.5]}},\"id\":\"c6678e42-7ea5-4988-8875-4f5d00ffa18f\",\"type\":\"ColumnDataSource\"},{\"attributes\":{\"callback\":null,\"column_names\":[\"line_color\",\"line_alpha\",\"color\",\"fill_alpha\",\"height\",\"width\",\"y\",\"x\"],\"data\":{\"chart_index\":[{\"name\":\"caret\",\"type\":\"tagged\"}],\"color\":[\"#5ab738\"],\"fill_alpha\":[0.8],\"height\":[556.0],\"line_alpha\":[1.0],\"line_color\":[\"white\"],\"name\":[\"caret\"],\"type\":[\"tagged\"],\"width\":[0.2],\"x\":[\"caret:0.333333333333\"],\"y\":[278.0]}},\"id\":\"dc7165fa-7451-4f99-b1ec-bc9c93f4ab03\",\"type\":\"ColumnDataSource\"},{\"attributes\":{},\"id\":\"c37dd768-2c0e-489c-ab67-65ef58df4bd4\",\"type\":\"ToolEvents\"},{\"attributes\":{\"overlay\":{\"id\":\"3fbb1107-b5ee-4759-b227-650bbdd6d080\",\"type\":\"BoxAnnotation\"},\"plot\":{\"id\":\"7f1bd811-eed1-4002-8757-7c097c3d2e4a\",\"subtype\":\"Chart\",\"type\":\"Plot\"}},\"id\":\"0eaacc28-d921-4b11-9625-34a7e19a58f8\",\"type\":\"BoxZoomTool\"},{\"attributes\":{\"fill_alpha\":{\"field\":\"fill_alpha\"},\"fill_color\":{\"field\":\"color\"},\"height\":{\"field\":\"height\",\"units\":\"data\"},\"line_color\":{\"field\":\"line_color\"},\"width\":{\"field\":\"width\",\"units\":\"data\"},\"x\":{\"field\":\"x\"},\"y\":{\"field\":\"y\"}},\"id\":\"b772dd7e-161d-4cbf-a2a6-6c7563fa242d\",\"type\":\"Rect\"},{\"attributes\":{},\"id\":\"8369340e-6f58-4d88-98f9-bfcb4de699f1\",\"type\":\"ToolEvents\"},{\"attributes\":{\"callback\":null,\"column_names\":[\"line_color\",\"line_alpha\",\"color\",\"fill_alpha\",\"height\",\"width\",\"y\",\"x\"],\"data\":{\"chart_index\":[{\"name\":\"caret\",\"type\":\"in_question_body\"}],\"color\":[\"#f22c40\"],\"fill_alpha\":[0.8],\"height\":[3989.0],\"line_alpha\":[1.0],\"line_color\":[\"white\"],\"name\":[\"caret\"],\"type\":[\"in_question_body\"],\"width\":[0.2],\"x\":[\"caret:0.666666666667\"],\"y\":[1994.5]}},\"id\":\"775c5fca-0735-4558-b73a-949a0e534eaa\",\"type\":\"ColumnDataSource\"},{\"attributes\":{},\"id\":\"0158b1ed-5394-4cbb-993a-465b0b59b1bb\",\"type\":\"BasicTicker\"},{\"attributes\":{\"data_source\":{\"id\":\"8c12e894-7d58-43ed-a467-9b4fa7237c5b\",\"type\":\"ColumnDataSource\"},\"glyph\":{\"id\":\"64fbd4bb-4db5-4280-bbe8-ebb3c76b134e\",\"type\":\"Rect\"},\"hover_glyph\":null,\"nonselection_glyph\":null,\"selection_glyph\":null},\"id\":\"b4137b30-357a-40d6-a993-c00b7d1b6ab9\",\"type\":\"GlyphRenderer\"},{\"attributes\":{\"callback\":null,\"column_names\":[\"line_color\",\"line_alpha\",\"color\",\"fill_alpha\",\"height\",\"width\",\"y\",\"x\"],\"data\":{\"chart_index\":[{\"name\":\"digest\",\"type\":\"tagged\"}],\"color\":[\"#5ab738\"],\"fill_alpha\":[0.8],\"height\":[383.0],\"line_alpha\":[1.0],\"line_color\":[\"white\"],\"name\":[\"digest\"],\"type\":[\"tagged\"],\"width\":[0.2],\"x\":[\"digest:0.333333333333\"],\"y\":[191.5]}},\"id\":\"15834ac4-6ec9-47a9-b472-314f550842bf\",\"type\":\"ColumnDataSource\"},{\"attributes\":{\"callback\":null,\"end\":15710.1},\"id\":\"29648e01-dca6-4e8b-ad63-5d0f5b59d445\",\"type\":\"Range1d\"},{\"attributes\":{\"axis_label\":\"Name\",\"formatter\":{\"id\":\"c53c117e-aed8-4612-9680-ad7f7e9d3062\",\"type\":\"CategoricalTickFormatter\"},\"major_label_orientation\":0.7853981633974483,\"plot\":{\"id\":\"7ac9cce2-3107-4d43-90df-66a2275b2679\",\"subtype\":\"Chart\",\"type\":\"Plot\"},\"ticker\":{\"id\":\"1ba072b1-05bf-42a3-9f58-f7917e1c9aac\",\"type\":\"CategoricalTicker\"}},\"id\":\"7c358435-0083-457e-86c8-dfcb5b9b9467\",\"type\":\"CategoricalAxis\"},{\"attributes\":{\"fill_alpha\":{\"field\":\"fill_alpha\"},\"fill_color\":{\"field\":\"color\"},\"height\":{\"field\":\"height\",\"units\":\"data\"},\"line_color\":{\"field\":\"line_color\"},\"width\":{\"field\":\"width\",\"units\":\"data\"},\"x\":{\"field\":\"x\"},\"y\":{\"field\":\"y\"}},\"id\":\"36f620dd-4251-4e6a-8d28-35b04b3b8819\",\"type\":\"Rect\"},{\"attributes\":{},\"id\":\"809cd901-0b03-4a3a-9a0f-a5c519bcd7f7\",\"type\":\"BasicTickFormatter\"},{\"attributes\":{\"overlay\":{\"id\":\"9f51eed1-8da0-48a1-b1ab-183d0842a38b\",\"type\":\"BoxAnnotation\"},\"plot\":{\"id\":\"1f041ec7-043c-4c87-b7f7-ed2707dd03cc\",\"subtype\":\"Chart\",\"type\":\"Plot\"}},\"id\":\"8f092d5a-56a7-43c6-afe8-d25559d64aaf\",\"type\":\"BoxZoomTool\"},{\"attributes\":{\"callback\":null,\"column_names\":[\"line_color\",\"line_alpha\",\"color\",\"fill_alpha\",\"height\",\"width\",\"y\",\"x\"],\"data\":{\"chart_index\":[{\"name\":\"caret\",\"type\":\"tagged\"}],\"color\":[\"#5ab738\"],\"fill_alpha\":[0.8],\"height\":[556.0],\"line_alpha\":[1.0],\"line_color\":[\"white\"],\"name\":[\"caret\"],\"type\":[\"tagged\"],\"width\":[0.2],\"x\":[\"caret:0.333333333333\"],\"y\":[278.0]}},\"id\":\"3e069042-5cfe-47c3-9c22-e7a6e371bca1\",\"type\":\"ColumnDataSource\"},{\"attributes\":{\"overlay\":{\"id\":\"645064c5-b6e0-4b55-98d7-2b8ac09e05ef\",\"type\":\"BoxAnnotation\"},\"plot\":{\"id\":\"7e3c663f-5581-4f0b-b8c4-70083a389886\",\"subtype\":\"Chart\",\"type\":\"Plot\"}},\"id\":\"712fa2fc-38bd-4e83-81e1-c67836708a47\",\"type\":\"BoxZoomTool\"},{\"attributes\":{\"below\":[{\"id\":\"5c7d1ea9-5cd0-43d9-bdd2-12901fa35a16\",\"type\":\"CategoricalAxis\"}],\"left\":[{\"id\":\"0c49efe2-7166-4f64-bdf7-703c351e5215\",\"type\":\"LinearAxis\"}],\"legend\":\"top_right\",\"renderers\":[{\"id\":\"cd79446f-10e9-424b-9f70-086fc4e61db2\",\"type\":\"BoxAnnotation\"},{\"id\":\"13e1dd32-ce04-4193-aeb8-fe21b46fbd26\",\"type\":\"GlyphRenderer\"},{\"id\":\"5aaa754e-796b-4e27-88cb-bfaadc277b48\",\"type\":\"GlyphRenderer\"},{\"id\":\"b5b13e55-c2e7-4328-81c3-66c8a9a226e6\",\"type\":\"GlyphRenderer\"},{\"id\":\"f33da940-8e66-436e-891a-f685f951143e\",\"type\":\"GlyphRenderer\"},{\"id\":\"5e33c958-ff4d-415c-b7c5-c0876cff1727\",\"type\":\"GlyphRenderer\"},{\"id\":\"581cca4c-fb35-47ed-8c4e-a3cd7f2ffa4f\",\"type\":\"GlyphRenderer\"},{\"id\":\"bcc07ae5-b543-4c6e-8bf1-b0e823f87bbc\",\"type\":\"GlyphRenderer\"},{\"id\":\"65e83ff0-3feb-4838-af88-039dce555df9\",\"type\":\"GlyphRenderer\"},{\"id\":\"0490f308-d173-4a90-836e-5ff4cda2a4f0\",\"type\":\"GlyphRenderer\"},{\"id\":\"12fde85d-e4e2-44d2-ad5c-37df5b138e98\",\"type\":\"GlyphRenderer\"},{\"id\":\"f5784419-201c-4f20-ab06-218aa6a3365f\",\"type\":\"GlyphRenderer\"},{\"id\":\"40b28f83-146d-4ce2-ac91-4d1665d9753e\",\"type\":\"GlyphRenderer\"},{\"id\":\"01b1bf46-78a1-4b65-87c0-236466d9c53d\",\"type\":\"Legend\"},{\"id\":\"5c7d1ea9-5cd0-43d9-bdd2-12901fa35a16\",\"type\":\"CategoricalAxis\"},{\"id\":\"0c49efe2-7166-4f64-bdf7-703c351e5215\",\"type\":\"LinearAxis\"},{\"id\":\"460b52dd-ea18-4678-a76b-4d53854409f0\",\"type\":\"Grid\"}],\"title\":\"PKGS FTW!\",\"title_text_font_size\":{\"value\":\"14pt\"},\"tool_events\":{\"id\":\"f1ca1dc9-4e9e-430c-916d-a3f21dc3689c\",\"type\":\"ToolEvents\"},\"tools\":[{\"id\":\"7db5f050-002c-43de-b841-b06e6fef277a\",\"type\":\"PanTool\"},{\"id\":\"4531bd9f-d6dd-4fbb-b9fb-0d8204f9fb93\",\"type\":\"WheelZoomTool\"},{\"id\":\"5ec950dd-67cf-42d4-9643-1b83e8635b4a\",\"type\":\"BoxZoomTool\"},{\"id\":\"86c17c39-ca69-44b4-9e76-2c7a348c6139\",\"type\":\"PreviewSaveTool\"},{\"id\":\"8bb08cff-22cb-409f-a615-a37c3de300c5\",\"type\":\"ResizeTool\"},{\"id\":\"8ccc861b-5273-40b5-ac28-3d54f2c8d353\",\"type\":\"ResetTool\"},{\"id\":\"eefec5fe-dc6a-48ea-86f1-9d2ab5f9b5da\",\"type\":\"HelpTool\"}],\"x_mapper_type\":\"auto\",\"x_range\":{\"id\":\"e73c2620-84b1-4cf3-b242-7ee1018a8b48\",\"type\":\"FactorRange\"},\"xgrid\":false,\"xscale\":\"auto\",\"y_mapper_type\":\"auto\",\"y_range\":{\"id\":\"60de5f6b-54f0-42b8-96fc-64a8b86c1c28\",\"type\":\"Range1d\"},\"yscale\":\"auto\"},\"id\":\"151e6670-6ea1-462b-860d-8411b8f54666\",\"subtype\":\"Chart\",\"type\":\"Plot\"},{\"attributes\":{\"data_source\":{\"id\":\"3e069042-5cfe-47c3-9c22-e7a6e371bca1\",\"type\":\"ColumnDataSource\"},\"glyph\":{\"id\":\"ff38b407-f637-4322-82c4-b1473feee52b\",\"type\":\"Rect\"},\"hover_glyph\":null,\"nonselection_glyph\":null,\"selection_glyph\":null},\"id\":\"38d57fe2-5619-4495-9d4d-4aadf9a4af43\",\"type\":\"GlyphRenderer\"},{\"attributes\":{\"data_source\":{\"id\":\"79a78da3-416d-470c-ac2f-3a604fc59abf\",\"type\":\"ColumnDataSource\"},\"glyph\":{\"id\":\"dc959744-557a-46b9-a124-12ee490e02d5\",\"type\":\"Rect\"},\"hover_glyph\":null,\"nonselection_glyph\":null,\"selection_glyph\":null},\"id\":\"ffbcd01b-4f8d-4f6a-8ec7-b17dfae8aa64\",\"type\":\"GlyphRenderer\"},{\"attributes\":{\"data_source\":{\"id\":\"25dd1ffd-28f9-46b1-a3cc-f58fad555887\",\"type\":\"ColumnDataSource\"},\"glyph\":{\"id\":\"b772dd7e-161d-4cbf-a2a6-6c7563fa242d\",\"type\":\"Rect\"},\"hover_glyph\":null,\"nonselection_glyph\":null,\"selection_glyph\":null},\"id\":\"6d711560-195b-41d2-9aa2-ec9b1a6f831a\",\"type\":\"GlyphRenderer\"},{\"attributes\":{\"fill_alpha\":{\"field\":\"fill_alpha\"},\"fill_color\":{\"field\":\"color\"},\"height\":{\"field\":\"height\",\"units\":\"data\"},\"line_color\":{\"field\":\"line_color\"},\"width\":{\"field\":\"width\",\"units\":\"data\"},\"x\":{\"field\":\"x\"},\"y\":{\"field\":\"y\"}},\"id\":\"4ec0d4b5-23e2-4b23-bc92-7fd75d47165a\",\"type\":\"Rect\"},{\"attributes\":{\"data_source\":{\"id\":\"5eccbf06-9312-4d8c-bdbc-d13bacc10e9f\",\"type\":\"ColumnDataSource\"},\"glyph\":{\"id\":\"767eb606-84b9-46f1-a51b-5dc4e5807a97\",\"type\":\"Rect\"},\"hover_glyph\":null,\"nonselection_glyph\":null,\"selection_glyph\":null},\"id\":\"b855a271-f338-47fb-8eb1-f2c4c1bce257\",\"type\":\"GlyphRenderer\"},{\"attributes\":{\"plot\":{\"id\":\"7f1bd811-eed1-4002-8757-7c097c3d2e4a\",\"subtype\":\"Chart\",\"type\":\"Plot\"}},\"id\":\"c3b5bb73-458f-4b4f-8b44-c3361c8a6789\",\"type\":\"ResizeTool\"},{\"attributes\":{\"data_source\":{\"id\":\"a8aad7b0-96e0-41a4-8146-9c33f6a53b39\",\"type\":\"ColumnDataSource\"},\"glyph\":{\"id\":\"843d7b4a-5cdb-40e0-b130-9e8b3e2c68d4\",\"type\":\"Rect\"},\"hover_glyph\":null,\"nonselection_glyph\":null,\"selection_glyph\":null},\"id\":\"12fde85d-e4e2-44d2-ad5c-37df5b138e98\",\"type\":\"GlyphRenderer\"},{\"attributes\":{\"fill_alpha\":{\"field\":\"fill_alpha\"},\"fill_color\":{\"field\":\"color\"},\"height\":{\"field\":\"height\",\"units\":\"data\"},\"line_color\":{\"field\":\"line_color\"},\"width\":{\"field\":\"width\",\"units\":\"data\"},\"x\":{\"field\":\"x\"},\"y\":{\"field\":\"y\"}},\"id\":\"ff38b407-f637-4322-82c4-b1473feee52b\",\"type\":\"Rect\"},{\"attributes\":{\"fill_alpha\":{\"field\":\"fill_alpha\"},\"fill_color\":{\"field\":\"color\"},\"height\":{\"field\":\"height\",\"units\":\"data\"},\"line_color\":{\"field\":\"line_color\"},\"width\":{\"field\":\"width\",\"units\":\"data\"},\"x\":{\"field\":\"x\"},\"y\":{\"field\":\"y\"}},\"id\":\"e5eed315-f4d1-41ca-8d2f-2b75a0b04ce0\",\"type\":\"Rect\"},{\"attributes\":{\"data_source\":{\"id\":\"6d7e7e83-f5d9-4df0-9f68-69b2379b36ec\",\"type\":\"ColumnDataSource\"},\"glyph\":{\"id\":\"47d270d6-a570-43ca-bac8-c0713f543d83\",\"type\":\"Rect\"},\"hover_glyph\":null,\"nonselection_glyph\":null,\"selection_glyph\":null},\"id\":\"c7522c6b-3e33-431a-a029-b96b6d9cfefb\",\"type\":\"GlyphRenderer\"},{\"attributes\":{\"data_source\":{\"id\":\"601e83c6-f523-470b-a9af-87d56cff7777\",\"type\":\"ColumnDataSource\"},\"glyph\":{\"id\":\"eaea2a80-682c-4133-bc55-a65cfecd2f4e\",\"type\":\"Rect\"},\"hover_glyph\":null,\"nonselection_glyph\":null,\"selection_glyph\":null},\"id\":\"19d786c6-c0c8-4f56-8bf8-20be4e0a67a5\",\"type\":\"GlyphRenderer\"},{\"attributes\":{\"fill_alpha\":{\"field\":\"fill_alpha\"},\"fill_color\":{\"field\":\"color\"},\"height\":{\"field\":\"height\",\"units\":\"data\"},\"line_color\":{\"field\":\"line_color\"},\"width\":{\"field\":\"width\",\"units\":\"data\"},\"x\":{\"field\":\"x\"},\"y\":{\"field\":\"y\"}},\"id\":\"6451bdf8-672f-43ad-a75c-1087afacdbee\",\"type\":\"Rect\"},{\"attributes\":{\"plot\":{\"id\":\"7ac9cce2-3107-4d43-90df-66a2275b2679\",\"subtype\":\"Chart\",\"type\":\"Plot\"}},\"id\":\"d09b4b36-a73d-426d-9ebd-cbd46bf5dc07\",\"type\":\"PreviewSaveTool\"},{\"attributes\":{\"fill_alpha\":{\"field\":\"fill_alpha\"},\"fill_color\":{\"field\":\"color\"},\"height\":{\"field\":\"height\",\"units\":\"data\"},\"line_color\":{\"field\":\"line_color\"},\"width\":{\"field\":\"width\",\"units\":\"data\"},\"x\":{\"field\":\"x\"},\"y\":{\"field\":\"y\"}},\"id\":\"6768d756-c2be-4cd8-98f2-07afbe2030ed\",\"type\":\"Rect\"},{\"attributes\":{\"callback\":null,\"column_names\":[\"line_color\",\"line_alpha\",\"color\",\"fill_alpha\",\"height\",\"width\",\"y\",\"x\"],\"data\":{\"chart_index\":[{\"name\":\"ggplot2\",\"type\":\"in_question_body\"}],\"color\":[\"#f22c40\"],\"fill_alpha\":[0.8],\"height\":[4829.0],\"line_alpha\":[1.0],\"line_color\":[\"white\"],\"name\":[\"ggplot2\"],\"type\":[\"in_question_body\"],\"width\":[0.2],\"x\":[\"ggplot2:0.666666666667\"],\"y\":[2414.5]}},\"id\":\"5d869e64-74df-4e35-b36f-45f48ea96803\",\"type\":\"ColumnDataSource\"},{\"attributes\":{\"overlay\":{\"id\":\"204928f1-8f2e-4447-8728-3e3c4269f2f8\",\"type\":\"BoxAnnotation\"},\"plot\":{\"id\":\"f6353f8b-83f4-40a3-8d47-3210b358534c\",\"subtype\":\"Chart\",\"type\":\"Plot\"}},\"id\":\"d3e29130-2915-4c07-acb2-e296cfb90585\",\"type\":\"BoxZoomTool\"},{\"attributes\":{\"data_source\":{\"id\":\"84afef88-c62a-47a7-bab6-66cba1133447\",\"type\":\"ColumnDataSource\"},\"glyph\":{\"id\":\"79528a6f-42de-4acd-b96d-5f9a15d03c4e\",\"type\":\"Rect\"},\"hover_glyph\":null,\"nonselection_glyph\":null,\"selection_glyph\":null},\"id\":\"6be5d64f-f828-44a1-a1a5-77b542b42f9b\",\"type\":\"GlyphRenderer\"},{\"attributes\":{\"fill_alpha\":{\"field\":\"fill_alpha\"},\"fill_color\":{\"field\":\"color\"},\"height\":{\"field\":\"height\",\"units\":\"data\"},\"line_color\":{\"field\":\"line_color\"},\"width\":{\"field\":\"width\",\"units\":\"data\"},\"x\":{\"field\":\"x\"},\"y\":{\"field\":\"y\"}},\"id\":\"27ff3c60-083d-46a5-9843-c12effe7314d\",\"type\":\"Rect\"},{\"attributes\":{\"fill_alpha\":{\"field\":\"fill_alpha\"},\"fill_color\":{\"field\":\"color\"},\"height\":{\"field\":\"height\",\"units\":\"data\"},\"line_color\":{\"field\":\"line_color\"},\"width\":{\"field\":\"width\",\"units\":\"data\"},\"x\":{\"field\":\"x\"},\"y\":{\"field\":\"y\"}},\"id\":\"fd7fcb0a-f3f5-4833-b7e5-8dcce58edff4\",\"type\":\"Rect\"},{\"attributes\":{\"callback\":null,\"column_names\":[\"line_color\",\"line_alpha\",\"color\",\"fill_alpha\",\"height\",\"width\",\"y\",\"x\"],\"data\":{\"chart_index\":[{\"name\":\"dplyr\",\"type\":\"tagged\"}],\"color\":[\"#5ab738\"],\"fill_alpha\":[0.8],\"height\":[4139.0],\"line_alpha\":[1.0],\"line_color\":[\"white\"],\"name\":[\"dplyr\"],\"type\":[\"tagged\"],\"width\":[0.2],\"x\":[\"dplyr:0.333333333333\"],\"y\":[2069.5]}},\"id\":\"b7c08d25-64eb-475e-89f5-3965ba19420f\",\"type\":\"ColumnDataSource\"},{\"attributes\":{\"dimension\":1,\"plot\":{\"id\":\"20741ffe-5e2e-478d-b977-42a4db532730\",\"subtype\":\"Chart\",\"type\":\"Plot\"},\"ticker\":{\"id\":\"d28bedb5-f460-467c-a865-05ec2ed1b51f\",\"type\":\"BasicTicker\"}},\"id\":\"d3009c7c-d4dc-4c90-8eae-4c863d0fcab3\",\"type\":\"Grid\"},{\"attributes\":{\"fill_alpha\":{\"field\":\"fill_alpha\"},\"fill_color\":{\"field\":\"color\"},\"height\":{\"field\":\"height\",\"units\":\"data\"},\"line_color\":{\"field\":\"line_color\"},\"width\":{\"field\":\"width\",\"units\":\"data\"},\"x\":{\"field\":\"x\"},\"y\":{\"field\":\"y\"}},\"id\":\"bcc56932-a563-4e16-bdaf-03bc0aa86e27\",\"type\":\"Rect\"},{\"attributes\":{\"plot\":{\"id\":\"7ac9cce2-3107-4d43-90df-66a2275b2679\",\"subtype\":\"Chart\",\"type\":\"Plot\"}},\"id\":\"82ef7fa2-28f0-463d-bca3-8bf019c160d9\",\"type\":\"ResetTool\"},{\"attributes\":{\"axis_label\":\"Sum( Count )\",\"formatter\":{\"id\":\"45a1b586-e42a-4808-97ef-9b793ce29cf6\",\"type\":\"BasicTickFormatter\"},\"plot\":{\"id\":\"7e3c663f-5581-4f0b-b8c4-70083a389886\",\"subtype\":\"Chart\",\"type\":\"Plot\"},\"ticker\":{\"id\":\"e1cde3a2-b540-49f1-bfb6-6bc74362b67a\",\"type\":\"BasicTicker\"}},\"id\":\"a53df523-60e7-489d-a4f1-2202264dc74a\",\"type\":\"LinearAxis\"},{\"attributes\":{\"fill_alpha\":{\"field\":\"fill_alpha\"},\"fill_color\":{\"field\":\"color\"},\"height\":{\"field\":\"height\",\"units\":\"data\"},\"line_color\":{\"field\":\"line_color\"},\"width\":{\"field\":\"width\",\"units\":\"data\"},\"x\":{\"field\":\"x\"},\"y\":{\"field\":\"y\"}},\"id\":\"f2c76722-8e6e-4f76-b461-2ee097730ff0\",\"type\":\"Rect\"},{\"attributes\":{\"callback\":null,\"column_names\":[\"line_color\",\"line_alpha\",\"color\",\"fill_alpha\",\"height\",\"width\",\"y\",\"x\"],\"data\":{\"chart_index\":[{\"name\":\"rcpp\",\"type\":\"tagged\"}],\"color\":[\"#5ab738\"],\"fill_alpha\":[0.8],\"height\":[1266.0],\"line_alpha\":[1.0],\"line_color\":[\"white\"],\"name\":[\"rcpp\"],\"type\":[\"tagged\"],\"width\":[0.2],\"x\":[\"rcpp:0.333333333333\"],\"y\":[633.0]}},\"id\":\"9b428b7d-8320-4289-9f69-c5221e548b5d\",\"type\":\"ColumnDataSource\"},{\"attributes\":{\"callback\":null,\"column_names\":[\"line_color\",\"line_alpha\",\"color\",\"fill_alpha\",\"height\",\"width\",\"y\",\"x\"],\"data\":{\"chart_index\":[{\"name\":\"dplyr\",\"type\":\"in_question_body\"}],\"color\":[\"#f22c40\"],\"fill_alpha\":[0.8],\"height\":[2020.0],\"line_alpha\":[1.0],\"line_color\":[\"white\"],\"name\":[\"dplyr\"],\"type\":[\"in_question_body\"],\"width\":[0.2],\"x\":[\"dplyr:0.666666666667\"],\"y\":[1010.0]}},\"id\":\"0dd3111f-c978-4268-b5e0-cbaf70ef6538\",\"type\":\"ColumnDataSource\"},{\"attributes\":{\"callback\":null,\"column_names\":[\"line_color\",\"line_alpha\",\"color\",\"fill_alpha\",\"height\",\"width\",\"y\",\"x\"],\"data\":{\"chart_index\":[{\"days\":\"Monday\"}],\"color\":[\"#f22c40\"],\"days\":[\"Monday\"],\"fill_alpha\":[0.8],\"height\":[3.0],\"line_alpha\":[1.0],\"line_color\":[\"white\"],\"width\":[0.8],\"x\":[\"Monday\"],\"y\":[1.5]}},\"id\":\"c8dfaf4f-42f5-485f-a564-c8562e59e368\",\"type\":\"ColumnDataSource\"},{\"attributes\":{\"fill_alpha\":{\"field\":\"fill_alpha\"},\"fill_color\":{\"field\":\"color\"},\"height\":{\"field\":\"height\",\"units\":\"data\"},\"line_color\":{\"field\":\"line_color\"},\"width\":{\"field\":\"width\",\"units\":\"data\"},\"x\":{\"field\":\"x\"},\"y\":{\"field\":\"y\"}},\"id\":\"9a48672a-2571-48f9-9d76-83b466ecf551\",\"type\":\"Rect\"},{\"attributes\":{\"callback\":null,\"column_names\":[\"line_color\",\"line_alpha\",\"color\",\"fill_alpha\",\"height\",\"width\",\"y\",\"x\"],\"data\":{\"chart_index\":[{\"name\":\"digest\",\"type\":\"tagged\"}],\"color\":[\"#5ab738\"],\"fill_alpha\":[0.8],\"height\":[383.0],\"line_alpha\":[1.0],\"line_color\":[\"white\"],\"name\":[\"digest\"],\"type\":[\"tagged\"],\"width\":[0.2],\"x\":[\"digest:0.333333333333\"],\"y\":[191.5]}},\"id\":\"41e9ba10-3f4c-4d8c-a2ab-ccb1d1fd3cf5\",\"type\":\"ColumnDataSource\"},{\"attributes\":{\"plot\":{\"id\":\"7f1bd811-eed1-4002-8757-7c097c3d2e4a\",\"subtype\":\"Chart\",\"type\":\"Plot\"}},\"id\":\"750b187c-4778-4ef4-b90e-e883d544314e\",\"type\":\"PanTool\"},{\"attributes\":{\"data_source\":{\"id\":\"f4256f82-44de-408f-9138-1fb50e1b19cc\",\"type\":\"ColumnDataSource\"},\"glyph\":{\"id\":\"926fdea7-f882-4997-b9e3-00c316b74bf2\",\"type\":\"Rect\"},\"hover_glyph\":null,\"nonselection_glyph\":null,\"selection_glyph\":null},\"id\":\"18aba81d-0e18-4799-8e42-80bd41c170d6\",\"type\":\"GlyphRenderer\"},{\"attributes\":{\"data_source\":{\"id\":\"2f10cd2e-0b6c-486a-9bd8-840d3e69c6d6\",\"type\":\"ColumnDataSource\"},\"glyph\":{\"id\":\"c13d654f-81d9-46e1-9f57-1110e2a0c669\",\"type\":\"Rect\"},\"hover_glyph\":null,\"nonselection_glyph\":null,\"selection_glyph\":null},\"id\":\"e346a99c-3401-4b26-9b39-91bbf82ddd7e\",\"type\":\"GlyphRenderer\"},{\"attributes\":{\"fill_alpha\":{\"field\":\"fill_alpha\"},\"fill_color\":{\"field\":\"color\"},\"height\":{\"field\":\"height\",\"units\":\"data\"},\"line_color\":{\"field\":\"line_color\"},\"width\":{\"field\":\"width\",\"units\":\"data\"},\"x\":{\"field\":\"x\"},\"y\":{\"field\":\"y\"}},\"id\":\"c13d654f-81d9-46e1-9f57-1110e2a0c669\",\"type\":\"Rect\"},{\"attributes\":{\"callback\":null,\"column_names\":[\"line_color\",\"line_alpha\",\"color\",\"fill_alpha\",\"height\",\"width\",\"y\",\"x\"],\"data\":{\"chart_index\":[{\"name\":\"digest\",\"type\":\"tagged\"}],\"color\":[\"#5ab738\"],\"fill_alpha\":[0.8],\"height\":[383.0],\"line_alpha\":[1.0],\"line_color\":[\"white\"],\"name\":[\"digest\"],\"type\":[\"tagged\"],\"width\":[0.2],\"x\":[\"digest:0.333333333333\"],\"y\":[191.5]}},\"id\":\"c834bb42-35a0-4ff3-a065-514069883e93\",\"type\":\"ColumnDataSource\"},{\"attributes\":{\"callback\":null,\"column_names\":[\"line_color\",\"line_alpha\",\"color\",\"fill_alpha\",\"height\",\"width\",\"y\",\"x\"],\"data\":{\"chart_index\":[{\"name\":\"digest\",\"type\":\"tagged\"}],\"color\":[\"#5ab738\"],\"fill_alpha\":[0.8],\"height\":[383.0],\"line_alpha\":[1.0],\"line_color\":[\"white\"],\"name\":[\"digest\"],\"type\":[\"tagged\"],\"width\":[0.2],\"x\":[\"digest:0.333333333333\"],\"y\":[191.5]}},\"id\":\"25dd1ffd-28f9-46b1-a3cc-f58fad555887\",\"type\":\"ColumnDataSource\"},{\"attributes\":{\"fill_alpha\":{\"field\":\"fill_alpha\"},\"fill_color\":{\"field\":\"color\"},\"height\":{\"field\":\"height\",\"units\":\"data\"},\"line_color\":{\"field\":\"line_color\"},\"width\":{\"field\":\"width\",\"units\":\"data\"},\"x\":{\"field\":\"x\"},\"y\":{\"field\":\"y\"}},\"id\":\"1084f5a2-0208-4935-9cd7-b7ac28147523\",\"type\":\"Rect\"},{\"attributes\":{},\"id\":\"0bb78d93-b0ad-4114-af3f-e8ca80148a0d\",\"type\":\"CategoricalTicker\"},{\"attributes\":{},\"id\":\"e1cde3a2-b540-49f1-bfb6-6bc74362b67a\",\"type\":\"BasicTicker\"},{\"attributes\":{\"callback\":null,\"column_names\":[\"line_color\",\"line_alpha\",\"color\",\"fill_alpha\",\"height\",\"width\",\"y\",\"x\"],\"data\":{\"chart_index\":[{\"name\":\"dplyr\",\"type\":\"in_question_body\"}],\"color\":[\"#f22c40\"],\"fill_alpha\":[0.8],\"height\":[2020.0],\"line_alpha\":[1.0],\"line_color\":[\"white\"],\"name\":[\"dplyr\"],\"type\":[\"in_question_body\"],\"width\":[0.2],\"x\":[\"dplyr:0.666666666667\"],\"y\":[1010.0]}},\"id\":\"383a3cc4-f7b9-40fd-b4b4-ce3e32dcb878\",\"type\":\"ColumnDataSource\"},{\"attributes\":{\"callback\":null,\"column_names\":[\"line_color\",\"line_alpha\",\"color\",\"fill_alpha\",\"height\",\"width\",\"y\",\"x\"],\"data\":{\"chart_index\":[{\"name\":\"digest\",\"type\":\"in_question_body\"}],\"color\":[\"#f22c40\"],\"fill_alpha\":[0.8],\"height\":[5143.0],\"line_alpha\":[1.0],\"line_color\":[\"white\"],\"name\":[\"digest\"],\"type\":[\"in_question_body\"],\"width\":[0.2],\"x\":[\"digest:0.666666666667\"],\"y\":[2571.5]}},\"id\":\"bbe77593-af7c-4240-bc45-22cbbba94f2f\",\"type\":\"ColumnDataSource\"},{\"attributes\":{\"data_source\":{\"id\":\"31333c38-6bfd-45e0-bcbb-c6a17293d9b3\",\"type\":\"ColumnDataSource\"},\"glyph\":{\"id\":\"fd7fcb0a-f3f5-4833-b7e5-8dcce58edff4\",\"type\":\"Rect\"},\"hover_glyph\":null,\"nonselection_glyph\":null,\"selection_glyph\":null},\"id\":\"04801cbd-8074-4ae6-971b-5822b2ea29e9\",\"type\":\"GlyphRenderer\"},{\"attributes\":{\"fill_alpha\":{\"field\":\"fill_alpha\"},\"fill_color\":{\"field\":\"color\"},\"height\":{\"field\":\"height\",\"units\":\"data\"},\"line_color\":{\"field\":\"line_color\"},\"width\":{\"field\":\"width\",\"units\":\"data\"},\"x\":{\"field\":\"x\"},\"y\":{\"field\":\"y\"}},\"id\":\"5de0656c-add1-4c93-897e-ea93f42c9d44\",\"type\":\"Rect\"},{\"attributes\":{\"data_source\":{\"id\":\"d0fa70f3-bbc4-4033-8db7-435e8d63a796\",\"type\":\"ColumnDataSource\"},\"glyph\":{\"id\":\"f8b5228f-dc3e-4d8c-b657-15cd33c3205a\",\"type\":\"Rect\"},\"hover_glyph\":null,\"nonselection_glyph\":null,\"selection_glyph\":null},\"id\":\"cbbf0e67-a48b-4c92-947b-74613771c8b8\",\"type\":\"GlyphRenderer\"},{\"attributes\":{\"fill_alpha\":{\"field\":\"fill_alpha\"},\"fill_color\":{\"field\":\"color\"},\"height\":{\"field\":\"height\",\"units\":\"data\"},\"line_color\":{\"field\":\"line_color\"},\"width\":{\"field\":\"width\",\"units\":\"data\"},\"x\":{\"field\":\"x\"},\"y\":{\"field\":\"y\"}},\"id\":\"57f57def-5458-4dfd-8edb-75109f91b36d\",\"type\":\"Rect\"},{\"attributes\":{\"fill_alpha\":{\"field\":\"fill_alpha\"},\"fill_color\":{\"field\":\"color\"},\"height\":{\"field\":\"height\",\"units\":\"data\"},\"line_color\":{\"field\":\"line_color\"},\"width\":{\"field\":\"width\",\"units\":\"data\"},\"x\":{\"field\":\"x\"},\"y\":{\"field\":\"y\"}},\"id\":\"8682fda5-e580-421e-863e-de48038c91c1\",\"type\":\"Rect\"},{\"attributes\":{\"fill_alpha\":{\"field\":\"fill_alpha\"},\"fill_color\":{\"field\":\"color\"},\"height\":{\"field\":\"height\",\"units\":\"data\"},\"line_color\":{\"field\":\"line_color\"},\"width\":{\"field\":\"width\",\"units\":\"data\"},\"x\":{\"field\":\"x\"},\"y\":{\"field\":\"y\"}},\"id\":\"1103da96-9763-49bb-a10a-6eb023a7a482\",\"type\":\"Rect\"},{\"attributes\":{\"callback\":null,\"end\":15710.1},\"id\":\"60de5f6b-54f0-42b8-96fc-64a8b86c1c28\",\"type\":\"Range1d\"},{\"attributes\":{\"data_source\":{\"id\":\"8a124dc2-37bd-4c84-a358-d4e2c93ea4d5\",\"type\":\"ColumnDataSource\"},\"glyph\":{\"id\":\"fc36dd4f-f397-4b13-a32f-128a1cd0d755\",\"type\":\"Rect\"},\"hover_glyph\":null,\"nonselection_glyph\":null,\"selection_glyph\":null},\"id\":\"9e77c2b6-96f5-4dad-b312-90c7a9b6971f\",\"type\":\"GlyphRenderer\"},{\"attributes\":{\"dimension\":1,\"plot\":{\"id\":\"2c43db82-4aca-4f9b-bc0f-a5974c4da3eb\",\"subtype\":\"Chart\",\"type\":\"Plot\"},\"ticker\":{\"id\":\"0158b1ed-5394-4cbb-993a-465b0b59b1bb\",\"type\":\"BasicTicker\"}},\"id\":\"9dac7201-de61-455c-a10f-9436dc91fb31\",\"type\":\"Grid\"},{\"attributes\":{\"fill_alpha\":{\"field\":\"fill_alpha\"},\"fill_color\":{\"field\":\"color\"},\"height\":{\"field\":\"height\",\"units\":\"data\"},\"line_color\":{\"field\":\"line_color\"},\"width\":{\"field\":\"width\",\"units\":\"data\"},\"x\":{\"field\":\"x\"},\"y\":{\"field\":\"y\"}},\"id\":\"21c8d220-9ad1-46a5-8e12-9d275665c56b\",\"type\":\"Rect\"},{\"attributes\":{\"legends\":[[\"tagged\",[{\"id\":\"e346a99c-3401-4b26-9b39-91bbf82ddd7e\",\"type\":\"GlyphRenderer\"}]],[\"in_question_body\",[{\"id\":\"c642c1dc-bd19-4c8f-9996-7c24927cac6e\",\"type\":\"GlyphRenderer\"}]]],\"plot\":{\"id\":\"7f1bd811-eed1-4002-8757-7c097c3d2e4a\",\"subtype\":\"Chart\",\"type\":\"Plot\"}},\"id\":\"e09e0356-ea2b-4b60-b93a-729df079d41d\",\"type\":\"Legend\"},{\"attributes\":{\"fill_alpha\":{\"field\":\"fill_alpha\"},\"fill_color\":{\"field\":\"color\"},\"height\":{\"field\":\"height\",\"units\":\"data\"},\"line_color\":{\"field\":\"line_color\"},\"width\":{\"field\":\"width\",\"units\":\"data\"},\"x\":{\"field\":\"x\"},\"y\":{\"field\":\"y\"}},\"id\":\"8b390b10-68a4-4ef6-9c70-02bc132f927b\",\"type\":\"Rect\"},{\"attributes\":{},\"id\":\"778d1c7f-dfc4-45be-a9ae-f6d126270da4\",\"type\":\"CategoricalTickFormatter\"},{\"attributes\":{\"plot\":{\"id\":\"20741ffe-5e2e-478d-b977-42a4db532730\",\"subtype\":\"Chart\",\"type\":\"Plot\"}},\"id\":\"957dbfa8-96a7-4f30-8e1b-712032c35639\",\"type\":\"PreviewSaveTool\"},{\"attributes\":{\"fill_alpha\":{\"field\":\"fill_alpha\"},\"fill_color\":{\"field\":\"color\"},\"height\":{\"field\":\"height\",\"units\":\"data\"},\"line_color\":{\"field\":\"line_color\"},\"width\":{\"field\":\"width\",\"units\":\"data\"},\"x\":{\"field\":\"x\"},\"y\":{\"field\":\"y\"}},\"id\":\"57b99ca7-0a64-4f2a-94df-711f070944c5\",\"type\":\"Rect\"},{\"attributes\":{\"below\":[{\"id\":\"3b782bc7-b9c8-429d-8771-b42ab188bd7e\",\"type\":\"CategoricalAxis\"}],\"left\":[{\"id\":\"a6c51cba-5811-449b-b5c4-221a90da5be7\",\"type\":\"LinearAxis\"}],\"legend\":\"top_right\",\"renderers\":[{\"id\":\"9f51eed1-8da0-48a1-b1ab-183d0842a38b\",\"type\":\"BoxAnnotation\"},{\"id\":\"c0635aa0-6d4d-45e2-b950-e188cb5a3bb5\",\"type\":\"GlyphRenderer\"},{\"id\":\"092ab48d-d398-4f81-97cc-0509dc5634db\",\"type\":\"GlyphRenderer\"},{\"id\":\"04801cbd-8074-4ae6-971b-5822b2ea29e9\",\"type\":\"GlyphRenderer\"},{\"id\":\"6be5d64f-f828-44a1-a1a5-77b542b42f9b\",\"type\":\"GlyphRenderer\"},{\"id\":\"ac17b212-0ef4-430b-92c8-fba6839611e3\",\"type\":\"GlyphRenderer\"},{\"id\":\"1093052a-fa86-4d89-87f1-991dc9dd59ec\",\"type\":\"GlyphRenderer\"},{\"id\":\"44a3a59c-9db8-46f5-9d08-f7a5e90f1de1\",\"type\":\"GlyphRenderer\"},{\"id\":\"c7d8c7f8-887b-4613-af63-0f2ec86064bf\",\"type\":\"GlyphRenderer\"},{\"id\":\"a3dac2d4-f69f-40ed-91e1-97009c1c8a39\",\"type\":\"GlyphRenderer\"},{\"id\":\"814b4af3-97e4-4d95-bf87-122452fc7dc1\",\"type\":\"GlyphRenderer\"},{\"id\":\"fb3c6567-7a04-4719-918d-273d01e05a78\",\"type\":\"GlyphRenderer\"},{\"id\":\"13e701ac-71fc-405e-9a10-b2667f388eea\",\"type\":\"GlyphRenderer\"},{\"id\":\"1566b725-45c5-4eb7-be46-6d4cef243b24\",\"type\":\"GlyphRenderer\"},{\"id\":\"7fd2192c-d3c9-4499-898d-abb529128fe0\",\"type\":\"Legend\"},{\"id\":\"3b782bc7-b9c8-429d-8771-b42ab188bd7e\",\"type\":\"CategoricalAxis\"},{\"id\":\"a6c51cba-5811-449b-b5c4-221a90da5be7\",\"type\":\"LinearAxis\"},{\"id\":\"23b52374-268f-4e3d-93a4-09a3e435d837\",\"type\":\"Grid\"}],\"title\":\"PKGS FTW!\",\"title_text_font_size\":{\"value\":\"14pt\"},\"tool_events\":{\"id\":\"47746a24-b567-44b5-b1a4-135e1eec3400\",\"type\":\"ToolEvents\"},\"tools\":[{\"id\":\"7ca60099-0045-4082-a295-6ee3de47f8b7\",\"type\":\"PanTool\"},{\"id\":\"5498ddab-7505-415f-982e-432eedda9325\",\"type\":\"WheelZoomTool\"},{\"id\":\"8f092d5a-56a7-43c6-afe8-d25559d64aaf\",\"type\":\"BoxZoomTool\"},{\"id\":\"390aabbd-6101-40d2-b316-cdd1d5fd09f6\",\"type\":\"PreviewSaveTool\"},{\"id\":\"ae868fd6-926f-4121-9791-35d93b9488a2\",\"type\":\"ResizeTool\"},{\"id\":\"71a5de8d-1319-4f4d-9249-acbf4ee599c2\",\"type\":\"ResetTool\"},{\"id\":\"42671e32-b083-4197-a91d-b022ffb442e1\",\"type\":\"HelpTool\"}],\"x_mapper_type\":\"auto\",\"x_range\":{\"id\":\"45c9856f-8a25-4aa2-9d2e-e162fb465328\",\"type\":\"FactorRange\"},\"xgrid\":false,\"xscale\":\"auto\",\"y_mapper_type\":\"auto\",\"y_range\":{\"id\":\"29648e01-dca6-4e8b-ad63-5d0f5b59d445\",\"type\":\"Range1d\"},\"yscale\":\"auto\"},\"id\":\"1f041ec7-043c-4c87-b7f7-ed2707dd03cc\",\"subtype\":\"Chart\",\"type\":\"Plot\"},{\"attributes\":{\"callback\":null,\"column_names\":[\"line_color\",\"line_alpha\",\"color\",\"fill_alpha\",\"height\",\"width\",\"y\",\"x\"],\"data\":{\"chart_index\":[{\"name\":\"rcpp\",\"type\":\"tagged\"}],\"color\":[\"#5ab738\"],\"fill_alpha\":[0.8],\"height\":[1266.0],\"line_alpha\":[1.0],\"line_color\":[\"white\"],\"name\":[\"rcpp\"],\"type\":[\"tagged\"],\"width\":[0.2],\"x\":[\"rcpp:0.333333333333\"],\"y\":[633.0]}},\"id\":\"31333c38-6bfd-45e0-bcbb-c6a17293d9b3\",\"type\":\"ColumnDataSource\"},{\"attributes\":{\"fill_alpha\":{\"field\":\"fill_alpha\"},\"fill_color\":{\"field\":\"color\"},\"height\":{\"field\":\"height\",\"units\":\"data\"},\"line_color\":{\"field\":\"line_color\"},\"width\":{\"field\":\"width\",\"units\":\"data\"},\"x\":{\"field\":\"x\"},\"y\":{\"field\":\"y\"}},\"id\":\"f7583676-44dd-4e7f-bb68-4b58b028c87f\",\"type\":\"Rect\"},{\"attributes\":{\"fill_alpha\":{\"field\":\"fill_alpha\"},\"fill_color\":{\"field\":\"color\"},\"height\":{\"field\":\"height\",\"units\":\"data\"},\"line_color\":{\"field\":\"line_color\"},\"width\":{\"field\":\"width\",\"units\":\"data\"},\"x\":{\"field\":\"x\"},\"y\":{\"field\":\"y\"}},\"id\":\"47a3752e-30c1-4d77-a883-8818c266de8d\",\"type\":\"Rect\"},{\"attributes\":{\"plot\":{\"id\":\"1f041ec7-043c-4c87-b7f7-ed2707dd03cc\",\"subtype\":\"Chart\",\"type\":\"Plot\"}},\"id\":\"5498ddab-7505-415f-982e-432eedda9325\",\"type\":\"WheelZoomTool\"},{\"attributes\":{\"legends\":[[\"tagged\",[{\"id\":\"573996d1-9d14-48dc-8f7a-bc66840da92a\",\"type\":\"GlyphRenderer\"}]],[\"in_question_body\",[{\"id\":\"f37da99e-46cf-4172-95e7-2b5d47291e46\",\"type\":\"GlyphRenderer\"}]]],\"plot\":{\"id\":\"20741ffe-5e2e-478d-b977-42a4db532730\",\"subtype\":\"Chart\",\"type\":\"Plot\"}},\"id\":\"9f2ff96c-661e-4ac4-ab73-c60b6ade603a\",\"type\":\"Legend\"},{\"attributes\":{\"callback\":null,\"column_names\":[\"line_color\",\"line_alpha\",\"color\",\"fill_alpha\",\"height\",\"width\",\"y\",\"x\"],\"data\":{\"chart_index\":[{\"name\":\"caret\",\"type\":\"in_question_body\"}],\"color\":[\"#f22c40\"],\"fill_alpha\":[0.8],\"height\":[3989.0],\"line_alpha\":[1.0],\"line_color\":[\"white\"],\"name\":[\"caret\"],\"type\":[\"in_question_body\"],\"width\":[0.2],\"x\":[\"caret:0.666666666667\"],\"y\":[1994.5]}},\"id\":\"327f68e5-4a9d-4b97-9aa4-9b236557079d\",\"type\":\"ColumnDataSource\"},{\"attributes\":{\"plot\":{\"id\":\"7e3c663f-5581-4f0b-b8c4-70083a389886\",\"subtype\":\"Chart\",\"type\":\"Plot\"}},\"id\":\"b3ba5150-1c6c-4ca0-92f6-7da5d9575128\",\"type\":\"PreviewSaveTool\"},{\"attributes\":{\"fill_alpha\":{\"field\":\"fill_alpha\"},\"fill_color\":{\"field\":\"color\"},\"height\":{\"field\":\"height\",\"units\":\"data\"},\"line_color\":{\"field\":\"line_color\"},\"width\":{\"field\":\"width\",\"units\":\"data\"},\"x\":{\"field\":\"x\"},\"y\":{\"field\":\"y\"}},\"id\":\"69278751-0a26-4c6c-b0c6-b50d5dc6a050\",\"type\":\"Rect\"},{\"attributes\":{\"callback\":null,\"factors\":[\"caret\",\"digest\",\"dplyr\",\"ggplot2\",\"magrittr\",\"rcpp\"]},\"id\":\"64c995aa-19a7-45a5-b934-5a5dbbf9e7d0\",\"type\":\"FactorRange\"},{\"attributes\":{\"fill_alpha\":{\"field\":\"fill_alpha\"},\"fill_color\":{\"field\":\"color\"},\"height\":{\"field\":\"height\",\"units\":\"data\"},\"line_color\":{\"field\":\"line_color\"},\"width\":{\"field\":\"width\",\"units\":\"data\"},\"x\":{\"field\":\"x\"},\"y\":{\"field\":\"y\"}},\"id\":\"d0989615-6087-4fce-8d64-733969852e44\",\"type\":\"Rect\"},{\"attributes\":{},\"id\":\"9f5009c3-2575-471f-8fa4-1a8fb405ece4\",\"type\":\"ToolEvents\"},{\"attributes\":{\"callback\":null,\"end\":15710.1},\"id\":\"01718009-dbf2-4c9e-b239-f1703bf06d04\",\"type\":\"Range1d\"},{\"attributes\":{\"fill_alpha\":{\"field\":\"fill_alpha\"},\"fill_color\":{\"field\":\"color\"},\"height\":{\"field\":\"height\",\"units\":\"data\"},\"line_color\":{\"field\":\"line_color\"},\"width\":{\"field\":\"width\",\"units\":\"data\"},\"x\":{\"field\":\"x\"},\"y\":{\"field\":\"y\"}},\"id\":\"8f828167-ee2b-438d-90bf-97290c714cb7\",\"type\":\"Rect\"},{\"attributes\":{\"data_source\":{\"id\":\"ad27be0d-6fad-4d73-80d7-8ad55668f240\",\"type\":\"ColumnDataSource\"},\"glyph\":{\"id\":\"5de0656c-add1-4c93-897e-ea93f42c9d44\",\"type\":\"Rect\"},\"hover_glyph\":null,\"nonselection_glyph\":null,\"selection_glyph\":null},\"id\":\"073dc1bf-d9ea-4aab-8af1-91c085babb49\",\"type\":\"GlyphRenderer\"},{\"attributes\":{\"callback\":null,\"end\":15710.1},\"id\":\"9b32615f-7dca-444e-9c76-bbfc26dfb128\",\"type\":\"Range1d\"},{\"attributes\":{\"callback\":null,\"factors\":[\"caret\",\"digest\",\"dplyr\",\"ggplot2\",\"magrittr\",\"rcpp\"]},\"id\":\"0d7e836d-c963-46eb-9fef-66b6a69775ef\",\"type\":\"FactorRange\"},{\"attributes\":{\"overlay\":{\"id\":\"cd79446f-10e9-424b-9f70-086fc4e61db2\",\"type\":\"BoxAnnotation\"},\"plot\":{\"id\":\"151e6670-6ea1-462b-860d-8411b8f54666\",\"subtype\":\"Chart\",\"type\":\"Plot\"}},\"id\":\"5ec950dd-67cf-42d4-9643-1b83e8635b4a\",\"type\":\"BoxZoomTool\"},{\"attributes\":{\"fill_alpha\":{\"field\":\"fill_alpha\"},\"fill_color\":{\"field\":\"color\"},\"height\":{\"field\":\"height\",\"units\":\"data\"},\"line_color\":{\"field\":\"line_color\"},\"width\":{\"field\":\"width\",\"units\":\"data\"},\"x\":{\"field\":\"x\"},\"y\":{\"field\":\"y\"}},\"id\":\"2f10c7a3-11c9-403b-ac07-080451215e20\",\"type\":\"Rect\"},{\"attributes\":{\"callback\":null,\"column_names\":[\"line_color\",\"line_alpha\",\"color\",\"fill_alpha\",\"height\",\"width\",\"y\",\"x\"],\"data\":{\"chart_index\":[{\"name\":\"ggplot2\",\"type\":\"tagged\"}],\"color\":[\"#5ab738\"],\"fill_alpha\":[0.8],\"height\":[14962.0],\"line_alpha\":[1.0],\"line_color\":[\"white\"],\"name\":[\"ggplot2\"],\"type\":[\"tagged\"],\"width\":[0.2],\"x\":[\"ggplot2:0.333333333333\"],\"y\":[7481.0]}},\"id\":\"ef744af0-6fd0-4752-bf20-78288e07eefa\",\"type\":\"ColumnDataSource\"},{\"attributes\":{\"data_source\":{\"id\":\"d9565e21-dab1-41a0-8588-b1f7127c417d\",\"type\":\"ColumnDataSource\"},\"glyph\":{\"id\":\"f63f7448-d73a-4d6b-b996-7dabd2816838\",\"type\":\"Rect\"},\"hover_glyph\":null,\"nonselection_glyph\":null,\"selection_glyph\":null},\"id\":\"f27dc474-cfb5-4a97-b873-c02db7fced5a\",\"type\":\"GlyphRenderer\"},{\"attributes\":{\"below\":[{\"id\":\"7c358435-0083-457e-86c8-dfcb5b9b9467\",\"type\":\"CategoricalAxis\"}],\"left\":[{\"id\":\"bedaa4c3-2264-4d2a-98b1-487f8eb21050\",\"type\":\"LinearAxis\"}],\"legend\":\"top_right\",\"renderers\":[{\"id\":\"88e590a5-c2dc-4b71-b59f-b553a5bebcea\",\"type\":\"BoxAnnotation\"},{\"id\":\"c10c2905-1cee-43b5-9ce9-42cf8c8723b6\",\"type\":\"GlyphRenderer\"},{\"id\":\"13c177eb-7001-457a-8e24-9ab13cb8b156\",\"type\":\"GlyphRenderer\"},{\"id\":\"54f21432-c4d6-4423-bc92-2bfd82f4f8f9\",\"type\":\"GlyphRenderer\"},{\"id\":\"b4137b30-357a-40d6-a993-c00b7d1b6ab9\",\"type\":\"GlyphRenderer\"},{\"id\":\"bad6e711-8d48-4564-ae7d-8db6e2587c64\",\"type\":\"GlyphRenderer\"},{\"id\":\"907b15c1-4966-4e37-b10d-5a16b5833c55\",\"type\":\"GlyphRenderer\"},{\"id\":\"0d3dcaec-cac4-4bd0-8a7d-c62a0f049ee7\",\"type\":\"GlyphRenderer\"},{\"id\":\"5c3f1b40-54ac-4511-8bf1-dfc5d22d9e4e\",\"type\":\"GlyphRenderer\"},{\"id\":\"18aba81d-0e18-4799-8e42-80bd41c170d6\",\"type\":\"GlyphRenderer\"},{\"id\":\"c796e6eb-2ac0-4848-974f-764b57cabc53\",\"type\":\"GlyphRenderer\"},{\"id\":\"45e92734-946a-4080-b80d-bbb6fcc36b25\",\"type\":\"GlyphRenderer\"},{\"id\":\"df272d7f-4b11-43ed-89db-54e133490c61\",\"type\":\"GlyphRenderer\"},{\"id\":\"bbaed119-d5a6-437e-8ee2-cf0100ca3afe\",\"type\":\"Legend\"},{\"id\":\"7c358435-0083-457e-86c8-dfcb5b9b9467\",\"type\":\"CategoricalAxis\"},{\"id\":\"bedaa4c3-2264-4d2a-98b1-487f8eb21050\",\"type\":\"LinearAxis\"},{\"id\":\"ea90b6a0-ffba-4ce4-86e3-0e000b9a9f76\",\"type\":\"Grid\"}],\"title\":\"PKGS FTW!\",\"title_text_font_size\":{\"value\":\"14pt\"},\"tool_events\":{\"id\":\"93906bb4-b802-48bb-a0d8-e230535b909c\",\"type\":\"ToolEvents\"},\"tools\":[{\"id\":\"efcf92e2-cdb5-48cd-a2f2-2642b0953832\",\"type\":\"PanTool\"},{\"id\":\"3a0e38c2-ecbf-4068-88f9-a87d5518a42f\",\"type\":\"WheelZoomTool\"},{\"id\":\"37525178-75c8-4fa1-bad6-8d8339329bc1\",\"type\":\"BoxZoomTool\"},{\"id\":\"d09b4b36-a73d-426d-9ebd-cbd46bf5dc07\",\"type\":\"PreviewSaveTool\"},{\"id\":\"613e487b-31cf-4bfc-8443-51f277b5268d\",\"type\":\"ResizeTool\"},{\"id\":\"82ef7fa2-28f0-463d-bca3-8bf019c160d9\",\"type\":\"ResetTool\"},{\"id\":\"3c7a8f89-7ead-41f5-a975-15aca4fcc73a\",\"type\":\"HelpTool\"}],\"x_mapper_type\":\"auto\",\"x_range\":{\"id\":\"c32770a2-e365-4601-91b1-1195ac0c0e76\",\"type\":\"FactorRange\"},\"xgrid\":false,\"xscale\":\"auto\",\"y_mapper_type\":\"auto\",\"y_range\":{\"id\":\"01718009-dbf2-4c9e-b239-f1703bf06d04\",\"type\":\"Range1d\"},\"yscale\":\"auto\"},\"id\":\"7ac9cce2-3107-4d43-90df-66a2275b2679\",\"subtype\":\"Chart\",\"type\":\"Plot\"},{\"attributes\":{\"below\":[{\"id\":\"a7f64aed-15a4-4e30-b2b3-b4047407abd7\",\"type\":\"CategoricalAxis\"}],\"left\":[{\"id\":\"e60ecd4e-6e15-4b1e-aa57-9c271a74c86a\",\"type\":\"LinearAxis\"}],\"legend\":\"top_right\",\"renderers\":[{\"id\":\"8f70315f-8b02-4bb8-a2dc-baeb0093df9b\",\"type\":\"BoxAnnotation\"},{\"id\":\"573996d1-9d14-48dc-8f7a-bc66840da92a\",\"type\":\"GlyphRenderer\"},{\"id\":\"f37da99e-46cf-4172-95e7-2b5d47291e46\",\"type\":\"GlyphRenderer\"},{\"id\":\"2b477d28-3e94-404c-88ae-f85370234c25\",\"type\":\"GlyphRenderer\"},{\"id\":\"e11ff826-d677-46d6-b9b8-758f888affad\",\"type\":\"GlyphRenderer\"},{\"id\":\"d26c61bc-e16f-46eb-bc91-38abd5c5eadc\",\"type\":\"GlyphRenderer\"},{\"id\":\"35ab69d2-201c-4306-9e94-22557a96fb9a\",\"type\":\"GlyphRenderer\"},{\"id\":\"16b11690-522d-427c-9ee5-9c97a8c3390e\",\"type\":\"GlyphRenderer\"},{\"id\":\"aab55f66-61c2-4a69-9279-233d892e947d\",\"type\":\"GlyphRenderer\"},{\"id\":\"e536ab4b-4afe-477e-a83e-298fc2570846\",\"type\":\"GlyphRenderer\"},{\"id\":\"817c6fd5-9436-4996-947f-d88f679a5ba3\",\"type\":\"GlyphRenderer\"},{\"id\":\"073dc1bf-d9ea-4aab-8af1-91c085babb49\",\"type\":\"GlyphRenderer\"},{\"id\":\"84fc14d4-8f11-45ac-9835-1a4c1e2ae465\",\"type\":\"GlyphRenderer\"},{\"id\":\"9f2ff96c-661e-4ac4-ab73-c60b6ade603a\",\"type\":\"Legend\"},{\"id\":\"a7f64aed-15a4-4e30-b2b3-b4047407abd7\",\"type\":\"CategoricalAxis\"},{\"id\":\"e60ecd4e-6e15-4b1e-aa57-9c271a74c86a\",\"type\":\"LinearAxis\"},{\"id\":\"d3009c7c-d4dc-4c90-8eae-4c863d0fcab3\",\"type\":\"Grid\"}],\"title\":\"PKGS FTW!\",\"title_text_font_size\":{\"value\":\"14pt\"},\"tool_events\":{\"id\":\"05accda0-bae9-445a-ac05-44fbeb6df974\",\"type\":\"ToolEvents\"},\"tools\":[{\"id\":\"a282ccd1-fad3-4c96-9e05-cf6ec7a9e6fc\",\"type\":\"PanTool\"},{\"id\":\"092b48fa-005a-4ead-a198-5354ef6d0a46\",\"type\":\"WheelZoomTool\"},{\"id\":\"b4c7937c-3392-470d-80be-6c19ad784b26\",\"type\":\"BoxZoomTool\"},{\"id\":\"957dbfa8-96a7-4f30-8e1b-712032c35639\",\"type\":\"PreviewSaveTool\"},{\"id\":\"a133019f-32a4-44e5-82d7-644e536555b0\",\"type\":\"ResizeTool\"},{\"id\":\"173a7aed-ab16-4f92-9562-badbb7325e2a\",\"type\":\"ResetTool\"},{\"id\":\"69ef8cb7-d8a0-4ae1-90c0-376d7e1d7dfb\",\"type\":\"HelpTool\"}],\"x_mapper_type\":\"auto\",\"x_range\":{\"id\":\"14cb14c7-bf0c-47d7-88aa-ff5d7fd2901f\",\"type\":\"FactorRange\"},\"xgrid\":false,\"xscale\":\"auto\",\"y_mapper_type\":\"auto\",\"y_range\":{\"id\":\"391a20a5-bb33-4396-bdb1-3b7397ed8d50\",\"type\":\"Range1d\"},\"yscale\":\"auto\"},\"id\":\"20741ffe-5e2e-478d-b977-42a4db532730\",\"subtype\":\"Chart\",\"type\":\"Plot\"},{\"attributes\":{\"plot\":{\"id\":\"7ac9cce2-3107-4d43-90df-66a2275b2679\",\"subtype\":\"Chart\",\"type\":\"Plot\"}},\"id\":\"efcf92e2-cdb5-48cd-a2f2-2642b0953832\",\"type\":\"PanTool\"},{\"attributes\":{\"data_source\":{\"id\":\"bbe77593-af7c-4240-bc45-22cbbba94f2f\",\"type\":\"ColumnDataSource\"},\"glyph\":{\"id\":\"27ff3c60-083d-46a5-9843-c12effe7314d\",\"type\":\"Rect\"},\"hover_glyph\":null,\"nonselection_glyph\":null,\"selection_glyph\":null},\"id\":\"9f4af40d-f7ed-4066-8d54-1c4a719c82a7\",\"type\":\"GlyphRenderer\"},{\"attributes\":{\"fill_alpha\":{\"field\":\"fill_alpha\"},\"fill_color\":{\"field\":\"color\"},\"height\":{\"field\":\"height\",\"units\":\"data\"},\"line_color\":{\"field\":\"line_color\"},\"width\":{\"field\":\"width\",\"units\":\"data\"},\"x\":{\"field\":\"x\"},\"y\":{\"field\":\"y\"}},\"id\":\"b4413de2-05de-485b-97b0-876055b7a07c\",\"type\":\"Rect\"},{\"attributes\":{\"callback\":null,\"column_names\":[\"line_color\",\"line_alpha\",\"color\",\"fill_alpha\",\"height\",\"width\",\"y\",\"x\"],\"data\":{\"chart_index\":[{\"name\":\"magrittr\",\"type\":\"in_question_body\"}],\"color\":[\"#f22c40\"],\"fill_alpha\":[0.8],\"height\":[58.0],\"line_alpha\":[1.0],\"line_color\":[\"white\"],\"name\":[\"magrittr\"],\"type\":[\"in_question_body\"],\"width\":[0.2],\"x\":[\"magrittr:0.666666666667\"],\"y\":[29.0]}},\"id\":\"1091ba1e-e527-437d-96da-b9f863793925\",\"type\":\"ColumnDataSource\"},{\"attributes\":{\"callback\":null,\"factors\":[\"Sunday\",\"Monday\",\"Tuesday\",\"Wednesday\",\"Thursday\",\"Friday\",\"Saturday\"]},\"id\":\"b8972c22-eebd-48ff-bcb5-e659fced3363\",\"type\":\"FactorRange\"},{\"attributes\":{\"fill_alpha\":{\"field\":\"fill_alpha\"},\"fill_color\":{\"field\":\"color\"},\"height\":{\"field\":\"height\",\"units\":\"data\"},\"line_color\":{\"field\":\"line_color\"},\"width\":{\"field\":\"width\",\"units\":\"data\"},\"x\":{\"field\":\"x\"},\"y\":{\"field\":\"y\"}},\"id\":\"79528a6f-42de-4acd-b96d-5f9a15d03c4e\",\"type\":\"Rect\"},{\"attributes\":{\"callback\":null,\"column_names\":[\"line_color\",\"line_alpha\",\"color\",\"fill_alpha\",\"height\",\"width\",\"y\",\"x\"],\"data\":{\"chart_index\":[{\"name\":\"magrittr\",\"type\":\"in_question_body\"}],\"color\":[\"#f22c40\"],\"fill_alpha\":[0.8],\"height\":[58.0],\"line_alpha\":[1.0],\"line_color\":[\"white\"],\"name\":[\"magrittr\"],\"type\":[\"in_question_body\"],\"width\":[0.2],\"x\":[\"magrittr:0.666666666667\"],\"y\":[29.0]}},\"id\":\"f4256f82-44de-408f-9138-1fb50e1b19cc\",\"type\":\"ColumnDataSource\"},{\"attributes\":{\"plot\":{\"id\":\"1f041ec7-043c-4c87-b7f7-ed2707dd03cc\",\"subtype\":\"Chart\",\"type\":\"Plot\"}},\"id\":\"ae868fd6-926f-4121-9791-35d93b9488a2\",\"type\":\"ResizeTool\"},{\"attributes\":{\"fill_alpha\":{\"field\":\"fill_alpha\"},\"fill_color\":{\"field\":\"color\"},\"height\":{\"field\":\"height\",\"units\":\"data\"},\"line_color\":{\"field\":\"line_color\"},\"width\":{\"field\":\"width\",\"units\":\"data\"},\"x\":{\"field\":\"x\"},\"y\":{\"field\":\"y\"}},\"id\":\"32c2542a-e3db-44b7-b02b-e724b3e6334b\",\"type\":\"Rect\"},{\"attributes\":{\"callback\":null,\"end\":15710.1},\"id\":\"4b9f1a81-b8d9-4787-98da-281fefbd5002\",\"type\":\"Range1d\"},{\"attributes\":{\"callback\":null,\"column_names\":[\"line_color\",\"line_alpha\",\"color\",\"fill_alpha\",\"height\",\"width\",\"y\",\"x\"],\"data\":{\"chart_index\":[{\"name\":\"digest\",\"type\":\"in_question_body\"}],\"color\":[\"#f22c40\"],\"fill_alpha\":[0.8],\"height\":[5143.0],\"line_alpha\":[1.0],\"line_color\":[\"white\"],\"name\":[\"digest\"],\"type\":[\"in_question_body\"],\"width\":[0.2],\"x\":[\"digest:0.666666666667\"],\"y\":[2571.5]}},\"id\":\"79a78da3-416d-470c-ac2f-3a604fc59abf\",\"type\":\"ColumnDataSource\"},{\"attributes\":{\"data_source\":{\"id\":\"80f45d7d-d6e5-4d28-8bd2-4c7fb85b7d27\",\"type\":\"ColumnDataSource\"},\"glyph\":{\"id\":\"7d7b67e4-9ec6-4b15-8a22-fcfe61a61831\",\"type\":\"Rect\"},\"hover_glyph\":null,\"nonselection_glyph\":null,\"selection_glyph\":null},\"id\":\"817c6fd5-9436-4996-947f-d88f679a5ba3\",\"type\":\"GlyphRenderer\"},{\"attributes\":{\"fill_alpha\":{\"field\":\"fill_alpha\"},\"fill_color\":{\"field\":\"color\"},\"height\":{\"field\":\"height\",\"units\":\"data\"},\"line_color\":{\"field\":\"line_color\"},\"width\":{\"field\":\"width\",\"units\":\"data\"},\"x\":{\"field\":\"x\"},\"y\":{\"field\":\"y\"}},\"id\":\"deb85781-29b3-42bf-b59d-0ed7ff052ce5\",\"type\":\"Rect\"},{\"attributes\":{\"data_source\":{\"id\":\"18391021-d4c2-4b26-8482-596e9aa85a69\",\"type\":\"ColumnDataSource\"},\"glyph\":{\"id\":\"6d123b00-25a9-4473-8011-3d94da90510c\",\"type\":\"Rect\"},\"hover_glyph\":null,\"nonselection_glyph\":null,\"selection_glyph\":null},\"id\":\"bcc07ae5-b543-4c6e-8bf1-b0e823f87bbc\",\"type\":\"GlyphRenderer\"},{\"attributes\":{\"callback\":null,\"column_names\":[\"line_color\",\"line_alpha\",\"color\",\"fill_alpha\",\"height\",\"width\",\"y\",\"x\"],\"data\":{\"chart_index\":[{\"name\":\"ggplot2\",\"type\":\"in_question_body\"}],\"color\":[\"#f22c40\"],\"fill_alpha\":[0.8],\"height\":[4829.0],\"line_alpha\":[1.0],\"line_color\":[\"white\"],\"name\":[\"ggplot2\"],\"type\":[\"in_question_body\"],\"width\":[0.2],\"x\":[\"ggplot2:0.666666666667\"],\"y\":[2414.5]}},\"id\":\"f03da7d6-b24c-42a0-9d3d-687277eba893\",\"type\":\"ColumnDataSource\"},{\"attributes\":{\"data_source\":{\"id\":\"5c9a9d3b-0c54-4de8-999d-7005b7607a74\",\"type\":\"ColumnDataSource\"},\"glyph\":{\"id\":\"5f37cd87-7154-477f-92ff-72c074355677\",\"type\":\"Rect\"},\"hover_glyph\":null,\"nonselection_glyph\":null,\"selection_glyph\":null},\"id\":\"44a3a59c-9db8-46f5-9d08-f7a5e90f1de1\",\"type\":\"GlyphRenderer\"},{\"attributes\":{\"fill_alpha\":{\"field\":\"fill_alpha\"},\"fill_color\":{\"field\":\"color\"},\"height\":{\"field\":\"height\",\"units\":\"data\"},\"line_color\":{\"field\":\"line_color\"},\"width\":{\"field\":\"width\",\"units\":\"data\"},\"x\":{\"field\":\"x\"},\"y\":{\"field\":\"y\"}},\"id\":\"36528e64-9b02-4b63-8d9b-4c9bc6313fdf\",\"type\":\"Rect\"},{\"attributes\":{\"callback\":null,\"column_names\":[\"line_color\",\"line_alpha\",\"color\",\"fill_alpha\",\"height\",\"width\",\"y\",\"x\"],\"data\":{\"chart_index\":[{\"name\":\"digest\",\"type\":\"in_question_body\"}],\"color\":[\"#f22c40\"],\"fill_alpha\":[0.8],\"height\":[5143.0],\"line_alpha\":[1.0],\"line_color\":[\"white\"],\"name\":[\"digest\"],\"type\":[\"in_question_body\"],\"width\":[0.2],\"x\":[\"digest:0.666666666667\"],\"y\":[2571.5]}},\"id\":\"9d756f05-9396-4d50-8e39-f64721a12b38\",\"type\":\"ColumnDataSource\"},{\"attributes\":{\"fill_alpha\":{\"field\":\"fill_alpha\"},\"fill_color\":{\"field\":\"color\"},\"height\":{\"field\":\"height\",\"units\":\"data\"},\"line_color\":{\"field\":\"line_color\"},\"width\":{\"field\":\"width\",\"units\":\"data\"},\"x\":{\"field\":\"x\"},\"y\":{\"field\":\"y\"}},\"id\":\"016a281c-37e5-434d-9fb0-f00f7eb45124\",\"type\":\"Rect\"},{\"attributes\":{\"callback\":null,\"column_names\":[\"line_color\",\"line_alpha\",\"color\",\"fill_alpha\",\"height\",\"width\",\"y\",\"x\"],\"data\":{\"chart_index\":[{\"name\":\"rcpp\",\"type\":\"in_question_body\"}],\"color\":[\"#f22c40\"],\"fill_alpha\":[0.8],\"height\":[1006.0],\"line_alpha\":[1.0],\"line_color\":[\"white\"],\"name\":[\"rcpp\"],\"type\":[\"in_question_body\"],\"width\":[0.2],\"x\":[\"rcpp:0.666666666667\"],\"y\":[503.0]}},\"id\":\"a1c30522-4b33-4745-8211-fc0f9374c619\",\"type\":\"ColumnDataSource\"},{\"attributes\":{\"fill_alpha\":{\"field\":\"fill_alpha\"},\"fill_color\":{\"field\":\"color\"},\"height\":{\"field\":\"height\",\"units\":\"data\"},\"line_color\":{\"field\":\"line_color\"},\"width\":{\"field\":\"width\",\"units\":\"data\"},\"x\":{\"field\":\"x\"},\"y\":{\"field\":\"y\"}},\"id\":\"67808361-e981-4f9f-90f6-2e423f107e7c\",\"type\":\"Rect\"},{\"attributes\":{\"dimension\":1,\"plot\":{\"id\":\"7f1bd811-eed1-4002-8757-7c097c3d2e4a\",\"subtype\":\"Chart\",\"type\":\"Plot\"},\"ticker\":{\"id\":\"534551bc-af1c-44ba-a7ee-2b577c58c855\",\"type\":\"BasicTicker\"}},\"id\":\"7afa0b2c-0fe9-4714-a5d0-fa712e68c4da\",\"type\":\"Grid\"},{\"attributes\":{\"axis_label\":\"Sum( Count )\",\"formatter\":{\"id\":\"809cd901-0b03-4a3a-9a0f-a5c519bcd7f7\",\"type\":\"BasicTickFormatter\"},\"plot\":{\"id\":\"151e6670-6ea1-462b-860d-8411b8f54666\",\"subtype\":\"Chart\",\"type\":\"Plot\"},\"ticker\":{\"id\":\"70105e10-5608-41e6-aa3c-6a6b24ae5b43\",\"type\":\"BasicTicker\"}},\"id\":\"0c49efe2-7166-4f64-bdf7-703c351e5215\",\"type\":\"LinearAxis\"},{\"attributes\":{\"axis_label\":\"Name\",\"formatter\":{\"id\":\"b76b25a2-9cb1-4d51-a211-5094a3a6bc25\",\"type\":\"CategoricalTickFormatter\"},\"major_label_orientation\":0.7853981633974483,\"plot\":{\"id\":\"f6353f8b-83f4-40a3-8d47-3210b358534c\",\"subtype\":\"Chart\",\"type\":\"Plot\"},\"ticker\":{\"id\":\"9fea5735-be49-4adb-bf7d-0aa1514d0044\",\"type\":\"CategoricalTicker\"}},\"id\":\"c7d8de5d-212a-4ebd-b2be-20dbe699656c\",\"type\":\"CategoricalAxis\"},{\"attributes\":{\"fill_alpha\":{\"field\":\"fill_alpha\"},\"fill_color\":{\"field\":\"color\"},\"height\":{\"field\":\"height\",\"units\":\"data\"},\"line_color\":{\"field\":\"line_color\"},\"width\":{\"field\":\"width\",\"units\":\"data\"},\"x\":{\"field\":\"x\"},\"y\":{\"field\":\"y\"}},\"id\":\"843d7b4a-5cdb-40e0-b130-9e8b3e2c68d4\",\"type\":\"Rect\"},{\"attributes\":{\"plot\":{\"id\":\"7ac9cce2-3107-4d43-90df-66a2275b2679\",\"subtype\":\"Chart\",\"type\":\"Plot\"}},\"id\":\"3a0e38c2-ecbf-4068-88f9-a87d5518a42f\",\"type\":\"WheelZoomTool\"},{\"attributes\":{\"dimension\":1,\"plot\":{\"id\":\"f6353f8b-83f4-40a3-8d47-3210b358534c\",\"subtype\":\"Chart\",\"type\":\"Plot\"},\"ticker\":{\"id\":\"badcaae2-6288-499a-89ea-b845fbd13652\",\"type\":\"BasicTicker\"}},\"id\":\"61f25e0a-0a81-4f11-a099-3468922ffb26\",\"type\":\"Grid\"},{\"attributes\":{\"plot\":{\"id\":\"f6353f8b-83f4-40a3-8d47-3210b358534c\",\"subtype\":\"Chart\",\"type\":\"Plot\"}},\"id\":\"05c280ed-fa3f-41a5-b6a5-4b97d2a99a7b\",\"type\":\"PreviewSaveTool\"},{\"attributes\":{\"data_source\":{\"id\":\"1e5f0449-4789-445e-8d0c-76920be1be9e\",\"type\":\"ColumnDataSource\"},\"glyph\":{\"id\":\"faa0a818-1a74-45e4-8e71-f54948ad5279\",\"type\":\"Rect\"},\"hover_glyph\":null,\"nonselection_glyph\":null,\"selection_glyph\":null},\"id\":\"d4711bb9-bb44-46e6-942d-57df51e3a329\",\"type\":\"GlyphRenderer\"},{\"attributes\":{\"bottom_units\":\"screen\",\"fill_alpha\":{\"value\":0.5},\"fill_color\":{\"value\":\"lightgrey\"},\"left_units\":\"screen\",\"level\":\"overlay\",\"line_alpha\":{\"value\":1.0},\"line_color\":{\"value\":\"black\"},\"line_dash\":[4,4],\"line_width\":{\"value\":2},\"plot\":null,\"render_mode\":\"css\",\"right_units\":\"screen\",\"top_units\":\"screen\"},\"id\":\"645064c5-b6e0-4b55-98d7-2b8ac09e05ef\",\"type\":\"BoxAnnotation\"},{\"attributes\":{\"data_source\":{\"id\":\"3d6413d1-59a6-4c83-a141-8f8921fc0247\",\"type\":\"ColumnDataSource\"},\"glyph\":{\"id\":\"2f10c7a3-11c9-403b-ac07-080451215e20\",\"type\":\"Rect\"},\"hover_glyph\":null,\"nonselection_glyph\":null,\"selection_glyph\":null},\"id\":\"35ab69d2-201c-4306-9e94-22557a96fb9a\",\"type\":\"GlyphRenderer\"},{\"attributes\":{\"data_source\":{\"id\":\"7315fc26-b5cd-489c-9a2e-bb6ddd34b218\",\"type\":\"ColumnDataSource\"},\"glyph\":{\"id\":\"a31ba828-f0a5-426f-82cd-9bf65e860f5c\",\"type\":\"Rect\"},\"hover_glyph\":null,\"nonselection_glyph\":null,\"selection_glyph\":null},\"id\":\"13c177eb-7001-457a-8e24-9ab13cb8b156\",\"type\":\"GlyphRenderer\"},{\"attributes\":{\"callback\":null,\"column_names\":[\"line_color\",\"line_alpha\",\"color\",\"fill_alpha\",\"height\",\"width\",\"y\",\"x\"],\"data\":{\"chart_index\":[{\"name\":\"magrittr\",\"type\":\"in_question_body\"}],\"color\":[\"#f22c40\"],\"fill_alpha\":[0.8],\"height\":[58.0],\"line_alpha\":[1.0],\"line_color\":[\"white\"],\"name\":[\"magrittr\"],\"type\":[\"in_question_body\"],\"width\":[0.2],\"x\":[\"magrittr:0.666666666667\"],\"y\":[29.0]}},\"id\":\"8aa99d66-4ded-464e-be4f-8de7e851dcc2\",\"type\":\"ColumnDataSource\"},{\"attributes\":{},\"id\":\"70105e10-5608-41e6-aa3c-6a6b24ae5b43\",\"type\":\"BasicTicker\"},{\"attributes\":{\"data_source\":{\"id\":\"a93791e3-dc0e-4d77-9cb2-c76b98448e15\",\"type\":\"ColumnDataSource\"},\"glyph\":{\"id\":\"317a62a5-ab8a-4a64-8c29-c08e84923fcb\",\"type\":\"Rect\"},\"hover_glyph\":null,\"nonselection_glyph\":null,\"selection_glyph\":null},\"id\":\"40b28f83-146d-4ce2-ac91-4d1665d9753e\",\"type\":\"GlyphRenderer\"},{\"attributes\":{\"fill_alpha\":{\"field\":\"fill_alpha\"},\"fill_color\":{\"field\":\"color\"},\"height\":{\"field\":\"height\",\"units\":\"data\"},\"line_color\":{\"field\":\"line_color\"},\"width\":{\"field\":\"width\",\"units\":\"data\"},\"x\":{\"field\":\"x\"},\"y\":{\"field\":\"y\"}},\"id\":\"603cf66f-68c1-4102-b4ec-171c4d58cb6e\",\"type\":\"Rect\"},{\"attributes\":{\"callback\":null,\"column_names\":[\"line_color\",\"line_alpha\",\"color\",\"fill_alpha\",\"height\",\"width\",\"y\",\"x\"],\"data\":{\"chart_index\":[{\"name\":\"ggplot2\",\"type\":\"in_question_body\"}],\"color\":[\"#f22c40\"],\"fill_alpha\":[0.8],\"height\":[4829.0],\"line_alpha\":[1.0],\"line_color\":[\"white\"],\"name\":[\"ggplot2\"],\"type\":[\"in_question_body\"],\"width\":[0.2],\"x\":[\"ggplot2:0.666666666667\"],\"y\":[2414.5]}},\"id\":\"49d7a890-bd0e-4918-a9c5-6ba394671538\",\"type\":\"ColumnDataSource\"},{\"attributes\":{\"data_source\":{\"id\":\"4391033c-a42b-49a7-9cc2-c66378740bee\",\"type\":\"ColumnDataSource\"},\"glyph\":{\"id\":\"8b390b10-68a4-4ef6-9c70-02bc132f927b\",\"type\":\"Rect\"},\"hover_glyph\":null,\"nonselection_glyph\":null,\"selection_glyph\":null},\"id\":\"f5784419-201c-4f20-ab06-218aa6a3365f\",\"type\":\"GlyphRenderer\"},{\"attributes\":{\"data_source\":{\"id\":\"0b92256e-e989-422e-8d5b-77e548859650\",\"type\":\"ColumnDataSource\"},\"glyph\":{\"id\":\"fd314e6c-68b2-4ecc-99df-3aa9e0c02bf3\",\"type\":\"Rect\"},\"hover_glyph\":null,\"nonselection_glyph\":null,\"selection_glyph\":null},\"id\":\"f33da940-8e66-436e-891a-f685f951143e\",\"type\":\"GlyphRenderer\"},{\"attributes\":{},\"id\":\"ea707c8b-c89f-4bef-a49e-812ee2e6c098\",\"type\":\"ToolEvents\"},{\"attributes\":{\"legends\":[[\"tagged\",[{\"id\":\"c10c2905-1cee-43b5-9ce9-42cf8c8723b6\",\"type\":\"GlyphRenderer\"}]],[\"in_question_body\",[{\"id\":\"0d3dcaec-cac4-4bd0-8a7d-c62a0f049ee7\",\"type\":\"GlyphRenderer\"}]]],\"plot\":{\"id\":\"7ac9cce2-3107-4d43-90df-66a2275b2679\",\"subtype\":\"Chart\",\"type\":\"Plot\"}},\"id\":\"bbaed119-d5a6-437e-8ee2-cf0100ca3afe\",\"type\":\"Legend\"},{\"attributes\":{},\"id\":\"badcaae2-6288-499a-89ea-b845fbd13652\",\"type\":\"BasicTicker\"},{\"attributes\":{\"callback\":null,\"column_names\":[\"line_color\",\"line_alpha\",\"color\",\"fill_alpha\",\"height\",\"width\",\"y\",\"x\"],\"data\":{\"chart_index\":[{\"days\":\"Saturday\"}],\"color\":[\"#f22c40\"],\"days\":[\"Saturday\"],\"fill_alpha\":[0.8],\"height\":[8.0],\"line_alpha\":[1.0],\"line_color\":[\"white\"],\"width\":[0.8],\"x\":[\"Saturday\"],\"y\":[4.0]}},\"id\":\"542891cd-09ed-4861-b389-d35e508c6855\",\"type\":\"ColumnDataSource\"},{\"attributes\":{\"data_source\":{\"id\":\"c834bb42-35a0-4ff3-a065-514069883e93\",\"type\":\"ColumnDataSource\"},\"glyph\":{\"id\":\"bdce4c34-3268-477a-9840-f934e6560af8\",\"type\":\"Rect\"},\"hover_glyph\":null,\"nonselection_glyph\":null,\"selection_glyph\":null},\"id\":\"bad6e711-8d48-4564-ae7d-8db6e2587c64\",\"type\":\"GlyphRenderer\"},{\"attributes\":{\"fill_alpha\":{\"field\":\"fill_alpha\"},\"fill_color\":{\"field\":\"color\"},\"height\":{\"field\":\"height\",\"units\":\"data\"},\"line_color\":{\"field\":\"line_color\"},\"width\":{\"field\":\"width\",\"units\":\"data\"},\"x\":{\"field\":\"x\"},\"y\":{\"field\":\"y\"}},\"id\":\"bbce6773-7490-4068-900c-3f93c9153b4c\",\"type\":\"Rect\"},{\"attributes\":{\"callback\":null,\"column_names\":[\"line_color\",\"line_alpha\",\"color\",\"fill_alpha\",\"height\",\"width\",\"y\",\"x\"],\"data\":{\"chart_index\":[{\"name\":\"rcpp\",\"type\":\"in_question_body\"}],\"color\":[\"#f22c40\"],\"fill_alpha\":[0.8],\"height\":[1006.0],\"line_alpha\":[1.0],\"line_color\":[\"white\"],\"name\":[\"rcpp\"],\"type\":[\"in_question_body\"],\"width\":[0.2],\"x\":[\"rcpp:0.666666666667\"],\"y\":[503.0]}},\"id\":\"4391033c-a42b-49a7-9cc2-c66378740bee\",\"type\":\"ColumnDataSource\"},{\"attributes\":{\"plot\":{\"id\":\"7e3c663f-5581-4f0b-b8c4-70083a389886\",\"subtype\":\"Chart\",\"type\":\"Plot\"}},\"id\":\"6213fed8-a833-4c26-ba20-deaafa5e9869\",\"type\":\"PanTool\"},{\"attributes\":{},\"id\":\"dc1cc52c-edd5-40f1-b548-a5c4ea298c7a\",\"type\":\"CategoricalTickFormatter\"},{\"attributes\":{\"plot\":{\"id\":\"20741ffe-5e2e-478d-b977-42a4db532730\",\"subtype\":\"Chart\",\"type\":\"Plot\"}},\"id\":\"173a7aed-ab16-4f92-9562-badbb7325e2a\",\"type\":\"ResetTool\"},{\"attributes\":{\"axis_label\":\"Sum( Count )\",\"formatter\":{\"id\":\"f596f677-6fc7-4be3-b7e7-4a68ee8fadda\",\"type\":\"BasicTickFormatter\"},\"plot\":{\"id\":\"1f041ec7-043c-4c87-b7f7-ed2707dd03cc\",\"subtype\":\"Chart\",\"type\":\"Plot\"},\"ticker\":{\"id\":\"f7bc22c9-4f9f-4509-8790-6ff5df64c706\",\"type\":\"BasicTicker\"}},\"id\":\"a6c51cba-5811-449b-b5c4-221a90da5be7\",\"type\":\"LinearAxis\"},{\"attributes\":{\"data_source\":{\"id\":\"972e0702-68ae-40bb-822e-01bd057275a7\",\"type\":\"ColumnDataSource\"},\"glyph\":{\"id\":\"36f620dd-4251-4e6a-8d28-35b04b3b8819\",\"type\":\"Rect\"},\"hover_glyph\":null,\"nonselection_glyph\":null,\"selection_glyph\":null},\"id\":\"c10c2905-1cee-43b5-9ce9-42cf8c8723b6\",\"type\":\"GlyphRenderer\"},{\"attributes\":{},\"id\":\"24fd1e74-fc4d-44cb-9dc1-ca2453100ad5\",\"type\":\"CategoricalTicker\"},{\"attributes\":{\"plot\":{\"id\":\"7e3c663f-5581-4f0b-b8c4-70083a389886\",\"subtype\":\"Chart\",\"type\":\"Plot\"}},\"id\":\"692fb974-95c4-4953-8394-0833ec166746\",\"type\":\"ResetTool\"},{\"attributes\":{},\"id\":\"05accda0-bae9-445a-ac05-44fbeb6df974\",\"type\":\"ToolEvents\"},{\"attributes\":{\"plot\":{\"id\":\"2c43db82-4aca-4f9b-bc0f-a5974c4da3eb\",\"subtype\":\"Chart\",\"type\":\"Plot\"}},\"id\":\"68c6e6f1-f65e-4fcb-b42c-30bcf91c5056\",\"type\":\"PreviewSaveTool\"},{\"attributes\":{\"callback\":null,\"column_names\":[\"line_color\",\"line_alpha\",\"color\",\"fill_alpha\",\"height\",\"width\",\"y\",\"x\"],\"data\":{\"chart_index\":[{\"name\":\"dplyr\",\"type\":\"in_question_body\"}],\"color\":[\"#f22c40\"],\"fill_alpha\":[0.8],\"height\":[2020.0],\"line_alpha\":[1.0],\"line_color\":[\"white\"],\"name\":[\"dplyr\"],\"type\":[\"in_question_body\"],\"width\":[0.2],\"x\":[\"dplyr:0.666666666667\"],\"y\":[1010.0]}},\"id\":\"d0fa70f3-bbc4-4033-8db7-435e8d63a796\",\"type\":\"ColumnDataSource\"},{\"attributes\":{\"callback\":null,\"column_names\":[\"line_color\",\"line_alpha\",\"color\",\"fill_alpha\",\"height\",\"width\",\"y\",\"x\"],\"data\":{\"chart_index\":[{\"name\":\"digest\",\"type\":\"in_question_body\"}],\"color\":[\"#f22c40\"],\"fill_alpha\":[0.8],\"height\":[5143.0],\"line_alpha\":[1.0],\"line_color\":[\"white\"],\"name\":[\"digest\"],\"type\":[\"in_question_body\"],\"width\":[0.2],\"x\":[\"digest:0.666666666667\"],\"y\":[2571.5]}},\"id\":\"29ce4f1d-f0c8-4431-b3c2-e380d0a65eac\",\"type\":\"ColumnDataSource\"},{\"attributes\":{\"callback\":null,\"column_names\":[\"line_color\",\"line_alpha\",\"color\",\"fill_alpha\",\"height\",\"width\",\"y\",\"x\"],\"data\":{\"chart_index\":[{\"name\":\"dplyr\",\"type\":\"tagged\"}],\"color\":[\"#5ab738\"],\"fill_alpha\":[0.8],\"height\":[4139.0],\"line_alpha\":[1.0],\"line_color\":[\"white\"],\"name\":[\"dplyr\"],\"type\":[\"tagged\"],\"width\":[0.2],\"x\":[\"dplyr:0.333333333333\"],\"y\":[2069.5]}},\"id\":\"6382b026-4637-412a-81c3-d06955b5e548\",\"type\":\"ColumnDataSource\"},{\"attributes\":{},\"id\":\"e40db650-6af8-4380-9cc7-a8891ad2b12b\",\"type\":\"BasicTickFormatter\"},{\"attributes\":{\"fill_alpha\":{\"field\":\"fill_alpha\"},\"fill_color\":{\"field\":\"color\"},\"height\":{\"field\":\"height\",\"units\":\"data\"},\"line_color\":{\"field\":\"line_color\"},\"width\":{\"field\":\"width\",\"units\":\"data\"},\"x\":{\"field\":\"x\"},\"y\":{\"field\":\"y\"}},\"id\":\"6d123b00-25a9-4473-8011-3d94da90510c\",\"type\":\"Rect\"},{\"attributes\":{\"callback\":null,\"end\":15710.1},\"id\":\"65ee5e27-14dc-4f5e-955e-0593ba648227\",\"type\":\"Range1d\"},{\"attributes\":{\"callback\":null,\"column_names\":[\"line_color\",\"line_alpha\",\"color\",\"fill_alpha\",\"height\",\"width\",\"y\",\"x\"],\"data\":{\"chart_index\":[{\"name\":\"rcpp\",\"type\":\"tagged\"}],\"color\":[\"#5ab738\"],\"fill_alpha\":[0.8],\"height\":[1266.0],\"line_alpha\":[1.0],\"line_color\":[\"white\"],\"name\":[\"rcpp\"],\"type\":[\"tagged\"],\"width\":[0.2],\"x\":[\"rcpp:0.333333333333\"],\"y\":[633.0]}},\"id\":\"144e8e36-b20a-45c1-893b-f19844ac1869\",\"type\":\"ColumnDataSource\"},{\"attributes\":{\"data_source\":{\"id\":\"6e91f912-cdf5-47a1-9552-651a44a84af1\",\"type\":\"ColumnDataSource\"},\"glyph\":{\"id\":\"bb87665b-61a9-4ab4-89f6-f3e3c139ab76\",\"type\":\"Rect\"},\"hover_glyph\":null,\"nonselection_glyph\":null,\"selection_glyph\":null},\"id\":\"026faf04-0f3a-48f1-a35e-51c4e95c1d9a\",\"type\":\"GlyphRenderer\"},{\"attributes\":{\"plot\":{\"id\":\"f6353f8b-83f4-40a3-8d47-3210b358534c\",\"subtype\":\"Chart\",\"type\":\"Plot\"}},\"id\":\"75cbf18c-dd66-4820-ab07-26abf90b8351\",\"type\":\"ResetTool\"},{\"attributes\":{\"callback\":null,\"column_names\":[\"line_color\",\"line_alpha\",\"color\",\"fill_alpha\",\"height\",\"width\",\"y\",\"x\"],\"data\":{\"chart_index\":[{\"days\":\"Thursday\"}],\"color\":[\"#f22c40\"],\"days\":[\"Thursday\"],\"fill_alpha\":[0.8],\"height\":[6.0],\"line_alpha\":[1.0],\"line_color\":[\"white\"],\"width\":[0.8],\"x\":[\"Thursday\"],\"y\":[3.0]}},\"id\":\"6d7e7e83-f5d9-4df0-9f68-69b2379b36ec\",\"type\":\"ColumnDataSource\"},{\"attributes\":{\"data_source\":{\"id\":\"e4d87d80-504d-45d6-afb9-22587645fdc7\",\"type\":\"ColumnDataSource\"},\"glyph\":{\"id\":\"57f57def-5458-4dfd-8edb-75109f91b36d\",\"type\":\"Rect\"},\"hover_glyph\":null,\"nonselection_glyph\":null,\"selection_glyph\":null},\"id\":\"4954fb34-5bf3-4f2a-ad2b-ebf297c1730f\",\"type\":\"GlyphRenderer\"},{\"attributes\":{\"data_source\":{\"id\":\"29ce4f1d-f0c8-4431-b3c2-e380d0a65eac\",\"type\":\"ColumnDataSource\"},\"glyph\":{\"id\":\"e369e4e7-bbd4-4494-9379-7cb59ed5e3c8\",\"type\":\"Rect\"},\"hover_glyph\":null,\"nonselection_glyph\":null,\"selection_glyph\":null},\"id\":\"df272d7f-4b11-43ed-89db-54e133490c61\",\"type\":\"GlyphRenderer\"},{\"attributes\":{\"callback\":null,\"column_names\":[\"line_color\",\"line_alpha\",\"color\",\"fill_alpha\",\"height\",\"width\",\"y\",\"x\"],\"data\":{\"chart_index\":[{\"name\":\"rcpp\",\"type\":\"in_question_body\"}],\"color\":[\"#f22c40\"],\"fill_alpha\":[0.8],\"height\":[1006.0],\"line_alpha\":[1.0],\"line_color\":[\"white\"],\"name\":[\"rcpp\"],\"type\":[\"in_question_body\"],\"width\":[0.2],\"x\":[\"rcpp:0.666666666667\"],\"y\":[503.0]}},\"id\":\"ae7b1bf2-e62d-4e4c-84d0-b1ef642ad37c\",\"type\":\"ColumnDataSource\"},{\"attributes\":{},\"id\":\"1ba072b1-05bf-42a3-9f58-f7917e1c9aac\",\"type\":\"CategoricalTicker\"},{\"attributes\":{\"callback\":null,\"column_names\":[\"line_color\",\"line_alpha\",\"color\",\"fill_alpha\",\"height\",\"width\",\"y\",\"x\"],\"data\":{\"chart_index\":[{\"name\":\"rcpp\",\"type\":\"tagged\"}],\"color\":[\"#5ab738\"],\"fill_alpha\":[0.8],\"height\":[1266.0],\"line_alpha\":[1.0],\"line_color\":[\"white\"],\"name\":[\"rcpp\"],\"type\":[\"tagged\"],\"width\":[0.2],\"x\":[\"rcpp:0.333333333333\"],\"y\":[633.0]}},\"id\":\"457f1a88-e928-41e6-b95d-e07e011a635c\",\"type\":\"ColumnDataSource\"},{\"attributes\":{\"below\":[{\"id\":\"45400d01-ef2d-4f4d-acfd-4d831a029777\",\"type\":\"CategoricalAxis\"}],\"left\":[{\"id\":\"00b5f90b-c346-48d0-a0bc-c3181b2276d5\",\"type\":\"LinearAxis\"}],\"legend\":null,\"renderers\":[{\"id\":\"e1ea3803-f368-43da-9040-099743321f24\",\"type\":\"BoxAnnotation\"},{\"id\":\"e014c4c3-e2f8-4109-9cd6-b813cd10c578\",\"type\":\"GlyphRenderer\"},{\"id\":\"f1ce3b04-02af-4a6b-a91a-6e8eda7c0d79\",\"type\":\"GlyphRenderer\"},{\"id\":\"ac4ecc68-6a68-4214-bacd-f3d050eefbd7\",\"type\":\"GlyphRenderer\"},{\"id\":\"72321632-9048-494c-b9e2-0de9f8d1659c\",\"type\":\"GlyphRenderer\"},{\"id\":\"c7522c6b-3e33-431a-a029-b96b6d9cfefb\",\"type\":\"GlyphRenderer\"},{\"id\":\"d9faa4dc-09ff-4b47-8d1f-b0db165dde4a\",\"type\":\"GlyphRenderer\"},{\"id\":\"2610af54-c313-4128-b4f0-10b6c6dc8033\",\"type\":\"GlyphRenderer\"},{\"id\":\"45400d01-ef2d-4f4d-acfd-4d831a029777\",\"type\":\"CategoricalAxis\"},{\"id\":\"00b5f90b-c346-48d0-a0bc-c3181b2276d5\",\"type\":\"LinearAxis\"},{\"id\":\"9dac7201-de61-455c-a10f-9436dc91fb31\",\"type\":\"Grid\"}],\"title\":\"OrderedDict Input\",\"title_text_font_size\":{\"value\":\"14pt\"},\"tool_events\":{\"id\":\"ea707c8b-c89f-4bef-a49e-812ee2e6c098\",\"type\":\"ToolEvents\"},\"tools\":[{\"id\":\"a62bf7aa-952b-4121-ae58-9eb3b3a27eec\",\"type\":\"PanTool\"},{\"id\":\"c855d999-177a-4ebd-a5a5-edb1cac11263\",\"type\":\"WheelZoomTool\"},{\"id\":\"cf1990ac-73c2-44ee-ac4f-c40fb7e9e825\",\"type\":\"BoxZoomTool\"},{\"id\":\"68c6e6f1-f65e-4fcb-b42c-30bcf91c5056\",\"type\":\"PreviewSaveTool\"},{\"id\":\"7abfd761-f306-4602-bbde-b6589ec4a886\",\"type\":\"ResizeTool\"},{\"id\":\"87651288-8ff8-4361-bed6-d689abc96cda\",\"type\":\"ResetTool\"},{\"id\":\"8306542c-19de-4b67-bb4f-880c34b1f9ff\",\"type\":\"HelpTool\"}],\"x_mapper_type\":\"auto\",\"x_range\":{\"id\":\"b8972c22-eebd-48ff-bcb5-e659fced3363\",\"type\":\"FactorRange\"},\"xgrid\":false,\"xscale\":\"auto\",\"y_mapper_type\":\"auto\",\"y_range\":{\"id\":\"982ba769-b810-42b4-bbdd-eb4997ad5958\",\"type\":\"Range1d\"},\"yscale\":\"auto\"},\"id\":\"2c43db82-4aca-4f9b-bc0f-a5974c4da3eb\",\"subtype\":\"Chart\",\"type\":\"Plot\"},{\"attributes\":{\"callback\":null,\"factors\":[\"caret\",\"digest\",\"dplyr\",\"ggplot2\",\"magrittr\",\"rcpp\"]},\"id\":\"c32770a2-e365-4601-91b1-1195ac0c0e76\",\"type\":\"FactorRange\"},{\"attributes\":{\"callback\":null,\"column_names\":[\"line_color\",\"line_alpha\",\"color\",\"fill_alpha\",\"height\",\"width\",\"y\",\"x\"],\"data\":{\"chart_index\":[{\"name\":\"caret\",\"type\":\"in_question_body\"}],\"color\":[\"#f22c40\"],\"fill_alpha\":[0.8],\"height\":[3989.0],\"line_alpha\":[1.0],\"line_color\":[\"white\"],\"name\":[\"caret\"],\"type\":[\"in_question_body\"],\"width\":[0.2],\"x\":[\"caret:0.666666666667\"],\"y\":[1994.5]}},\"id\":\"77b4dd95-285f-4d03-8f92-fcd2e49ef4f3\",\"type\":\"ColumnDataSource\"},{\"attributes\":{\"legends\":[[\"tagged\",[{\"id\":\"3f615a4c-2c7e-4450-88e6-e193ccbc2e9e\",\"type\":\"GlyphRenderer\"}]],[\"in_question_body\",[{\"id\":\"ffbcd01b-4f8d-4f6a-8ec7-b17dfae8aa64\",\"type\":\"GlyphRenderer\"}]]],\"plot\":{\"id\":\"7e3c663f-5581-4f0b-b8c4-70083a389886\",\"subtype\":\"Chart\",\"type\":\"Plot\"}},\"id\":\"e85fe06e-088a-41b8-998e-0809ce306947\",\"type\":\"Legend\"},{\"attributes\":{\"callback\":null,\"column_names\":[\"line_color\",\"line_alpha\",\"color\",\"fill_alpha\",\"height\",\"width\",\"y\",\"x\"],\"data\":{\"chart_index\":[{\"name\":\"rcpp\",\"type\":\"tagged\"}],\"color\":[\"#5ab738\"],\"fill_alpha\":[0.8],\"height\":[1266.0],\"line_alpha\":[1.0],\"line_color\":[\"white\"],\"name\":[\"rcpp\"],\"type\":[\"tagged\"],\"width\":[0.2],\"x\":[\"rcpp:0.333333333333\"],\"y\":[633.0]}},\"id\":\"1658af9f-b03f-45d6-ab78-b3962df07b39\",\"type\":\"ColumnDataSource\"},{\"attributes\":{},\"id\":\"e6cb0070-13ad-4db4-885f-d2dedc6ce351\",\"type\":\"CategoricalTickFormatter\"},{\"attributes\":{\"fill_alpha\":{\"field\":\"fill_alpha\"},\"fill_color\":{\"field\":\"color\"},\"height\":{\"field\":\"height\",\"units\":\"data\"},\"line_color\":{\"field\":\"line_color\"},\"width\":{\"field\":\"width\",\"units\":\"data\"},\"x\":{\"field\":\"x\"},\"y\":{\"field\":\"y\"}},\"id\":\"d0776165-0658-4829-8c15-10f5e2da0686\",\"type\":\"Rect\"},{\"attributes\":{\"data_source\":{\"id\":\"505e0406-8806-41f7-82d0-b9a0f363cff5\",\"type\":\"ColumnDataSource\"},\"glyph\":{\"id\":\"3a5840a8-487d-4a3b-922b-6b434e2d8aee\",\"type\":\"Rect\"},\"hover_glyph\":null,\"nonselection_glyph\":null,\"selection_glyph\":null},\"id\":\"2f2fc49b-7dcd-4f9b-ab13-ec3666150906\",\"type\":\"GlyphRenderer\"},{\"attributes\":{\"bottom_units\":\"screen\",\"fill_alpha\":{\"value\":0.5},\"fill_color\":{\"value\":\"lightgrey\"},\"left_units\":\"screen\",\"level\":\"overlay\",\"line_alpha\":{\"value\":1.0},\"line_color\":{\"value\":\"black\"},\"line_dash\":[4,4],\"line_width\":{\"value\":2},\"plot\":null,\"render_mode\":\"css\",\"right_units\":\"screen\",\"top_units\":\"screen\"},\"id\":\"e1ea3803-f368-43da-9040-099743321f24\",\"type\":\"BoxAnnotation\"},{\"attributes\":{\"fill_alpha\":{\"field\":\"fill_alpha\"},\"fill_color\":{\"field\":\"color\"},\"height\":{\"field\":\"height\",\"units\":\"data\"},\"line_color\":{\"field\":\"line_color\"},\"width\":{\"field\":\"width\",\"units\":\"data\"},\"x\":{\"field\":\"x\"},\"y\":{\"field\":\"y\"}},\"id\":\"97979d97-6b6a-44da-a7b8-4b5bc85829e7\",\"type\":\"Rect\"},{\"attributes\":{\"data_source\":{\"id\":\"18f9819d-14a6-493e-9f7a-3386603181eb\",\"type\":\"ColumnDataSource\"},\"glyph\":{\"id\":\"e4fbae77-7cba-489e-8c7b-86551d8880f2\",\"type\":\"Rect\"},\"hover_glyph\":null,\"nonselection_glyph\":null,\"selection_glyph\":null},\"id\":\"45b6f667-72ce-4e31-b750-aa71648e77d1\",\"type\":\"GlyphRenderer\"},{\"attributes\":{\"callback\":null,\"column_names\":[\"line_color\",\"line_alpha\",\"color\",\"fill_alpha\",\"height\",\"width\",\"y\",\"x\"],\"data\":{\"chart_index\":[{\"name\":\"ggplot2\",\"type\":\"in_question_body\"}],\"color\":[\"#f22c40\"],\"fill_alpha\":[0.8],\"height\":[4829.0],\"line_alpha\":[1.0],\"line_color\":[\"white\"],\"name\":[\"ggplot2\"],\"type\":[\"in_question_body\"],\"width\":[0.2],\"x\":[\"ggplot2:0.666666666667\"],\"y\":[2414.5]}},\"id\":\"c02ac229-91ce-4570-9ce2-3ac6423581fb\",\"type\":\"ColumnDataSource\"},{\"attributes\":{\"fill_alpha\":{\"field\":\"fill_alpha\"},\"fill_color\":{\"field\":\"color\"},\"height\":{\"field\":\"height\",\"units\":\"data\"},\"line_color\":{\"field\":\"line_color\"},\"width\":{\"field\":\"width\",\"units\":\"data\"},\"x\":{\"field\":\"x\"},\"y\":{\"field\":\"y\"}},\"id\":\"a31ba828-f0a5-426f-82cd-9bf65e860f5c\",\"type\":\"Rect\"},{\"attributes\":{\"data_source\":{\"id\":\"775c5fca-0735-4558-b73a-949a0e534eaa\",\"type\":\"ColumnDataSource\"},\"glyph\":{\"id\":\"6768d756-c2be-4cd8-98f2-07afbe2030ed\",\"type\":\"Rect\"},\"hover_glyph\":null,\"nonselection_glyph\":null,\"selection_glyph\":null},\"id\":\"d26c61bc-e16f-46eb-bc91-38abd5c5eadc\",\"type\":\"GlyphRenderer\"},{\"attributes\":{\"fill_alpha\":{\"field\":\"fill_alpha\"},\"fill_color\":{\"field\":\"color\"},\"height\":{\"field\":\"height\",\"units\":\"data\"},\"line_color\":{\"field\":\"line_color\"},\"width\":{\"field\":\"width\",\"units\":\"data\"},\"x\":{\"field\":\"x\"},\"y\":{\"field\":\"y\"}},\"id\":\"ca78c036-397f-40ff-8a3c-b549809775dd\",\"type\":\"Rect\"},{\"attributes\":{\"callback\":null,\"column_names\":[\"line_color\",\"line_alpha\",\"color\",\"fill_alpha\",\"height\",\"width\",\"y\",\"x\"],\"data\":{\"chart_index\":[{\"days\":\"Tuesday\"}],\"color\":[\"#f22c40\"],\"days\":[\"Tuesday\"],\"fill_alpha\":[0.8],\"height\":[4.0],\"line_alpha\":[1.0],\"line_color\":[\"white\"],\"width\":[0.8],\"x\":[\"Tuesday\"],\"y\":[2.0]}},\"id\":\"3121ca0d-8f5c-4209-8be1-b5d70745bf4d\",\"type\":\"ColumnDataSource\"},{\"attributes\":{\"dimension\":1,\"plot\":{\"id\":\"151e6670-6ea1-462b-860d-8411b8f54666\",\"subtype\":\"Chart\",\"type\":\"Plot\"},\"ticker\":{\"id\":\"70105e10-5608-41e6-aa3c-6a6b24ae5b43\",\"type\":\"BasicTicker\"}},\"id\":\"460b52dd-ea18-4678-a76b-4d53854409f0\",\"type\":\"Grid\"},{\"attributes\":{\"data_source\":{\"id\":\"41e9ba10-3f4c-4d8c-a2ab-ccb1d1fd3cf5\",\"type\":\"ColumnDataSource\"},\"glyph\":{\"id\":\"971b5ef2-0e65-4651-84ac-e9ddabcc5c50\",\"type\":\"Rect\"},\"hover_glyph\":null,\"nonselection_glyph\":null,\"selection_glyph\":null},\"id\":\"ac17b212-0ef4-430b-92c8-fba6839611e3\",\"type\":\"GlyphRenderer\"},{\"attributes\":{\"data_source\":{\"id\":\"9f745377-6990-44d1-9047-bfac4c074a84\",\"type\":\"ColumnDataSource\"},\"glyph\":{\"id\":\"05802b51-14e7-4ac9-9859-b11081df041f\",\"type\":\"Rect\"},\"hover_glyph\":null,\"nonselection_glyph\":null,\"selection_glyph\":null},\"id\":\"b2e0fd4e-be86-4a10-9917-61f1a3842b45\",\"type\":\"GlyphRenderer\"},{\"attributes\":{\"plot\":{\"id\":\"1f041ec7-043c-4c87-b7f7-ed2707dd03cc\",\"subtype\":\"Chart\",\"type\":\"Plot\"}},\"id\":\"7ca60099-0045-4082-a295-6ee3de47f8b7\",\"type\":\"PanTool\"},{\"attributes\":{\"data_source\":{\"id\":\"5eb3c972-3227-4a21-a6eb-aed937686504\",\"type\":\"ColumnDataSource\"},\"glyph\":{\"id\":\"572fb087-c3bd-451f-a1b1-cb05b432eaf4\",\"type\":\"Rect\"},\"hover_glyph\":null,\"nonselection_glyph\":null,\"selection_glyph\":null},\"id\":\"d9faa4dc-09ff-4b47-8d1f-b0db165dde4a\",\"type\":\"GlyphRenderer\"},{\"attributes\":{\"fill_alpha\":{\"field\":\"fill_alpha\"},\"fill_color\":{\"field\":\"color\"},\"height\":{\"field\":\"height\",\"units\":\"data\"},\"line_color\":{\"field\":\"line_color\"},\"width\":{\"field\":\"width\",\"units\":\"data\"},\"x\":{\"field\":\"x\"},\"y\":{\"field\":\"y\"}},\"id\":\"e369e4e7-bbd4-4494-9379-7cb59ed5e3c8\",\"type\":\"Rect\"},{\"attributes\":{\"callback\":null,\"column_names\":[\"line_color\",\"line_alpha\",\"color\",\"fill_alpha\",\"height\",\"width\",\"y\",\"x\"],\"data\":{\"chart_index\":[{\"name\":\"caret\",\"type\":\"tagged\"}],\"color\":[\"#5ab738\"],\"fill_alpha\":[0.8],\"height\":[556.0],\"line_alpha\":[1.0],\"line_color\":[\"white\"],\"name\":[\"caret\"],\"type\":[\"tagged\"],\"width\":[0.2],\"x\":[\"caret:0.333333333333\"],\"y\":[278.0]}},\"id\":\"ea077629-06e5-4a18-ba0f-b16e3bda6475\",\"type\":\"ColumnDataSource\"},{\"attributes\":{\"data_source\":{\"id\":\"79e9ca8d-bd97-4236-ad1e-2b53ee3fcf3e\",\"type\":\"ColumnDataSource\"},\"glyph\":{\"id\":\"20f9add3-54f0-47ca-bb4e-42a3c92d7bfa\",\"type\":\"Rect\"},\"hover_glyph\":null,\"nonselection_glyph\":null,\"selection_glyph\":null},\"id\":\"5aaa754e-796b-4e27-88cb-bfaadc277b48\",\"type\":\"GlyphRenderer\"},{\"attributes\":{\"callback\":null,\"column_names\":[\"line_color\",\"line_alpha\",\"color\",\"fill_alpha\",\"height\",\"width\",\"y\",\"x\"],\"data\":{\"chart_index\":[{\"name\":\"digest\",\"type\":\"in_question_body\"}],\"color\":[\"#f22c40\"],\"fill_alpha\":[0.8],\"height\":[5143.0],\"line_alpha\":[1.0],\"line_color\":[\"white\"],\"name\":[\"digest\"],\"type\":[\"in_question_body\"],\"width\":[0.2],\"x\":[\"digest:0.666666666667\"],\"y\":[2571.5]}},\"id\":\"5c9a9d3b-0c54-4de8-999d-7005b7607a74\",\"type\":\"ColumnDataSource\"},{\"attributes\":{\"data_source\":{\"id\":\"f03da7d6-b24c-42a0-9d3d-687277eba893\",\"type\":\"ColumnDataSource\"},\"glyph\":{\"id\":\"1103da96-9763-49bb-a10a-6eb023a7a482\",\"type\":\"Rect\"},\"hover_glyph\":null,\"nonselection_glyph\":null,\"selection_glyph\":null},\"id\":\"c796e6eb-2ac0-4848-974f-764b57cabc53\",\"type\":\"GlyphRenderer\"},{\"attributes\":{\"data_source\":{\"id\":\"c66b6468-ff0f-4959-b6a3-ae27173b731f\",\"type\":\"ColumnDataSource\"},\"glyph\":{\"id\":\"3a5f7a61-fb12-4f4b-a2c5-b1290eed0e18\",\"type\":\"Rect\"},\"hover_glyph\":null,\"nonselection_glyph\":null,\"selection_glyph\":null},\"id\":\"b5b13e55-c2e7-4328-81c3-66c8a9a226e6\",\"type\":\"GlyphRenderer\"},{\"attributes\":{\"fill_alpha\":{\"field\":\"fill_alpha\"},\"fill_color\":{\"field\":\"color\"},\"height\":{\"field\":\"height\",\"units\":\"data\"},\"line_color\":{\"field\":\"line_color\"},\"width\":{\"field\":\"width\",\"units\":\"data\"},\"x\":{\"field\":\"x\"},\"y\":{\"field\":\"y\"}},\"id\":\"750d98c1-af2d-497e-a7c7-a04992c6aae1\",\"type\":\"Rect\"},{\"attributes\":{\"fill_alpha\":{\"field\":\"fill_alpha\"},\"fill_color\":{\"field\":\"color\"},\"height\":{\"field\":\"height\",\"units\":\"data\"},\"line_color\":{\"field\":\"line_color\"},\"width\":{\"field\":\"width\",\"units\":\"data\"},\"x\":{\"field\":\"x\"},\"y\":{\"field\":\"y\"}},\"id\":\"767eb606-84b9-46f1-a51b-5dc4e5807a97\",\"type\":\"Rect\"},{\"attributes\":{\"data_source\":{\"id\":\"49d7a890-bd0e-4918-a9c5-6ba394671538\",\"type\":\"ColumnDataSource\"},\"glyph\":{\"id\":\"4ec0d4b5-23e2-4b23-bc92-7fd75d47165a\",\"type\":\"Rect\"},\"hover_glyph\":null,\"nonselection_glyph\":null,\"selection_glyph\":null},\"id\":\"a2a7dbed-1465-484d-8b40-dfa5a55e5484\",\"type\":\"GlyphRenderer\"},{\"attributes\":{\"fill_alpha\":{\"field\":\"fill_alpha\"},\"fill_color\":{\"field\":\"color\"},\"height\":{\"field\":\"height\",\"units\":\"data\"},\"line_color\":{\"field\":\"line_color\"},\"width\":{\"field\":\"width\",\"units\":\"data\"},\"x\":{\"field\":\"x\"},\"y\":{\"field\":\"y\"}},\"id\":\"4e2e0a52-b08a-4808-9beb-36bd4007ef39\",\"type\":\"Rect\"},{\"attributes\":{\"data_source\":{\"id\":\"6be9fdf4-557d-4643-bc50-19492ce51340\",\"type\":\"ColumnDataSource\"},\"glyph\":{\"id\":\"57488390-336b-457e-9060-6684a6f2343c\",\"type\":\"Rect\"},\"hover_glyph\":null,\"nonselection_glyph\":null,\"selection_glyph\":null},\"id\":\"a3dac2d4-f69f-40ed-91e1-97009c1c8a39\",\"type\":\"GlyphRenderer\"},{\"attributes\":{\"fill_alpha\":{\"field\":\"fill_alpha\"},\"fill_color\":{\"field\":\"color\"},\"height\":{\"field\":\"height\",\"units\":\"data\"},\"line_color\":{\"field\":\"line_color\"},\"width\":{\"field\":\"width\",\"units\":\"data\"},\"x\":{\"field\":\"x\"},\"y\":{\"field\":\"y\"}},\"id\":\"3a5f7a61-fb12-4f4b-a2c5-b1290eed0e18\",\"type\":\"Rect\"},{\"attributes\":{\"fill_alpha\":{\"field\":\"fill_alpha\"},\"fill_color\":{\"field\":\"color\"},\"height\":{\"field\":\"height\",\"units\":\"data\"},\"line_color\":{\"field\":\"line_color\"},\"width\":{\"field\":\"width\",\"units\":\"data\"},\"x\":{\"field\":\"x\"},\"y\":{\"field\":\"y\"}},\"id\":\"99f3fce6-6105-447a-a2a1-5544fde5df12\",\"type\":\"Rect\"},{\"attributes\":{\"axis_label\":\"Name\",\"formatter\":{\"id\":\"dc1cc52c-edd5-40f1-b548-a5c4ea298c7a\",\"type\":\"CategoricalTickFormatter\"},\"major_label_orientation\":0.7853981633974483,\"plot\":{\"id\":\"7f1bd811-eed1-4002-8757-7c097c3d2e4a\",\"subtype\":\"Chart\",\"type\":\"Plot\"},\"ticker\":{\"id\":\"7813d232-d4cf-422b-a777-bed4c993e176\",\"type\":\"CategoricalTicker\"}},\"id\":\"7b30b1dc-8837-4a08-b6c1-5aac60b61563\",\"type\":\"CategoricalAxis\"},{\"attributes\":{\"plot\":{\"id\":\"7f1bd811-eed1-4002-8757-7c097c3d2e4a\",\"subtype\":\"Chart\",\"type\":\"Plot\"}},\"id\":\"b9f5664d-348c-4630-93ab-e41aeb8d044e\",\"type\":\"ResetTool\"},{\"attributes\":{\"callback\":null,\"column_names\":[\"line_color\",\"line_alpha\",\"color\",\"fill_alpha\",\"height\",\"width\",\"y\",\"x\"],\"data\":{\"chart_index\":[{\"name\":\"dplyr\",\"type\":\"tagged\"}],\"color\":[\"#5ab738\"],\"fill_alpha\":[0.8],\"height\":[4139.0],\"line_alpha\":[1.0],\"line_color\":[\"white\"],\"name\":[\"dplyr\"],\"type\":[\"tagged\"],\"width\":[0.2],\"x\":[\"dplyr:0.333333333333\"],\"y\":[2069.5]}},\"id\":\"1e5f0449-4789-445e-8d0c-76920be1be9e\",\"type\":\"ColumnDataSource\"},{\"attributes\":{},\"id\":\"d28bedb5-f460-467c-a865-05ec2ed1b51f\",\"type\":\"BasicTicker\"},{\"attributes\":{\"data_source\":{\"id\":\"a84dd95b-6020-4721-91cb-cc40981da9a0\",\"type\":\"ColumnDataSource\"},\"glyph\":{\"id\":\"016a281c-37e5-434d-9fb0-f00f7eb45124\",\"type\":\"Rect\"},\"hover_glyph\":null,\"nonselection_glyph\":null,\"selection_glyph\":null},\"id\":\"907b15c1-4966-4e37-b10d-5a16b5833c55\",\"type\":\"GlyphRenderer\"},{\"attributes\":{\"plot\":{\"id\":\"1f041ec7-043c-4c87-b7f7-ed2707dd03cc\",\"subtype\":\"Chart\",\"type\":\"Plot\"}},\"id\":\"390aabbd-6101-40d2-b316-cdd1d5fd09f6\",\"type\":\"PreviewSaveTool\"},{\"attributes\":{},\"id\":\"f596f677-6fc7-4be3-b7e7-4a68ee8fadda\",\"type\":\"BasicTickFormatter\"},{\"attributes\":{\"data_source\":{\"id\":\"0640dbf0-53a6-4e57-8575-16b060c82a39\",\"type\":\"ColumnDataSource\"},\"glyph\":{\"id\":\"deb85781-29b3-42bf-b59d-0ed7ff052ce5\",\"type\":\"Rect\"},\"hover_glyph\":null,\"nonselection_glyph\":null,\"selection_glyph\":null},\"id\":\"73eb9591-4aa7-40a3-82e6-c14e8e30e2bf\",\"type\":\"GlyphRenderer\"},{\"attributes\":{\"data_source\":{\"id\":\"542891cd-09ed-4861-b389-d35e508c6855\",\"type\":\"ColumnDataSource\"},\"glyph\":{\"id\":\"69278751-0a26-4c6c-b0c6-b50d5dc6a050\",\"type\":\"Rect\"},\"hover_glyph\":null,\"nonselection_glyph\":null,\"selection_glyph\":null},\"id\":\"2610af54-c313-4128-b4f0-10b6c6dc8033\",\"type\":\"GlyphRenderer\"},{\"attributes\":{\"bottom_units\":\"screen\",\"fill_alpha\":{\"value\":0.5},\"fill_color\":{\"value\":\"lightgrey\"},\"left_units\":\"screen\",\"level\":\"overlay\",\"line_alpha\":{\"value\":1.0},\"line_color\":{\"value\":\"black\"},\"line_dash\":[4,4],\"line_width\":{\"value\":2},\"plot\":null,\"render_mode\":\"css\",\"right_units\":\"screen\",\"top_units\":\"screen\"},\"id\":\"3fbb1107-b5ee-4759-b227-650bbdd6d080\",\"type\":\"BoxAnnotation\"},{\"attributes\":{\"callback\":null,\"column_names\":[\"line_color\",\"line_alpha\",\"color\",\"fill_alpha\",\"height\",\"width\",\"y\",\"x\"],\"data\":{\"chart_index\":[{\"name\":\"digest\",\"type\":\"tagged\"}],\"color\":[\"#5ab738\"],\"fill_alpha\":[0.8],\"height\":[383.0],\"line_alpha\":[1.0],\"line_color\":[\"white\"],\"name\":[\"digest\"],\"type\":[\"tagged\"],\"width\":[0.2],\"x\":[\"digest:0.333333333333\"],\"y\":[191.5]}},\"id\":\"80f45d7d-d6e5-4d28-8bd2-4c7fb85b7d27\",\"type\":\"ColumnDataSource\"},{\"attributes\":{},\"id\":\"7813d232-d4cf-422b-a777-bed4c993e176\",\"type\":\"CategoricalTicker\"},{\"attributes\":{\"fill_alpha\":{\"field\":\"fill_alpha\"},\"fill_color\":{\"field\":\"color\"},\"height\":{\"field\":\"height\",\"units\":\"data\"},\"line_color\":{\"field\":\"line_color\"},\"width\":{\"field\":\"width\",\"units\":\"data\"},\"x\":{\"field\":\"x\"},\"y\":{\"field\":\"y\"}},\"id\":\"20f9add3-54f0-47ca-bb4e-42a3c92d7bfa\",\"type\":\"Rect\"},{\"attributes\":{},\"id\":\"b76b25a2-9cb1-4d51-a211-5094a3a6bc25\",\"type\":\"CategoricalTickFormatter\"},{\"attributes\":{\"dimension\":1,\"plot\":{\"id\":\"7e3c663f-5581-4f0b-b8c4-70083a389886\",\"subtype\":\"Chart\",\"type\":\"Plot\"},\"ticker\":{\"id\":\"e1cde3a2-b540-49f1-bfb6-6bc74362b67a\",\"type\":\"BasicTicker\"}},\"id\":\"cba3ea9f-e0ec-46c0-a567-3c644f1d0fc6\",\"type\":\"Grid\"},{\"attributes\":{\"callback\":null,\"end\":8.4},\"id\":\"982ba769-b810-42b4-bbdd-eb4997ad5958\",\"type\":\"Range1d\"},{\"attributes\":{\"axis_label\":\"Sum( Count )\",\"formatter\":{\"id\":\"f15004f7-8239-4959-924b-dd367ada196c\",\"type\":\"BasicTickFormatter\"},\"plot\":{\"id\":\"7ac9cce2-3107-4d43-90df-66a2275b2679\",\"subtype\":\"Chart\",\"type\":\"Plot\"},\"ticker\":{\"id\":\"86e04ff5-105b-4d04-9e17-8b44206916f6\",\"type\":\"BasicTicker\"}},\"id\":\"bedaa4c3-2264-4d2a-98b1-487f8eb21050\",\"type\":\"LinearAxis\"},{\"attributes\":{\"plot\":{\"id\":\"2c43db82-4aca-4f9b-bc0f-a5974c4da3eb\",\"subtype\":\"Chart\",\"type\":\"Plot\"}},\"id\":\"a62bf7aa-952b-4121-ae58-9eb3b3a27eec\",\"type\":\"PanTool\"},{\"attributes\":{},\"id\":\"c53c117e-aed8-4612-9680-ad7f7e9d3062\",\"type\":\"CategoricalTickFormatter\"},{\"attributes\":{\"fill_alpha\":{\"field\":\"fill_alpha\"},\"fill_color\":{\"field\":\"color\"},\"height\":{\"field\":\"height\",\"units\":\"data\"},\"line_color\":{\"field\":\"line_color\"},\"width\":{\"field\":\"width\",\"units\":\"data\"},\"x\":{\"field\":\"x\"},\"y\":{\"field\":\"y\"}},\"id\":\"dbc54b69-1320-4648-923e-fde622a60a98\",\"type\":\"Rect\"},{\"attributes\":{},\"id\":\"2b1fc9ce-f328-45c6-b3fb-399ea83ab159\",\"type\":\"BasicTickFormatter\"},{\"attributes\":{},\"id\":\"e603ac69-c4be-484b-9ca1-d650fc0ce8c9\",\"type\":\"CategoricalTickFormatter\"},{\"attributes\":{\"dimension\":1,\"plot\":{\"id\":\"1f041ec7-043c-4c87-b7f7-ed2707dd03cc\",\"subtype\":\"Chart\",\"type\":\"Plot\"},\"ticker\":{\"id\":\"f7bc22c9-4f9f-4509-8790-6ff5df64c706\",\"type\":\"BasicTicker\"}},\"id\":\"23b52374-268f-4e3d-93a4-09a3e435d837\",\"type\":\"Grid\"},{\"attributes\":{\"plot\":{\"id\":\"7ac9cce2-3107-4d43-90df-66a2275b2679\",\"subtype\":\"Chart\",\"type\":\"Plot\"}},\"id\":\"3c7a8f89-7ead-41f5-a975-15aca4fcc73a\",\"type\":\"HelpTool\"}],\"root_ids\":[\"151e6670-6ea1-462b-860d-8411b8f54666\",\"7f1bd811-eed1-4002-8757-7c097c3d2e4a\",\"7ac9cce2-3107-4d43-90df-66a2275b2679\",\"f6353f8b-83f4-40a3-8d47-3210b358534c\",\"2c43db82-4aca-4f9b-bc0f-a5974c4da3eb\",\"20741ffe-5e2e-478d-b977-42a4db532730\",\"7e3c663f-5581-4f0b-b8c4-70083a389886\",\"1f041ec7-043c-4c87-b7f7-ed2707dd03cc\"]},\"title\":\"Bokeh Application\",\"version\":\"0.11.1\"}};\n",
       "            var render_items = [{\"docid\":\"151d2659-a429-4235-87d1-1f7add53f0d3\",\"elementid\":\"cd87ed81-6e19-425e-90e6-173efb0f3429\",\"modelid\":\"1f041ec7-043c-4c87-b7f7-ed2707dd03cc\",\"notebook_comms_target\":\"017a991b-b764-4e15-92af-c18853f8d433\"}];\n",
       "            \n",
       "            Bokeh.embed.embed_items(docs_json, render_items);\n",
       "        });\n",
       "      },\n",
       "      function(Bokeh) {\n",
       "      }\n",
       "    ];\n",
       "  \n",
       "    function run_inline_js() {\n",
       "      for (var i = 0; i < inline_js.length; i++) {\n",
       "        inline_js[i](window.Bokeh);\n",
       "      }\n",
       "    }\n",
       "  \n",
       "    if (window._bokeh_is_loading === 0) {\n",
       "      console.log(\"Bokeh: BokehJS loaded, going straight to plotting\");\n",
       "      run_inline_js();\n",
       "    } else {\n",
       "      load_libs(js_urls, function() {\n",
       "        console.log(\"Bokeh: BokehJS plotting callback run at\", now());\n",
       "        run_inline_js();\n",
       "      });\n",
       "    }\n",
       "  }(this));\n",
       "</script>"
      ]
     },
     "metadata": {},
     "output_type": "display_data"
    },
    {
     "data": {
      "text/html": [
       "<p><code>&lt;Bokeh Notebook handle for <strong>In[95]</strong>&gt;</code></p>"
      ],
      "text/plain": [
       "<bokeh.io._CommsHandle at 0x1218784d0>"
      ]
     },
     "execution_count": 95,
     "metadata": {},
     "output_type": "execute_result"
    }
   ],
   "source": [
    "p = Bar(df, label=cat('name', sort=False), values='count', group='type',\n",
    "        title=\"PKGS FTW!\", legend='top_right')\n",
    "\n",
    "show(p)"
   ]
  },
  {
   "cell_type": "code",
   "execution_count": null,
   "metadata": {
    "collapsed": true
   },
   "outputs": [],
   "source": []
  },
  {
   "cell_type": "code",
   "execution_count": null,
   "metadata": {
    "collapsed": true
   },
   "outputs": [],
   "source": []
  },
  {
   "cell_type": "code",
   "execution_count": null,
   "metadata": {
    "collapsed": true
   },
   "outputs": [],
   "source": []
  }
 ],
 "metadata": {
  "kernelspec": {
   "display_name": "Python 2",
   "language": "python",
   "name": "python2"
  },
  "language_info": {
   "codemirror_mode": {
    "name": "ipython",
    "version": 2
   },
   "file_extension": ".py",
   "mimetype": "text/x-python",
   "name": "python",
   "nbconvert_exporter": "python",
   "pygments_lexer": "ipython2",
   "version": "2.7.12"
  },
  "name": "stack-overflow-api.ipynb"
 },
 "nbformat": 4,
 "nbformat_minor": 1
}
