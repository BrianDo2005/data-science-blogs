{
 "cells": [
  {
   "cell_type": "markdown",
   "metadata": {
    "ein.tags": [
     "worksheet-0"
    ],
    "slideshow": {
     "slide_type": "-"
    }
   },
   "source": [
    "# Use Stack Overflow API to get some R packages"
   ]
  },
  {
   "cell_type": "markdown",
   "metadata": {
    "ein.tags": [
     "worksheet-0"
    ],
    "slideshow": {
     "slide_type": "-"
    }
   },
   "source": [
    "demo:\n",
    "https://api.stackexchange.com/docs/tags-by-name#order=desc&sort=popular&tags=r&filter=default&site=stackoverflow&run=true\n",
    "\n",
    "more complex searches:\n",
    "https://api.stackexchange.com/docs/search#order=desc&sort=creation&tagged=pebble-watch%3Bpebble-sdk%3Bcloudpebble&filter=default&site=stackoverflow&run=true\n",
    "\n",
    "docs:\n",
    "https://api.stackexchange.com/docs"
   ]
  },
  {
   "cell_type": "markdown",
   "metadata": {
    "ein.tags": [
     "worksheet-0"
    ],
    "slideshow": {
     "slide_type": "-"
    }
   },
   "source": [
    "## Get overall site info"
   ]
  },
  {
   "cell_type": "code",
   "execution_count": 2,
   "metadata": {
    "autoscroll": "json-false",
    "collapsed": false,
    "ein.tags": [
     "worksheet-0"
    ],
    "slideshow": {
     "slide_type": "-"
    }
   },
   "outputs": [],
   "source": [
    "# MAIN SITE INFO\n",
    "import requests\n",
    "\n",
    "INFOURL = \"https://api.stackexchange.com/2.2/info\"\n",
    "\n",
    "params = {\n",
    "  \"site\" : \"stackoverflow\",\n",
    "  }\n",
    "\n",
    "r = requests.get(INFOURL, params=params)"
   ]
  },
  {
   "cell_type": "code",
   "execution_count": 3,
   "metadata": {
    "autoscroll": "json-false",
    "collapsed": false,
    "ein.tags": [
     "worksheet-0"
    ],
    "slideshow": {
     "slide_type": "-"
    }
   },
   "outputs": [
    {
     "data": {
      "text/plain": [
       "{u'has_more': False,\n",
       " u'items': [{u'answers_per_minute': 4.68,\n",
       "   u'api_revision': u'2017.1.3.24329',\n",
       "   u'badges_per_minute': 4.74,\n",
       "   u'new_active_users': 15,\n",
       "   u'questions_per_minute': 2.95,\n",
       "   u'total_accepted': 7112013,\n",
       "   u'total_answers': 20772648,\n",
       "   u'total_badges': 21075965,\n",
       "   u'total_comments': 64380077,\n",
       "   u'total_questions': 13091520,\n",
       "   u'total_unanswered': 3666272,\n",
       "   u'total_users': 6550803,\n",
       "   u'total_votes': 93869533}],\n",
       " u'quota_max': 300,\n",
       " u'quota_remaining': 180}"
      ]
     },
     "execution_count": 3,
     "metadata": {},
     "output_type": "execute_result"
    }
   ],
   "source": [
    "r.json()"
   ]
  },
  {
   "cell_type": "markdown",
   "metadata": {
    "ein.tags": [
     "worksheet-0"
    ],
    "slideshow": {
     "slide_type": "-"
    }
   },
   "source": [
    "## Get data for SO tags"
   ]
  },
  {
   "cell_type": "code",
   "execution_count": 5,
   "metadata": {
    "autoscroll": "json-false",
    "collapsed": false,
    "ein.tags": [
     "worksheet-0"
    ],
    "slideshow": {
     "slide_type": "-"
    }
   },
   "outputs": [],
   "source": [
    "import pandas as pd"
   ]
  },
  {
   "cell_type": "markdown",
   "metadata": {
    "ein.tags": [
     "worksheet-0"
    ],
    "slideshow": {
     "slide_type": "-"
    }
   },
   "source": [
    "structure:\n",
    "\n",
    "/2.2/tags/dplyr/info?order=desc&sort=popular&site=stackoverflow"
   ]
  },
  {
   "cell_type": "code",
   "execution_count": 43,
   "metadata": {
    "autoscroll": "json-false",
    "collapsed": false,
    "ein.tags": [
     "worksheet-0"
    ],
    "slideshow": {
     "slide_type": "-"
    }
   },
   "outputs": [],
   "source": [
    "def get_tag_data(tag):\n",
    "    BASEURL = \"https://api.stackexchange.com/2.2/tags/\"\n",
    "  \n",
    "    params = {\n",
    "        \"site\" : \"stackoverflow\"\n",
    "    }\n",
    "  \n",
    "    r = requests.get(BASEURL + tag + \"/info\", params=params)\n",
    "    if r.json()['has_more']:\n",
    "        print \"WARNING: Request has more data that is not shown here.\"\n",
    "    return r.json()['items']"
   ]
  },
  {
   "cell_type": "code",
   "execution_count": 44,
   "metadata": {
    "autoscroll": "json-false",
    "collapsed": false,
    "ein.tags": [
     "worksheet-0"
    ],
    "slideshow": {
     "slide_type": "-"
    }
   },
   "outputs": [
    {
     "data": {
      "text/html": [
       "<div>\n",
       "<table border=\"1\" class=\"dataframe\">\n",
       "  <thead>\n",
       "    <tr style=\"text-align: right;\">\n",
       "      <th></th>\n",
       "      <th>count</th>\n",
       "      <th>has_synonyms</th>\n",
       "      <th>is_moderator_only</th>\n",
       "      <th>is_required</th>\n",
       "      <th>name</th>\n",
       "    </tr>\n",
       "  </thead>\n",
       "  <tbody>\n",
       "    <tr>\n",
       "      <th>0</th>\n",
       "      <td>165750</td>\n",
       "      <td>True</td>\n",
       "      <td>False</td>\n",
       "      <td>False</td>\n",
       "      <td>r</td>\n",
       "    </tr>\n",
       "    <tr>\n",
       "      <th>1</th>\n",
       "      <td>14961</td>\n",
       "      <td>True</td>\n",
       "      <td>False</td>\n",
       "      <td>False</td>\n",
       "      <td>ggplot2</td>\n",
       "    </tr>\n",
       "    <tr>\n",
       "      <th>2</th>\n",
       "      <td>4137</td>\n",
       "      <td>False</td>\n",
       "      <td>False</td>\n",
       "      <td>False</td>\n",
       "      <td>dplyr</td>\n",
       "    </tr>\n",
       "  </tbody>\n",
       "</table>\n",
       "</div>"
      ],
      "text/plain": [
       "    count has_synonyms is_moderator_only is_required     name\n",
       "0  165750         True             False       False        r\n",
       "1   14961         True             False       False  ggplot2\n",
       "2    4137        False             False       False    dplyr"
      ]
     },
     "execution_count": 44,
     "metadata": {},
     "output_type": "execute_result"
    }
   ],
   "source": [
    "my_tags = 'dplyr;ggplot2;r'\n",
    "\n",
    "pd.DataFrame(get_tag_data(my_tags))"
   ]
  },
  {
   "cell_type": "code",
   "execution_count": 10,
   "metadata": {
    "autoscroll": "json-false",
    "collapsed": false,
    "ein.tags": [
     "worksheet-0"
    ],
    "slideshow": {
     "slide_type": "-"
    }
   },
   "outputs": [],
   "source": [
    "tag_list = pd.read_csv(\"list-of-packages.txt\", header=None)\n",
    "tag_list = list(tag_list.T[0])"
   ]
  },
  {
   "cell_type": "code",
   "execution_count": 45,
   "metadata": {
    "autoscroll": "json-false",
    "collapsed": false,
    "ein.tags": [
     "worksheet-0"
    ],
    "slideshow": {
     "slide_type": "-"
    }
   },
   "outputs": [],
   "source": [
    "my_tags = \"Rcpp;ggplot2;stringr;plyr;dplyr;digest;reshape2;tidyr;colorspace;RColorBrewer;\\\n",
    "manipulate;scales;labeling;proto;munsell;gtable;dichromat;mime;RCurl;magrittr;lubridate;caret\""
   ]
  },
  {
   "cell_type": "code",
   "execution_count": 132,
   "metadata": {
    "autoscroll": "json-false",
    "collapsed": false,
    "ein.tags": [
     "worksheet-0"
    ],
    "slideshow": {
     "slide_type": "-"
    }
   },
   "outputs": [],
   "source": [
    "df = pd.DataFrame(get_tag_data(my_tags))[['name', 'count']]\n",
    "df['type'] = \"tag_count\""
   ]
  },
  {
   "cell_type": "code",
   "execution_count": 133,
   "metadata": {
    "autoscroll": "json-false",
    "collapsed": false,
    "ein.tags": [
     "worksheet-0"
    ],
    "slideshow": {
     "slide_type": "-"
    }
   },
   "outputs": [
    {
     "data": {
      "text/html": [
       "<div>\n",
       "<table border=\"1\" class=\"dataframe\">\n",
       "  <thead>\n",
       "    <tr style=\"text-align: right;\">\n",
       "      <th></th>\n",
       "      <th>name</th>\n",
       "      <th>count</th>\n",
       "      <th>type</th>\n",
       "    </tr>\n",
       "  </thead>\n",
       "  <tbody>\n",
       "    <tr>\n",
       "      <th>0</th>\n",
       "      <td>ggplot2</td>\n",
       "      <td>14961</td>\n",
       "      <td>tag_count</td>\n",
       "    </tr>\n",
       "    <tr>\n",
       "      <th>1</th>\n",
       "      <td>dplyr</td>\n",
       "      <td>4137</td>\n",
       "      <td>tag_count</td>\n",
       "    </tr>\n",
       "    <tr>\n",
       "      <th>2</th>\n",
       "      <td>plyr</td>\n",
       "      <td>1739</td>\n",
       "      <td>tag_count</td>\n",
       "    </tr>\n",
       "    <tr>\n",
       "      <th>3</th>\n",
       "      <td>mime</td>\n",
       "      <td>1398</td>\n",
       "      <td>tag_count</td>\n",
       "    </tr>\n",
       "    <tr>\n",
       "      <th>4</th>\n",
       "      <td>rcpp</td>\n",
       "      <td>1266</td>\n",
       "      <td>tag_count</td>\n",
       "    </tr>\n",
       "    <tr>\n",
       "      <th>5</th>\n",
       "      <td>reshape2</td>\n",
       "      <td>640</td>\n",
       "      <td>tag_count</td>\n",
       "    </tr>\n",
       "    <tr>\n",
       "      <th>6</th>\n",
       "      <td>caret</td>\n",
       "      <td>556</td>\n",
       "      <td>tag_count</td>\n",
       "    </tr>\n",
       "    <tr>\n",
       "      <th>7</th>\n",
       "      <td>tidyr</td>\n",
       "      <td>508</td>\n",
       "      <td>tag_count</td>\n",
       "    </tr>\n",
       "    <tr>\n",
       "      <th>8</th>\n",
       "      <td>rcurl</td>\n",
       "      <td>486</td>\n",
       "      <td>tag_count</td>\n",
       "    </tr>\n",
       "    <tr>\n",
       "      <th>9</th>\n",
       "      <td>lubridate</td>\n",
       "      <td>403</td>\n",
       "      <td>tag_count</td>\n",
       "    </tr>\n",
       "    <tr>\n",
       "      <th>10</th>\n",
       "      <td>digest</td>\n",
       "      <td>383</td>\n",
       "      <td>tag_count</td>\n",
       "    </tr>\n",
       "    <tr>\n",
       "      <th>11</th>\n",
       "      <td>stringr</td>\n",
       "      <td>307</td>\n",
       "      <td>tag_count</td>\n",
       "    </tr>\n",
       "    <tr>\n",
       "      <th>12</th>\n",
       "      <td>magrittr</td>\n",
       "      <td>119</td>\n",
       "      <td>tag_count</td>\n",
       "    </tr>\n",
       "    <tr>\n",
       "      <th>13</th>\n",
       "      <td>gtable</td>\n",
       "      <td>81</td>\n",
       "      <td>tag_count</td>\n",
       "    </tr>\n",
       "    <tr>\n",
       "      <th>14</th>\n",
       "      <td>labeling</td>\n",
       "      <td>65</td>\n",
       "      <td>tag_count</td>\n",
       "    </tr>\n",
       "    <tr>\n",
       "      <th>15</th>\n",
       "      <td>proto</td>\n",
       "      <td>49</td>\n",
       "      <td>tag_count</td>\n",
       "    </tr>\n",
       "  </tbody>\n",
       "</table>\n",
       "</div>"
      ],
      "text/plain": [
       "         name  count       type\n",
       "0     ggplot2  14961  tag_count\n",
       "1       dplyr   4137  tag_count\n",
       "2        plyr   1739  tag_count\n",
       "3        mime   1398  tag_count\n",
       "4        rcpp   1266  tag_count\n",
       "5    reshape2    640  tag_count\n",
       "6       caret    556  tag_count\n",
       "7       tidyr    508  tag_count\n",
       "8       rcurl    486  tag_count\n",
       "9   lubridate    403  tag_count\n",
       "10     digest    383  tag_count\n",
       "11    stringr    307  tag_count\n",
       "12   magrittr    119  tag_count\n",
       "13     gtable     81  tag_count\n",
       "14   labeling     65  tag_count\n",
       "15      proto     49  tag_count"
      ]
     },
     "execution_count": 133,
     "metadata": {},
     "output_type": "execute_result"
    }
   ],
   "source": [
    "df"
   ]
  },
  {
   "cell_type": "markdown",
   "metadata": {
    "autoscroll": "json-false",
    "collapsed": false,
    "ein.tags": [
     "worksheet-0"
    ],
    "slideshow": {
     "slide_type": "-"
    }
   },
   "source": [
    "## Counts in question body"
   ]
  },
  {
   "cell_type": "code",
   "execution_count": 142,
   "metadata": {
    "autoscroll": "json-false",
    "collapsed": false,
    "ein.tags": [
     "worksheet-0"
    ],
    "slideshow": {
     "slide_type": "-"
    }
   },
   "outputs": [],
   "source": [
    "# SO api is NOT case-sensitive\n",
    "tag_set = ['dplyr', 'digest', 'ggplot2', 'rcpp', 'the']"
   ]
  },
  {
   "cell_type": "code",
   "execution_count": 150,
   "metadata": {
    "collapsed": true
   },
   "outputs": [],
   "source": [
    "def get_count(body_string):\n",
    "    \"\"\"Given string, find it in body of all SO questions, and return count\n",
    "    \n",
    "    Uses filter=total to return count\n",
    "    \"\"\"\n",
    "    r = requests.get('https://api.stackexchange.com/2.2/search/advanced?body=' + body_string + '&site=stackoverflow&filter=total')\n",
    "    return r.json()['total']"
   ]
  },
  {
   "cell_type": "code",
   "execution_count": 148,
   "metadata": {
    "autoscroll": "json-false",
    "collapsed": false,
    "ein.tags": [
     "worksheet-0"
    ],
    "slideshow": {
     "slide_type": "-"
    }
   },
   "outputs": [
    {
     "name": "stdout",
     "output_type": "stream",
     "text": [
      "{u'total': 2018}\n",
      "{u'total': 5143}\n",
      "{u'total': 4829}\n",
      "{u'total': 1006}\n",
      "{u'total': 9875030}\n"
     ]
    }
   ],
   "source": [
    "counts_in_question_body = { item: get_count(item) for item in tag_set}"
   ]
  },
  {
   "cell_type": "code",
   "execution_count": 149,
   "metadata": {
    "collapsed": false
   },
   "outputs": [
    {
     "data": {
      "text/plain": [
       "{'a': 9875030, 'digest': 5143, 'dplyr': 2018, 'ggplot2': 4829, 'rcpp': 1006}"
      ]
     },
     "execution_count": 149,
     "metadata": {},
     "output_type": "execute_result"
    }
   ],
   "source": [
    "counts_in_question_body"
   ]
  },
  {
   "cell_type": "code",
   "execution_count": null,
   "metadata": {
    "collapsed": true
   },
   "outputs": [],
   "source": []
  }
 ],
 "metadata": {
  "kernelspec": {
   "display_name": "Python 2",
   "language": "python",
   "name": "python2"
  },
  "language_info": {
   "codemirror_mode": {
    "name": "ipython",
    "version": 2
   },
   "file_extension": ".py",
   "mimetype": "text/x-python",
   "name": "python",
   "nbconvert_exporter": "python",
   "pygments_lexer": "ipython2",
   "version": "2.7.12"
  },
  "name": "stack-overflow-api.ipynb"
 },
 "nbformat": 4,
 "nbformat_minor": 1
}
