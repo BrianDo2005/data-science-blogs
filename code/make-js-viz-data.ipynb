{
 "cells": [
  {
   "cell_type": "markdown",
   "metadata": {},
   "source": [
    "# Ranking JS visualization packages"
   ]
  },
  {
   "cell_type": "code",
   "execution_count": 1,
   "metadata": {
    "collapsed": true
   },
   "outputs": [],
   "source": [
    "import requests\n",
    "import logging\n",
    "import pandas as pd\n",
    "import numpy as np\n",
    "import urllib2\n",
    "import dill\n",
    "import time\n",
    "import json\n",
    "from datetime import date, timedelta\n",
    "from bs4 import BeautifulSoup\n",
    "import unicodedata\n",
    "import csv\n",
    "import sys\n",
    "sys.path.append('../code')\n",
    "sys.path.append('../data')"
   ]
  },
  {
   "cell_type": "markdown",
   "metadata": {},
   "source": [
    "## Create package list"
   ]
  },
  {
   "cell_type": "markdown",
   "metadata": {},
   "source": [
    "### 1    https://github.com/fasouto/awesome-dataviz"
   ]
  },
  {
   "cell_type": "code",
   "execution_count": 2,
   "metadata": {
    "collapsed": false
   },
   "outputs": [],
   "source": [
    "r1 = requests.get('https://github.com/fasouto/awesome-dataviz')\n",
    "soup1 = BeautifulSoup(r1.text, 'lxml')\n",
    "pkgs1 = []\n",
    "for ana in soup1.findAll('a', attrs={'span class': None}):\n",
    "    if ana.parent.name == 'li':       \n",
    "        pkgs1.append(str(ana.text).lower().replace(\" \", \"-\"))\n",
    "pkgs1 = pkgs1[39:73]"
   ]
  },
  {
   "cell_type": "code",
   "execution_count": 3,
   "metadata": {
    "collapsed": false
   },
   "outputs": [
    {
     "name": "stdout",
     "output_type": "stream",
     "text": [
      "['chart.js', 'chartist.js', 'dc.js', 'dimple', 'dygraphs', 'echarts', 'react-wrapper', 'epoch', 'metricsgraphics.js', 'nvd3', 'peity', 'plotly.js', 'techanjs', 'cola.js', 'cytoscape.js', 'cytoscape', 'sigma.js', 'vivagraph', 'carto', 'cesium', 'datamaps', 'leaflet', 'leaflet-data-visualization-framework', 'mapael', 'awesome-d3', 'react-vis', 'recharts', 'victory', 'chroma.js', 'piecon', 'textures.js', 'timeline.js', 'vega', 'vis.js']\n"
     ]
    }
   ],
   "source": [
    "print pkgs1"
   ]
  },
  {
   "cell_type": "code",
   "execution_count": 4,
   "metadata": {
    "collapsed": true
   },
   "outputs": [],
   "source": [
    "# awesome d3 is not a package, but a link to another page with more JS dataviz\n",
    "# we removed awesome d3 and added the packages from that page\n",
    "pkgs1.remove('awesome-d3')"
   ]
  },
  {
   "cell_type": "markdown",
   "metadata": {},
   "source": [
    "### 2 https://github.com/wbkd/awesome-d3"
   ]
  },
  {
   "cell_type": "code",
   "execution_count": 5,
   "metadata": {
    "collapsed": true
   },
   "outputs": [],
   "source": [
    "r2 = requests.get('https://github.com/wbkd/awesome-d3')\n",
    "soup2 = BeautifulSoup(r2.text, 'lxml')\n",
    "pkgs2 = []\n",
    "for ana in soup2.findAll('a', attrs={'span class': None}):\n",
    "    if ana.parent.name == 'li':       \n",
    "        pkgs2.append(str(ana.text).lower().replace(\" \", \"-\"))\n",
    "pkgs2 = pkgs2[17:153]"
   ]
  },
  {
   "cell_type": "code",
   "execution_count": 6,
   "metadata": {
    "collapsed": false
   },
   "outputs": [
    {
     "name": "stdout",
     "output_type": "stream",
     "text": [
      "['billboard', 'britecharts', 'bullet-chart', 'cirrus.js', 'cubism', 'cola.js', 'c3', 'dagre-d3', 'dc', 'dimple', 'd3.chart', 'd3.chart.sankey', 'd3-bar', 'd3-bumps-chart', 'd3-circle', 'd3-dot', 'd3-heatmap', 'd3-line', 'd3-flame-graph', 'd3-horizon-chart', 'd3-message-sequence', 'd3-timeline', 'd3fc', 'd3funnel', 'd3panels', 'd3pie', 'd3xter', 'd3-timeseries', 'd4', 'dtree', 'epoch', 'eventdrops', 'fancycharts', 'firespray', 'forest-d3', 'gantt-chart', 'insights', 'metricsgraphics', 'micropolar', 'mpld3', 'nvd3', 'peek', 'plotly', 'plottablejs', 'pykcharts', 'radar-chart', 'rickshaw', 'sankey', 'taucharts', 'techanjs', 'uvcharts', 'vega', 'vizabi', 'xkcdgraphs', 'angular-nvd3', 'd3act', 'd3-simplecharts', 'ember-charts', 'n3-charts', 'react-d3', 'react-d3-components', 'react-d3-library', 'react-stockcharts', 'react-vis', 'recharts', 'victory', 'vx', 'd3.chart', 'kotojs', 'carto-map', 'composite-projections', 'datamaps', 'd3-cartogram', 'd3-exploder', 'd3-geo-projection', 'd3-geomap', 'd3.geo2rect', 'mapmap.js', 'mapsense.js', 'maptable', 'simple-map', 'spam', 'leaflet-d3', 'react-d3-map', 'wikimaps-d3js-atlas', 'chroniton', 'd3kit-timeline', 'd3scription', 'd3-annotation', 'd3-area-label', 'd3-component', 'd3-extended', 'd3-helpers', 'd3-history', 'd3-iconarray', 'd3-kit', 'd3-labeler', 'd3-lasso', 'd3-legend', 'd3-loom', 'd3-nelson-rules', 'd3-peaks', 'd3-plus', 'd3-ring-note', 'd3-scale-cluster', 'd3-sparql', 'd3-starterkit', 'd3-tip', 'd3-tipy', 'd3-trail', 'd3-xray', 'd3.slider', 'd3.svg.circularbrush', 'd3.svg.ribbon', 'iopctrl', 'jetpack', 'kodama', 'swoopyarrows', 'swoopydrag', 'textures', 'chess-dataviz', 'codeflower', 'comic.js', 'dragit', 'd3moji', 'd3-cloud', 'd3-context-menu', 'd3-force-gravity', 'd3-resume', 'd3.sketchy', 'd3plus', 'd3plus-text', 'graph-scroll', 'jsdocs2diagram', 'mermaid', 'netvis']\n"
     ]
    }
   ],
   "source": [
    "print pkgs2"
   ]
  },
  {
   "cell_type": "code",
   "execution_count": 7,
   "metadata": {
    "collapsed": true
   },
   "outputs": [],
   "source": [
    "with open(\"../data/js_vis_pkgs1.txt\", 'rb') as f:\n",
    "    lines = f.readlines()\n",
    "    src_url1 = lines[0].strip()\n",
    "    pkgs1 = [p.strip().lower().replace(\" \", \"-\") for p in lines[1:]]"
   ]
  },
  {
   "cell_type": "markdown",
   "metadata": {},
   "source": [
    "### 3 https://en.wikipedia.org/wiki/Comparison_of_JavaScript_charting_frameworks"
   ]
  },
  {
   "cell_type": "code",
   "execution_count": 8,
   "metadata": {
    "collapsed": true
   },
   "outputs": [],
   "source": [
    "r3 = requests.get('https://en.wikipedia.org/wiki/Comparison_of_JavaScript_charting_frameworks')\n",
    "soup3 = BeautifulSoup(r3.text, 'lxml')\n",
    "pkgs3 = []"
   ]
  },
  {
   "cell_type": "code",
   "execution_count": 9,
   "metadata": {
    "collapsed": false
   },
   "outputs": [],
   "source": [
    "for ana in soup3.findAll('a', attrs={'class': 'external text', 'rel':'nofollow'}):\n",
    "    if ana.parent.name == 'td':\n",
    "        pkgs3.append(str(ana.text).lower().replace(\" \", \"-\"))"
   ]
  },
  {
   "cell_type": "code",
   "execution_count": 10,
   "metadata": {
    "collapsed": false
   },
   "outputs": [
    {
     "name": "stdout",
     "output_type": "stream",
     "text": [
      "['echarts', 'amcharts', 'anychart', 'c3.js', 'canvasjs', 'cc-by-nc-3.0', 'canvasxpress', 'gplv3', 'chartist', 'chart.js', 'chart-builder-by-livegap', 'charts-4-php', 'cytoscape.js', 'dc', 'devextreme', 'dhtmlx-charts', 'dimple', 'dojo-charting', 'dygraphs', 'factmint-charts', 'flot-charts', 'fusioncharts', 'flotr2', 'graphael', 'highcharts,-highstock', 'jenscript', 'jqplot', 'koolchart', 'metricsgraphics', 'nextcharts', 'nvd3', 'olapcharts', 'plotly.js', 'pluscharts', 'rgraph', 'rickshaw', 'shield-ui', 'syncfusion', 'teechart-for-javascript', 'vaadin-charts', 'vancharts', 'visjs', 'webcharts', 'webix-ui', 'xcharts', 'yui-charts', 'zingchart', 'zoomcharts']\n"
     ]
    }
   ],
   "source": [
    "print pkgs3"
   ]
  },
  {
   "cell_type": "markdown",
   "metadata": {},
   "source": [
    "### 4  https://cssauthor.com/javascript-charting-libraries/"
   ]
  },
  {
   "cell_type": "code",
   "execution_count": 11,
   "metadata": {
    "collapsed": false
   },
   "outputs": [],
   "source": [
    "r4 = requests.get('https://cssauthor.com/javascript-charting-libraries/')\n",
    "soup4 = BeautifulSoup(r4.text, 'lxml')\n",
    "pkgs4 = [unicodedata.normalize('NFKD', item.text).encode('ascii','ignore').lower().replace(\" \", \"-\") for item in soup4.findAll('h3', attrs={'class': None})]"
   ]
  },
  {
   "cell_type": "code",
   "execution_count": 12,
   "metadata": {
    "collapsed": false
   },
   "outputs": [
    {
     "name": "stdout",
     "output_type": "stream",
     "text": [
      "['chart.js', 'pizza-pie-charts', 'fusioncharts', 'google-chart', 'pluscharts', 'highcharts', 'd3.js', 'ember-charts', 'plottable.js', 'amcharts', 'ejscharts', 'anychart', 'plotly.js', 'dhtmlx-charts', 'factmint-charts', 'koolchart', 'shield-ui', 'syncfusion', 'steema', 'vaadin-charts', 'vancharts', 'zoomcharts', 'taucharts', 'vis.js', 'chartist.js', 'c3.js', 'n3-charts', 'sigma-js', 'morris.js', 'canvasjs', 'zingchart', 'charts-4-php', 'metricsgraphics.js', 'webix-charts', 'olapcharts', 'raphael', 'rickshaw', 'livegap', 'nvd3', 'cytoscape.js', 'cubism.js', 'uvcharts', 'jqplot', 'jquery-highcharttable', 'xcharts', 'protovis', 'flot', 'dygraphs', 'jquery-sparklines', 'smoothie-charts', 'chartkick', 'canvasxpress', 'dc.js', 'dimple', 'flotr2', 'jenscript-js', 'nextcharts', 'rgraph']\n"
     ]
    }
   ],
   "source": [
    "print pkgs4"
   ]
  },
  {
   "cell_type": "markdown",
   "metadata": {},
   "source": [
    "## combine lists"
   ]
  },
  {
   "cell_type": "code",
   "execution_count": 13,
   "metadata": {
    "collapsed": false
   },
   "outputs": [
    {
     "name": "stdout",
     "output_type": "stream",
     "text": [
      "[19, 136, 48, 58]\n"
     ]
    }
   ],
   "source": [
    "print map(len, [pkgs1, pkgs2, pkgs3, pkgs4])"
   ]
  },
  {
   "cell_type": "code",
   "execution_count": 14,
   "metadata": {
    "collapsed": true
   },
   "outputs": [],
   "source": [
    "pkgs = list(set(pkgs1 + pkgs2 + pkgs3 + pkgs4))"
   ]
  },
  {
   "cell_type": "code",
   "execution_count": 15,
   "metadata": {
    "collapsed": false
   },
   "outputs": [
    {
     "data": {
      "text/plain": [
       "216"
      ]
     },
     "execution_count": 15,
     "metadata": {},
     "output_type": "execute_result"
    }
   ],
   "source": [
    "len(pkgs)"
   ]
  },
  {
   "cell_type": "code",
   "execution_count": null,
   "metadata": {
    "collapsed": false
   },
   "outputs": [],
   "source": []
  },
  {
   "cell_type": "markdown",
   "metadata": {},
   "source": [
    "#### remove D3 modules and plugins, leave D3 derivatives (D3 module rankings can be found in D3_modules_analysis.ipynb)"
   ]
  },
  {
   "cell_type": "code",
   "execution_count": 16,
   "metadata": {
    "collapsed": true
   },
   "outputs": [],
   "source": [
    "#Scrape npm for all packages with d3-module as a keyword\n",
    "\n",
    "offsets = [0,36,72,108]\n",
    "D3mods=[]\n",
    "for offset in offsets:\n",
    "    r = requests.get('https://www.npmjs.com/browse/keyword/d3-module?offset='+str(offset))\n",
    "    soup = BeautifulSoup(r.text, 'lxml')\n",
    "    [D3mods.append(ana.text) for ana in BeautifulSoup(r.text, 'lxml').findAll('a',attrs={'class':'name'})]"
   ]
  },
  {
   "cell_type": "code",
   "execution_count": 17,
   "metadata": {
    "collapsed": false
   },
   "outputs": [],
   "source": [
    "D3mods.extend([pkg for pkg in pkgs if \"d3\" in pkg])"
   ]
  },
  {
   "cell_type": "code",
   "execution_count": 18,
   "metadata": {
    "collapsed": false
   },
   "outputs": [
    {
     "name": "stdout",
     "output_type": "stream",
     "text": [
      "[u'd3-hcg', u'd3-table', 'mpld3', u'd3-timelines', u'd3-horizon-chart', u'd3-axes', 'forest-d3', u'd3-component', 'd3-resume', 'd3-timeline', u'd3-hexbin', 'd3', u'd3-mesh', u'd3-geo-warp', u'd3-geo', 'd3pie', u'd3-shape', u'd3-scale-chromatic', 'react-d3-components', u'd3-x3dom-shape', u'd3-format', u'd3-binarytree', 'd3.chart', u'd3-components', u'd3-area-label', u'd3-force-cluster', u'd3-summary-tiles', 'd3-annotation', u'd3-source-sink', u'd3-axis', u'd3-tube-map', 'd3-kit', 'd3fc', u'd3-collection', u'd3-canvas-transition', 'd3-bar', u'd3-binaryree', u'd3-wrap', u'd3-view', 'd3-peaks', u'@plotly/d3-sankey', u'd3-bboxCollide', u'd3-force-3d', u'd3-scale-interactive', u'd3-czip', u'd3-polygon', u'd3-hierarchy', u'd3-geo-projection', u'd3-brush-2', u'd3-let', u'@zambezi/d3-rebind', u'd3-brush', u'd3-foodweb', u'd3-icon', u'd3-force-bounce', u'd3-beeswarm', u'd3-ellipse-force', u'd3-interpolate', u'g-chartcolour', 'd3panels', u'bki-d3-timer', u'd3-sankeyseq', 'd3-nelson-rules', u'd3-hypergraph', u'd3-hist2d', 'd3act', u'd3-graphviz', u'd3-dsv', 'd3.svg.ribbon', u'd3-annotate', u'd3-array', u'd3-path', u'd3-xyzoom', 'd3-heatmap', 'leaflet-d3', 'd3-cartogram', u'd3-force-container', u'd3-force-attract', 'd3.sketchy', u'@hpcc-js/d3-bullet', 'd3-labeler', 'wikimaps-d3js-atlas', 'd3.svg.circularbrush', u'd3-quant', u'd3-timer', u'd3-zoom', 'd3-tip', u'd3-radial-axis', u'd3-textwrap', 'react-d3-library', 'd3-plus', u'd3-tile', u'd3-voronoi', u'd3-svg-annotation', u'd3-foo', u'd3-loom', 'd3-exploder', u'd3-random', u'erd3', 'd3.js', u'd3-transition', u'd3-dispatch', u'd3-gtimeline', 'd3-lasso', 'd3-tipy', 'd3xter', 'd3-scale-cluster', u'd3-bumps-chart', u'd3-transition-bki', u'd3-force-surface', 'd3-flame-graph', u'd3-force', u'd3-swoopy-drag', u'graph-scroll', 'd3-timeseries', 'd3-legend', 'd3-geomap', u'd3-time', 'd3-circle', 'd3.slider', u'd3-hsv', u'd3-rect', 'd3-cloud', 'd3-simplecharts', u'd3-request', u'd3-symbol-extra', u'd3-hexjson', u'd3-shotchart', 'd3.chart.sankey', u'd3-selection-multi', u'd3-sankey-diagram', 'd3-force-gravity', u'd3-jnd', u'd3-svg-legend', 'd3-helpers', 'd3moji', 'd3-iconarray', u'd3-format-india', 'd3-context-menu', u'd3-scale-2', u'd3-line-chunked', 'react-d3-map', u'd3-compose', 'd3scription', 'd3-xray', u'd3-cam02', 'd3-starterkit', 'd3-ring-note', u'd3-sparql', u'd3-fetch', u'd3-quadtree', 'd3.geo2rect', 'd3-dot', u'd3-queue', u'@monfera/d3-sankey', u'd3-logictree', u'd3-ease', u'd2b', u'd3-force-magnetic', u'd3-contour', 'd3-trail', u'd3-history', u'd3-octree', u'd3-marcon', 'd3-message-sequence', 'd3kit-timeline', 'd3-line', u'd3-sankey', u'd3-jetpack-module', 'd3-extended', 'react-d3', 'd3funnel', u'd3-selection', u'd3-geo-voronoi', u'd3-parent', u'd3-time-format', u'd3-electrophoresis', u'd3-scale', u'd3-drag', u'd3-colorbar', 'd3plus-text', u'd3-axonometric', u'd3-gridding', u'd3-selection-multi-bki', 'dagre-d3', u'd3-jetpack', u'd3-color', u'd3-color-2', 'd3plus', u'd3-multichord', u'g-legend', u'd3-interpolate-path', u'd3-chord']\n"
     ]
    }
   ],
   "source": [
    "D3mods = list(set(D3mods))\n",
    "D3mods.remove('nvd3')\n",
    "D3mods.remove('angular-nvd3')\n",
    "with open(\"../output/D3mods_pkgs.csv\", 'wb') as myfile:\n",
    "    wr = csv.writer(myfile)\n",
    "    wr.writerow(D3mods)\n",
    "#D3 mods data is collected any analyzed in another notebook- D3_modules_analysis.ipynb\n",
    "print D3mods"
   ]
  },
  {
   "cell_type": "code",
   "execution_count": 19,
   "metadata": {
    "collapsed": true
   },
   "outputs": [],
   "source": [
    "pkgs = [pkg for pkg in pkgs if pkg not in D3mods]\n",
    "pkgs.append('d3')\n",
    "pkgs.append('nvd3')\n",
    "pkgs.append('angular-nvd3')"
   ]
  },
  {
   "cell_type": "code",
   "execution_count": 20,
   "metadata": {
    "collapsed": false
   },
   "outputs": [
    {
     "name": "stdout",
     "output_type": "stream",
     "text": [
      "['webcharts', 'dtree', 'shield-ui', 'dygraphs', 'vis.js', 'recharts', 'factmint-charts', 'jenscript', 'protovis', 'flot-charts', 'insights', 'modestmaps-js', 'fancycharts', 'react-vis', 'codeflower', 'dc', 'morris.js', 'chartist.js', 'iopctrl', 'chart-builder-by-livegap', 'vancharts', 'jquery-sparklines', 'pluscharts', 'victory', 'vizabi', 'graphael', 'textures', 'syncfusion', 'vizceral', 'google-chart', 'jsdocs2diagram', 'mapsense.js', 'sankey', 'billboard', 'visjs', 'cc-by-nc-3.0', 'chartist', 'd4', 'envisionjs', 'smoothie-charts', 'chroniton', 'jqplot', 'swoopydrag', 'dojo-charting', 'nvd3', 'canvasxpress', 'yui-charts', 'chartist-js', 'fusioncharts', 'plotly.js', 'taucharts', 'peek', 'maptable', 'bullet-chart', 'micropolar', 'zoomcharts', 'comic.js', 'sigma.js', 'carto-map', 'deck.gl', 'anychart', 'chart.js', 'mapmap.js', 'gplv3', 'datamaps', 'cesium', 'react-stockcharts', 'swoopyarrows', 'highcharts', 'amcharts', 'britecharts', 'netvis', 'metrics-graphics', 'ember-charts', 'jenscript-js', 'webix-charts', 'chess-dataviz', 'kodama', 'radar-chart', 'spam', 'jetpack', 'gantt-chart', 'metricsgraphics.js', 'angular-nvd3', 'keen-dataviz.js', 'echarts', 'mermaid', 'olapcharts', 'firespray', 'teechart-for-javascript', 'kotojs', 'steema', 'canvasjs', 'pykcharts', 'rickshaw', 'pizza-pie-charts', 'c3', 'plottablejs', 'nextcharts', 'dc.js', 'highcharts,-highstock', 'c3.js', 'composite-projections', 'zingchart', 'techanjs', 'xkcdgraphs', 'cola.js', 'vega', 'plotly', 'jquery-highcharttable', 'charts-4-php', 'dhtmlx-charts', 'cytoscape.js', 'raw', 'vx', 'sigma-js', 'cubism', 'raphael', 'arbor', 'ejscharts', 'webix-ui', 'dimple', 'n3-charts', 'flotr2', 'devextreme', 'epoch', 'metricsgraphics', 'livegap', 'vaadin-charts', 'recline', 'rgraph', 'uvcharts', 'cirrus.js', 'xcharts', 'simple-map', 'dragit', 'koolchart', 'flot', 'leaflet', 'chartkick', 'eventdrops', 'plottable.js', 'cubism.js', 'd3', 'nvd3', 'angular-nvd3']\n"
     ]
    }
   ],
   "source": [
    "print pkgs"
   ]
  },
  {
   "cell_type": "code",
   "execution_count": 21,
   "metadata": {
    "collapsed": false
   },
   "outputs": [
    {
     "data": {
      "text/plain": [
       "146"
      ]
     },
     "execution_count": 21,
     "metadata": {},
     "output_type": "execute_result"
    }
   ],
   "source": [
    "len(pkgs)"
   ]
  },
  {
   "cell_type": "code",
   "execution_count": 22,
   "metadata": {
    "collapsed": false
   },
   "outputs": [],
   "source": [
    "#change packages that are not data visualziation specific or paid\n",
    "\n",
    "excluded_pkgs = ['victory','syncfusion','recline','highcharts,-highstock','shield-ui',\n",
    "                 'sankey','steema','raphael','webix-ui']\n",
    "replace_pkgs = ['victory-charts','ej2-react-charts','reclinejs','highcharts']\n",
    "for pkg in excluded_pkgs:\n",
    "    pkgs.remove(pkg)\n",
    "for pkg in replace_pkgs:\n",
    "    pkgs.append(pkg)"
   ]
  },
  {
   "cell_type": "code",
   "execution_count": 23,
   "metadata": {
    "collapsed": false
   },
   "outputs": [],
   "source": [
    "## use github search results to find package aliases"
   ]
  },
  {
   "cell_type": "code",
   "execution_count": 24,
   "metadata": {
    "collapsed": false
   },
   "outputs": [],
   "source": [
    "with open(\"../code/secrets/github-token.nogit\", \"rb\") as f:\n",
    "    token = f.read()\n",
    "headers = {'Authorization': 'token %s' % token}"
   ]
  },
  {
   "cell_type": "code",
   "execution_count": 25,
   "metadata": {
    "collapsed": false
   },
   "outputs": [],
   "source": [
    "def get_name_from_search(query):\n",
    "    \"\"\"Use github search to return full name from top query result\"\"\"\n",
    "    \n",
    "    r = requests.get('https://api.github.com/search/repositories?q='+\\\n",
    "                             query, \n",
    "                     headers=headers)\n",
    "    r.raise_for_status()\n",
    "    try:\n",
    "        res = r.json()['items'][0]\n",
    "        return (res['full_name'], query)\n",
    "    except:\n",
    "        return ('NA', query, )"
   ]
  },
  {
   "cell_type": "code",
   "execution_count": 26,
   "metadata": {
    "collapsed": false
   },
   "outputs": [
    {
     "name": "stdout",
     "output_type": "stream",
     "text": [
      "DONE\n"
     ]
    }
   ],
   "source": [
    "# use generator to avoid repeat API calls; API limit with token: 30 api calls/min\n",
    "full_name_data = []\n",
    "for ii in range(int(len(pkgs)/20)):\n",
    "    start = ii*20\n",
    "    end = (ii+1)*20\n",
    "    data = [res for res in (get_name_from_search(query.replace(\"@\",\"\")) for query in pkgs[start:end])\n",
    "        if res is not None]\n",
    "    full_name_data.extend(data)\n",
    "    time.sleep(61) \n",
    "data = [res for res in (get_name_from_search(query.replace(\"@\",\"\")) for query in pkgs[end:])\n",
    "        if res is not None]\n",
    "full_name_data.extend(data)\n",
    "print \"DONE\""
   ]
  },
  {
   "cell_type": "code",
   "execution_count": 27,
   "metadata": {
    "collapsed": false
   },
   "outputs": [
    {
     "data": {
      "text/plain": [
       "141"
      ]
     },
     "execution_count": 27,
     "metadata": {},
     "output_type": "execute_result"
    }
   ],
   "source": [
    "len(full_name_data)"
   ]
  },
  {
   "cell_type": "code",
   "execution_count": 28,
   "metadata": {
    "collapsed": false
   },
   "outputs": [],
   "source": [
    "from collections import defaultdict\n",
    "github_names_dict = defaultdict()\n",
    "for full_name in full_name_data:\n",
    "    key = full_name[0]\n",
    "    if key in github_names_dict:\n",
    "        aliases = github_names_dict[key]\n",
    "        aliases.append(full_name[1])\n",
    "        github_names_dict[key] = aliases\n",
    "    else:\n",
    "        github_names_dict[key] = [full_name[1]]"
   ]
  },
  {
   "cell_type": "code",
   "execution_count": 29,
   "metadata": {
    "collapsed": false
   },
   "outputs": [
    {
     "data": {
      "text/plain": [
       "127"
      ]
     },
     "execution_count": 29,
     "metadata": {},
     "output_type": "execute_result"
    }
   ],
   "source": [
    "len(github_names_dict)"
   ]
  },
  {
   "cell_type": "code",
   "execution_count": 30,
   "metadata": {
    "collapsed": true
   },
   "outputs": [],
   "source": [
    "with open(\"../data/js_viz_pkgs_w_aliases.csv\", \"w\") as f:\n",
    "        writer = csv.writer(f)\n",
    "        for k,v in github_names_dict.iteritems():\n",
    "            writer.writerow([k] + [v])"
   ]
  },
  {
   "cell_type": "code",
   "execution_count": 110,
   "metadata": {
    "collapsed": false
   },
   "outputs": [],
   "source": [
    "#manually cleaned package info\n",
    "pkgsDF = pd.read_csv(\"..data/js_viz_packages.csv\")"
   ]
  },
  {
   "cell_type": "code",
   "execution_count": 111,
   "metadata": {
    "collapsed": false
   },
   "outputs": [
    {
     "data": {
      "text/html": [
       "<div>\n",
       "<table border=\"1\" class=\"dataframe\">\n",
       "  <thead>\n",
       "    <tr style=\"text-align: right;\">\n",
       "      <th></th>\n",
       "      <th>package</th>\n",
       "      <th>github_repo</th>\n",
       "      <th>tags</th>\n",
       "      <th>search_terms</th>\n",
       "    </tr>\n",
       "  </thead>\n",
       "  <tbody>\n",
       "    <tr>\n",
       "      <th>0</th>\n",
       "      <td>amcharts</td>\n",
       "      <td>ChimpStudios/AmCharts</td>\n",
       "      <td>[amcharts]</td>\n",
       "      <td>[amcharts]</td>\n",
       "    </tr>\n",
       "    <tr>\n",
       "      <th>1</th>\n",
       "      <td>anychart</td>\n",
       "      <td>AnyChart/AnyChart</td>\n",
       "      <td>[anychart]</td>\n",
       "      <td>[anychart;anychartjs]</td>\n",
       "    </tr>\n",
       "    <tr>\n",
       "      <th>2</th>\n",
       "      <td>arbor</td>\n",
       "      <td>samizdatco/arbor</td>\n",
       "      <td>[arbor.js]</td>\n",
       "      <td>[arbor-js;arbor.js]</td>\n",
       "    </tr>\n",
       "    <tr>\n",
       "      <th>3</th>\n",
       "      <td>billboard.js</td>\n",
       "      <td>naver/billboard.js</td>\n",
       "      <td>[billboard.js]</td>\n",
       "      <td>[billboard.js; billboardjs]</td>\n",
       "    </tr>\n",
       "    <tr>\n",
       "      <th>4</th>\n",
       "      <td>britecharts</td>\n",
       "      <td>eventbrite/britecharts</td>\n",
       "      <td>[britecharts]</td>\n",
       "      <td>[britecharts]</td>\n",
       "    </tr>\n",
       "  </tbody>\n",
       "</table>\n",
       "</div>"
      ],
      "text/plain": [
       "        package             github_repo            tags  \\\n",
       "0      amcharts   ChimpStudios/AmCharts      [amcharts]   \n",
       "1      anychart       AnyChart/AnyChart      [anychart]   \n",
       "2         arbor        samizdatco/arbor      [arbor.js]   \n",
       "3  billboard.js      naver/billboard.js  [billboard.js]   \n",
       "4   britecharts  eventbrite/britecharts   [britecharts]   \n",
       "\n",
       "                  search_terms  \n",
       "0                   [amcharts]  \n",
       "1       [anychart;anychartjs]   \n",
       "2          [arbor-js;arbor.js]  \n",
       "3  [billboard.js; billboardjs]  \n",
       "4                [britecharts]  "
      ]
     },
     "execution_count": 111,
     "metadata": {},
     "output_type": "execute_result"
    }
   ],
   "source": [
    "pkgsDF.head()"
   ]
  },
  {
   "cell_type": "markdown",
   "metadata": {},
   "source": [
    "## Get Github Stats"
   ]
  },
  {
   "cell_type": "code",
   "execution_count": 33,
   "metadata": {
    "collapsed": false
   },
   "outputs": [],
   "source": [
    "def get_data_from_github(repo):\n",
    "    \"\"\"Use github repo from DF to return stars and forks\"\"\"\n",
    "    \n",
    "    r = requests.get('https://api.github.com/repos/'+repo,\n",
    "                     headers=headers)\n",
    "    r.raise_for_status()\n",
    "    try:\n",
    "        res = r.json()\n",
    "        return {'github_repo': repo, 'stars': res['stargazers_count'], 'forks': res['forks_count'], \n",
    "                'description': unicodedata.normalize('NFKD', res['description']).encode('ascii','ignore')}\n",
    "    except:\n",
    "        return {'github_repo': repo, 'stars': np.NaN, 'forks': np.NaN, 'description': 'NA'}"
   ]
  },
  {
   "cell_type": "code",
   "execution_count": 34,
   "metadata": {
    "collapsed": false
   },
   "outputs": [],
   "source": [
    "repoList = pkgsDF['github_repo'].tolist()"
   ]
  },
  {
   "cell_type": "code",
   "execution_count": 57,
   "metadata": {
    "collapsed": false
   },
   "outputs": [
    {
     "name": "stdout",
     "output_type": "stream",
     "text": [
      "DONE\n"
     ]
    }
   ],
   "source": [
    "# use generator to avoid repeat API calls; API limit with token: 30 api calls/min\n",
    "github_data = []\n",
    "for ii in range(int(len(repoList)/20)):\n",
    "    start = ii*20\n",
    "    end = (ii+1)*20\n",
    "    data = [res for res in (get_data_from_github(query) for query in repoList[start:end])\n",
    "        if res is not None]\n",
    "    github_data.extend(data)\n",
    "    time.sleep(61) \n",
    "data = [res for res in (get_data_from_github(query) for query in repoList[end:])\n",
    "        if res is not None]\n",
    "github_data.extend(data)\n",
    "print \"DONE\""
   ]
  },
  {
   "cell_type": "code",
   "execution_count": 91,
   "metadata": {
    "collapsed": false
   },
   "outputs": [],
   "source": [
    "githubDF = pd.DataFrame(github_data)[['github_repo', 'stars', 'forks', 'description']]"
   ]
  },
  {
   "cell_type": "code",
   "execution_count": 92,
   "metadata": {
    "collapsed": false
   },
   "outputs": [
    {
     "data": {
      "text/html": [
       "<div>\n",
       "<table border=\"1\" class=\"dataframe\">\n",
       "  <thead>\n",
       "    <tr style=\"text-align: right;\">\n",
       "      <th></th>\n",
       "      <th>github_repo</th>\n",
       "      <th>stars</th>\n",
       "      <th>forks</th>\n",
       "      <th>description</th>\n",
       "    </tr>\n",
       "  </thead>\n",
       "  <tbody>\n",
       "    <tr>\n",
       "      <th>24</th>\n",
       "      <td>d3/d3</td>\n",
       "      <td>67147.0</td>\n",
       "      <td>17533.0</td>\n",
       "      <td>Bring data to life with SVG, Canvas and HTML. ...</td>\n",
       "    </tr>\n",
       "    <tr>\n",
       "      <th>10</th>\n",
       "      <td>chartjs/Chart.js</td>\n",
       "      <td>31687.0</td>\n",
       "      <td>8010.0</td>\n",
       "      <td>Simple HTML5 Charts using the &lt;canvas&gt; tag</td>\n",
       "    </tr>\n",
       "    <tr>\n",
       "      <th>33</th>\n",
       "      <td>ecomfe/echarts</td>\n",
       "      <td>19861.0</td>\n",
       "      <td>6165.0</td>\n",
       "      <td>A powerful, interactive charting and visualiza...</td>\n",
       "    </tr>\n",
       "    <tr>\n",
       "      <th>61</th>\n",
       "      <td>Leaflet/Leaflet</td>\n",
       "      <td>19162.0</td>\n",
       "      <td>3256.0</td>\n",
       "      <td>:leaves: JavaScript library for mobile-friend...</td>\n",
       "    </tr>\n",
       "    <tr>\n",
       "      <th>67</th>\n",
       "      <td>knsv/mermaid</td>\n",
       "      <td>13671.0</td>\n",
       "      <td>738.0</td>\n",
       "      <td>Generation of diagram and flowchart from text ...</td>\n",
       "    </tr>\n",
       "  </tbody>\n",
       "</table>\n",
       "</div>"
      ],
      "text/plain": [
       "         github_repo    stars    forks  \\\n",
       "24             d3/d3  67147.0  17533.0   \n",
       "10  chartjs/Chart.js  31687.0   8010.0   \n",
       "33    ecomfe/echarts  19861.0   6165.0   \n",
       "61   Leaflet/Leaflet  19162.0   3256.0   \n",
       "67      knsv/mermaid  13671.0    738.0   \n",
       "\n",
       "                                          description  \n",
       "24  Bring data to life with SVG, Canvas and HTML. ...  \n",
       "10         Simple HTML5 Charts using the <canvas> tag  \n",
       "33  A powerful, interactive charting and visualiza...  \n",
       "61   :leaves: JavaScript library for mobile-friend...  \n",
       "67  Generation of diagram and flowchart from text ...  "
      ]
     },
     "execution_count": 92,
     "metadata": {},
     "output_type": "execute_result"
    }
   ],
   "source": [
    "githubDF.sort_values(['stars'],ascending=False).head()"
   ]
  },
  {
   "cell_type": "code",
   "execution_count": 112,
   "metadata": {
    "collapsed": false
   },
   "outputs": [],
   "source": [
    "pkgsDF = pkgsDF.merge(githubDF, on='github_repo', copy= False)"
   ]
  },
  {
   "cell_type": "code",
   "execution_count": 113,
   "metadata": {
    "collapsed": false
   },
   "outputs": [
    {
     "data": {
      "text/html": [
       "<div>\n",
       "<table border=\"1\" class=\"dataframe\">\n",
       "  <thead>\n",
       "    <tr style=\"text-align: right;\">\n",
       "      <th></th>\n",
       "      <th>package</th>\n",
       "      <th>github_repo</th>\n",
       "      <th>tags</th>\n",
       "      <th>search_terms</th>\n",
       "      <th>stars</th>\n",
       "      <th>forks</th>\n",
       "      <th>description</th>\n",
       "    </tr>\n",
       "  </thead>\n",
       "  <tbody>\n",
       "    <tr>\n",
       "      <th>0</th>\n",
       "      <td>amcharts</td>\n",
       "      <td>ChimpStudios/AmCharts</td>\n",
       "      <td>[amcharts]</td>\n",
       "      <td>[amcharts]</td>\n",
       "      <td>111.0</td>\n",
       "      <td>33.0</td>\n",
       "      <td>A Native Objective C wrapper for the AmCharts ...</td>\n",
       "    </tr>\n",
       "    <tr>\n",
       "      <th>1</th>\n",
       "      <td>anychart</td>\n",
       "      <td>AnyChart/AnyChart</td>\n",
       "      <td>[anychart]</td>\n",
       "      <td>[anychart;anychartjs]</td>\n",
       "      <td>127.0</td>\n",
       "      <td>14.0</td>\n",
       "      <td>JavaScript Charts designed to be embedded and ...</td>\n",
       "    </tr>\n",
       "    <tr>\n",
       "      <th>2</th>\n",
       "      <td>arbor</td>\n",
       "      <td>samizdatco/arbor</td>\n",
       "      <td>[arbor.js]</td>\n",
       "      <td>[arbor-js;arbor.js]</td>\n",
       "      <td>2418.0</td>\n",
       "      <td>589.0</td>\n",
       "      <td>a graph visualization library using web worker...</td>\n",
       "    </tr>\n",
       "    <tr>\n",
       "      <th>3</th>\n",
       "      <td>billboard.js</td>\n",
       "      <td>naver/billboard.js</td>\n",
       "      <td>[billboard.js]</td>\n",
       "      <td>[billboard.js; billboardjs]</td>\n",
       "      <td>1193.0</td>\n",
       "      <td>52.0</td>\n",
       "      <td>:bar_chart: Re-usable easy interface JavaScrip...</td>\n",
       "    </tr>\n",
       "    <tr>\n",
       "      <th>4</th>\n",
       "      <td>britecharts</td>\n",
       "      <td>eventbrite/britecharts</td>\n",
       "      <td>[britecharts]</td>\n",
       "      <td>[britecharts]</td>\n",
       "      <td>2602.0</td>\n",
       "      <td>95.0</td>\n",
       "      <td>Client-side reusable Charting Library based on...</td>\n",
       "    </tr>\n",
       "  </tbody>\n",
       "</table>\n",
       "</div>"
      ],
      "text/plain": [
       "        package             github_repo            tags  \\\n",
       "0      amcharts   ChimpStudios/AmCharts      [amcharts]   \n",
       "1      anychart       AnyChart/AnyChart      [anychart]   \n",
       "2         arbor        samizdatco/arbor      [arbor.js]   \n",
       "3  billboard.js      naver/billboard.js  [billboard.js]   \n",
       "4   britecharts  eventbrite/britecharts   [britecharts]   \n",
       "\n",
       "                  search_terms   stars  forks  \\\n",
       "0                   [amcharts]   111.0   33.0   \n",
       "1       [anychart;anychartjs]    127.0   14.0   \n",
       "2          [arbor-js;arbor.js]  2418.0  589.0   \n",
       "3  [billboard.js; billboardjs]  1193.0   52.0   \n",
       "4                [britecharts]  2602.0   95.0   \n",
       "\n",
       "                                         description  \n",
       "0  A Native Objective C wrapper for the AmCharts ...  \n",
       "1  JavaScript Charts designed to be embedded and ...  \n",
       "2  a graph visualization library using web worker...  \n",
       "3  :bar_chart: Re-usable easy interface JavaScrip...  \n",
       "4  Client-side reusable Charting Library based on...  "
      ]
     },
     "execution_count": 113,
     "metadata": {},
     "output_type": "execute_result"
    }
   ],
   "source": [
    "pkgsDF.head()"
   ]
  },
  {
   "cell_type": "markdown",
   "metadata": {},
   "source": [
    "## Get StackOverflow Stats"
   ]
  },
  {
   "cell_type": "code",
   "execution_count": 39,
   "metadata": {
    "collapsed": false
   },
   "outputs": [],
   "source": [
    "baseurl = 'https://api.stackexchange.com/2.2/search/advanced'\n",
    "\n",
    "def get_so_tag_counts(tag):\n",
    "#Given tag, return tag counts\n",
    "    params = {\n",
    "    \"site\": \"stackoverflow\",\n",
    "    \"key\": \"y38PeNERQJQIC8EPliKAVQ((\",\n",
    "    \"tagged\": tag,  \n",
    "    \"filter\": 'total'}\n",
    "    try:\n",
    "        r = requests.get(baseurl, params=params)\n",
    "        return r.json()['total']\n",
    "    except:\n",
    "        return 0\n",
    "\n",
    "def get_so_question_counts(package):\n",
    "#Given package, return count of questions containing package name\n",
    "    params = {\n",
    "    \"site\": \"stackoverflow\",\n",
    "    \"key\": \"y38PeNERQJQIC8EPliKAVQ((\",\n",
    "    \"q\": package,  \n",
    "    \"filter\": \"total\"}\n",
    "    try:\n",
    "        r = requests.get(baseurl, params=params)\n",
    "        return r.json()['total']\n",
    "    except:\n",
    "        return 0    "
   ]
  },
  {
   "cell_type": "code",
   "execution_count": 61,
   "metadata": {
    "collapsed": true
   },
   "outputs": [],
   "source": [
    "pkgTags = pkgsDF['tags'].tolist()"
   ]
  },
  {
   "cell_type": "code",
   "execution_count": 62,
   "metadata": {
    "collapsed": false
   },
   "outputs": [],
   "source": [
    "tag_data = []\n",
    "for tags in pkgTags:\n",
    "    total_count = 0\n",
    "    for alias in tags.split(';'):\n",
    "        total_count += get_so_tag_counts(alias)\n",
    "    tag_data.append({'tags':tags, 'so_tag_count': total_count}) "
   ]
  },
  {
   "cell_type": "code",
   "execution_count": 115,
   "metadata": {
    "collapsed": true
   },
   "outputs": [],
   "source": [
    "so_tagsDF = pd.DataFrame(tag_data)[['tags', 'so_tag_count']]\n",
    "so_tagsDF.columns = ['tags', 'so_tag_counts']\n",
    "pkgsDF = pkgsDF.merge(so_tagsDF, on='tags', copy=False)"
   ]
  },
  {
   "cell_type": "code",
   "execution_count": 64,
   "metadata": {
    "collapsed": false
   },
   "outputs": [
    {
     "data": {
      "text/html": [
       "<div>\n",
       "<table border=\"1\" class=\"dataframe\">\n",
       "  <thead>\n",
       "    <tr style=\"text-align: right;\">\n",
       "      <th></th>\n",
       "      <th>tags</th>\n",
       "      <th>so_tag_counts</th>\n",
       "    </tr>\n",
       "  </thead>\n",
       "  <tbody>\n",
       "    <tr>\n",
       "      <th>24</th>\n",
       "      <td>[d3.js]</td>\n",
       "      <td>26951</td>\n",
       "    </tr>\n",
       "    <tr>\n",
       "      <th>48</th>\n",
       "      <td>[highcharts]</td>\n",
       "      <td>16639</td>\n",
       "    </tr>\n",
       "    <tr>\n",
       "      <th>61</th>\n",
       "      <td>[leaflet]</td>\n",
       "      <td>5793</td>\n",
       "    </tr>\n",
       "    <tr>\n",
       "      <th>10</th>\n",
       "      <td>[chart.js]</td>\n",
       "      <td>3371</td>\n",
       "    </tr>\n",
       "    <tr>\n",
       "      <th>41</th>\n",
       "      <td>[flot]</td>\n",
       "      <td>2017</td>\n",
       "    </tr>\n",
       "  </tbody>\n",
       "</table>\n",
       "</div>"
      ],
      "text/plain": [
       "            tags  so_tag_counts\n",
       "24       [d3.js]          26951\n",
       "48  [highcharts]          16639\n",
       "61     [leaflet]           5793\n",
       "10    [chart.js]           3371\n",
       "41        [flot]           2017"
      ]
     },
     "execution_count": 64,
     "metadata": {},
     "output_type": "execute_result"
    }
   ],
   "source": [
    "so_tagsDF.sort_values(['so_tag_counts'], ascending = False).head()"
   ]
  },
  {
   "cell_type": "code",
   "execution_count": 65,
   "metadata": {
    "collapsed": false
   },
   "outputs": [],
   "source": [
    "pkgTerms = pkgsDF['search_terms'].tolist()"
   ]
  },
  {
   "cell_type": "code",
   "execution_count": 66,
   "metadata": {
    "collapsed": true
   },
   "outputs": [],
   "source": [
    "question_data = []\n",
    "for terms in pkgTerms:\n",
    "    total_count = 0\n",
    "    for term in terms.split(';'):\n",
    "        total_count += get_so_question_counts(term)\n",
    "    question_data.append({'search_terms':terms, 'so_question_count': total_count}) "
   ]
  },
  {
   "cell_type": "code",
   "execution_count": 114,
   "metadata": {
    "collapsed": true
   },
   "outputs": [],
   "source": [
    "so_questDF = pd.DataFrame(question_data)[['search_terms', 'so_question_count']]\n",
    "so_questDF.columns = ['search_terms', 'so_question_count']\n",
    "pkgsDF = pkgsDF.merge(so_questDF, on='search_terms', copy= False)"
   ]
  },
  {
   "cell_type": "code",
   "execution_count": 68,
   "metadata": {
    "collapsed": false
   },
   "outputs": [
    {
     "data": {
      "text/html": [
       "<div>\n",
       "<table border=\"1\" class=\"dataframe\">\n",
       "  <thead>\n",
       "    <tr style=\"text-align: right;\">\n",
       "      <th></th>\n",
       "      <th>search_terms</th>\n",
       "      <th>so_question_count</th>\n",
       "    </tr>\n",
       "  </thead>\n",
       "  <tbody>\n",
       "    <tr>\n",
       "      <th>81</th>\n",
       "      <td>[plotly;plotlyjs]</td>\n",
       "      <td>95240</td>\n",
       "    </tr>\n",
       "    <tr>\n",
       "      <th>82</th>\n",
       "      <td>[plottable;plottablejs]</td>\n",
       "      <td>95066</td>\n",
       "    </tr>\n",
       "    <tr>\n",
       "      <th>24</th>\n",
       "      <td>[d3;d3js]</td>\n",
       "      <td>37754</td>\n",
       "    </tr>\n",
       "    <tr>\n",
       "      <th>6</th>\n",
       "      <td>[c3;c3.js;c3js]</td>\n",
       "      <td>18862</td>\n",
       "    </tr>\n",
       "    <tr>\n",
       "      <th>48</th>\n",
       "      <td>[highcharts;highchartsjs]</td>\n",
       "      <td>16545</td>\n",
       "    </tr>\n",
       "  </tbody>\n",
       "</table>\n",
       "</div>"
      ],
      "text/plain": [
       "                 search_terms  so_question_count\n",
       "81          [plotly;plotlyjs]              95240\n",
       "82    [plottable;plottablejs]              95066\n",
       "24                  [d3;d3js]              37754\n",
       "6             [c3;c3.js;c3js]              18862\n",
       "48  [highcharts;highchartsjs]              16545"
      ]
     },
     "execution_count": 68,
     "metadata": {},
     "output_type": "execute_result"
    }
   ],
   "source": [
    "so_questDF.sort_values(['so_question_count'],ascending=False).head()"
   ]
  },
  {
   "cell_type": "markdown",
   "metadata": {},
   "source": [
    "## Get download counts from npmjs"
   ]
  },
  {
   "cell_type": "code",
   "execution_count": 48,
   "metadata": {
    "collapsed": false
   },
   "outputs": [],
   "source": [
    "def extract_count(html):\n",
    "    total_dl = 0\n",
    "    day_queries = json.loads(html).get(u'downloads')\n",
    "    for day in day_queries:\n",
    "        total_dl += day.get(u'downloads')\n",
    "    return total_dl\n",
    "\n",
    "def get_npmjs_counts(package, start_date, end_date):\n",
    "    #retruns total downloads between dates\n",
    "    #enter package and dates as strings, date format YYYY-MM-DD\n",
    "    try:\n",
    "        response = urllib2.urlopen('https://api.npmjs.org/downloads/range/'+start_date+':'+end_date+'/'+package)\n",
    "        return extract_count(response.read())\n",
    "    except urllib2.HTTPError, e:\n",
    "        return np.NaN\n",
    "\n",
    "def get_npmjs_cmgr(package, first_month, last_month):\n",
    "    #returns compound monthly growth rate\n",
    "    #enter package as string, date as list of two integers [YYYY, M]\n",
    "    try:\n",
    "        d1 = date(first_month[0], first_month[1], 1)\n",
    "        d2 = date(last_month[0], last_month[1], 1)\n",
    "        month_diff = (d2.year - d1.year) * 12 + d2.month - d1.month + 1\n",
    "        d1_end = d1 + timedelta(days=30)\n",
    "        month1_counts = extract_count(urllib2.urlopen('https://api.npmjs.org/downloads/range/'\n",
    "                                                  +d1.strftime(\"%Y-%m-%d\")+':'+d1_end.strftime(\"%Y-%m-%d\")+'/'+package).read())\n",
    "        d2_end = d2 + timedelta(days=30)\n",
    "        month2_counts = extract_count(urllib2.urlopen('https://api.npmjs.org/downloads/range/'\n",
    "                                                  +d2.strftime(\"%Y-%m-%d\")+':'+d2_end.strftime(\"%Y-%m-%d\")+'/'+package).read())\n",
    "        if month1_counts == 0:\n",
    "            return np.NaN\n",
    "        return (((month2_counts/float(month1_counts))**(1.0/month_diff))-1.0)\n",
    "    except urllib2.HTTPError, e:\n",
    "        return np.NaN\n",
    "    \n",
    "\n",
    "def get_npmjs_stats(npm_package_list):\n",
    "    #returns downloads in last 3 years, and 6 month compound monthly growth rate\n",
    "    downloads =[]\n",
    "    growth_rates = []\n",
    "    for package in npm_package_list:\n",
    "        downloads.append(get_npmjs_counts(package, '2014-08-01','2017-07-31'))\n",
    "        growth_rates.append(get_npmjs_cmgr(package, [2017, 2], [2017, 7]))\n",
    "    return downloads, growth_rates"
   ]
  },
  {
   "cell_type": "code",
   "execution_count": 69,
   "metadata": {
    "collapsed": true
   },
   "outputs": [],
   "source": [
    "pkgs = pkgsDF['package']"
   ]
  },
  {
   "cell_type": "code",
   "execution_count": 70,
   "metadata": {
    "collapsed": false
   },
   "outputs": [],
   "source": [
    "[downloads, growth_rates] = get_npmjs_stats(pkgs)"
   ]
  },
  {
   "cell_type": "code",
   "execution_count": 116,
   "metadata": {
    "collapsed": false
   },
   "outputs": [],
   "source": [
    "downloadsDF = pd.DataFrame(np.column_stack([pkgs, downloads, growth_rates]), \n",
    "                               columns=['package', 'downloads', 'growth_rates'])\n",
    "pkgsDF = pkgsDF.merge(downloadsDF, on='package', copy = False)"
   ]
  },
  {
   "cell_type": "code",
   "execution_count": 101,
   "metadata": {
    "collapsed": false
   },
   "outputs": [
    {
     "data": {
      "text/html": [
       "<div>\n",
       "<table border=\"1\" class=\"dataframe\">\n",
       "  <thead>\n",
       "    <tr style=\"text-align: right;\">\n",
       "      <th></th>\n",
       "      <th>package</th>\n",
       "      <th>downloads</th>\n",
       "      <th>growth_rates</th>\n",
       "    </tr>\n",
       "  </thead>\n",
       "  <tbody>\n",
       "    <tr>\n",
       "      <th>4</th>\n",
       "      <td>britecharts</td>\n",
       "      <td>6445</td>\n",
       "      <td>1.10558</td>\n",
       "    </tr>\n",
       "    <tr>\n",
       "      <th>47</th>\n",
       "      <td>graphael</td>\n",
       "      <td>4295</td>\n",
       "      <td>0.565591</td>\n",
       "    </tr>\n",
       "    <tr>\n",
       "      <th>82</th>\n",
       "      <td>plottable</td>\n",
       "      <td>44898</td>\n",
       "      <td>0.486324</td>\n",
       "    </tr>\n",
       "    <tr>\n",
       "      <th>42</th>\n",
       "      <td>flotr2</td>\n",
       "      <td>477</td>\n",
       "      <td>0.46345</td>\n",
       "    </tr>\n",
       "    <tr>\n",
       "      <th>1</th>\n",
       "      <td>anychart</td>\n",
       "      <td>7552</td>\n",
       "      <td>0.319863</td>\n",
       "    </tr>\n",
       "  </tbody>\n",
       "</table>\n",
       "</div>"
      ],
      "text/plain": [
       "        package downloads growth_rates\n",
       "4   britecharts      6445      1.10558\n",
       "47     graphael      4295     0.565591\n",
       "82    plottable     44898     0.486324\n",
       "42       flotr2       477      0.46345\n",
       "1      anychart      7552     0.319863"
      ]
     },
     "execution_count": 101,
     "metadata": {},
     "output_type": "execute_result"
    }
   ],
   "source": [
    "downloadsDF.sort_values(['growth_rates'],ascending=False).head()"
   ]
  },
  {
   "cell_type": "markdown",
   "metadata": {},
   "source": [
    "## All data combined"
   ]
  },
  {
   "cell_type": "code",
   "execution_count": 117,
   "metadata": {
    "collapsed": false
   },
   "outputs": [
    {
     "data": {
      "text/html": [
       "<div>\n",
       "<table border=\"1\" class=\"dataframe\">\n",
       "  <thead>\n",
       "    <tr style=\"text-align: right;\">\n",
       "      <th></th>\n",
       "      <th>package</th>\n",
       "      <th>github_repo</th>\n",
       "      <th>tags</th>\n",
       "      <th>search_terms</th>\n",
       "      <th>stars</th>\n",
       "      <th>forks</th>\n",
       "      <th>description</th>\n",
       "      <th>so_question_count</th>\n",
       "      <th>so_tag_counts</th>\n",
       "      <th>downloads</th>\n",
       "      <th>growth_rates</th>\n",
       "    </tr>\n",
       "  </thead>\n",
       "  <tbody>\n",
       "    <tr>\n",
       "      <th>0</th>\n",
       "      <td>amcharts</td>\n",
       "      <td>ChimpStudios/AmCharts</td>\n",
       "      <td>[amcharts]</td>\n",
       "      <td>[amcharts]</td>\n",
       "      <td>111.0</td>\n",
       "      <td>33.0</td>\n",
       "      <td>A Native Objective C wrapper for the AmCharts ...</td>\n",
       "      <td>1175</td>\n",
       "      <td>1175</td>\n",
       "      <td>9888</td>\n",
       "      <td>0.0749391</td>\n",
       "    </tr>\n",
       "    <tr>\n",
       "      <th>1</th>\n",
       "      <td>anychart</td>\n",
       "      <td>AnyChart/AnyChart</td>\n",
       "      <td>[anychart]</td>\n",
       "      <td>[anychart;anychartjs]</td>\n",
       "      <td>127.0</td>\n",
       "      <td>14.0</td>\n",
       "      <td>JavaScript Charts designed to be embedded and ...</td>\n",
       "      <td>102</td>\n",
       "      <td>85</td>\n",
       "      <td>7552</td>\n",
       "      <td>0.319863</td>\n",
       "    </tr>\n",
       "    <tr>\n",
       "      <th>2</th>\n",
       "      <td>arbor</td>\n",
       "      <td>samizdatco/arbor</td>\n",
       "      <td>[arbor.js]</td>\n",
       "      <td>[arbor-js;arbor.js]</td>\n",
       "      <td>2418.0</td>\n",
       "      <td>589.0</td>\n",
       "      <td>a graph visualization library using web worker...</td>\n",
       "      <td>113</td>\n",
       "      <td>66</td>\n",
       "      <td>3194</td>\n",
       "      <td>0.0818817</td>\n",
       "    </tr>\n",
       "    <tr>\n",
       "      <th>3</th>\n",
       "      <td>billboard.js</td>\n",
       "      <td>naver/billboard.js</td>\n",
       "      <td>[billboard.js]</td>\n",
       "      <td>[billboard.js; billboardjs]</td>\n",
       "      <td>1193.0</td>\n",
       "      <td>52.0</td>\n",
       "      <td>:bar_chart: Re-usable easy interface JavaScrip...</td>\n",
       "      <td>4</td>\n",
       "      <td>0</td>\n",
       "      <td>899</td>\n",
       "      <td>NaN</td>\n",
       "    </tr>\n",
       "    <tr>\n",
       "      <th>4</th>\n",
       "      <td>britecharts</td>\n",
       "      <td>eventbrite/britecharts</td>\n",
       "      <td>[britecharts]</td>\n",
       "      <td>[britecharts]</td>\n",
       "      <td>2602.0</td>\n",
       "      <td>95.0</td>\n",
       "      <td>Client-side reusable Charting Library based on...</td>\n",
       "      <td>0</td>\n",
       "      <td>0</td>\n",
       "      <td>6445</td>\n",
       "      <td>1.10558</td>\n",
       "    </tr>\n",
       "  </tbody>\n",
       "</table>\n",
       "</div>"
      ],
      "text/plain": [
       "        package             github_repo            tags  \\\n",
       "0      amcharts   ChimpStudios/AmCharts      [amcharts]   \n",
       "1      anychart       AnyChart/AnyChart      [anychart]   \n",
       "2         arbor        samizdatco/arbor      [arbor.js]   \n",
       "3  billboard.js      naver/billboard.js  [billboard.js]   \n",
       "4   britecharts  eventbrite/britecharts   [britecharts]   \n",
       "\n",
       "                  search_terms   stars  forks  \\\n",
       "0                   [amcharts]   111.0   33.0   \n",
       "1       [anychart;anychartjs]    127.0   14.0   \n",
       "2          [arbor-js;arbor.js]  2418.0  589.0   \n",
       "3  [billboard.js; billboardjs]  1193.0   52.0   \n",
       "4                [britecharts]  2602.0   95.0   \n",
       "\n",
       "                                         description  so_question_count  \\\n",
       "0  A Native Objective C wrapper for the AmCharts ...               1175   \n",
       "1  JavaScript Charts designed to be embedded and ...                102   \n",
       "2  a graph visualization library using web worker...                113   \n",
       "3  :bar_chart: Re-usable easy interface JavaScrip...                  4   \n",
       "4  Client-side reusable Charting Library based on...                  0   \n",
       "\n",
       "   so_tag_counts downloads growth_rates  \n",
       "0           1175      9888    0.0749391  \n",
       "1             85      7552     0.319863  \n",
       "2             66      3194    0.0818817  \n",
       "3              0       899          NaN  \n",
       "4              0      6445      1.10558  "
      ]
     },
     "execution_count": 117,
     "metadata": {},
     "output_type": "execute_result"
    }
   ],
   "source": [
    "pkgsDF.head()"
   ]
  },
  {
   "cell_type": "code",
   "execution_count": null,
   "metadata": {
    "collapsed": true
   },
   "outputs": [],
   "source": []
  },
  {
   "cell_type": "code",
   "execution_count": 121,
   "metadata": {
    "collapsed": false
   },
   "outputs": [],
   "source": [
    "pkgsDF.to_csv(\"../output/JS_VIZ_data.csv\")"
   ]
  },
  {
   "cell_type": "code",
   "execution_count": null,
   "metadata": {
    "collapsed": false
   },
   "outputs": [],
   "source": []
  },
  {
   "cell_type": "code",
   "execution_count": null,
   "metadata": {
    "collapsed": false
   },
   "outputs": [],
   "source": []
  },
  {
   "cell_type": "code",
   "execution_count": null,
   "metadata": {
    "collapsed": true
   },
   "outputs": [],
   "source": []
  }
 ],
 "metadata": {
  "anaconda-cloud": {},
  "kernelspec": {
   "display_name": "Python [default]",
   "language": "python",
   "name": "python2"
  },
  "language_info": {
   "codemirror_mode": {
    "name": "ipython",
    "version": 2
   },
   "file_extension": ".py",
   "mimetype": "text/x-python",
   "name": "python",
   "nbconvert_exporter": "python",
   "pygments_lexer": "ipython2",
   "version": "2.7.12"
  }
 },
 "nbformat": 4,
 "nbformat_minor": 1
}
