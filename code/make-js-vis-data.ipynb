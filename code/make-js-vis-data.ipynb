{
 "cells": [
  {
   "cell_type": "markdown",
   "metadata": {},
   "source": [
    "# Ranking js visualization packages"
   ]
  },
  {
   "cell_type": "code",
   "execution_count": 1,
   "metadata": {
    "collapsed": true
   },
   "outputs": [],
   "source": [
    "import requests\n",
    "import logging\n",
    "import pandas as pd\n",
    "import numpy as np\n",
    "import urllib2\n",
    "import dill\n",
    "import time\n",
    "import json\n",
    "from datetime import date, timedelta\n",
    "from bs4 import BeautifulSoup\n",
    "import unicodedata"
   ]
  },
  {
   "cell_type": "code",
   "execution_count": 2,
   "metadata": {
    "collapsed": true
   },
   "outputs": [],
   "source": [
    "import sys\n",
    "sys.path.append('../code')"
   ]
  },
  {
   "cell_type": "markdown",
   "metadata": {},
   "source": [
    "## Create package list"
   ]
  },
  {
   "cell_type": "markdown",
   "metadata": {},
   "source": [
    "### 1    https://github.com/showcases/data-visualization?s=language"
   ]
  },
  {
   "cell_type": "code",
   "execution_count": 3,
   "metadata": {
    "collapsed": true
   },
   "outputs": [],
   "source": [
    "with open(\"../data/js_vis_pkgs1.txt\", 'rb') as f:\n",
    "    lines = f.readlines()\n",
    "    src_url1 = lines[0].strip()\n",
    "    pkgs1 = [p.strip().lower() for p in lines[1:]]"
   ]
  },
  {
   "cell_type": "code",
   "execution_count": 4,
   "metadata": {
    "collapsed": false
   },
   "outputs": [
    {
     "name": "stdout",
     "output_type": "stream",
     "text": [
      "['d3', 'recline', 'sigma.js', 'arbor', 'envisionjs', 'modestmaps-js', 'leaflet', 'dc.js', 'chart.js', 'cesium', 'raw', 'chartist-js', 'echarts', 'metrics-graphics', 'dimple', 'keen-dataviz.js', 'deck.gl', 'victory', 'vizceral']\n"
     ]
    }
   ],
   "source": [
    "print pkgs1"
   ]
  },
  {
   "cell_type": "markdown",
   "metadata": {},
   "source": [
    "### 2 https://en.wikipedia.org/wiki/Comparison_of_JavaScript_charting_frameworks"
   ]
  },
  {
   "cell_type": "code",
   "execution_count": 5,
   "metadata": {
    "collapsed": true
   },
   "outputs": [],
   "source": [
    "r2 = requests.get('https://en.wikipedia.org/wiki/Comparison_of_JavaScript_charting_frameworks')\n",
    "soup2 = BeautifulSoup(r2.text, 'lxml')\n",
    "pkgs2 = []"
   ]
  },
  {
   "cell_type": "code",
   "execution_count": 6,
   "metadata": {
    "collapsed": false
   },
   "outputs": [],
   "source": [
    "for ana in soup2.findAll('a', attrs={'class': 'external text', 'rel':'nofollow'}):\n",
    "    if ana.parent.name == 'td':\n",
    "        pkgs2.append(str(ana.text).lower())"
   ]
  },
  {
   "cell_type": "code",
   "execution_count": 7,
   "metadata": {
    "collapsed": false
   },
   "outputs": [
    {
     "name": "stdout",
     "output_type": "stream",
     "text": [
      "['echarts', 'amcharts', 'anychart', 'c3.js', 'canvasjs', 'cc by-nc 3.0', 'canvasxpress', 'gplv3', 'chartist', 'chart.js', 'chart builder by livegap', 'charts 4 php', 'cytoscape.js', 'dc', 'devextreme', 'dhtmlx charts', 'dimple', 'dojo charting', 'dygraphs', 'factmint charts', 'flot charts', 'fusioncharts', 'flotr2', 'graphael', 'highcharts, highstock', 'jenscript', 'jqplot', 'koolchart', 'metricsgraphics', 'nextcharts', 'nvd3', 'olapcharts', 'plotly.js', 'pluscharts', 'rgraph', 'rickshaw', 'shield ui', 'syncfusion', 'teechart for javascript', 'vaadin charts', 'vancharts', 'visjs', 'webcharts', 'webix ui', 'xcharts', 'yui charts', 'zingchart', 'zoomcharts']\n"
     ]
    }
   ],
   "source": [
    "print pkgs2"
   ]
  },
  {
   "cell_type": "markdown",
   "metadata": {},
   "source": [
    "### 3  https://cssauthor.com/javascript-charting-libraries/"
   ]
  },
  {
   "cell_type": "code",
   "execution_count": 8,
   "metadata": {
    "collapsed": false
   },
   "outputs": [],
   "source": [
    "r3 = requests.get('https://cssauthor.com/javascript-charting-libraries/')\n",
    "soup3 = BeautifulSoup(r3.text, 'lxml')\n",
    "pkgs3 = [unicodedata.normalize('NFKD', item.text).encode('ascii','ignore').lower() for item in soup3.findAll('h3', attrs={'class': None})]"
   ]
  },
  {
   "cell_type": "code",
   "execution_count": 9,
   "metadata": {
    "collapsed": false
   },
   "outputs": [
    {
     "name": "stdout",
     "output_type": "stream",
     "text": [
      "['chart.js', 'pizza pie charts', 'fusioncharts', 'google chart', 'pluscharts', 'highcharts', 'd3.js', 'ember charts', 'plottable.js', 'amcharts', 'ejscharts', 'anychart', 'plotly.js', 'dhtmlx charts', 'factmint charts', 'koolchart', 'shield ui', 'syncfusion', 'steema', 'vaadin charts', 'vancharts', 'zoomcharts', 'taucharts', 'vis.js', 'chartist.js', 'c3.js', 'n3-charts', 'sigma js', 'morris.js', 'canvasjs', 'zingchart', 'charts 4 php', 'metricsgraphics.js', 'webix charts', 'olapcharts', 'raphael', 'rickshaw', 'livegap', 'nvd3', 'cytoscape.js', 'cubism.js', 'uvcharts', 'jqplot', 'jquery highcharttable', 'xcharts', 'protovis', 'flot', 'dygraphs', 'jquery sparklines', 'smoothie charts', 'chartkick', 'canvasxpress', 'dc.js', 'dimple', 'flotr2', 'jenscript js', 'nextcharts', 'rgraph']\n"
     ]
    }
   ],
   "source": [
    "print pkgs3"
   ]
  },
  {
   "cell_type": "markdown",
   "metadata": {},
   "source": [
    "### 4  http://socialcompare.com/en/comparison/javascript-graphs-and-charts-libraries"
   ]
  },
  {
   "cell_type": "code",
   "execution_count": 10,
   "metadata": {
    "collapsed": true
   },
   "outputs": [],
   "source": [
    "r4 = requests.get('http://socialcompare.com/en/comparison/javascript-graphs-and-charts-libraries')\n",
    "soup4 = BeautifulSoup(r4.text, 'lxml')\n",
    "pkgs4 = []"
   ]
  },
  {
   "cell_type": "code",
   "execution_count": 11,
   "metadata": {
    "collapsed": false
   },
   "outputs": [],
   "source": [
    "for ana in soup4.findAll('a'):\n",
    "    if ana.parent.name == 'th':\n",
    "        pkgs4.append((unicodedata.normalize('NFKD', ana.text).encode('ascii','ignore')).lower())"
   ]
  },
  {
   "cell_type": "code",
   "execution_count": 12,
   "metadata": {
    "collapsed": false
   },
   "outputs": [
    {
     "name": "stdout",
     "output_type": "stream",
     "text": [
      "['amcharts', 'anychart', 'arcadiacharts', 'canvasjs charts', 'd3.js', 'dex', 'dhtmlxchart', 'dojo (dojox/charting)', 'dygraph', 'ejschart', 'elycharts', 'flot', 'flotr2', 'fusioncharts', 'google chart tools', 'graphael', 'highcharts', 'jenscriptjs', 'jqchart', 'jqplot', 'jscharts', 'jsxgraph', 'kendoui dataviz', 'koolchart', 'morris.js', 'nvd3', 'olapcharts', 'plotly', 'protovis', 'reportivo.com', 'rgraph', 'rickshaw', 'sencha touch charts', 'shield ui charts', 'svgware', 'teechart', 'vancharts', 'zingchart', 'dc.js', 'leaflet']\n"
     ]
    }
   ],
   "source": [
    "print pkgs4"
   ]
  },
  {
   "cell_type": "markdown",
   "metadata": {},
   "source": [
    "## combine lists"
   ]
  },
  {
   "cell_type": "code",
   "execution_count": 13,
   "metadata": {
    "collapsed": false
   },
   "outputs": [
    {
     "name": "stdout",
     "output_type": "stream",
     "text": [
      "[19, 48, 58, 40]\n"
     ]
    }
   ],
   "source": [
    "print map(len, [pkgs1, pkgs2, pkgs3, pkgs4])"
   ]
  },
  {
   "cell_type": "code",
   "execution_count": 14,
   "metadata": {
    "collapsed": true
   },
   "outputs": [],
   "source": [
    "pkgs = list(set(pkgs1 + pkgs2 + pkgs3 + pkgs4))"
   ]
  },
  {
   "cell_type": "code",
   "execution_count": 15,
   "metadata": {
    "collapsed": false
   },
   "outputs": [
    {
     "data": {
      "text/plain": [
       "111"
      ]
     },
     "execution_count": 15,
     "metadata": {},
     "output_type": "execute_result"
    }
   ],
   "source": [
    "len(pkgs)"
   ]
  },
  {
   "cell_type": "code",
   "execution_count": 16,
   "metadata": {
    "collapsed": false
   },
   "outputs": [
    {
     "name": "stdout",
     "output_type": "stream",
     "text": [
      "['vis.js', 'shield ui charts', 'cc by-nc 3.0', 'd3', 'flot charts', 'd3.js', 'protovis', 'factmint charts', 'arcadiacharts', 'dc.js', 'modestmaps-js', 'dex', 'dc', 'morris.js', 'dojo (dojox/charting)', 'ember charts', 'chartist.js', 'sencha touch charts', 'pluscharts', 'canvasjs charts', 'victory', 'graphael', 'syncfusion', 'vizceral', 'metricsgraphics.js', 'teechart for javascript', 'kendoui dataviz', 'chartist', 'sigma js', 'envisionjs', 'jqplot', 'plottable.js', 'canvasxpress', 'jenscriptjs', 'elycharts', 'svgware', 'fusioncharts', 'yui charts', 'taucharts', 'dygraphs', 'nvd3', 'zoomcharts', 'google chart tools', 'webix charts', 'sigma.js', 'amcharts', 'deck.gl', 'visjs', 'chart.js', 'gplv3', 'jsxgraph', 'cesium', 'reportivo.com', 'ejschart', 'highcharts', 'vancharts', 'metrics-graphics', 'anychart', 'jenscript', 'keen-dataviz.js', 'echarts', 'olapcharts', 'dhtmlx charts', 'pizza pie charts', 'shield ui', 'steema', 'google chart', 'rickshaw', 'vaadin charts', 'nextcharts', 'dojo charting', 'webcharts', 'charts 4 php', 'c3.js', 'canvasjs', 'zingchart', 'chartist-js', 'plotly', 'cytoscape.js', 'jquery sparklines', 'raw', 'highcharts, highstock', 'webix ui', 'jscharts', 'flot', 'leaflet', 'arbor', 'dhtmlxchart', 'ejscharts', 'dimple', 'jenscript js', 'n3-charts', 'flotr2', 'devextreme', 'teechart', 'chart builder by livegap', 'metricsgraphics', 'livegap', 'plotly.js', 'recline', 'rgraph', 'uvcharts', 'dygraph', 'xcharts', 'smoothie charts', 'jqchart', 'koolchart', 'jquery highcharttable', 'raphael', 'chartkick', 'cubism.js']\n"
     ]
    }
   ],
   "source": [
    "print pkgs"
   ]
  },
  {
   "cell_type": "code",
   "execution_count": 17,
   "metadata": {
    "collapsed": false
   },
   "outputs": [],
   "source": [
    "## use github search results to find package aliases"
   ]
  },
  {
   "cell_type": "code",
   "execution_count": 18,
   "metadata": {
    "collapsed": false
   },
   "outputs": [],
   "source": [
    "with open(\"../code/secrets/github-token.nogit\", \"rb\") as f:\n",
    "    token = f.read()\n",
    "headers = {'Authorization': 'token %s' % token}"
   ]
  },
  {
   "cell_type": "code",
   "execution_count": 19,
   "metadata": {
    "collapsed": false
   },
   "outputs": [],
   "source": [
    "def get_full_name_from_search(query):\n",
    "    \"\"\"Use github search to return full name from top query result\"\"\"\n",
    "    \n",
    "    r = requests.get('https://api.github.com/search/repositories?q='+\\\n",
    "                             query, \n",
    "                     headers=headers)\n",
    "    r.raise_for_status()\n",
    "    try:\n",
    "        res = r.json()['items'][0]\n",
    "        return (res['full_name'], query)\n",
    "    except:\n",
    "        return ('NA', query)"
   ]
  },
  {
   "cell_type": "code",
   "execution_count": 20,
   "metadata": {
    "collapsed": false
   },
   "outputs": [
    {
     "name": "stdout",
     "output_type": "stream",
     "text": [
      "DONE\n"
     ]
    }
   ],
   "source": [
    "# use generator to avoid repeat API calls\n",
    "data1 = [res for res in (get_full_name_from_search(q) for q in pkgs[:29])\n",
    "        if res is not None]\n",
    "time.sleep(61)      # API limit with token: 30 api calls/min\n",
    "data2 = [res for res in (get_full_name_from_search(q) for q in pkgs[29:57])\n",
    "        if res is not None]\n",
    "time.sleep(61)\n",
    "data3 = [res for res in (get_full_name_from_search(q) for q in pkgs[57:85])\n",
    "        if res is not None]\n",
    "time.sleep(61)\n",
    "data4 = [res for res in (get_full_name_from_search(q) for q in pkgs[85:104])\n",
    "        if res is not None]\n",
    "time.sleep(61)\n",
    "data5 = [res for res in (get_full_name_from_search(q) for q in pkgs[104:])\n",
    "        if res is not None]\n",
    "print \"DONE\""
   ]
  },
  {
   "cell_type": "code",
   "execution_count": 21,
   "metadata": {
    "collapsed": false
   },
   "outputs": [],
   "source": [
    "full_name_data = (data1 + data2 + data3 + data4 + data5)"
   ]
  },
  {
   "cell_type": "code",
   "execution_count": 22,
   "metadata": {
    "collapsed": false
   },
   "outputs": [],
   "source": [
    "from collections import defaultdict\n",
    "github_names_dict = defaultdict()\n",
    "for full_name in full_name_data:\n",
    "    key = full_name[0]\n",
    "    if key in github_names_dict:\n",
    "        aliases = github_names_dict[key]\n",
    "        aliases.append(full_name[1])\n",
    "        github_names_dict[key] = aliases\n",
    "    else:\n",
    "        github_names_dict[key] = [full_name[1]]"
   ]
  },
  {
   "cell_type": "code",
   "execution_count": 23,
   "metadata": {
    "collapsed": true
   },
   "outputs": [],
   "source": [
    "import csv\n",
    "\n",
    "with open(\"../data/js_vis_pkgs_w_aliases.csv\", \"w\") as f:\n",
    "        writer = csv.writer(f)\n",
    "        for k,v in github_names_dict.iteritems():\n",
    "            writer.writerow([k] + [v])"
   ]
  },
  {
   "cell_type": "code",
   "execution_count": 24,
   "metadata": {
    "collapsed": true
   },
   "outputs": [],
   "source": [
    "# hand editted pkgs list to remove non-visualization specific packages such as recline,..\n",
    "#..and paid packages without github repositiories such as CanvasJS, KoolCharts, TeeCharts, ZoomCharts "
   ]
  },
  {
   "cell_type": "code",
   "execution_count": 25,
   "metadata": {
    "collapsed": false
   },
   "outputs": [],
   "source": [
    "pkgsDF = pd.read_csv('../data/js_vis_pkgs_final.csv', header=None)\n",
    "pkgsDF.columns = ['package', 'github_repo', 'aliases'] "
   ]
  },
  {
   "cell_type": "code",
   "execution_count": 26,
   "metadata": {
    "collapsed": false
   },
   "outputs": [
    {
     "data": {
      "text/html": [
       "<div>\n",
       "<table border=\"1\" class=\"dataframe\">\n",
       "  <thead>\n",
       "    <tr style=\"text-align: right;\">\n",
       "      <th></th>\n",
       "      <th>package</th>\n",
       "      <th>github_repo</th>\n",
       "      <th>aliases</th>\n",
       "    </tr>\n",
       "  </thead>\n",
       "  <tbody>\n",
       "    <tr>\n",
       "      <th>0</th>\n",
       "      <td>plottable</td>\n",
       "      <td>palantir/plottable</td>\n",
       "      <td>['plottable.js'; 'plottable']</td>\n",
       "    </tr>\n",
       "    <tr>\n",
       "      <th>1</th>\n",
       "      <td>taucharts</td>\n",
       "      <td>TargetProcess/tauCharts</td>\n",
       "      <td>['taucharts'; 'taucharts.js']</td>\n",
       "    </tr>\n",
       "    <tr>\n",
       "      <th>2</th>\n",
       "      <td>metrics-graphics</td>\n",
       "      <td>mozilla/metrics-graphics</td>\n",
       "      <td>['metrics-graphics'; 'metricsgraphics.js'; 'me...</td>\n",
       "    </tr>\n",
       "    <tr>\n",
       "      <th>3</th>\n",
       "      <td>dc</td>\n",
       "      <td>dc-js/dc.js</td>\n",
       "      <td>['dc.js']</td>\n",
       "    </tr>\n",
       "    <tr>\n",
       "      <th>4</th>\n",
       "      <td>smoothie</td>\n",
       "      <td>joewalnes/smoothie</td>\n",
       "      <td>['smoothie charts'; 'smoothie.js']</td>\n",
       "    </tr>\n",
       "  </tbody>\n",
       "</table>\n",
       "</div>"
      ],
      "text/plain": [
       "            package                github_repo  \\\n",
       "0         plottable         palantir/plottable   \n",
       "1         taucharts    TargetProcess/tauCharts   \n",
       "2  metrics-graphics   mozilla/metrics-graphics   \n",
       "3                dc                dc-js/dc.js   \n",
       "4          smoothie         joewalnes/smoothie   \n",
       "\n",
       "                                             aliases  \n",
       "0                      ['plottable.js'; 'plottable']  \n",
       "1                      ['taucharts'; 'taucharts.js']  \n",
       "2  ['metrics-graphics'; 'metricsgraphics.js'; 'me...  \n",
       "3                                          ['dc.js']  \n",
       "4                 ['smoothie charts'; 'smoothie.js']  "
      ]
     },
     "execution_count": 26,
     "metadata": {},
     "output_type": "execute_result"
    }
   ],
   "source": [
    "pkgsDF.head()"
   ]
  },
  {
   "cell_type": "markdown",
   "metadata": {},
   "source": [
    "## Get Github Stats"
   ]
  },
  {
   "cell_type": "code",
   "execution_count": 27,
   "metadata": {
    "collapsed": false
   },
   "outputs": [],
   "source": [
    "def get_data_from_github(repo):\n",
    "    \"\"\"Use github repo from DF to return stars and forks\"\"\"\n",
    "    \n",
    "    r = requests.get('https://api.github.com/repos/'+repo,\n",
    "                     headers=headers)\n",
    "    r.raise_for_status()\n",
    "    try:\n",
    "        res = r.json()\n",
    "        return {'github_repo': repo, 'stars': res['stargazers_count'], 'forks': res['forks_count']}\n",
    "    except:\n",
    "        return {'github_repo': repo, 'stars': 'NA', 'forks': 'NA'}"
   ]
  },
  {
   "cell_type": "code",
   "execution_count": 28,
   "metadata": {
    "collapsed": false
   },
   "outputs": [],
   "source": [
    "repoList = pkgsDF['github_repo'].tolist()"
   ]
  },
  {
   "cell_type": "code",
   "execution_count": 29,
   "metadata": {
    "collapsed": false
   },
   "outputs": [
    {
     "name": "stdout",
     "output_type": "stream",
     "text": [
      "DONE\n"
     ]
    }
   ],
   "source": [
    "# use generator to avoid repeat API calls\n",
    "data1 = [res for res in (get_data_from_github(repo.strip()) for repo in repoList[:28])\n",
    "        if res is not None]\n",
    "time.sleep(61)      # API limit with token: 30 api calls/min\n",
    "data2 = [res for res in (get_data_from_github(repo.strip()) for repo in repoList[28:])\n",
    "        if res is not None]\n",
    "print \"DONE\""
   ]
  },
  {
   "cell_type": "code",
   "execution_count": 30,
   "metadata": {
    "collapsed": false
   },
   "outputs": [],
   "source": [
    "githubDF = pd.DataFrame(data1 + data2)[['github_repo', 'stars', 'forks']]"
   ]
  },
  {
   "cell_type": "code",
   "execution_count": 31,
   "metadata": {
    "collapsed": false
   },
   "outputs": [
    {
     "data": {
      "text/html": [
       "<div>\n",
       "<table border=\"1\" class=\"dataframe\">\n",
       "  <thead>\n",
       "    <tr style=\"text-align: right;\">\n",
       "      <th></th>\n",
       "      <th>github_repo</th>\n",
       "      <th>stars</th>\n",
       "      <th>forks</th>\n",
       "    </tr>\n",
       "  </thead>\n",
       "  <tbody>\n",
       "    <tr>\n",
       "      <th>0</th>\n",
       "      <td>palantir/plottable</td>\n",
       "      <td>2170</td>\n",
       "      <td>181</td>\n",
       "    </tr>\n",
       "    <tr>\n",
       "      <th>1</th>\n",
       "      <td>TargetProcess/tauCharts</td>\n",
       "      <td>1360</td>\n",
       "      <td>88</td>\n",
       "    </tr>\n",
       "    <tr>\n",
       "      <th>2</th>\n",
       "      <td>mozilla/metrics-graphics</td>\n",
       "      <td>6693</td>\n",
       "      <td>436</td>\n",
       "    </tr>\n",
       "    <tr>\n",
       "      <th>3</th>\n",
       "      <td>dc-js/dc.js</td>\n",
       "      <td>5774</td>\n",
       "      <td>1551</td>\n",
       "    </tr>\n",
       "    <tr>\n",
       "      <th>4</th>\n",
       "      <td>joewalnes/smoothie</td>\n",
       "      <td>1646</td>\n",
       "      <td>156</td>\n",
       "    </tr>\n",
       "  </tbody>\n",
       "</table>\n",
       "</div>"
      ],
      "text/plain": [
       "                github_repo  stars  forks\n",
       "0        palantir/plottable   2170    181\n",
       "1   TargetProcess/tauCharts   1360     88\n",
       "2  mozilla/metrics-graphics   6693    436\n",
       "3               dc-js/dc.js   5774   1551\n",
       "4        joewalnes/smoothie   1646    156"
      ]
     },
     "execution_count": 31,
     "metadata": {},
     "output_type": "execute_result"
    }
   ],
   "source": [
    "githubDF.head()"
   ]
  },
  {
   "cell_type": "code",
   "execution_count": 32,
   "metadata": {
    "collapsed": false
   },
   "outputs": [],
   "source": [
    "pkgsDF['forks'] = githubDF['forks']\n",
    "pkgsDF['stars'] = githubDF['stars']"
   ]
  },
  {
   "cell_type": "markdown",
   "metadata": {},
   "source": [
    "## Get StackOverflow Stats"
   ]
  },
  {
   "cell_type": "code",
   "execution_count": 55,
   "metadata": {
    "collapsed": false
   },
   "outputs": [],
   "source": [
    "baseurl = 'https://api.stackexchange.com/2.2/search/advanced'\n",
    "\n",
    "def get_so_tag_counts(tag):\n",
    "#Given tag, return tag counts\n",
    "    params = {\n",
    "    \"site\": \"stackoverflow\",\n",
    "    \"key\": \"y38PeNERQJQIC8EPliKAVQ((\",\n",
    "    \"tagged\": tag,  \n",
    "    \"filter\": 'total'}\n",
    "    try:\n",
    "        r = requests.get(baseurl, params=params)\n",
    "        return r.json()['total']\n",
    "    except:\n",
    "        return 0\n",
    "\n",
    "def get_so_question_counts(package):\n",
    "#Given package, return count of questions containing package name\n",
    "    params = {\n",
    "    \"site\": \"stackoverflow\",\n",
    "    \"key\": \"y38PeNERQJQIC8EPliKAVQ((\",\n",
    "    \"q\": package,  \n",
    "    \"filter\": 'total'}\n",
    "    try:\n",
    "        r = requests.get(baseurl, params=params)\n",
    "        return r.json()['total']\n",
    "    except:\n",
    "        return 0    "
   ]
  },
  {
   "cell_type": "code",
   "execution_count": 34,
   "metadata": {
    "collapsed": true
   },
   "outputs": [],
   "source": [
    "pkgsList = pkgsDF['aliases'].tolist()"
   ]
  },
  {
   "cell_type": "code",
   "execution_count": 57,
   "metadata": {
    "collapsed": true
   },
   "outputs": [],
   "source": [
    "tag_data = []\n",
    "for tags in pkgsList:\n",
    "    total_count = 0\n",
    "    for alias in tags.split(';'):\n",
    "        total_count += get_so_tag_counts(alias)\n",
    "    tag_data.append({'aliases':tags, 'so_tag_count': total_count}) "
   ]
  },
  {
   "cell_type": "code",
   "execution_count": 58,
   "metadata": {
    "collapsed": true
   },
   "outputs": [],
   "source": [
    "so_tagsDF = pd.DataFrame(tag_data)[['aliases', 'so_tag_count']]\n",
    "so_tagsDF.columns = ['aliases', 'so_tag_counts']\n",
    "pkgsDF['so_tag_counts'] = so_tagsDF['so_tag_counts']"
   ]
  },
  {
   "cell_type": "code",
   "execution_count": 59,
   "metadata": {
    "collapsed": true
   },
   "outputs": [],
   "source": [
    "quest_data = []\n",
    "for tags in pkgsList:\n",
    "    total_count = 0\n",
    "    for alias in tags.split(';'):\n",
    "        total_count += get_so_question_counts(alias)\n",
    "    quest_data.append({'aliases':tags, 'so_question_count': total_count}) "
   ]
  },
  {
   "cell_type": "code",
   "execution_count": 60,
   "metadata": {
    "collapsed": true
   },
   "outputs": [],
   "source": [
    "so_questDF = pd.DataFrame(quest_data)[['aliases', 'so_question_count']]\n",
    "so_questDF.columns = ['aliases', 'so_question_count']\n",
    "pkgsDF['so_questions_counts'] = so_questDF['so_question_count']"
   ]
  },
  {
   "cell_type": "markdown",
   "metadata": {},
   "source": [
    "## Get download counts from npmjs"
   ]
  },
  {
   "cell_type": "code",
   "execution_count": 61,
   "metadata": {
    "collapsed": true
   },
   "outputs": [],
   "source": [
    "def extract_count(html):\n",
    "    total_dl = 0\n",
    "    day_queries = json.loads(html).get(u'downloads')\n",
    "    for day in day_queries:\n",
    "        total_dl += day.get(u'downloads')\n",
    "    return total_dl\n",
    "\n",
    "def get_npmjs_counts(package, start_date, end_date):\n",
    "    #retruns total downloads between dates\n",
    "    #enter package and dates as strings, date format YYYY-MM-DD\n",
    "    try:\n",
    "        response = urllib2.urlopen('https://api.npmjs.org/downloads/range/'+start_date+':'+end_date+'/'+package)\n",
    "        return extract_count(response.read())\n",
    "    except urllib2.HTTPError, e:\n",
    "        return 'NaN'\n",
    "\n",
    "def get_npmjs_cmgr(package, first_month, last_month):\n",
    "    #returns compound monthly growth rate\n",
    "    #enter package as string, date as list of two integers [YYYY, M]\n",
    "    try:\n",
    "        d1 = date(first_month[0], first_month[1], 1)\n",
    "        d2 = date(last_month[0], last_month[1], 1)\n",
    "        month_diff = (d2.year - d1.year) * 12 + d2.month - d1.month + 1\n",
    "        d1_end = d1 + timedelta(days=30)\n",
    "        month1_counts = extract_count(urllib2.urlopen('https://api.npmjs.org/downloads/range/'\n",
    "                                                  +d1.strftime(\"%Y-%m-%d\")+':'+d1_end.strftime(\"%Y-%m-%d\")+'/'+package).read())\n",
    "        if month1_counts == 0:\n",
    "            return 'No downloads first month'\n",
    "        d2_end = d2 + timedelta(days=30)\n",
    "        month2_counts = extract_count(urllib2.urlopen('https://api.npmjs.org/downloads/range/'\n",
    "                                                  +d2.strftime(\"%Y-%m-%d\")+':'+d2_end.strftime(\"%Y-%m-%d\")+'/'+package).read())\n",
    "        cmgr = ((month2_counts/float(month1_counts))**(1.0/month_diff))-1.0\n",
    "        return cmgr\n",
    "    except urllib2.HTTPError, e:\n",
    "        return 'NaN'\n",
    "    \n",
    "\n",
    "def get_npmjs_stats(npm_package_list):\n",
    "    #returns downloads in last 6 months, and 6 month compound monthly growth rate\n",
    "    #downloadsdf = pd.DataFrame(columns=['package','total_downloads','growth rate'])\n",
    "    downloads =[]\n",
    "    growth_rates = []\n",
    "    for package in npm_package_list:\n",
    "        downloads.append(get_npmjs_counts(package, '2017-02-01','2017-07-31'))\n",
    "        growth_rates.append(get_npmjs_cmgr(package, [2017, 2], [2017, 7]))\n",
    "    return downloads, growth_rates"
   ]
  },
  {
   "cell_type": "code",
   "execution_count": 62,
   "metadata": {
    "collapsed": true
   },
   "outputs": [],
   "source": [
    "pkgs = pkgsDF['package']"
   ]
  },
  {
   "cell_type": "code",
   "execution_count": 63,
   "metadata": {
    "collapsed": false
   },
   "outputs": [],
   "source": [
    "[downloads, growth_rates] = get_npmjs_stats(pkgs)"
   ]
  },
  {
   "cell_type": "code",
   "execution_count": 64,
   "metadata": {
    "collapsed": false
   },
   "outputs": [],
   "source": [
    "downloadsDF = pd.DataFrame(np.column_stack([pkgs, downloads, growth_rates]), \n",
    "                               columns=['package', 'downloads', 'growth_rates'])\n",
    "pkgsDF['downloads'] = downloadsDF['downloads']\n",
    "pkgsDF['dl_growth_rates'] = downloadsDF['growth_rates']"
   ]
  },
  {
   "cell_type": "markdown",
   "metadata": {},
   "source": [
    "## All data combined"
   ]
  },
  {
   "cell_type": "code",
   "execution_count": 67,
   "metadata": {
    "collapsed": false
   },
   "outputs": [],
   "source": [
    "pkgsDF.to_csv(\"../data/js_vis_Data.csv\")"
   ]
  },
  {
   "cell_type": "code",
   "execution_count": 66,
   "metadata": {
    "collapsed": false
   },
   "outputs": [
    {
     "data": {
      "text/html": [
       "<div>\n",
       "<table border=\"1\" class=\"dataframe\">\n",
       "  <thead>\n",
       "    <tr style=\"text-align: right;\">\n",
       "      <th></th>\n",
       "      <th>package</th>\n",
       "      <th>github_repo</th>\n",
       "      <th>aliases</th>\n",
       "      <th>forks</th>\n",
       "      <th>stars</th>\n",
       "      <th>so_tag_counts</th>\n",
       "      <th>so_questions_counts</th>\n",
       "      <th>downloads</th>\n",
       "      <th>dl_growth_rates</th>\n",
       "    </tr>\n",
       "  </thead>\n",
       "  <tbody>\n",
       "    <tr>\n",
       "      <th>0</th>\n",
       "      <td>plottable</td>\n",
       "      <td>palantir/plottable</td>\n",
       "      <td>['plottable.js'; 'plottable']</td>\n",
       "      <td>181</td>\n",
       "      <td>2170</td>\n",
       "      <td>55</td>\n",
       "      <td>94664</td>\n",
       "      <td>36553</td>\n",
       "      <td>0.486324049494</td>\n",
       "    </tr>\n",
       "    <tr>\n",
       "      <th>1</th>\n",
       "      <td>taucharts</td>\n",
       "      <td>TargetProcess/tauCharts</td>\n",
       "      <td>['taucharts'; 'taucharts.js']</td>\n",
       "      <td>88</td>\n",
       "      <td>1360</td>\n",
       "      <td>0</td>\n",
       "      <td>4</td>\n",
       "      <td>20583</td>\n",
       "      <td>0.273708996964</td>\n",
       "    </tr>\n",
       "    <tr>\n",
       "      <th>2</th>\n",
       "      <td>metrics-graphics</td>\n",
       "      <td>mozilla/metrics-graphics</td>\n",
       "      <td>['metrics-graphics'; 'metricsgraphics.js'; 'me...</td>\n",
       "      <td>436</td>\n",
       "      <td>6693</td>\n",
       "      <td>0</td>\n",
       "      <td>167</td>\n",
       "      <td>11845</td>\n",
       "      <td>0.0416176729254</td>\n",
       "    </tr>\n",
       "    <tr>\n",
       "      <th>3</th>\n",
       "      <td>dc</td>\n",
       "      <td>dc-js/dc.js</td>\n",
       "      <td>['dc.js']</td>\n",
       "      <td>1551</td>\n",
       "      <td>5774</td>\n",
       "      <td>1195</td>\n",
       "      <td>1195</td>\n",
       "      <td>65422</td>\n",
       "      <td>-0.0022064607979</td>\n",
       "    </tr>\n",
       "    <tr>\n",
       "      <th>4</th>\n",
       "      <td>smoothie</td>\n",
       "      <td>joewalnes/smoothie</td>\n",
       "      <td>['smoothie charts'; 'smoothie.js']</td>\n",
       "      <td>156</td>\n",
       "      <td>1646</td>\n",
       "      <td>9</td>\n",
       "      <td>13</td>\n",
       "      <td>4769</td>\n",
       "      <td>0.0352487015357</td>\n",
       "    </tr>\n",
       "    <tr>\n",
       "      <th>5</th>\n",
       "      <td>keen-dataviz</td>\n",
       "      <td>keen/keen-dataviz.js</td>\n",
       "      <td>['keen-dataviz.js'; 'keen-dataviz']</td>\n",
       "      <td>29</td>\n",
       "      <td>118</td>\n",
       "      <td>0</td>\n",
       "      <td>5</td>\n",
       "      <td>10495</td>\n",
       "      <td>-0.0379486606458</td>\n",
       "    </tr>\n",
       "    <tr>\n",
       "      <th>6</th>\n",
       "      <td>chartist</td>\n",
       "      <td>gionkunz/chartist-js</td>\n",
       "      <td>['chartist-js' ; 'chartist']</td>\n",
       "      <td>1808</td>\n",
       "      <td>9743</td>\n",
       "      <td>0</td>\n",
       "      <td>253</td>\n",
       "      <td>243584</td>\n",
       "      <td>0.0613518510755</td>\n",
       "    </tr>\n",
       "    <tr>\n",
       "      <th>7</th>\n",
       "      <td>highcharts</td>\n",
       "      <td>highcharts/highcharts</td>\n",
       "      <td>['highcharts'; 'highcharts.js']</td>\n",
       "      <td>2017</td>\n",
       "      <td>6521</td>\n",
       "      <td>16587</td>\n",
       "      <td>18312</td>\n",
       "      <td>1425832</td>\n",
       "      <td>0.104917155577</td>\n",
       "    </tr>\n",
       "    <tr>\n",
       "      <th>8</th>\n",
       "      <td>n3-charts</td>\n",
       "      <td>n3-charts/line-chart</td>\n",
       "      <td>['n3-charts'; 'n3-line-chart']</td>\n",
       "      <td>200</td>\n",
       "      <td>1217</td>\n",
       "      <td>11</td>\n",
       "      <td>46</td>\n",
       "      <td>13330</td>\n",
       "      <td>-0.0654696469862</td>\n",
       "    </tr>\n",
       "    <tr>\n",
       "      <th>9</th>\n",
       "      <td>leaflet</td>\n",
       "      <td>Leaflet/Leaflet</td>\n",
       "      <td>['leaflet']</td>\n",
       "      <td>3245</td>\n",
       "      <td>19098</td>\n",
       "      <td>5766</td>\n",
       "      <td>5766</td>\n",
       "      <td>1007700</td>\n",
       "      <td>0.0912900337186</td>\n",
       "    </tr>\n",
       "    <tr>\n",
       "      <th>10</th>\n",
       "      <td>deck.gl</td>\n",
       "      <td>uber/deck.gl</td>\n",
       "      <td>['deck.gl']</td>\n",
       "      <td>380</td>\n",
       "      <td>3308</td>\n",
       "      <td>6</td>\n",
       "      <td>6</td>\n",
       "      <td>57605</td>\n",
       "      <td>0.205971518992</td>\n",
       "    </tr>\n",
       "    <tr>\n",
       "      <th>11</th>\n",
       "      <td>raphael</td>\n",
       "      <td>DmitryBaranovskiy/raphael</td>\n",
       "      <td>['raphael']</td>\n",
       "      <td>1465</td>\n",
       "      <td>9224</td>\n",
       "      <td>2961</td>\n",
       "      <td>2961</td>\n",
       "      <td>255688</td>\n",
       "      <td>0.218769218971</td>\n",
       "    </tr>\n",
       "    <tr>\n",
       "      <th>12</th>\n",
       "      <td>elycharts</td>\n",
       "      <td>voidlabs/elycharts</td>\n",
       "      <td>['elycharts'; 'ely charts'; 'elycharts.js']</td>\n",
       "      <td>11</td>\n",
       "      <td>7</td>\n",
       "      <td>0</td>\n",
       "      <td>417</td>\n",
       "      <td>NaN</td>\n",
       "      <td>NaN</td>\n",
       "    </tr>\n",
       "    <tr>\n",
       "      <th>13</th>\n",
       "      <td>amcharts</td>\n",
       "      <td>ChimpStudios/AmCharts</td>\n",
       "      <td>['amcharts']</td>\n",
       "      <td>33</td>\n",
       "      <td>110</td>\n",
       "      <td>1175</td>\n",
       "      <td>1175</td>\n",
       "      <td>4573</td>\n",
       "      <td>0.0749390974022</td>\n",
       "    </tr>\n",
       "    <tr>\n",
       "      <th>14</th>\n",
       "      <td>cytoscape</td>\n",
       "      <td>cytoscape/cytoscape.js</td>\n",
       "      <td>['cytoscape.js'; 'cytoscape']</td>\n",
       "      <td>506</td>\n",
       "      <td>3358</td>\n",
       "      <td>720</td>\n",
       "      <td>913</td>\n",
       "      <td>64635</td>\n",
       "      <td>0.0332302734348</td>\n",
       "    </tr>\n",
       "    <tr>\n",
       "      <th>15</th>\n",
       "      <td>chart.js</td>\n",
       "      <td>chartjs/Chart.js</td>\n",
       "      <td>['chart.js']</td>\n",
       "      <td>7988</td>\n",
       "      <td>31567</td>\n",
       "      <td>3181</td>\n",
       "      <td>3181</td>\n",
       "      <td>2259748</td>\n",
       "      <td>0.0510969025843</td>\n",
       "    </tr>\n",
       "    <tr>\n",
       "      <th>16</th>\n",
       "      <td>rgraph</td>\n",
       "      <td>mhammiche/rgraph</td>\n",
       "      <td>['rgraph']</td>\n",
       "      <td>11</td>\n",
       "      <td>13</td>\n",
       "      <td>82</td>\n",
       "      <td>82</td>\n",
       "      <td>NaN</td>\n",
       "      <td>NaN</td>\n",
       "    </tr>\n",
       "    <tr>\n",
       "      <th>17</th>\n",
       "      <td>morris.js</td>\n",
       "      <td>morrisjs/morris.js</td>\n",
       "      <td>['morris.js']</td>\n",
       "      <td>1144</td>\n",
       "      <td>6589</td>\n",
       "      <td>454</td>\n",
       "      <td>454</td>\n",
       "      <td>47247</td>\n",
       "      <td>0.0807520362641</td>\n",
       "    </tr>\n",
       "    <tr>\n",
       "      <th>18</th>\n",
       "      <td>vaadin charts</td>\n",
       "      <td>vaadin/charts</td>\n",
       "      <td>['vaadin charts']</td>\n",
       "      <td>54</td>\n",
       "      <td>30</td>\n",
       "      <td>0</td>\n",
       "      <td>0</td>\n",
       "      <td>NaN</td>\n",
       "      <td>NaN</td>\n",
       "    </tr>\n",
       "    <tr>\n",
       "      <th>19</th>\n",
       "      <td>jsxgraph</td>\n",
       "      <td>jsxgraph/jsxgraph</td>\n",
       "      <td>['jsxgraph']</td>\n",
       "      <td>86</td>\n",
       "      <td>334</td>\n",
       "      <td>32</td>\n",
       "      <td>32</td>\n",
       "      <td>164</td>\n",
       "      <td>0.0757762440503</td>\n",
       "    </tr>\n",
       "    <tr>\n",
       "      <th>20</th>\n",
       "      <td>pizza pie charts</td>\n",
       "      <td>zurb/pizza</td>\n",
       "      <td>['pizza pie charts']</td>\n",
       "      <td>65</td>\n",
       "      <td>423</td>\n",
       "      <td>0</td>\n",
       "      <td>0</td>\n",
       "      <td>82</td>\n",
       "      <td>0.0198244513278</td>\n",
       "    </tr>\n",
       "    <tr>\n",
       "      <th>21</th>\n",
       "      <td>jquery-sparkline</td>\n",
       "      <td>gwatts/jquery.sparkline</td>\n",
       "      <td>['jquery sparklines'; 'jquery-sparkline']</td>\n",
       "      <td>251</td>\n",
       "      <td>1071</td>\n",
       "      <td>0</td>\n",
       "      <td>173</td>\n",
       "      <td>71805</td>\n",
       "      <td>0.148199036661</td>\n",
       "    </tr>\n",
       "    <tr>\n",
       "      <th>22</th>\n",
       "      <td>chartkick</td>\n",
       "      <td>ankane/chartkick</td>\n",
       "      <td>['chartkick']</td>\n",
       "      <td>437</td>\n",
       "      <td>4397</td>\n",
       "      <td>205</td>\n",
       "      <td>205</td>\n",
       "      <td>16667</td>\n",
       "      <td>0.161966000576</td>\n",
       "    </tr>\n",
       "    <tr>\n",
       "      <th>23</th>\n",
       "      <td>zingchart</td>\n",
       "      <td>zingchart/ZingChart</td>\n",
       "      <td>['zingchart']</td>\n",
       "      <td>27</td>\n",
       "      <td>146</td>\n",
       "      <td>195</td>\n",
       "      <td>195</td>\n",
       "      <td>10203</td>\n",
       "      <td>0.106328499243</td>\n",
       "    </tr>\n",
       "    <tr>\n",
       "      <th>24</th>\n",
       "      <td>anychart</td>\n",
       "      <td>AnyChart/AnyChart</td>\n",
       "      <td>['anychart']</td>\n",
       "      <td>14</td>\n",
       "      <td>127</td>\n",
       "      <td>85</td>\n",
       "      <td>85</td>\n",
       "      <td>6554</td>\n",
       "      <td>0.319863072602</td>\n",
       "    </tr>\n",
       "    <tr>\n",
       "      <th>25</th>\n",
       "      <td>dojo charting</td>\n",
       "      <td>johntexastechsmith/DojoTrendCharting</td>\n",
       "      <td>['dojo charting'; 'dojox charting']</td>\n",
       "      <td>0</td>\n",
       "      <td>0</td>\n",
       "      <td>0</td>\n",
       "      <td>121</td>\n",
       "      <td>189350</td>\n",
       "      <td>-0.000458564973825</td>\n",
       "    </tr>\n",
       "    <tr>\n",
       "      <th>26</th>\n",
       "      <td>d3</td>\n",
       "      <td>d3/d3</td>\n",
       "      <td>['d3'; 'd3.js']</td>\n",
       "      <td>17486</td>\n",
       "      <td>66875</td>\n",
       "      <td>26868</td>\n",
       "      <td>47457</td>\n",
       "      <td>5022889</td>\n",
       "      <td>0.0403594872079</td>\n",
       "    </tr>\n",
       "    <tr>\n",
       "      <th>27</th>\n",
       "      <td>vizceral</td>\n",
       "      <td>Netflix/vizceral</td>\n",
       "      <td>['vizceral']</td>\n",
       "      <td>134</td>\n",
       "      <td>1541</td>\n",
       "      <td>0</td>\n",
       "      <td>0</td>\n",
       "      <td>10270</td>\n",
       "      <td>-0.117836244814</td>\n",
       "    </tr>\n",
       "    <tr>\n",
       "      <th>28</th>\n",
       "      <td>envision</td>\n",
       "      <td>HumbleSoftware/envisionjs</td>\n",
       "      <td>['envisionjs'; 'envision.js']</td>\n",
       "      <td>257</td>\n",
       "      <td>1564</td>\n",
       "      <td>1</td>\n",
       "      <td>2</td>\n",
       "      <td>286</td>\n",
       "      <td>-0.0351040222755</td>\n",
       "    </tr>\n",
       "    <tr>\n",
       "      <th>29</th>\n",
       "      <td>jenscript</td>\n",
       "      <td>sjanaud/jenscript</td>\n",
       "      <td>['jenscript'; 'jenscript.js']</td>\n",
       "      <td>0</td>\n",
       "      <td>13</td>\n",
       "      <td>0</td>\n",
       "      <td>0</td>\n",
       "      <td>1278</td>\n",
       "      <td>-0.00153492997232</td>\n",
       "    </tr>\n",
       "    <tr>\n",
       "      <th>30</th>\n",
       "      <td>ejscharts</td>\n",
       "      <td>EmpriseCorporation/EJSCharts</td>\n",
       "      <td>['ejschart'; 'ejscharts'; 'ejs chart']</td>\n",
       "      <td>19</td>\n",
       "      <td>23</td>\n",
       "      <td>0</td>\n",
       "      <td>29</td>\n",
       "      <td>188</td>\n",
       "      <td>No downloads first month</td>\n",
       "    </tr>\n",
       "    <tr>\n",
       "      <th>31</th>\n",
       "      <td>protovis</td>\n",
       "      <td>mbostock/protovis</td>\n",
       "      <td>['protovis']</td>\n",
       "      <td>111</td>\n",
       "      <td>596</td>\n",
       "      <td>107</td>\n",
       "      <td>107</td>\n",
       "      <td>NaN</td>\n",
       "      <td>NaN</td>\n",
       "    </tr>\n",
       "    <tr>\n",
       "      <th>32</th>\n",
       "      <td>cubism</td>\n",
       "      <td>square/cubism</td>\n",
       "      <td>['cubism.js']</td>\n",
       "      <td>541</td>\n",
       "      <td>4553</td>\n",
       "      <td>92</td>\n",
       "      <td>92</td>\n",
       "      <td>2133</td>\n",
       "      <td>-0.057776985543</td>\n",
       "    </tr>\n",
       "    <tr>\n",
       "      <th>33</th>\n",
       "      <td>flot</td>\n",
       "      <td>flot/flot</td>\n",
       "      <td>['flot charts'; 'flot']</td>\n",
       "      <td>1411</td>\n",
       "      <td>5410</td>\n",
       "      <td>2016</td>\n",
       "      <td>2619</td>\n",
       "      <td>34492</td>\n",
       "      <td>0.131368852349</td>\n",
       "    </tr>\n",
       "    <tr>\n",
       "      <th>34</th>\n",
       "      <td>flotr2</td>\n",
       "      <td>HumbleSoftware/Flotr2</td>\n",
       "      <td>['flotr2']</td>\n",
       "      <td>535</td>\n",
       "      <td>2414</td>\n",
       "      <td>32</td>\n",
       "      <td>32</td>\n",
       "      <td>439</td>\n",
       "      <td>0.463450121224</td>\n",
       "    </tr>\n",
       "    <tr>\n",
       "      <th>35</th>\n",
       "      <td>echarts</td>\n",
       "      <td>ecomfe/echarts</td>\n",
       "      <td>['echarts'; 'echarts.js']</td>\n",
       "      <td>6129</td>\n",
       "      <td>19712</td>\n",
       "      <td>96</td>\n",
       "      <td>161</td>\n",
       "      <td>179641</td>\n",
       "      <td>0.210272050224</td>\n",
       "    </tr>\n",
       "    <tr>\n",
       "      <th>36</th>\n",
       "      <td>jqplot</td>\n",
       "      <td>jqPlot/jqPlot</td>\n",
       "      <td>['jqplot']</td>\n",
       "      <td>70</td>\n",
       "      <td>147</td>\n",
       "      <td>1689</td>\n",
       "      <td>1689</td>\n",
       "      <td>538</td>\n",
       "      <td>0.211073541191</td>\n",
       "    </tr>\n",
       "    <tr>\n",
       "      <th>37</th>\n",
       "      <td>uvcharts</td>\n",
       "      <td>Imaginea/uvCharts</td>\n",
       "      <td>['uvcharts']</td>\n",
       "      <td>76</td>\n",
       "      <td>228</td>\n",
       "      <td>1</td>\n",
       "      <td>1</td>\n",
       "      <td>47</td>\n",
       "      <td>0.0576809264052</td>\n",
       "    </tr>\n",
       "    <tr>\n",
       "      <th>38</th>\n",
       "      <td>xcharts</td>\n",
       "      <td>tenXer/xcharts</td>\n",
       "      <td>['xcharts']</td>\n",
       "      <td>194</td>\n",
       "      <td>1792</td>\n",
       "      <td>10</td>\n",
       "      <td>10</td>\n",
       "      <td>526</td>\n",
       "      <td>0.0933572837892</td>\n",
       "    </tr>\n",
       "    <tr>\n",
       "      <th>39</th>\n",
       "      <td>plotly.js</td>\n",
       "      <td>plotly/plotly.js</td>\n",
       "      <td>['plotly.js'; 'plotly']</td>\n",
       "      <td>705</td>\n",
       "      <td>6656</td>\n",
       "      <td>1959</td>\n",
       "      <td>94975</td>\n",
       "      <td>188821</td>\n",
       "      <td>0.0347455987218</td>\n",
       "    </tr>\n",
       "    <tr>\n",
       "      <th>40</th>\n",
       "      <td>dygraphs</td>\n",
       "      <td>danvk/dygraphs</td>\n",
       "      <td>['dygraphs'; 'dygraph']</td>\n",
       "      <td>491</td>\n",
       "      <td>2221</td>\n",
       "      <td>744</td>\n",
       "      <td>1683</td>\n",
       "      <td>40067</td>\n",
       "      <td>0.078817452536</td>\n",
       "    </tr>\n",
       "    <tr>\n",
       "      <th>41</th>\n",
       "      <td>nvd3</td>\n",
       "      <td>novus/nvd3</td>\n",
       "      <td>['nvd3']</td>\n",
       "      <td>2071</td>\n",
       "      <td>6099</td>\n",
       "      <td>0</td>\n",
       "      <td>1766</td>\n",
       "      <td>422159</td>\n",
       "      <td>0.0151473449031</td>\n",
       "    </tr>\n",
       "    <tr>\n",
       "      <th>42</th>\n",
       "      <td>fusioncharts</td>\n",
       "      <td>fusioncharts/fusionmaps-dist</td>\n",
       "      <td>['fusioncharts']</td>\n",
       "      <td>1</td>\n",
       "      <td>0</td>\n",
       "      <td>607</td>\n",
       "      <td>607</td>\n",
       "      <td>8196</td>\n",
       "      <td>0.16862495128</td>\n",
       "    </tr>\n",
       "    <tr>\n",
       "      <th>43</th>\n",
       "      <td>c3</td>\n",
       "      <td>vace/c3.js</td>\n",
       "      <td>['c3.js'; 'c3']</td>\n",
       "      <td>2</td>\n",
       "      <td>8</td>\n",
       "      <td>872</td>\n",
       "      <td>18235</td>\n",
       "      <td>432160</td>\n",
       "      <td>0.0407318193275</td>\n",
       "    </tr>\n",
       "    <tr>\n",
       "      <th>44</th>\n",
       "      <td>webcharts</td>\n",
       "      <td>RhoInc/Webcharts</td>\n",
       "      <td>['webcharts']</td>\n",
       "      <td>1</td>\n",
       "      <td>13</td>\n",
       "      <td>0</td>\n",
       "      <td>0</td>\n",
       "      <td>706</td>\n",
       "      <td>-0.0609796911194</td>\n",
       "    </tr>\n",
       "    <tr>\n",
       "      <th>45</th>\n",
       "      <td>victory</td>\n",
       "      <td>FormidableLabs/victory</td>\n",
       "      <td>['victory']</td>\n",
       "      <td>139</td>\n",
       "      <td>4669</td>\n",
       "      <td>0</td>\n",
       "      <td>0</td>\n",
       "      <td>159738</td>\n",
       "      <td>0.0685924422712</td>\n",
       "    </tr>\n",
       "    <tr>\n",
       "      <th>46</th>\n",
       "      <td>sigma</td>\n",
       "      <td>jacomyal/sigma.js</td>\n",
       "      <td>['sigma.js'; 'sigma js']</td>\n",
       "      <td>1169</td>\n",
       "      <td>7391</td>\n",
       "      <td>158</td>\n",
       "      <td>208</td>\n",
       "      <td>4979</td>\n",
       "      <td>0.0909358834586</td>\n",
       "    </tr>\n",
       "    <tr>\n",
       "      <th>47</th>\n",
       "      <td>cesium</td>\n",
       "      <td>AnalyticalGraphicsInc/cesium</td>\n",
       "      <td>['cesium']</td>\n",
       "      <td>1131</td>\n",
       "      <td>2361</td>\n",
       "      <td>394</td>\n",
       "      <td>394</td>\n",
       "      <td>37328</td>\n",
       "      <td>0.0703746911563</td>\n",
       "    </tr>\n",
       "    <tr>\n",
       "      <th>48</th>\n",
       "      <td>graphael</td>\n",
       "      <td>jjacobson93/graphael</td>\n",
       "      <td>['graphael']</td>\n",
       "      <td>2</td>\n",
       "      <td>16</td>\n",
       "      <td>186</td>\n",
       "      <td>186</td>\n",
       "      <td>2329</td>\n",
       "      <td>0.565590918618</td>\n",
       "    </tr>\n",
       "    <tr>\n",
       "      <th>49</th>\n",
       "      <td>ember-charts</td>\n",
       "      <td>Addepar/ember-charts</td>\n",
       "      <td>['ember-charts'; 'embercharts']</td>\n",
       "      <td>126</td>\n",
       "      <td>768</td>\n",
       "      <td>4</td>\n",
       "      <td>93</td>\n",
       "      <td>10356</td>\n",
       "      <td>0.19250355859</td>\n",
       "    </tr>\n",
       "    <tr>\n",
       "      <th>50</th>\n",
       "      <td>modestmaps</td>\n",
       "      <td>stamen/modestmaps-js</td>\n",
       "      <td>['modestmaps-js'; 'modestmaps']</td>\n",
       "      <td>161</td>\n",
       "      <td>566</td>\n",
       "      <td>0</td>\n",
       "      <td>15</td>\n",
       "      <td>10237</td>\n",
       "      <td>-0.223164966515</td>\n",
       "    </tr>\n",
       "    <tr>\n",
       "      <th>51</th>\n",
       "      <td>rickshaw</td>\n",
       "      <td>shutterstock/rickshaw</td>\n",
       "      <td>['rickshaw'; 'rickshaw.js']</td>\n",
       "      <td>952</td>\n",
       "      <td>6076</td>\n",
       "      <td>184</td>\n",
       "      <td>272</td>\n",
       "      <td>30494</td>\n",
       "      <td>-0.014670945109</td>\n",
       "    </tr>\n",
       "  </tbody>\n",
       "</table>\n",
       "</div>"
      ],
      "text/plain": [
       "             package                            github_repo  \\\n",
       "0          plottable                     palantir/plottable   \n",
       "1          taucharts                TargetProcess/tauCharts   \n",
       "2   metrics-graphics               mozilla/metrics-graphics   \n",
       "3                 dc                            dc-js/dc.js   \n",
       "4           smoothie                     joewalnes/smoothie   \n",
       "5       keen-dataviz                   keen/keen-dataviz.js   \n",
       "6           chartist                   gionkunz/chartist-js   \n",
       "7         highcharts                  highcharts/highcharts   \n",
       "8          n3-charts                   n3-charts/line-chart   \n",
       "9            leaflet                        Leaflet/Leaflet   \n",
       "10           deck.gl                           uber/deck.gl   \n",
       "11           raphael              DmitryBaranovskiy/raphael   \n",
       "12         elycharts                     voidlabs/elycharts   \n",
       "13          amcharts                  ChimpStudios/AmCharts   \n",
       "14         cytoscape                 cytoscape/cytoscape.js   \n",
       "15          chart.js                       chartjs/Chart.js   \n",
       "16            rgraph                       mhammiche/rgraph   \n",
       "17         morris.js                     morrisjs/morris.js   \n",
       "18     vaadin charts                          vaadin/charts   \n",
       "19          jsxgraph                      jsxgraph/jsxgraph   \n",
       "20  pizza pie charts                             zurb/pizza   \n",
       "21  jquery-sparkline                gwatts/jquery.sparkline   \n",
       "22         chartkick                       ankane/chartkick   \n",
       "23         zingchart                    zingchart/ZingChart   \n",
       "24          anychart                      AnyChart/AnyChart   \n",
       "25     dojo charting   johntexastechsmith/DojoTrendCharting   \n",
       "26                d3                                  d3/d3   \n",
       "27          vizceral                       Netflix/vizceral   \n",
       "28          envision              HumbleSoftware/envisionjs   \n",
       "29         jenscript                      sjanaud/jenscript   \n",
       "30         ejscharts           EmpriseCorporation/EJSCharts   \n",
       "31          protovis                      mbostock/protovis   \n",
       "32            cubism                          square/cubism   \n",
       "33              flot                              flot/flot   \n",
       "34            flotr2                  HumbleSoftware/Flotr2   \n",
       "35           echarts                         ecomfe/echarts   \n",
       "36            jqplot                          jqPlot/jqPlot   \n",
       "37          uvcharts                      Imaginea/uvCharts   \n",
       "38           xcharts                         tenXer/xcharts   \n",
       "39         plotly.js                       plotly/plotly.js   \n",
       "40          dygraphs                         danvk/dygraphs   \n",
       "41              nvd3                             novus/nvd3   \n",
       "42      fusioncharts           fusioncharts/fusionmaps-dist   \n",
       "43                c3                             vace/c3.js   \n",
       "44         webcharts                       RhoInc/Webcharts   \n",
       "45           victory                 FormidableLabs/victory   \n",
       "46             sigma                      jacomyal/sigma.js   \n",
       "47            cesium           AnalyticalGraphicsInc/cesium   \n",
       "48          graphael                   jjacobson93/graphael   \n",
       "49      ember-charts                   Addepar/ember-charts   \n",
       "50        modestmaps                   stamen/modestmaps-js   \n",
       "51          rickshaw                  shutterstock/rickshaw   \n",
       "\n",
       "                                              aliases  forks  stars  \\\n",
       "0                       ['plottable.js'; 'plottable']    181   2170   \n",
       "1                       ['taucharts'; 'taucharts.js']     88   1360   \n",
       "2   ['metrics-graphics'; 'metricsgraphics.js'; 'me...    436   6693   \n",
       "3                                           ['dc.js']   1551   5774   \n",
       "4                  ['smoothie charts'; 'smoothie.js']    156   1646   \n",
       "5                 ['keen-dataviz.js'; 'keen-dataviz']     29    118   \n",
       "6                        ['chartist-js' ; 'chartist']   1808   9743   \n",
       "7                     ['highcharts'; 'highcharts.js']   2017   6521   \n",
       "8                      ['n3-charts'; 'n3-line-chart']    200   1217   \n",
       "9                                         ['leaflet']   3245  19098   \n",
       "10                                        ['deck.gl']    380   3308   \n",
       "11                                        ['raphael']   1465   9224   \n",
       "12        ['elycharts'; 'ely charts'; 'elycharts.js']     11      7   \n",
       "13                                       ['amcharts']     33    110   \n",
       "14                      ['cytoscape.js'; 'cytoscape']    506   3358   \n",
       "15                                       ['chart.js']   7988  31567   \n",
       "16                                         ['rgraph']     11     13   \n",
       "17                                      ['morris.js']   1144   6589   \n",
       "18                                  ['vaadin charts']     54     30   \n",
       "19                                       ['jsxgraph']     86    334   \n",
       "20                               ['pizza pie charts']     65    423   \n",
       "21          ['jquery sparklines'; 'jquery-sparkline']    251   1071   \n",
       "22                                      ['chartkick']    437   4397   \n",
       "23                                      ['zingchart']     27    146   \n",
       "24                                       ['anychart']     14    127   \n",
       "25                ['dojo charting'; 'dojox charting']      0      0   \n",
       "26                                    ['d3'; 'd3.js']  17486  66875   \n",
       "27                                       ['vizceral']    134   1541   \n",
       "28                      ['envisionjs'; 'envision.js']    257   1564   \n",
       "29                      ['jenscript'; 'jenscript.js']      0     13   \n",
       "30             ['ejschart'; 'ejscharts'; 'ejs chart']     19     23   \n",
       "31                                       ['protovis']    111    596   \n",
       "32                                      ['cubism.js']    541   4553   \n",
       "33                            ['flot charts'; 'flot']   1411   5410   \n",
       "34                                         ['flotr2']    535   2414   \n",
       "35                          ['echarts'; 'echarts.js']   6129  19712   \n",
       "36                                         ['jqplot']     70    147   \n",
       "37                                       ['uvcharts']     76    228   \n",
       "38                                        ['xcharts']    194   1792   \n",
       "39                            ['plotly.js'; 'plotly']    705   6656   \n",
       "40                            ['dygraphs'; 'dygraph']    491   2221   \n",
       "41                                           ['nvd3']   2071   6099   \n",
       "42                                   ['fusioncharts']      1      0   \n",
       "43                                    ['c3.js'; 'c3']      2      8   \n",
       "44                                      ['webcharts']      1     13   \n",
       "45                                        ['victory']    139   4669   \n",
       "46                           ['sigma.js'; 'sigma js']   1169   7391   \n",
       "47                                         ['cesium']   1131   2361   \n",
       "48                                       ['graphael']      2     16   \n",
       "49                    ['ember-charts'; 'embercharts']    126    768   \n",
       "50                    ['modestmaps-js'; 'modestmaps']    161    566   \n",
       "51                        ['rickshaw'; 'rickshaw.js']    952   6076   \n",
       "\n",
       "    so_tag_counts  so_questions_counts downloads           dl_growth_rates  \n",
       "0              55                94664     36553            0.486324049494  \n",
       "1               0                    4     20583            0.273708996964  \n",
       "2               0                  167     11845           0.0416176729254  \n",
       "3            1195                 1195     65422          -0.0022064607979  \n",
       "4               9                   13      4769           0.0352487015357  \n",
       "5               0                    5     10495          -0.0379486606458  \n",
       "6               0                  253    243584           0.0613518510755  \n",
       "7           16587                18312   1425832            0.104917155577  \n",
       "8              11                   46     13330          -0.0654696469862  \n",
       "9            5766                 5766   1007700           0.0912900337186  \n",
       "10              6                    6     57605            0.205971518992  \n",
       "11           2961                 2961    255688            0.218769218971  \n",
       "12              0                  417       NaN                       NaN  \n",
       "13           1175                 1175      4573           0.0749390974022  \n",
       "14            720                  913     64635           0.0332302734348  \n",
       "15           3181                 3181   2259748           0.0510969025843  \n",
       "16             82                   82       NaN                       NaN  \n",
       "17            454                  454     47247           0.0807520362641  \n",
       "18              0                    0       NaN                       NaN  \n",
       "19             32                   32       164           0.0757762440503  \n",
       "20              0                    0        82           0.0198244513278  \n",
       "21              0                  173     71805            0.148199036661  \n",
       "22            205                  205     16667            0.161966000576  \n",
       "23            195                  195     10203            0.106328499243  \n",
       "24             85                   85      6554            0.319863072602  \n",
       "25              0                  121    189350        -0.000458564973825  \n",
       "26          26868                47457   5022889           0.0403594872079  \n",
       "27              0                    0     10270           -0.117836244814  \n",
       "28              1                    2       286          -0.0351040222755  \n",
       "29              0                    0      1278         -0.00153492997232  \n",
       "30              0                   29       188  No downloads first month  \n",
       "31            107                  107       NaN                       NaN  \n",
       "32             92                   92      2133           -0.057776985543  \n",
       "33           2016                 2619     34492            0.131368852349  \n",
       "34             32                   32       439            0.463450121224  \n",
       "35             96                  161    179641            0.210272050224  \n",
       "36           1689                 1689       538            0.211073541191  \n",
       "37              1                    1        47           0.0576809264052  \n",
       "38             10                   10       526           0.0933572837892  \n",
       "39           1959                94975    188821           0.0347455987218  \n",
       "40            744                 1683     40067            0.078817452536  \n",
       "41              0                 1766    422159           0.0151473449031  \n",
       "42            607                  607      8196             0.16862495128  \n",
       "43            872                18235    432160           0.0407318193275  \n",
       "44              0                    0       706          -0.0609796911194  \n",
       "45              0                    0    159738           0.0685924422712  \n",
       "46            158                  208      4979           0.0909358834586  \n",
       "47            394                  394     37328           0.0703746911563  \n",
       "48            186                  186      2329            0.565590918618  \n",
       "49              4                   93     10356             0.19250355859  \n",
       "50              0                   15     10237           -0.223164966515  \n",
       "51            184                  272     30494           -0.014670945109  "
      ]
     },
     "execution_count": 66,
     "metadata": {},
     "output_type": "execute_result"
    }
   ],
   "source": [
    "pkgsDF"
   ]
  },
  {
   "cell_type": "code",
   "execution_count": null,
   "metadata": {
    "collapsed": true
   },
   "outputs": [],
   "source": []
  }
 ],
 "metadata": {
  "kernelspec": {
   "display_name": "Python [default]",
   "language": "python",
   "name": "python2"
  },
  "language_info": {
   "codemirror_mode": {
    "name": "ipython",
    "version": 2
   },
   "file_extension": ".py",
   "mimetype": "text/x-python",
   "name": "python",
   "nbconvert_exporter": "python",
   "pygments_lexer": "ipython2",
   "version": "2.7.12"
  }
 },
 "nbformat": 4,
 "nbformat_minor": 1
}
