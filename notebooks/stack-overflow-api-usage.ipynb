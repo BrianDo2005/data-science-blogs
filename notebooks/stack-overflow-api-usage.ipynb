{
 "cells": [
  {
   "cell_type": "markdown",
   "metadata": {
    "ein.tags": [
     "worksheet-0"
    ],
    "slideshow": {
     "slide_type": "-"
    }
   },
   "source": [
    "# Use Stack Overflow API to get some R packages"
   ]
  },
  {
   "cell_type": "markdown",
   "metadata": {
    "ein.tags": [
     "worksheet-0"
    ],
    "slideshow": {
     "slide_type": "-"
    }
   },
   "source": [
    "[demo](https://api.stackexchange.com/docs/tags-by-name#order=desc&sort=popular&tags=r&filter=default&site=stackoverflow&run=true)\n",
    "\n",
    "[more complex searches](https://api.stackexchange.com/docs/search#order=desc&sort=creation&tagged=pebble-watch%3Bpebble-sdk%3Bcloudpebble&filter=default&site=stackoverflow&run=true)\n",
    "\n",
    "[full docs](https://api.stackexchange.com/docs)"
   ]
  },
  {
   "cell_type": "code",
   "execution_count": 4,
   "metadata": {
    "collapsed": false
   },
   "outputs": [],
   "source": [
    "import requests\n",
    "import pandas as pd\n",
    "import logging\n",
    "%matplotlib inline"
   ]
  },
  {
   "cell_type": "code",
   "execution_count": 5,
   "metadata": {
    "collapsed": true
   },
   "outputs": [],
   "source": [
    "logging.basicConfig(level=logging.INFO)"
   ]
  },
  {
   "cell_type": "code",
   "execution_count": 6,
   "metadata": {
    "collapsed": true
   },
   "outputs": [],
   "source": [
    "GLOBAL_PARAMS = {\n",
    "    \"site\" : \"stackoverflow\",\n",
    "    \"key\" : \"y38PeNERQJQIC8EPliKAVQ((\"\n",
    "}"
   ]
  },
  {
   "cell_type": "markdown",
   "metadata": {
    "ein.tags": [
     "worksheet-0"
    ],
    "slideshow": {
     "slide_type": "-"
    }
   },
   "source": [
    "## Get overall site info\n",
    "You may need to add API key if you reach limits. Find 'GLOBAL' in this notebook."
   ]
  },
  {
   "cell_type": "code",
   "execution_count": 7,
   "metadata": {
    "autoscroll": "json-false",
    "collapsed": false,
    "ein.tags": [
     "worksheet-0"
    ],
    "slideshow": {
     "slide_type": "-"
    }
   },
   "outputs": [],
   "source": [
    "# MAIN SITE INFO\n",
    "INFOURL = \"https://api.stackexchange.com/2.2/info\"\n",
    "\n",
    "params = {\n",
    "  \"site\" : \"stackoverflow\",\n",
    "  }\n",
    "\n",
    "r = requests.get(INFOURL, params=params)"
   ]
  },
  {
   "cell_type": "code",
   "execution_count": 8,
   "metadata": {
    "autoscroll": "json-false",
    "collapsed": false,
    "ein.tags": [
     "worksheet-0"
    ],
    "slideshow": {
     "slide_type": "-"
    }
   },
   "outputs": [
    {
     "data": {
      "text/plain": [
       "{u'has_more': False,\n",
       " u'items': [{u'answers_per_minute': 4.68,\n",
       "   u'api_revision': u'2017.1.11.24452',\n",
       "   u'badges_per_minute': 4.75,\n",
       "   u'new_active_users': 16,\n",
       "   u'questions_per_minute': 2.95,\n",
       "   u'total_accepted': 7122393,\n",
       "   u'total_answers': 20803839,\n",
       "   u'total_badges': 21119711,\n",
       "   u'total_comments': 64497750,\n",
       "   u'total_questions': 13119616,\n",
       "   u'total_unanswered': 3678164,\n",
       "   u'total_users': 6566255,\n",
       "   u'total_votes': 94073432}],\n",
       " u'quota_max': 300,\n",
       " u'quota_remaining': 298}"
      ]
     },
     "execution_count": 8,
     "metadata": {},
     "output_type": "execute_result"
    }
   ],
   "source": [
    "r.json()"
   ]
  },
  {
   "cell_type": "markdown",
   "metadata": {
    "ein.tags": [
     "worksheet-0"
    ],
    "slideshow": {
     "slide_type": "-"
    }
   },
   "source": [
    "## Counts based on individual tags"
   ]
  },
  {
   "cell_type": "code",
   "execution_count": 9,
   "metadata": {
    "collapsed": false
   },
   "outputs": [
    {
     "data": {
      "text/plain": [
       "['dplyr', 'digest', 'ggplot', 'ggplot2', 'rcpp', 'magrittr', 'caret']"
      ]
     },
     "execution_count": 9,
     "metadata": {},
     "output_type": "execute_result"
    }
   ],
   "source": [
    "# SO api is NOT case-sensitive\n",
    "package_list = ['dplyr', 'digest', 'ggplot', 'ggplot2', 'rcpp', 'magrittr', 'caret']\n",
    "package_list"
   ]
  },
  {
   "cell_type": "code",
   "execution_count": 10,
   "metadata": {
    "autoscroll": "json-false",
    "collapsed": false,
    "ein.tags": [
     "worksheet-0"
    ],
    "slideshow": {
     "slide_type": "-"
    }
   },
   "outputs": [],
   "source": [
    "def get_tag_counts(tag_list):\n",
    "    \"\"\"\"Given tag list, return tag counts as json\"\"\"\n",
    "    \n",
    "    formatted_tags = ';'.join(tag_list)\n",
    "    url = \"https://api.stackexchange.com/2.2/tags/\" + formatted_tags + \"/info\"\n",
    "  \n",
    "    try:\n",
    "        r = requests.get(url, params=GLOBAL_PARAMS)\n",
    "        if r.json()['has_more']:\n",
    "            print \"WARNING: Request has more data than is not shown here.\"\n",
    "        return r.json()['items']\n",
    "    except:\n",
    "        logging.warning(\"Error in response.\")"
   ]
  },
  {
   "cell_type": "code",
   "execution_count": 11,
   "metadata": {
    "collapsed": false
   },
   "outputs": [],
   "source": [
    "tag_counts = get_tag_counts(package_list)"
   ]
  },
  {
   "cell_type": "code",
   "execution_count": 12,
   "metadata": {
    "collapsed": false
   },
   "outputs": [
    {
     "data": {
      "text/html": [
       "<div>\n",
       "<table border=\"1\" class=\"dataframe\">\n",
       "  <thead>\n",
       "    <tr style=\"text-align: right;\">\n",
       "      <th></th>\n",
       "      <th>count</th>\n",
       "      <th>has_synonyms</th>\n",
       "      <th>is_moderator_only</th>\n",
       "      <th>is_required</th>\n",
       "      <th>name</th>\n",
       "    </tr>\n",
       "  </thead>\n",
       "  <tbody>\n",
       "    <tr>\n",
       "      <th>0</th>\n",
       "      <td>15002</td>\n",
       "      <td>True</td>\n",
       "      <td>False</td>\n",
       "      <td>False</td>\n",
       "      <td>ggplot2</td>\n",
       "    </tr>\n",
       "    <tr>\n",
       "      <th>1</th>\n",
       "      <td>4166</td>\n",
       "      <td>False</td>\n",
       "      <td>False</td>\n",
       "      <td>False</td>\n",
       "      <td>dplyr</td>\n",
       "    </tr>\n",
       "    <tr>\n",
       "      <th>2</th>\n",
       "      <td>1271</td>\n",
       "      <td>False</td>\n",
       "      <td>False</td>\n",
       "      <td>False</td>\n",
       "      <td>rcpp</td>\n",
       "    </tr>\n",
       "    <tr>\n",
       "      <th>3</th>\n",
       "      <td>559</td>\n",
       "      <td>False</td>\n",
       "      <td>False</td>\n",
       "      <td>False</td>\n",
       "      <td>caret</td>\n",
       "    </tr>\n",
       "    <tr>\n",
       "      <th>4</th>\n",
       "      <td>385</td>\n",
       "      <td>False</td>\n",
       "      <td>False</td>\n",
       "      <td>False</td>\n",
       "      <td>digest</td>\n",
       "    </tr>\n",
       "    <tr>\n",
       "      <th>5</th>\n",
       "      <td>121</td>\n",
       "      <td>False</td>\n",
       "      <td>False</td>\n",
       "      <td>False</td>\n",
       "      <td>magrittr</td>\n",
       "    </tr>\n",
       "  </tbody>\n",
       "</table>\n",
       "</div>"
      ],
      "text/plain": [
       "   count has_synonyms is_moderator_only is_required      name\n",
       "0  15002         True             False       False   ggplot2\n",
       "1   4166        False             False       False     dplyr\n",
       "2   1271        False             False       False      rcpp\n",
       "3    559        False             False       False     caret\n",
       "4    385        False             False       False    digest\n",
       "5    121        False             False       False  magrittr"
      ]
     },
     "execution_count": 12,
     "metadata": {},
     "output_type": "execute_result"
    }
   ],
   "source": [
    "pd.DataFrame(tag_counts)"
   ]
  },
  {
   "cell_type": "code",
   "execution_count": null,
   "metadata": {
    "collapsed": true
   },
   "outputs": [],
   "source": [
    "tag_url = \"https://api.stackexchange.com/2.2/tags/\"\n",
    "\n",
    "\n",
    "for i in range(1):\n",
    "    two_tags = str('r;' + package_list[i])\n",
    "    url = tag_url + two_tags + \"/info?site=stackoverflow\"\n",
    "  \n",
    "    r = requests.get(url)\n",
    "    print r.json()\n",
    "    print r.json()['items']"
   ]
  },
  {
   "cell_type": "markdown",
   "metadata": {
    "autoscroll": "json-false",
    "collapsed": false,
    "ein.tags": [
     "worksheet-0"
    ],
    "slideshow": {
     "slide_type": "-"
    }
   },
   "source": [
    "## Counts based on presence in question body"
   ]
  },
  {
   "cell_type": "code",
   "execution_count": null,
   "metadata": {
    "collapsed": false
   },
   "outputs": [],
   "source": [
    "def get_body_count(body_string, tag=None):\n",
    "    \"\"\"Given ONE string, return number of SO questions containing it\n",
    "  \n",
    "    possibly tagged with TAG\n",
    "    uses filter=total to return counts only\n",
    "    \"\"\"\n",
    "    \n",
    "    baseurl = 'https://api.stackexchange.com/2.2/search/advanced'\n",
    "    \n",
    "    params = {\n",
    "        'q': body_string,\n",
    "        'filter': 'total',\n",
    "    }\n",
    "    \n",
    "    params.update(GLOBAL_PARAMS)\n",
    "    if tag:\n",
    "        params.update({'tagged': tag})\n",
    "\n",
    "    r = requests.get(baseurl, params=params)\n",
    "    return r.json()"
   ]
  },
  {
   "cell_type": "code",
   "execution_count": null,
   "metadata": {
    "autoscroll": "json-false",
    "collapsed": false,
    "ein.tags": [
     "worksheet-0"
    ],
    "slideshow": {
     "slide_type": "-"
    }
   },
   "outputs": [],
   "source": [
    "question_body_counts = { item: get_body_count(item) for item in package_list}"
   ]
  },
  {
   "cell_type": "code",
   "execution_count": null,
   "metadata": {
    "collapsed": false
   },
   "outputs": [],
   "source": [
    "question_body_counts"
   ]
  },
  {
   "cell_type": "markdown",
   "metadata": {},
   "source": [
    "## Counts based on presence in question body, with [r] tag"
   ]
  },
  {
   "cell_type": "code",
   "execution_count": null,
   "metadata": {
    "collapsed": false
   },
   "outputs": [],
   "source": [
    "tag = 'r'\n",
    "question_body_counts = { item: get_body_count(item, tag=tag) for item in package_list}"
   ]
  },
  {
   "cell_type": "code",
   "execution_count": null,
   "metadata": {
    "collapsed": false
   },
   "outputs": [],
   "source": [
    "question_body_counts"
   ]
  },
  {
   "cell_type": "code",
   "execution_count": null,
   "metadata": {
    "collapsed": true
   },
   "outputs": [],
   "source": []
  },
  {
   "cell_type": "markdown",
   "metadata": {},
   "source": [
    "# Counts based on [r] TAG + question BODY"
   ]
  },
  {
   "cell_type": "code",
   "execution_count": null,
   "metadata": {
    "collapsed": true
   },
   "outputs": [],
   "source": [
    "def get_tag_counts_with_r_tag(tag_list):\n",
    "    \"\"\"\"Given tag list, return tag counts which appear with the tag 'r'\n",
    "    \n",
    "    Returns json\"\"\"\n",
    "    \n",
    "    \n",
    "    formatted_tags = ';'.join(tag_list)\n",
    "    tag_url = \"https://api.stackexchange.com/2.2/tags/\"\n",
    "    url = tag_url + formatted_tags + \"/info?site=stackoverflow\"\n",
    "  \n",
    "    r = requests.get(url)\n",
    "    if r.json()['has_more']:\n",
    "        logging.warning()\"WARNING: Request has more data than is not shown here.\")\n",
    "    return r.json()['items']"
   ]
  },
  {
   "cell_type": "markdown",
   "metadata": {
    "collapsed": true
   },
   "source": [
    "# Visualizations"
   ]
  },
  {
   "cell_type": "code",
   "execution_count": null,
   "metadata": {
    "collapsed": false
   },
   "outputs": [],
   "source": [
    "df_body = pd.DataFrame.from_dict(question_body_counts, orient='index')\n",
    "df_body.reset_index(inplace=True)\n",
    "df_body.columns = [['name', 'count']]\n",
    "df_body['type'] = 'in_question_body'\n",
    "df_body.sort_values(by='count', inplace=True, ascending=False)\n",
    "df_body.head()"
   ]
  },
  {
   "cell_type": "code",
   "execution_count": null,
   "metadata": {
    "collapsed": false
   },
   "outputs": [],
   "source": [
    "df_tags = pd.DataFrame(tag_counts)[['name', 'count']]\n",
    "df_tags['type'] = 'tagged'\n",
    "df_tags.head()"
   ]
  },
  {
   "cell_type": "code",
   "execution_count": null,
   "metadata": {
    "collapsed": false
   },
   "outputs": [],
   "source": [
    "df = pd.concat([df_tags, df_body])\n",
    "df.sort_values(by = ['type', 'count'], inplace=True, ascending=False)\n",
    "df"
   ]
  },
  {
   "cell_type": "code",
   "execution_count": null,
   "metadata": {
    "collapsed": false
   },
   "outputs": [],
   "source": [
    "from bokeh.io import output_notebook, show\n",
    "from bokeh.charts import Bar\n",
    "from bokeh.charts.attributes import cat\n",
    "\n",
    "\n",
    "output_notebook()"
   ]
  },
  {
   "cell_type": "code",
   "execution_count": null,
   "metadata": {
    "collapsed": false
   },
   "outputs": [],
   "source": [
    "p = Bar(df, label=cat('name', sort=False), values='count', group='type',\n",
    "        title=\"PKGS FTW!\", legend='top_right')\n",
    "\n",
    "show(p)"
   ]
  },
  {
   "cell_type": "code",
   "execution_count": null,
   "metadata": {
    "collapsed": true
   },
   "outputs": [],
   "source": []
  },
  {
   "cell_type": "code",
   "execution_count": null,
   "metadata": {
    "collapsed": true
   },
   "outputs": [],
   "source": []
  },
  {
   "cell_type": "code",
   "execution_count": null,
   "metadata": {
    "collapsed": true
   },
   "outputs": [],
   "source": []
  }
 ],
 "metadata": {
  "kernelspec": {
   "display_name": "Python 2",
   "language": "python",
   "name": "python2"
  },
  "language_info": {
   "codemirror_mode": {
    "name": "ipython",
    "version": 2
   },
   "file_extension": ".py",
   "mimetype": "text/x-python",
   "name": "python",
   "nbconvert_exporter": "python",
   "pygments_lexer": "ipython2",
   "version": "2.7.12"
  },
  "name": "stack-overflow-api.ipynb"
 },
 "nbformat": 4,
 "nbformat_minor": 1
}
