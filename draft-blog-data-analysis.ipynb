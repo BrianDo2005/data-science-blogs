{
 "cells": [
  {
   "cell_type": "markdown",
   "metadata": {},
   "source": [
    "# How to identify \"top R packages for Machine Learning\""
   ]
  },
  {
   "cell_type": "markdown",
   "metadata": {
    "collapsed": true
   },
   "source": [
    "1. get a list of R packages for ML\n",
    "1. use this list to get metrics from SO, github\n",
    "1. use the metrics to rank the package list"
   ]
  },
  {
   "cell_type": "markdown",
   "metadata": {},
   "source": [
    "# Get a list of R packages for ML"
   ]
  },
  {
   "cell_type": "markdown",
   "metadata": {},
   "source": [
    "From the [\"CRAN Task View: Machine Learning & Statistical Learning\"](https://cran.r-project.org/web/views/MachineLearning.html)"
   ]
  },
  {
   "cell_type": "code",
   "execution_count": 1,
   "metadata": {
    "collapsed": true
   },
   "outputs": [],
   "source": [
    "import requests\n",
    "import re\n",
    "import pandas as pd\n",
    "import numpy as np\n",
    "\n",
    "from bs4 import BeautifulSoup"
   ]
  },
  {
   "cell_type": "code",
   "execution_count": 2,
   "metadata": {
    "collapsed": true
   },
   "outputs": [],
   "source": [
    "URL = 'https://cran.r-project.org/web/views/MachineLearning.html'"
   ]
  },
  {
   "cell_type": "code",
   "execution_count": 3,
   "metadata": {
    "collapsed": true
   },
   "outputs": [],
   "source": [
    "def get_package_list(url):\n",
    "    \n",
    "    r = requests.get(URL)\n",
    "\n",
    "    soup = BeautifulSoup(r.text, 'lxml')\n",
    "    h3 = soup.find('h3')\n",
    "\n",
    "    descendants_list = h3.findNextSibling().text.strip().split(\"\\n\")\n",
    "    return [re.sub(\" \\([A-z]+\\)\", \"\", item) for item in descendants_list]"
   ]
  },
  {
   "cell_type": "code",
   "execution_count": 4,
   "metadata": {
    "collapsed": false
   },
   "outputs": [],
   "source": [
    "package_list = get_package_list(URL)"
   ]
  },
  {
   "cell_type": "code",
   "execution_count": 5,
   "metadata": {
    "collapsed": false
   },
   "outputs": [
    {
     "data": {
      "text/plain": [
       "87"
      ]
     },
     "execution_count": 5,
     "metadata": {},
     "output_type": "execute_result"
    }
   ],
   "source": [
    "len(package_list)"
   ]
  },
  {
   "cell_type": "code",
   "execution_count": 6,
   "metadata": {
    "collapsed": false
   },
   "outputs": [
    {
     "name": "stdout",
     "output_type": "stream",
     "text": [
      "[u'ahaz', u'arules', u'BayesTree', u'biglasso', u'bigRR', u'bmrm', u'Boruta', u'bst', u'C50', u'caret', u'CORElearn', u'CoxBoost', u'Cubist', u'e1071', u'earth', u'elasticnet', u'ElemStatLearn', u'evclass', u'evtree', u'FCNN4R', u'frbs', u'GAMBoost', u'gamboostLSS', u'gbm', u'glmnet', u'glmpath', u'GMMBoost', u'gmum.r', u'grplasso', u'grpreg', u'h2o', u'hda', u'hdi', u'hdm', u'ipred', u'kernlab', u'klaR', u'lars', u'lasso2', u'LiblineaR', u'LogicForest', u'LogicReg', u'maptree', u'mboost', u'mlr', u'ncvreg', u'nnet', u'oblique.tree', u'OneR', u'pamr', u'party', u'partykit', u'penalized', u'penalizedLDA', u'penalizedSVM', u'quantregForest', u'randomForest', u'randomForestSRC', u'ranger', u'rattle', u'Rborist', u'rda', u'rdetools', u'REEMtree', u'relaxo', u'rgenoud', u'rgp', u'Rmalschains', u'rminer', u'rnn', u'ROCR', u'RoughSets', u'rpart', u'RPMM', u'RSNNS', u'RWeka', u'RXshrink', u'sda', u'SIS', u'spa', u'stabs', u'SuperLearner', u'svmpath', u'tgp', u'tree', u'varSelRF', u'vcrpart']\n"
     ]
    }
   ],
   "source": [
    "print package_list"
   ]
  },
  {
   "cell_type": "markdown",
   "metadata": {},
   "source": [
    "# Get usage statistics on the ML packages"
   ]
  },
  {
   "cell_type": "code",
   "execution_count": 7,
   "metadata": {
    "collapsed": false
   },
   "outputs": [],
   "source": [
    "from code import get_stack_overflow_data as gsod"
   ]
  },
  {
   "cell_type": "code",
   "execution_count": 9,
   "metadata": {
    "collapsed": true
   },
   "outputs": [],
   "source": [
    "tag_counts = gsod.get_tag_counts(package_list)"
   ]
  },
  {
   "cell_type": "code",
   "execution_count": 10,
   "metadata": {
    "collapsed": false
   },
   "outputs": [],
   "source": [
    "question_body_counts = { item: gsod.get_body_count(item) for item in package_list}"
   ]
  },
  {
   "cell_type": "code",
   "execution_count": 14,
   "metadata": {
    "collapsed": true
   },
   "outputs": [],
   "source": [
    "tag = 'r'\n",
    "question_body_counts_r = { item: gsod.get_body_count(item, tag=tag) for item in package_list}"
   ]
  },
  {
   "cell_type": "code",
   "execution_count": 30,
   "metadata": {
    "collapsed": true
   },
   "outputs": [],
   "source": [
    "def count_dict_to_pd(mydict, kind):\n",
    "    df = pd.DataFrame.from_dict(mydict, orient='index')\n",
    "    df.reset_index(inplace=True)\n",
    "    df.columns = [['name', 'count']]\n",
    "    df['kind'] = kind\n",
    "    df.sort_values(by='count', inplace=True, ascending=False)\n",
    "    return df"
   ]
  },
  {
   "cell_type": "markdown",
   "metadata": {},
   "source": [
    "## SO Tag counts"
   ]
  },
  {
   "cell_type": "code",
   "execution_count": 33,
   "metadata": {
    "collapsed": false
   },
   "outputs": [
    {
     "data": {
      "text/html": [
       "<div>\n",
       "<table border=\"1\" class=\"dataframe\">\n",
       "  <thead>\n",
       "    <tr style=\"text-align: right;\">\n",
       "      <th></th>\n",
       "      <th>count</th>\n",
       "      <th>has_synonyms</th>\n",
       "      <th>is_moderator_only</th>\n",
       "      <th>is_required</th>\n",
       "      <th>name</th>\n",
       "    </tr>\n",
       "  </thead>\n",
       "  <tbody>\n",
       "    <tr>\n",
       "      <th>0</th>\n",
       "      <td>10530</td>\n",
       "      <td>True</td>\n",
       "      <td>False</td>\n",
       "      <td>False</td>\n",
       "      <td>tree</td>\n",
       "    </tr>\n",
       "    <tr>\n",
       "      <th>1</th>\n",
       "      <td>3219</td>\n",
       "      <td>True</td>\n",
       "      <td>False</td>\n",
       "      <td>False</td>\n",
       "      <td>binary-search-tree</td>\n",
       "    </tr>\n",
       "    <tr>\n",
       "      <th>2</th>\n",
       "      <td>2353</td>\n",
       "      <td>True</td>\n",
       "      <td>False</td>\n",
       "      <td>False</td>\n",
       "      <td>single-page-application</td>\n",
       "    </tr>\n",
       "    <tr>\n",
       "      <th>3</th>\n",
       "      <td>556</td>\n",
       "      <td>False</td>\n",
       "      <td>False</td>\n",
       "      <td>False</td>\n",
       "      <td>caret</td>\n",
       "    </tr>\n",
       "    <tr>\n",
       "      <th>4</th>\n",
       "      <td>261</td>\n",
       "      <td>False</td>\n",
       "      <td>False</td>\n",
       "      <td>False</td>\n",
       "      <td>h2o</td>\n",
       "    </tr>\n",
       "    <tr>\n",
       "      <th>5</th>\n",
       "      <td>226</td>\n",
       "      <td>False</td>\n",
       "      <td>False</td>\n",
       "      <td>False</td>\n",
       "      <td>rpart</td>\n",
       "    </tr>\n",
       "    <tr>\n",
       "      <th>6</th>\n",
       "      <td>192</td>\n",
       "      <td>False</td>\n",
       "      <td>False</td>\n",
       "      <td>False</td>\n",
       "      <td>glmnet</td>\n",
       "    </tr>\n",
       "    <tr>\n",
       "      <th>7</th>\n",
       "      <td>174</td>\n",
       "      <td>False</td>\n",
       "      <td>False</td>\n",
       "      <td>False</td>\n",
       "      <td>arules</td>\n",
       "    </tr>\n",
       "    <tr>\n",
       "      <th>8</th>\n",
       "      <td>132</td>\n",
       "      <td>False</td>\n",
       "      <td>False</td>\n",
       "      <td>False</td>\n",
       "      <td>gbm</td>\n",
       "    </tr>\n",
       "    <tr>\n",
       "      <th>9</th>\n",
       "      <td>115</td>\n",
       "      <td>False</td>\n",
       "      <td>False</td>\n",
       "      <td>False</td>\n",
       "      <td>party</td>\n",
       "    </tr>\n",
       "    <tr>\n",
       "      <th>10</th>\n",
       "      <td>83</td>\n",
       "      <td>False</td>\n",
       "      <td>False</td>\n",
       "      <td>False</td>\n",
       "      <td>nnet</td>\n",
       "    </tr>\n",
       "    <tr>\n",
       "      <th>11</th>\n",
       "      <td>63</td>\n",
       "      <td>False</td>\n",
       "      <td>False</td>\n",
       "      <td>False</td>\n",
       "      <td>liblinear</td>\n",
       "    </tr>\n",
       "    <tr>\n",
       "      <th>12</th>\n",
       "      <td>62</td>\n",
       "      <td>False</td>\n",
       "      <td>False</td>\n",
       "      <td>False</td>\n",
       "      <td>kernlab</td>\n",
       "    </tr>\n",
       "    <tr>\n",
       "      <th>13</th>\n",
       "      <td>43</td>\n",
       "      <td>False</td>\n",
       "      <td>False</td>\n",
       "      <td>False</td>\n",
       "      <td>rda</td>\n",
       "    </tr>\n",
       "    <tr>\n",
       "      <th>14</th>\n",
       "      <td>40</td>\n",
       "      <td>False</td>\n",
       "      <td>False</td>\n",
       "      <td>False</td>\n",
       "      <td>rweka</td>\n",
       "    </tr>\n",
       "    <tr>\n",
       "      <th>15</th>\n",
       "      <td>30</td>\n",
       "      <td>False</td>\n",
       "      <td>False</td>\n",
       "      <td>False</td>\n",
       "      <td>mlr</td>\n",
       "    </tr>\n",
       "    <tr>\n",
       "      <th>16</th>\n",
       "      <td>28</td>\n",
       "      <td>False</td>\n",
       "      <td>False</td>\n",
       "      <td>False</td>\n",
       "      <td>rattle</td>\n",
       "    </tr>\n",
       "    <tr>\n",
       "      <th>17</th>\n",
       "      <td>16</td>\n",
       "      <td>False</td>\n",
       "      <td>False</td>\n",
       "      <td>False</td>\n",
       "      <td>lars</td>\n",
       "    </tr>\n",
       "    <tr>\n",
       "      <th>18</th>\n",
       "      <td>13</td>\n",
       "      <td>False</td>\n",
       "      <td>False</td>\n",
       "      <td>False</td>\n",
       "      <td>sis</td>\n",
       "    </tr>\n",
       "    <tr>\n",
       "      <th>19</th>\n",
       "      <td>7</td>\n",
       "      <td>False</td>\n",
       "      <td>False</td>\n",
       "      <td>False</td>\n",
       "      <td>sda</td>\n",
       "    </tr>\n",
       "  </tbody>\n",
       "</table>\n",
       "</div>"
      ],
      "text/plain": [
       "    count has_synonyms is_moderator_only is_required                     name\n",
       "0   10530         True             False       False                     tree\n",
       "1    3219         True             False       False       binary-search-tree\n",
       "2    2353         True             False       False  single-page-application\n",
       "3     556        False             False       False                    caret\n",
       "4     261        False             False       False                      h2o\n",
       "5     226        False             False       False                    rpart\n",
       "6     192        False             False       False                   glmnet\n",
       "7     174        False             False       False                   arules\n",
       "8     132        False             False       False                      gbm\n",
       "9     115        False             False       False                    party\n",
       "10     83        False             False       False                     nnet\n",
       "11     63        False             False       False                liblinear\n",
       "12     62        False             False       False                  kernlab\n",
       "13     43        False             False       False                      rda\n",
       "14     40        False             False       False                    rweka\n",
       "15     30        False             False       False                      mlr\n",
       "16     28        False             False       False                   rattle\n",
       "17     16        False             False       False                     lars\n",
       "18     13        False             False       False                      sis\n",
       "19      7        False             False       False                      sda"
      ]
     },
     "execution_count": 33,
     "metadata": {},
     "output_type": "execute_result"
    }
   ],
   "source": [
    "df_tag = pd.DataFrame(tag_counts)\n",
    "\n",
    "df_tag.head(20)"
   ]
  },
  {
   "cell_type": "markdown",
   "metadata": {},
   "source": [
    "## SO Question body counts"
   ]
  },
  {
   "cell_type": "code",
   "execution_count": 31,
   "metadata": {
    "collapsed": false
   },
   "outputs": [
    {
     "data": {
      "text/html": [
       "<div>\n",
       "<table border=\"1\" class=\"dataframe\">\n",
       "  <thead>\n",
       "    <tr style=\"text-align: right;\">\n",
       "      <th></th>\n",
       "      <th>name</th>\n",
       "      <th>count</th>\n",
       "      <th>kind</th>\n",
       "    </tr>\n",
       "  </thead>\n",
       "  <tbody>\n",
       "    <tr>\n",
       "      <th>22</th>\n",
       "      <td>OneR</td>\n",
       "      <td>2540219</td>\n",
       "      <td>in_question_body</td>\n",
       "    </tr>\n",
       "    <tr>\n",
       "      <th>62</th>\n",
       "      <td>tree</td>\n",
       "      <td>123297</td>\n",
       "      <td>in_question_body</td>\n",
       "    </tr>\n",
       "    <tr>\n",
       "      <th>80</th>\n",
       "      <td>party</td>\n",
       "      <td>74667</td>\n",
       "      <td>in_question_body</td>\n",
       "    </tr>\n",
       "    <tr>\n",
       "      <th>50</th>\n",
       "      <td>caret</td>\n",
       "      <td>12819</td>\n",
       "      <td>in_question_body</td>\n",
       "    </tr>\n",
       "    <tr>\n",
       "      <th>2</th>\n",
       "      <td>earth</td>\n",
       "      <td>10913</td>\n",
       "      <td>in_question_body</td>\n",
       "    </tr>\n",
       "    <tr>\n",
       "      <th>74</th>\n",
       "      <td>spa</td>\n",
       "      <td>6271</td>\n",
       "      <td>in_question_body</td>\n",
       "    </tr>\n",
       "    <tr>\n",
       "      <th>81</th>\n",
       "      <td>bst</td>\n",
       "      <td>4006</td>\n",
       "      <td>in_question_body</td>\n",
       "    </tr>\n",
       "    <tr>\n",
       "      <th>55</th>\n",
       "      <td>sda</td>\n",
       "      <td>2329</td>\n",
       "      <td>in_question_body</td>\n",
       "    </tr>\n",
       "    <tr>\n",
       "      <th>43</th>\n",
       "      <td>stabs</td>\n",
       "      <td>1533</td>\n",
       "      <td>in_question_body</td>\n",
       "    </tr>\n",
       "    <tr>\n",
       "      <th>76</th>\n",
       "      <td>randomForest</td>\n",
       "      <td>872</td>\n",
       "      <td>in_question_body</td>\n",
       "    </tr>\n",
       "    <tr>\n",
       "      <th>23</th>\n",
       "      <td>lars</td>\n",
       "      <td>779</td>\n",
       "      <td>in_question_body</td>\n",
       "    </tr>\n",
       "    <tr>\n",
       "      <th>9</th>\n",
       "      <td>rnn</td>\n",
       "      <td>699</td>\n",
       "      <td>in_question_body</td>\n",
       "    </tr>\n",
       "    <tr>\n",
       "      <th>0</th>\n",
       "      <td>SIS</td>\n",
       "      <td>668</td>\n",
       "      <td>in_question_body</td>\n",
       "    </tr>\n",
       "    <tr>\n",
       "      <th>13</th>\n",
       "      <td>rpart</td>\n",
       "      <td>544</td>\n",
       "      <td>in_question_body</td>\n",
       "    </tr>\n",
       "    <tr>\n",
       "      <th>85</th>\n",
       "      <td>h2o</td>\n",
       "      <td>515</td>\n",
       "      <td>in_question_body</td>\n",
       "    </tr>\n",
       "    <tr>\n",
       "      <th>34</th>\n",
       "      <td>ranger</td>\n",
       "      <td>490</td>\n",
       "      <td>in_question_body</td>\n",
       "    </tr>\n",
       "    <tr>\n",
       "      <th>49</th>\n",
       "      <td>penalized</td>\n",
       "      <td>446</td>\n",
       "      <td>in_question_body</td>\n",
       "    </tr>\n",
       "    <tr>\n",
       "      <th>38</th>\n",
       "      <td>rda</td>\n",
       "      <td>414</td>\n",
       "      <td>in_question_body</td>\n",
       "    </tr>\n",
       "    <tr>\n",
       "      <th>24</th>\n",
       "      <td>nnet</td>\n",
       "      <td>412</td>\n",
       "      <td>in_question_body</td>\n",
       "    </tr>\n",
       "    <tr>\n",
       "      <th>25</th>\n",
       "      <td>e1071</td>\n",
       "      <td>399</td>\n",
       "      <td>in_question_body</td>\n",
       "    </tr>\n",
       "  </tbody>\n",
       "</table>\n",
       "</div>"
      ],
      "text/plain": [
       "            name    count              kind\n",
       "22          OneR  2540219  in_question_body\n",
       "62          tree   123297  in_question_body\n",
       "80         party    74667  in_question_body\n",
       "50         caret    12819  in_question_body\n",
       "2          earth    10913  in_question_body\n",
       "74           spa     6271  in_question_body\n",
       "81           bst     4006  in_question_body\n",
       "55           sda     2329  in_question_body\n",
       "43         stabs     1533  in_question_body\n",
       "76  randomForest      872  in_question_body\n",
       "23          lars      779  in_question_body\n",
       "9            rnn      699  in_question_body\n",
       "0            SIS      668  in_question_body\n",
       "13         rpart      544  in_question_body\n",
       "85           h2o      515  in_question_body\n",
       "34        ranger      490  in_question_body\n",
       "49     penalized      446  in_question_body\n",
       "38           rda      414  in_question_body\n",
       "24          nnet      412  in_question_body\n",
       "25         e1071      399  in_question_body"
      ]
     },
     "execution_count": 31,
     "metadata": {},
     "output_type": "execute_result"
    }
   ],
   "source": [
    "df_body = count_dict_to_pd(question_body_counts, kind=\"in_question_body\")\n",
    "\n",
    "df_body.head(20)"
   ]
  },
  {
   "cell_type": "code",
   "execution_count": 32,
   "metadata": {
    "collapsed": false
   },
   "outputs": [
    {
     "data": {
      "text/html": [
       "<div>\n",
       "<table border=\"1\" class=\"dataframe\">\n",
       "  <thead>\n",
       "    <tr style=\"text-align: right;\">\n",
       "      <th></th>\n",
       "      <th>name</th>\n",
       "      <th>count</th>\n",
       "      <th>kind</th>\n",
       "    </tr>\n",
       "  </thead>\n",
       "  <tbody>\n",
       "    <tr>\n",
       "      <th>22</th>\n",
       "      <td>OneR</td>\n",
       "      <td>37911</td>\n",
       "      <td>in_question_body_r</td>\n",
       "    </tr>\n",
       "    <tr>\n",
       "      <th>62</th>\n",
       "      <td>tree</td>\n",
       "      <td>1881</td>\n",
       "      <td>in_question_body_r</td>\n",
       "    </tr>\n",
       "    <tr>\n",
       "      <th>50</th>\n",
       "      <td>caret</td>\n",
       "      <td>1064</td>\n",
       "      <td>in_question_body_r</td>\n",
       "    </tr>\n",
       "    <tr>\n",
       "      <th>76</th>\n",
       "      <td>randomForest</td>\n",
       "      <td>638</td>\n",
       "      <td>in_question_body_r</td>\n",
       "    </tr>\n",
       "    <tr>\n",
       "      <th>13</th>\n",
       "      <td>rpart</td>\n",
       "      <td>513</td>\n",
       "      <td>in_question_body_r</td>\n",
       "    </tr>\n",
       "    <tr>\n",
       "      <th>80</th>\n",
       "      <td>party</td>\n",
       "      <td>433</td>\n",
       "      <td>in_question_body_r</td>\n",
       "    </tr>\n",
       "    <tr>\n",
       "      <th>25</th>\n",
       "      <td>e1071</td>\n",
       "      <td>376</td>\n",
       "      <td>in_question_body_r</td>\n",
       "    </tr>\n",
       "    <tr>\n",
       "      <th>24</th>\n",
       "      <td>nnet</td>\n",
       "      <td>279</td>\n",
       "      <td>in_question_body_r</td>\n",
       "    </tr>\n",
       "    <tr>\n",
       "      <th>83</th>\n",
       "      <td>glmnet</td>\n",
       "      <td>278</td>\n",
       "      <td>in_question_body_r</td>\n",
       "    </tr>\n",
       "    <tr>\n",
       "      <th>36</th>\n",
       "      <td>arules</td>\n",
       "      <td>246</td>\n",
       "      <td>in_question_body_r</td>\n",
       "    </tr>\n",
       "    <tr>\n",
       "      <th>14</th>\n",
       "      <td>gbm</td>\n",
       "      <td>241</td>\n",
       "      <td>in_question_body_r</td>\n",
       "    </tr>\n",
       "    <tr>\n",
       "      <th>38</th>\n",
       "      <td>rda</td>\n",
       "      <td>241</td>\n",
       "      <td>in_question_body_r</td>\n",
       "    </tr>\n",
       "    <tr>\n",
       "      <th>2</th>\n",
       "      <td>earth</td>\n",
       "      <td>181</td>\n",
       "      <td>in_question_body_r</td>\n",
       "    </tr>\n",
       "    <tr>\n",
       "      <th>85</th>\n",
       "      <td>h2o</td>\n",
       "      <td>179</td>\n",
       "      <td>in_question_body_r</td>\n",
       "    </tr>\n",
       "    <tr>\n",
       "      <th>46</th>\n",
       "      <td>RWeka</td>\n",
       "      <td>169</td>\n",
       "      <td>in_question_body_r</td>\n",
       "    </tr>\n",
       "    <tr>\n",
       "      <th>77</th>\n",
       "      <td>ROCR</td>\n",
       "      <td>133</td>\n",
       "      <td>in_question_body_r</td>\n",
       "    </tr>\n",
       "    <tr>\n",
       "      <th>65</th>\n",
       "      <td>kernlab</td>\n",
       "      <td>126</td>\n",
       "      <td>in_question_body_r</td>\n",
       "    </tr>\n",
       "    <tr>\n",
       "      <th>70</th>\n",
       "      <td>rattle</td>\n",
       "      <td>86</td>\n",
       "      <td>in_question_body_r</td>\n",
       "    </tr>\n",
       "    <tr>\n",
       "      <th>81</th>\n",
       "      <td>bst</td>\n",
       "      <td>77</td>\n",
       "      <td>in_question_body_r</td>\n",
       "    </tr>\n",
       "    <tr>\n",
       "      <th>63</th>\n",
       "      <td>mlr</td>\n",
       "      <td>57</td>\n",
       "      <td>in_question_body_r</td>\n",
       "    </tr>\n",
       "  </tbody>\n",
       "</table>\n",
       "</div>"
      ],
      "text/plain": [
       "            name  count                kind\n",
       "22          OneR  37911  in_question_body_r\n",
       "62          tree   1881  in_question_body_r\n",
       "50         caret   1064  in_question_body_r\n",
       "76  randomForest    638  in_question_body_r\n",
       "13         rpart    513  in_question_body_r\n",
       "80         party    433  in_question_body_r\n",
       "25         e1071    376  in_question_body_r\n",
       "24          nnet    279  in_question_body_r\n",
       "83        glmnet    278  in_question_body_r\n",
       "36        arules    246  in_question_body_r\n",
       "14           gbm    241  in_question_body_r\n",
       "38           rda    241  in_question_body_r\n",
       "2          earth    181  in_question_body_r\n",
       "85           h2o    179  in_question_body_r\n",
       "46         RWeka    169  in_question_body_r\n",
       "77          ROCR    133  in_question_body_r\n",
       "65       kernlab    126  in_question_body_r\n",
       "70        rattle     86  in_question_body_r\n",
       "81           bst     77  in_question_body_r\n",
       "63           mlr     57  in_question_body_r"
      ]
     },
     "execution_count": 32,
     "metadata": {},
     "output_type": "execute_result"
    }
   ],
   "source": [
    "df_body_r = count_dict_to_pd(question_body_counts_r, kind=\"in_question_body_r\")\n",
    "\n",
    "df_body_r.head(20)"
   ]
  },
  {
   "cell_type": "markdown",
   "metadata": {},
   "source": [
    "# Visualize this"
   ]
  },
  {
   "cell_type": "code",
   "execution_count": null,
   "metadata": {
    "collapsed": true
   },
   "outputs": [],
   "source": []
  }
 ],
 "metadata": {
  "kernelspec": {
   "display_name": "Python 2",
   "language": "python",
   "name": "python2"
  },
  "language_info": {
   "codemirror_mode": {
    "name": "ipython",
    "version": 2
   },
   "file_extension": ".py",
   "mimetype": "text/x-python",
   "name": "python",
   "nbconvert_exporter": "python",
   "pygments_lexer": "ipython2",
   "version": "2.7.12"
  }
 },
 "nbformat": 4,
 "nbformat_minor": 1
}
