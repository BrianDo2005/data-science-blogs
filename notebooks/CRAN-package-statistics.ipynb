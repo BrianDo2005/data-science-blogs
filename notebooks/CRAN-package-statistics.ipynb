{
 "cells": [
  {
   "cell_type": "markdown",
   "metadata": {},
   "source": [
    "# R package statistics from CRAN"
   ]
  },
  {
   "cell_type": "markdown",
   "metadata": {},
   "source": [
    "https://github.com/metacran/cranlogs.app"
   ]
  },
  {
   "cell_type": "code",
   "execution_count": 1,
   "metadata": {
    "collapsed": true
   },
   "outputs": [],
   "source": [
    "import requests\n",
    "import pandas as pd"
   ]
  },
  {
   "cell_type": "code",
   "execution_count": 2,
   "metadata": {
    "collapsed": true
   },
   "outputs": [],
   "source": [
    "## using date range:\n",
    "BEGIN_DT = '2016-01-10'\n",
    "END_DT = '2017-01-10'"
   ]
  },
  {
   "cell_type": "markdown",
   "metadata": {},
   "source": [
    "# Get total downloads for a package"
   ]
  },
  {
   "cell_type": "code",
   "execution_count": 3,
   "metadata": {
    "collapsed": true
   },
   "outputs": [],
   "source": [
    "package = 'ggplot2'"
   ]
  },
  {
   "cell_type": "code",
   "execution_count": 4,
   "metadata": {
    "collapsed": false
   },
   "outputs": [
    {
     "data": {
      "text/plain": [
       "[{u'downloads': 3235491,\n",
       "  u'end': u'2017-01-10',\n",
       "  u'package': u'ggplot2',\n",
       "  u'start': u'2016-01-10'}]"
      ]
     },
     "execution_count": 4,
     "metadata": {},
     "output_type": "execute_result"
    }
   ],
   "source": [
    "url = 'http://cranlogs.r-pkg.org/downloads/total/' + BEGIN_DT + ':' + END_DT + '/' + package\n",
    "\n",
    "r = requests.get(url)\n",
    "r.json()"
   ]
  },
  {
   "cell_type": "markdown",
   "metadata": {},
   "source": [
    "# Get total downloads for list of packages"
   ]
  },
  {
   "cell_type": "code",
   "execution_count": 5,
   "metadata": {
    "collapsed": true
   },
   "outputs": [],
   "source": [
    "# ! this list IS case sensitive...\n",
    "package_list = ['dplyr', 'digest', 'ggplot2', 'Rcpp', 'GGPLOT2', 'Dplyr', 'ggplot']\n",
    "formatted_packages = ','.join(package_list)\n",
    "\n",
    "url = 'http://cranlogs.r-pkg.org/downloads/total/' + BEGIN_DT + ':' + END_DT +\\\n",
    "'/' + formatted_packages\n",
    "\n",
    "r = requests.get(url)"
   ]
  },
  {
   "cell_type": "code",
   "execution_count": 6,
   "metadata": {
    "collapsed": false
   },
   "outputs": [
    {
     "data": {
      "text/html": [
       "<div>\n",
       "<table border=\"1\" class=\"dataframe\">\n",
       "  <thead>\n",
       "    <tr style=\"text-align: right;\">\n",
       "      <th></th>\n",
       "      <th>downloads</th>\n",
       "      <th>package</th>\n",
       "      <th>start</th>\n",
       "      <th>end</th>\n",
       "    </tr>\n",
       "  </thead>\n",
       "  <tbody>\n",
       "    <tr>\n",
       "      <th>0</th>\n",
       "      <td>1655229</td>\n",
       "      <td>dplyr</td>\n",
       "      <td>2016-01-10</td>\n",
       "      <td>2017-01-10</td>\n",
       "    </tr>\n",
       "    <tr>\n",
       "      <th>1</th>\n",
       "      <td>2741503</td>\n",
       "      <td>digest</td>\n",
       "      <td>2016-01-10</td>\n",
       "      <td>2017-01-10</td>\n",
       "    </tr>\n",
       "    <tr>\n",
       "      <th>2</th>\n",
       "      <td>3235491</td>\n",
       "      <td>ggplot2</td>\n",
       "      <td>2016-01-10</td>\n",
       "      <td>2017-01-10</td>\n",
       "    </tr>\n",
       "    <tr>\n",
       "      <th>3</th>\n",
       "      <td>3535077</td>\n",
       "      <td>Rcpp</td>\n",
       "      <td>2016-01-10</td>\n",
       "      <td>2017-01-10</td>\n",
       "    </tr>\n",
       "    <tr>\n",
       "      <th>4</th>\n",
       "      <td>0</td>\n",
       "      <td>GGPLOT2</td>\n",
       "      <td>2016-01-10</td>\n",
       "      <td>2017-01-10</td>\n",
       "    </tr>\n",
       "    <tr>\n",
       "      <th>5</th>\n",
       "      <td>0</td>\n",
       "      <td>Dplyr</td>\n",
       "      <td>2016-01-10</td>\n",
       "      <td>2017-01-10</td>\n",
       "    </tr>\n",
       "    <tr>\n",
       "      <th>6</th>\n",
       "      <td>84</td>\n",
       "      <td>ggplot</td>\n",
       "      <td>2016-01-10</td>\n",
       "      <td>2017-01-10</td>\n",
       "    </tr>\n",
       "  </tbody>\n",
       "</table>\n",
       "</div>"
      ],
      "text/plain": [
       "   downloads  package       start         end\n",
       "0    1655229    dplyr  2016-01-10  2017-01-10\n",
       "1    2741503   digest  2016-01-10  2017-01-10\n",
       "2    3235491  ggplot2  2016-01-10  2017-01-10\n",
       "3    3535077     Rcpp  2016-01-10  2017-01-10\n",
       "4          0  GGPLOT2  2016-01-10  2017-01-10\n",
       "5          0    Dplyr  2016-01-10  2017-01-10\n",
       "6         84   ggplot  2016-01-10  2017-01-10"
      ]
     },
     "execution_count": 6,
     "metadata": {},
     "output_type": "execute_result"
    }
   ],
   "source": [
    "pd.DataFrame(r.json())[['downloads', 'package', 'start', 'end']]"
   ]
  },
  {
   "cell_type": "markdown",
   "metadata": {},
   "source": [
    "# Get trending packages (last week)"
   ]
  },
  {
   "cell_type": "code",
   "execution_count": 7,
   "metadata": {
    "collapsed": true
   },
   "outputs": [],
   "source": [
    "url = 'http://cranlogs.r-pkg.org/trending'\n",
    "\n",
    "r = requests.get(url)"
   ]
  },
  {
   "cell_type": "code",
   "execution_count": 8,
   "metadata": {
    "collapsed": false
   },
   "outputs": [
    {
     "data": {
      "text/plain": [
       "[{u'increase': u'4664.4167278063096100', u'package': u'gdm'},\n",
       " {u'increase': u'3490.9090909090909100', u'package': u'frailtypack'},\n",
       " {u'increase': u'3473.9259889408762200', u'package': u'rgexf'},\n",
       " {u'increase': u'3344.5600756859035000', u'package': u'caseMatch'},\n",
       " {u'increase': u'2793.6842105263157900', u'package': u'dpcR'},\n",
       " {u'increase': u'2763.7418419144307500', u'package': u'pubmed.mineR'},\n",
       " {u'increase': u'2439.3801276207839600', u'package': u'eHOF'},\n",
       " {u'increase': u'2419.2170818505338100', u'package': u'FactoClass'},\n",
       " {u'increase': u'2333.5761107064821600', u'package': u'biogram'},\n",
       " {u'increase': u'2188.5483870967741900', u'package': u'bayesTFR'}]"
      ]
     },
     "execution_count": 8,
     "metadata": {},
     "output_type": "execute_result"
    }
   ],
   "source": [
    "r.json()[:10]"
   ]
  },
  {
   "cell_type": "markdown",
   "metadata": {},
   "source": [
    "# Get download count in given day (all pkgs)"
   ]
  },
  {
   "cell_type": "code",
   "execution_count": 9,
   "metadata": {
    "collapsed": false
   },
   "outputs": [
    {
     "data": {
      "text/plain": [
       "[{u'downloads': 427845, u'end': u'2017-01-07', u'start': u'2017-01-07'}]"
      ]
     },
     "execution_count": 9,
     "metadata": {},
     "output_type": "execute_result"
    }
   ],
   "source": [
    "url = 'http://cranlogs.r-pkg.org/downloads/total/' + '2017-01-07'\n",
    "\n",
    "r = requests.get(url)\n",
    "r.json()"
   ]
  },
  {
   "cell_type": "markdown",
   "metadata": {},
   "source": [
    "# tidyverse vs dplyr"
   ]
  },
  {
   "cell_type": "code",
   "execution_count": 10,
   "metadata": {
    "collapsed": true
   },
   "outputs": [],
   "source": [
    "package_list = ['tidyverse', 'dplyr']\n",
    "formatted_packages = ','.join(package_list)"
   ]
  },
  {
   "cell_type": "code",
   "execution_count": 11,
   "metadata": {
    "collapsed": false
   },
   "outputs": [],
   "source": [
    "# LAST YEAR\n",
    "url = 'http://cranlogs.r-pkg.org/downloads/total/' + BEGIN_DT + ':' + END_DT +\\\n",
    "'/' + formatted_packages\n",
    "\n",
    "r = requests.get(url)"
   ]
  },
  {
   "cell_type": "code",
   "execution_count": 12,
   "metadata": {
    "collapsed": false
   },
   "outputs": [
    {
     "data": {
      "text/html": [
       "<div>\n",
       "<table border=\"1\" class=\"dataframe\">\n",
       "  <thead>\n",
       "    <tr style=\"text-align: right;\">\n",
       "      <th></th>\n",
       "      <th>downloads</th>\n",
       "      <th>package</th>\n",
       "      <th>start</th>\n",
       "      <th>end</th>\n",
       "    </tr>\n",
       "  </thead>\n",
       "  <tbody>\n",
       "    <tr>\n",
       "      <th>0</th>\n",
       "      <td>61589</td>\n",
       "      <td>tidyverse</td>\n",
       "      <td>2016-01-10</td>\n",
       "      <td>2017-01-10</td>\n",
       "    </tr>\n",
       "    <tr>\n",
       "      <th>1</th>\n",
       "      <td>1655229</td>\n",
       "      <td>dplyr</td>\n",
       "      <td>2016-01-10</td>\n",
       "      <td>2017-01-10</td>\n",
       "    </tr>\n",
       "  </tbody>\n",
       "</table>\n",
       "</div>"
      ],
      "text/plain": [
       "   downloads    package       start         end\n",
       "0      61589  tidyverse  2016-01-10  2017-01-10\n",
       "1    1655229      dplyr  2016-01-10  2017-01-10"
      ]
     },
     "execution_count": 12,
     "metadata": {},
     "output_type": "execute_result"
    }
   ],
   "source": [
    "pd.DataFrame(r.json())[['downloads', 'package', 'start', 'end']]"
   ]
  },
  {
   "cell_type": "code",
   "execution_count": 13,
   "metadata": {
    "collapsed": true
   },
   "outputs": [],
   "source": [
    "# LAST MONTH\n",
    "url = 'http://cranlogs.r-pkg.org/downloads/total/last-month/' + formatted_packages\n",
    "\n",
    "r = requests.get(url)"
   ]
  },
  {
   "cell_type": "code",
   "execution_count": 14,
   "metadata": {
    "collapsed": false
   },
   "outputs": [
    {
     "data": {
      "text/html": [
       "<div>\n",
       "<table border=\"1\" class=\"dataframe\">\n",
       "  <thead>\n",
       "    <tr style=\"text-align: right;\">\n",
       "      <th></th>\n",
       "      <th>downloads</th>\n",
       "      <th>package</th>\n",
       "      <th>start</th>\n",
       "      <th>end</th>\n",
       "    </tr>\n",
       "  </thead>\n",
       "  <tbody>\n",
       "    <tr>\n",
       "      <th>0</th>\n",
       "      <td>14654</td>\n",
       "      <td>tidyverse</td>\n",
       "      <td>2016-12-11</td>\n",
       "      <td>2017-01-09</td>\n",
       "    </tr>\n",
       "    <tr>\n",
       "      <th>1</th>\n",
       "      <td>148976</td>\n",
       "      <td>dplyr</td>\n",
       "      <td>2016-12-11</td>\n",
       "      <td>2017-01-09</td>\n",
       "    </tr>\n",
       "  </tbody>\n",
       "</table>\n",
       "</div>"
      ],
      "text/plain": [
       "   downloads    package       start         end\n",
       "0      14654  tidyverse  2016-12-11  2017-01-09\n",
       "1     148976      dplyr  2016-12-11  2017-01-09"
      ]
     },
     "execution_count": 14,
     "metadata": {},
     "output_type": "execute_result"
    }
   ],
   "source": [
    "pd.DataFrame(r.json())[['downloads', 'package', 'start', 'end']]"
   ]
  }
 ],
 "metadata": {
  "kernelspec": {
   "display_name": "Python 2",
   "language": "python",
   "name": "python2"
  },
  "language_info": {
   "codemirror_mode": {
    "name": "ipython",
    "version": 2
   },
   "file_extension": ".py",
   "mimetype": "text/x-python",
   "name": "python",
   "nbconvert_exporter": "python",
   "pygments_lexer": "ipython2",
   "version": "2.7.12"
  }
 },
 "nbformat": 4,
 "nbformat_minor": 1
}
