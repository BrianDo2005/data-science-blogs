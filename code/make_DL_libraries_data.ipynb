{
 "cells": [
  {
   "cell_type": "markdown",
   "metadata": {},
   "source": [
    "## Ranking Deep Learning Libraries"
   ]
  },
  {
   "cell_type": "code",
   "execution_count": 1,
   "metadata": {
    "collapsed": true
   },
   "outputs": [],
   "source": [
    "import requests\n",
    "import logging\n",
    "import pandas as pd\n",
    "import numpy as np\n",
    "import urllib2\n",
    "import dill\n",
    "import time\n",
    "import json\n",
    "from datetime import date, timedelta\n",
    "from bs4 import BeautifulSoup\n",
    "import unicodedata\n",
    "import csv\n",
    "import sys\n",
    "import get_stack_overflow_data as gso\n",
    "sys.path.append('../code')\n",
    "sys.path.append('../data')"
   ]
  },
  {
   "cell_type": "markdown",
   "metadata": {},
   "source": [
    "### Create list of libraries"
   ]
  },
  {
   "cell_type": "markdown",
   "metadata": {},
   "source": [
    "### 1 https://svds.com/understanding-ai-toolkits/"
   ]
  },
  {
   "cell_type": "code",
   "execution_count": 2,
   "metadata": {
    "collapsed": false
   },
   "outputs": [],
   "source": [
    "r1 = requests.get('https://svds.com/understanding-ai-toolkits/')\n",
    "soup1 = BeautifulSoup(r1.text, 'lxml')\n",
    "toolkit_list1 = []\n",
    "for litags in soup1.findAll('li', attrs={'class':None}):\n",
    "    for atag in litags.find('a'):\n",
    "        toolkit_list1.append(atag.encode('utf-8').lower())"
   ]
  },
  {
   "cell_type": "code",
   "execution_count": 3,
   "metadata": {
    "collapsed": true
   },
   "outputs": [],
   "source": [
    "toolkit_list1 = toolkit_list1[0:8]"
   ]
  },
  {
   "cell_type": "code",
   "execution_count": 4,
   "metadata": {
    "collapsed": false
   },
   "outputs": [
    {
     "data": {
      "text/plain": [
       "['tensorflow',\n",
       " 'mxnet',\n",
       " 'deeplearning4j',\n",
       " 'torch',\n",
       " 'pytorch',\n",
       " 'ctnk',\n",
       " 'caffe',\n",
       " 'theano']"
      ]
     },
     "execution_count": 4,
     "metadata": {},
     "output_type": "execute_result"
    }
   ],
   "source": [
    "toolkit_list1"
   ]
  },
  {
   "cell_type": "markdown",
   "metadata": {},
   "source": [
    "### 2 https://en.wikipedia.org/wiki/Comparison_of_deep_learning_software"
   ]
  },
  {
   "cell_type": "code",
   "execution_count": 5,
   "metadata": {
    "collapsed": true
   },
   "outputs": [],
   "source": [
    "r2 = requests.get('https://en.wikipedia.org/wiki/Comparison_of_deep_learning_software')\n",
    "soup2 = BeautifulSoup(r2.text, 'lxml')\n",
    "toolkit_list2 = []"
   ]
  },
  {
   "cell_type": "code",
   "execution_count": 6,
   "metadata": {
    "collapsed": false
   },
   "outputs": [],
   "source": [
    "for tr in soup2.findAll('tr'):\n",
    "    if tr.find('td'):\n",
    "        toolkit_list2.append(tr.find('td').text.encode('utf-8').lower())"
   ]
  },
  {
   "cell_type": "code",
   "execution_count": 7,
   "metadata": {
    "collapsed": false
   },
   "outputs": [
    {
     "data": {
      "text/plain": [
       "['apache singa',\n",
       " 'bigdl',\n",
       " 'caffe',\n",
       " 'deeplearning4j',\n",
       " 'dlib',\n",
       " 'keras',\n",
       " 'matconvnet',\n",
       " 'microsoft cognitive toolkit',\n",
       " 'mxnet',\n",
       " 'neural designer',\n",
       " 'opennn',\n",
       " 'tensorflow',\n",
       " 'theano',\n",
       " 'torch',\n",
       " 'wolfram mathematica']"
      ]
     },
     "execution_count": 7,
     "metadata": {},
     "output_type": "execute_result"
    }
   ],
   "source": [
    "toolkit_list2"
   ]
  },
  {
   "cell_type": "markdown",
   "metadata": {},
   "source": [
    "### 3 https://www.packtpub.com/books/content/top-10-deep-learning-frameworks"
   ]
  },
  {
   "cell_type": "code",
   "execution_count": 8,
   "metadata": {
    "collapsed": false
   },
   "outputs": [],
   "source": [
    "#by hand, request 403 Forbidden \n",
    "toolkit_list3 = ['tensorflow','theano','keras','caffe','torch','deeplearning4j','mxnet','microsoft cognitive toolkit','lasagne','bigdl'] "
   ]
  },
  {
   "cell_type": "code",
   "execution_count": 9,
   "metadata": {
    "collapsed": false
   },
   "outputs": [
    {
     "data": {
      "text/plain": [
       "['tensorflow',\n",
       " 'theano',\n",
       " 'keras',\n",
       " 'caffe',\n",
       " 'torch',\n",
       " 'deeplearning4j',\n",
       " 'mxnet',\n",
       " 'microsoft cognitive toolkit',\n",
       " 'lasagne',\n",
       " 'bigdl']"
      ]
     },
     "execution_count": 9,
     "metadata": {},
     "output_type": "execute_result"
    }
   ],
   "source": [
    "toolkit_list3"
   ]
  },
  {
   "cell_type": "markdown",
   "metadata": {},
   "source": [
    "### 4 https://twitter.com/fchollet/status/882995652233371648"
   ]
  },
  {
   "cell_type": "code",
   "execution_count": 10,
   "metadata": {
    "collapsed": true
   },
   "outputs": [],
   "source": [
    "#by hand from jpgs\n",
    "toolkit_list4 = ['tensorflow','keras','mxnet','caffe2','pytorch','caffe','paddle','cntk',\n",
    "                'deeplearning4j','tflearn','dlib','theano','chainer','digits','dynet', 'sonnet']"
   ]
  },
  {
   "cell_type": "code",
   "execution_count": 11,
   "metadata": {
    "collapsed": false
   },
   "outputs": [
    {
     "data": {
      "text/plain": [
       "['tensorflow',\n",
       " 'keras',\n",
       " 'mxnet',\n",
       " 'caffe2',\n",
       " 'pytorch',\n",
       " 'caffe',\n",
       " 'paddle',\n",
       " 'cntk',\n",
       " 'deeplearning4j',\n",
       " 'tflearn',\n",
       " 'dlib',\n",
       " 'theano',\n",
       " 'chainer',\n",
       " 'digits',\n",
       " 'dynet',\n",
       " 'sonnet']"
      ]
     },
     "execution_count": 11,
     "metadata": {},
     "output_type": "execute_result"
    }
   ],
   "source": [
    "toolkit_list4"
   ]
  },
  {
   "cell_type": "markdown",
   "metadata": {},
   "source": [
    "### 5 https://svds.com/wp-content/uploads/2017/02/Deep_learning_ratings_final-1024x563.png"
   ]
  },
  {
   "cell_type": "code",
   "execution_count": 12,
   "metadata": {
    "collapsed": true
   },
   "outputs": [],
   "source": [
    "# by hand from png\n",
    "toolkit_list5 = ['theano', 'tensorflow', 'torch', 'caffe', 'mxnet', 'neon', 'cntk']"
   ]
  },
  {
   "cell_type": "code",
   "execution_count": 13,
   "metadata": {
    "collapsed": false
   },
   "outputs": [
    {
     "data": {
      "text/plain": [
       "['theano', 'tensorflow', 'torch', 'caffe', 'mxnet', 'neon', 'cntk']"
      ]
     },
     "execution_count": 13,
     "metadata": {},
     "output_type": "execute_result"
    }
   ],
   "source": [
    "toolkit_list5"
   ]
  },
  {
   "cell_type": "markdown",
   "metadata": {},
   "source": [
    "### combine and edit lists"
   ]
  },
  {
   "cell_type": "code",
   "execution_count": 14,
   "metadata": {
    "collapsed": true
   },
   "outputs": [],
   "source": [
    "toolkits = list(set(toolkit_list1 + toolkit_list2 + toolkit_list3 + toolkit_list4 + toolkit_list5))"
   ]
  },
  {
   "cell_type": "code",
   "execution_count": 15,
   "metadata": {
    "collapsed": false
   },
   "outputs": [
    {
     "name": "stdout",
     "output_type": "stream",
     "text": [
      "['sonnet', 'torch', 'neon', 'neural designer', 'tflearn', 'opennn', 'deeplearning4j', 'keras', 'paddle', 'caffe', 'tensorflow', 'ctnk', 'bigdl', 'cntk', 'pytorch', 'matconvnet', 'dlib', 'digits', 'microsoft cognitive toolkit', 'mxnet', 'caffe2', 'wolfram mathematica', 'lasagne', 'chainer', 'dynet', 'theano', 'apache singa']\n"
     ]
    }
   ],
   "source": [
    "print toolkits"
   ]
  },
  {
   "cell_type": "code",
   "execution_count": 16,
   "metadata": {
    "collapsed": false
   },
   "outputs": [],
   "source": [
    "toolkits.remove('ctnk')\n",
    "toolkits.remove('microsoft cognitive toolkit')\n",
    "# ctnk is typo, microsoft cognitive toolkit is cntk\n",
    "\n",
    "toolkits.remove('digits')\n",
    "toolkits.append('nvidia digits')\n",
    "\n",
    "toolkits.remove('neon')\n",
    "toolkits.append('nervana neon')\n",
    "\n",
    "toolkits.remove('paddle')\n",
    "toolkits.append('paddlepaddle')\n",
    "\n",
    "toolkits.remove('neural designer')\n",
    "toolkits.remove('wolfram mathematica')\n",
    "#neural designer and wolfram mathematica are proprietary with no github repositories "
   ]
  },
  {
   "cell_type": "code",
   "execution_count": 17,
   "metadata": {
    "collapsed": false
   },
   "outputs": [],
   "source": [
    "with open(\"../data/dl_toolkits_final.txt\", \"w\") as f:\n",
    "    f.writelines(\" \".join(toolkits))"
   ]
  },
  {
   "cell_type": "code",
   "execution_count": 18,
   "metadata": {
    "collapsed": false
   },
   "outputs": [
    {
     "name": "stdout",
     "output_type": "stream",
     "text": [
      "['apache singa', 'bigdl', 'caffe', 'caffe2', 'chainer', 'cntk', 'deeplearning4j', 'dlib', 'dynet', 'keras', 'lasagne', 'matconvnet', 'mxnet', 'nervana neon', 'nvidia digits', 'opennn', 'paddlepaddle', 'pytorch', 'sonnet', 'tensorflow', 'tflearn', 'theano', 'torch']\n"
     ]
    }
   ],
   "source": [
    "toolkits.sort()\n",
    "print toolkits"
   ]
  },
  {
   "cell_type": "markdown",
   "metadata": {},
   "source": [
    "### get metrics"
   ]
  },
  {
   "cell_type": "code",
   "execution_count": 19,
   "metadata": {
    "collapsed": true
   },
   "outputs": [],
   "source": [
    "logging.basicConfig(level=logging.INFO)"
   ]
  },
  {
   "cell_type": "markdown",
   "metadata": {},
   "source": [
    "### github stats"
   ]
  },
  {
   "cell_type": "code",
   "execution_count": 20,
   "metadata": {
    "collapsed": false
   },
   "outputs": [],
   "source": [
    "with open(\"../code/secrets/github-token.nogit\", \"rb\") as f:\n",
    "    token = f.read()\n",
    "\n",
    "headers = {'Authorization': 'token %s' % token}\n",
    "\n",
    "def get_data_from_search(query):\n",
    "    \"\"\"Use github search to return stars, forks for top query result\"\"\"\n",
    "    \n",
    "    r = requests.get('https://api.github.com/search/repositories?q='+\\\n",
    "                             query, \n",
    "                     headers=headers)\n",
    "    r.raise_for_status()\n",
    "    try:\n",
    "        res = r.json()['items'][0]\n",
    "        return {'toolkit': query, 'full_name': res['full_name'],\n",
    "                'stars': int(res['stargazers_count']), 'forks': int(res['forks_count'])}\n",
    "    except:\n",
    "        return None"
   ]
  },
  {
   "cell_type": "code",
   "execution_count": 21,
   "metadata": {
    "collapsed": true
   },
   "outputs": [],
   "source": [
    "data = [res for res in (get_data_from_search(q) for q in toolkits)\n",
    "        if res is not None]"
   ]
  },
  {
   "cell_type": "code",
   "execution_count": 22,
   "metadata": {
    "collapsed": true
   },
   "outputs": [],
   "source": [
    "github = pd.DataFrame(data)[['toolkit', 'full_name', 'forks', 'stars']]"
   ]
  },
  {
   "cell_type": "code",
   "execution_count": 23,
   "metadata": {
    "collapsed": false
   },
   "outputs": [
    {
     "data": {
      "text/html": [
       "<div>\n",
       "<table border=\"1\" class=\"dataframe\">\n",
       "  <thead>\n",
       "    <tr style=\"text-align: right;\">\n",
       "      <th></th>\n",
       "      <th>toolkit</th>\n",
       "      <th>full_name</th>\n",
       "      <th>forks</th>\n",
       "      <th>stars</th>\n",
       "    </tr>\n",
       "  </thead>\n",
       "  <tbody>\n",
       "    <tr>\n",
       "      <th>0</th>\n",
       "      <td>apache singa</td>\n",
       "      <td>apache/incubator-singa</td>\n",
       "      <td>253</td>\n",
       "      <td>1036</td>\n",
       "    </tr>\n",
       "    <tr>\n",
       "      <th>1</th>\n",
       "      <td>bigdl</td>\n",
       "      <td>intel-analytics/BigDL</td>\n",
       "      <td>401</td>\n",
       "      <td>1990</td>\n",
       "    </tr>\n",
       "    <tr>\n",
       "      <th>2</th>\n",
       "      <td>caffe</td>\n",
       "      <td>BVLC/caffe</td>\n",
       "      <td>12371</td>\n",
       "      <td>20155</td>\n",
       "    </tr>\n",
       "    <tr>\n",
       "      <th>3</th>\n",
       "      <td>caffe2</td>\n",
       "      <td>caffe2/caffe2</td>\n",
       "      <td>1233</td>\n",
       "      <td>5628</td>\n",
       "    </tr>\n",
       "    <tr>\n",
       "      <th>4</th>\n",
       "      <td>chainer</td>\n",
       "      <td>chainer/chainer</td>\n",
       "      <td>772</td>\n",
       "      <td>2925</td>\n",
       "    </tr>\n",
       "    <tr>\n",
       "      <th>5</th>\n",
       "      <td>cntk</td>\n",
       "      <td>Microsoft/CNTK</td>\n",
       "      <td>3190</td>\n",
       "      <td>12366</td>\n",
       "    </tr>\n",
       "    <tr>\n",
       "      <th>6</th>\n",
       "      <td>deeplearning4j</td>\n",
       "      <td>deeplearning4j/deeplearning4j</td>\n",
       "      <td>3590</td>\n",
       "      <td>7175</td>\n",
       "    </tr>\n",
       "    <tr>\n",
       "      <th>7</th>\n",
       "      <td>dlib</td>\n",
       "      <td>davisking/dlib</td>\n",
       "      <td>941</td>\n",
       "      <td>2724</td>\n",
       "    </tr>\n",
       "    <tr>\n",
       "      <th>8</th>\n",
       "      <td>dynet</td>\n",
       "      <td>clab/dynet</td>\n",
       "      <td>435</td>\n",
       "      <td>1723</td>\n",
       "    </tr>\n",
       "    <tr>\n",
       "      <th>9</th>\n",
       "      <td>keras</td>\n",
       "      <td>fchollet/keras</td>\n",
       "      <td>7067</td>\n",
       "      <td>19504</td>\n",
       "    </tr>\n",
       "    <tr>\n",
       "      <th>10</th>\n",
       "      <td>lasagne</td>\n",
       "      <td>Lasagne/Lasagne</td>\n",
       "      <td>899</td>\n",
       "      <td>3225</td>\n",
       "    </tr>\n",
       "    <tr>\n",
       "      <th>11</th>\n",
       "      <td>matconvnet</td>\n",
       "      <td>vlfeat/matconvnet</td>\n",
       "      <td>579</td>\n",
       "      <td>826</td>\n",
       "    </tr>\n",
       "    <tr>\n",
       "      <th>12</th>\n",
       "      <td>mxnet</td>\n",
       "      <td>apache/incubator-mxnet</td>\n",
       "      <td>4179</td>\n",
       "      <td>11127</td>\n",
       "    </tr>\n",
       "    <tr>\n",
       "      <th>13</th>\n",
       "      <td>nervana neon</td>\n",
       "      <td>NervanaSystems/neon</td>\n",
       "      <td>705</td>\n",
       "      <td>3212</td>\n",
       "    </tr>\n",
       "    <tr>\n",
       "      <th>14</th>\n",
       "      <td>nvidia digits</td>\n",
       "      <td>juvlarN/vibranceGUI</td>\n",
       "      <td>25</td>\n",
       "      <td>81</td>\n",
       "    </tr>\n",
       "    <tr>\n",
       "      <th>15</th>\n",
       "      <td>opennn</td>\n",
       "      <td>Artelnics/OpenNN</td>\n",
       "      <td>135</td>\n",
       "      <td>366</td>\n",
       "    </tr>\n",
       "    <tr>\n",
       "      <th>16</th>\n",
       "      <td>paddlepaddle</td>\n",
       "      <td>PaddlePaddle/book</td>\n",
       "      <td>352</td>\n",
       "      <td>870</td>\n",
       "    </tr>\n",
       "    <tr>\n",
       "      <th>17</th>\n",
       "      <td>pytorch</td>\n",
       "      <td>pytorch/pytorch</td>\n",
       "      <td>1456</td>\n",
       "      <td>7361</td>\n",
       "    </tr>\n",
       "    <tr>\n",
       "      <th>18</th>\n",
       "      <td>sonnet</td>\n",
       "      <td>deepmind/sonnet</td>\n",
       "      <td>650</td>\n",
       "      <td>5290</td>\n",
       "    </tr>\n",
       "    <tr>\n",
       "      <th>19</th>\n",
       "      <td>tensorflow</td>\n",
       "      <td>tensorflow/tensorflow</td>\n",
       "      <td>34355</td>\n",
       "      <td>69781</td>\n",
       "    </tr>\n",
       "    <tr>\n",
       "      <th>20</th>\n",
       "      <td>tflearn</td>\n",
       "      <td>tflearn/tflearn</td>\n",
       "      <td>1413</td>\n",
       "      <td>6645</td>\n",
       "    </tr>\n",
       "    <tr>\n",
       "      <th>21</th>\n",
       "      <td>theano</td>\n",
       "      <td>Theano/Theano</td>\n",
       "      <td>2290</td>\n",
       "      <td>6902</td>\n",
       "    </tr>\n",
       "    <tr>\n",
       "      <th>22</th>\n",
       "      <td>torch</td>\n",
       "      <td>mattstauffer/Torch</td>\n",
       "      <td>104</td>\n",
       "      <td>792</td>\n",
       "    </tr>\n",
       "  </tbody>\n",
       "</table>\n",
       "</div>"
      ],
      "text/plain": [
       "           toolkit                      full_name  forks  stars\n",
       "0     apache singa         apache/incubator-singa    253   1036\n",
       "1            bigdl          intel-analytics/BigDL    401   1990\n",
       "2            caffe                     BVLC/caffe  12371  20155\n",
       "3           caffe2                  caffe2/caffe2   1233   5628\n",
       "4          chainer                chainer/chainer    772   2925\n",
       "5             cntk                 Microsoft/CNTK   3190  12366\n",
       "6   deeplearning4j  deeplearning4j/deeplearning4j   3590   7175\n",
       "7             dlib                 davisking/dlib    941   2724\n",
       "8            dynet                     clab/dynet    435   1723\n",
       "9            keras                 fchollet/keras   7067  19504\n",
       "10         lasagne                Lasagne/Lasagne    899   3225\n",
       "11      matconvnet              vlfeat/matconvnet    579    826\n",
       "12           mxnet         apache/incubator-mxnet   4179  11127\n",
       "13    nervana neon            NervanaSystems/neon    705   3212\n",
       "14   nvidia digits            juvlarN/vibranceGUI     25     81\n",
       "15          opennn               Artelnics/OpenNN    135    366\n",
       "16    paddlepaddle              PaddlePaddle/book    352    870\n",
       "17         pytorch                pytorch/pytorch   1456   7361\n",
       "18          sonnet                deepmind/sonnet    650   5290\n",
       "19      tensorflow          tensorflow/tensorflow  34355  69781\n",
       "20         tflearn                tflearn/tflearn   1413   6645\n",
       "21          theano                  Theano/Theano   2290   6902\n",
       "22           torch             mattstauffer/Torch    104    792"
      ]
     },
     "execution_count": 23,
     "metadata": {},
     "output_type": "execute_result"
    }
   ],
   "source": [
    "github"
   ]
  },
  {
   "cell_type": "code",
   "execution_count": 24,
   "metadata": {
    "collapsed": false
   },
   "outputs": [],
   "source": [
    "#github search returned wrong repo for nvidia digits, torch, paddlepaddle, and intel bigdl- so they are changed manually below\n",
    "r = requests.get('https://api.github.com/repos/NVIDIA/DIGITS', headers=headers)\n",
    "res = r.json()\n",
    "github.loc[github['toolkit'] == 'nvidia digits', 'full_name'] = 'NVIDIA/DIGITS'\n",
    "github.loc[github['toolkit'] == 'nvidia digits', 'forks'] = res['forks_count']\n",
    "github.loc[github['toolkit'] == 'nvidia digits', 'stars'] = res['stargazers_count']\n",
    "\n",
    "r = requests.get('https://api.github.com/repos/torch/torch7', headers=headers)\n",
    "res = r.json()\n",
    "github.loc[github['toolkit'] == 'torch', 'full_name'] = 'torch/torch7'\n",
    "github.loc[github['toolkit'] == 'torch', 'forks'] = res['forks_count']\n",
    "github.loc[github['toolkit'] == 'torch', 'stars'] = res['stargazers_count']\n",
    "\n",
    "r = requests.get('https://api.github.com/repos/PaddlePaddle/Paddle', headers=headers)\n",
    "res = r.json()\n",
    "github.loc[github['toolkit'] == 'paddlepaddle', 'full_name'] = 'PaddlePaddle/Paddle'\n",
    "github.loc[github['toolkit'] == 'paddlepaddle', 'forks'] = res['forks_count']\n",
    "github.loc[github['toolkit'] == 'paddlepaddle', 'stars'] = res['stargazers_count']"
   ]
  },
  {
   "cell_type": "code",
   "execution_count": 25,
   "metadata": {
    "collapsed": false
   },
   "outputs": [
    {
     "data": {
      "text/html": [
       "<div>\n",
       "<table border=\"1\" class=\"dataframe\">\n",
       "  <thead>\n",
       "    <tr style=\"text-align: right;\">\n",
       "      <th></th>\n",
       "      <th>toolkit</th>\n",
       "      <th>full_name</th>\n",
       "      <th>forks</th>\n",
       "      <th>stars</th>\n",
       "    </tr>\n",
       "  </thead>\n",
       "  <tbody>\n",
       "    <tr>\n",
       "      <th>19</th>\n",
       "      <td>tensorflow</td>\n",
       "      <td>tensorflow/tensorflow</td>\n",
       "      <td>34355</td>\n",
       "      <td>69781</td>\n",
       "    </tr>\n",
       "    <tr>\n",
       "      <th>2</th>\n",
       "      <td>caffe</td>\n",
       "      <td>BVLC/caffe</td>\n",
       "      <td>12371</td>\n",
       "      <td>20155</td>\n",
       "    </tr>\n",
       "    <tr>\n",
       "      <th>9</th>\n",
       "      <td>keras</td>\n",
       "      <td>fchollet/keras</td>\n",
       "      <td>7067</td>\n",
       "      <td>19504</td>\n",
       "    </tr>\n",
       "    <tr>\n",
       "      <th>5</th>\n",
       "      <td>cntk</td>\n",
       "      <td>Microsoft/CNTK</td>\n",
       "      <td>3190</td>\n",
       "      <td>12366</td>\n",
       "    </tr>\n",
       "    <tr>\n",
       "      <th>12</th>\n",
       "      <td>mxnet</td>\n",
       "      <td>apache/incubator-mxnet</td>\n",
       "      <td>4179</td>\n",
       "      <td>11127</td>\n",
       "    </tr>\n",
       "  </tbody>\n",
       "</table>\n",
       "</div>"
      ],
      "text/plain": [
       "       toolkit               full_name  forks  stars\n",
       "19  tensorflow   tensorflow/tensorflow  34355  69781\n",
       "2        caffe              BVLC/caffe  12371  20155\n",
       "9        keras          fchollet/keras   7067  19504\n",
       "5         cntk          Microsoft/CNTK   3190  12366\n",
       "12       mxnet  apache/incubator-mxnet   4179  11127"
      ]
     },
     "execution_count": 25,
     "metadata": {},
     "output_type": "execute_result"
    }
   ],
   "source": [
    "github.sort_values(['stars'], ascending=False).head()"
   ]
  },
  {
   "cell_type": "code",
   "execution_count": 26,
   "metadata": {
    "collapsed": true
   },
   "outputs": [],
   "source": [
    "github.to_csv(\"../data/DL_toolkits_results_github.csv\", index=False)"
   ]
  },
  {
   "cell_type": "markdown",
   "metadata": {},
   "source": [
    "### stackoverflow stats"
   ]
  },
  {
   "cell_type": "code",
   "execution_count": 27,
   "metadata": {
    "collapsed": false
   },
   "outputs": [
    {
     "data": {
      "text/html": [
       "<div>\n",
       "<table border=\"1\" class=\"dataframe\">\n",
       "  <thead>\n",
       "    <tr style=\"text-align: right;\">\n",
       "      <th></th>\n",
       "      <th>toolkit</th>\n",
       "      <th>so_tag_counts</th>\n",
       "    </tr>\n",
       "  </thead>\n",
       "  <tbody>\n",
       "    <tr>\n",
       "      <th>0</th>\n",
       "      <td>tensorflow</td>\n",
       "      <td>16462</td>\n",
       "    </tr>\n",
       "    <tr>\n",
       "      <th>1</th>\n",
       "      <td>keras</td>\n",
       "      <td>4098</td>\n",
       "    </tr>\n",
       "    <tr>\n",
       "      <th>2</th>\n",
       "      <td>theano</td>\n",
       "      <td>2329</td>\n",
       "    </tr>\n",
       "    <tr>\n",
       "      <th>3</th>\n",
       "      <td>caffe</td>\n",
       "      <td>2191</td>\n",
       "    </tr>\n",
       "    <tr>\n",
       "      <th>4</th>\n",
       "      <td>torch</td>\n",
       "      <td>774</td>\n",
       "    </tr>\n",
       "    <tr>\n",
       "      <th>5</th>\n",
       "      <td>dlib</td>\n",
       "      <td>421</td>\n",
       "    </tr>\n",
       "    <tr>\n",
       "      <th>6</th>\n",
       "      <td>cntk</td>\n",
       "      <td>301</td>\n",
       "    </tr>\n",
       "    <tr>\n",
       "      <th>7</th>\n",
       "      <td>tflearn</td>\n",
       "      <td>245</td>\n",
       "    </tr>\n",
       "    <tr>\n",
       "      <th>8</th>\n",
       "      <td>lasagne</td>\n",
       "      <td>227</td>\n",
       "    </tr>\n",
       "    <tr>\n",
       "      <th>9</th>\n",
       "      <td>pytorch</td>\n",
       "      <td>224</td>\n",
       "    </tr>\n",
       "    <tr>\n",
       "      <th>10</th>\n",
       "      <td>mxnet</td>\n",
       "      <td>206</td>\n",
       "    </tr>\n",
       "    <tr>\n",
       "      <th>11</th>\n",
       "      <td>deeplearning4j</td>\n",
       "      <td>139</td>\n",
       "    </tr>\n",
       "    <tr>\n",
       "      <th>12</th>\n",
       "      <td>nvidia-digits</td>\n",
       "      <td>68</td>\n",
       "    </tr>\n",
       "    <tr>\n",
       "      <th>13</th>\n",
       "      <td>matconvnet</td>\n",
       "      <td>58</td>\n",
       "    </tr>\n",
       "    <tr>\n",
       "      <th>14</th>\n",
       "      <td>chainer</td>\n",
       "      <td>49</td>\n",
       "    </tr>\n",
       "    <tr>\n",
       "      <th>15</th>\n",
       "      <td>caffe2</td>\n",
       "      <td>26</td>\n",
       "    </tr>\n",
       "    <tr>\n",
       "      <th>16</th>\n",
       "      <td>nervana-neon</td>\n",
       "      <td>3</td>\n",
       "    </tr>\n",
       "    <tr>\n",
       "      <th>17</th>\n",
       "      <td>sonnet</td>\n",
       "      <td>1</td>\n",
       "    </tr>\n",
       "    <tr>\n",
       "      <th>18</th>\n",
       "      <td>opennn</td>\n",
       "      <td>1</td>\n",
       "    </tr>\n",
       "  </tbody>\n",
       "</table>\n",
       "</div>"
      ],
      "text/plain": [
       "           toolkit  so_tag_counts\n",
       "0       tensorflow          16462\n",
       "1            keras           4098\n",
       "2           theano           2329\n",
       "3            caffe           2191\n",
       "4            torch            774\n",
       "5             dlib            421\n",
       "6             cntk            301\n",
       "7          tflearn            245\n",
       "8          lasagne            227\n",
       "9          pytorch            224\n",
       "10           mxnet            206\n",
       "11  deeplearning4j            139\n",
       "12   nvidia-digits             68\n",
       "13      matconvnet             58\n",
       "14         chainer             49\n",
       "15          caffe2             26\n",
       "16    nervana-neon              3\n",
       "17          sonnet              1\n",
       "18          opennn              1"
      ]
     },
     "execution_count": 27,
     "metadata": {},
     "output_type": "execute_result"
    }
   ],
   "source": [
    "tag_list = [toolkit.replace(' ','-') for toolkit in toolkits]\n",
    "tag_counts = gso.get_tag_counts(tag_list)\n",
    "df_tags = pd.DataFrame(tag_counts)[['name', 'count']]\n",
    "df_tags.columns = ['toolkit', 'so_tag_counts']\n",
    "df_tags"
   ]
  },
  {
   "cell_type": "code",
   "execution_count": 28,
   "metadata": {
    "collapsed": true
   },
   "outputs": [],
   "source": [
    "body_counts = {toolkit: gso.get_body_count(toolkit) for toolkit in tag_list}"
   ]
  },
  {
   "cell_type": "code",
   "execution_count": 29,
   "metadata": {
    "collapsed": true
   },
   "outputs": [],
   "source": [
    "df_questions = pd.DataFrame.from_dict(body_counts, orient='index')\n",
    "df_questions.reset_index(inplace=True)\n",
    "df_questions.columns = ['toolkit', 'so_question_count']"
   ]
  },
  {
   "cell_type": "code",
   "execution_count": 30,
   "metadata": {
    "collapsed": true
   },
   "outputs": [],
   "source": [
    "so = df_tags.merge(df_questions, on='toolkit', how='outer')"
   ]
  },
  {
   "cell_type": "code",
   "execution_count": 31,
   "metadata": {
    "collapsed": false
   },
   "outputs": [
    {
     "data": {
      "text/html": [
       "<div>\n",
       "<table border=\"1\" class=\"dataframe\">\n",
       "  <thead>\n",
       "    <tr style=\"text-align: right;\">\n",
       "      <th></th>\n",
       "      <th>toolkit</th>\n",
       "      <th>so_tag_counts</th>\n",
       "      <th>so_question_count</th>\n",
       "    </tr>\n",
       "  </thead>\n",
       "  <tbody>\n",
       "    <tr>\n",
       "      <th>0</th>\n",
       "      <td>tensorflow</td>\n",
       "      <td>16462.0</td>\n",
       "      <td>17641</td>\n",
       "    </tr>\n",
       "    <tr>\n",
       "      <th>1</th>\n",
       "      <td>keras</td>\n",
       "      <td>4098.0</td>\n",
       "      <td>4529</td>\n",
       "    </tr>\n",
       "    <tr>\n",
       "      <th>2</th>\n",
       "      <td>theano</td>\n",
       "      <td>2329.0</td>\n",
       "      <td>2935</td>\n",
       "    </tr>\n",
       "    <tr>\n",
       "      <th>3</th>\n",
       "      <td>caffe</td>\n",
       "      <td>2191.0</td>\n",
       "      <td>2636</td>\n",
       "    </tr>\n",
       "    <tr>\n",
       "      <th>4</th>\n",
       "      <td>torch</td>\n",
       "      <td>774.0</td>\n",
       "      <td>1848</td>\n",
       "    </tr>\n",
       "  </tbody>\n",
       "</table>\n",
       "</div>"
      ],
      "text/plain": [
       "      toolkit  so_tag_counts  so_question_count\n",
       "0  tensorflow        16462.0              17641\n",
       "1       keras         4098.0               4529\n",
       "2      theano         2329.0               2935\n",
       "3       caffe         2191.0               2636\n",
       "4       torch          774.0               1848"
      ]
     },
     "execution_count": 31,
     "metadata": {},
     "output_type": "execute_result"
    }
   ],
   "source": [
    "so['toolkit'] = so['toolkit'].apply(lambda x: str(x).replace('-',' '))\n",
    "so.sort_values(['so_tag_counts'], ascending=False).head()"
   ]
  },
  {
   "cell_type": "code",
   "execution_count": 32,
   "metadata": {
    "collapsed": true
   },
   "outputs": [],
   "source": [
    "##chainer is over counted in questions because chainer is a common word, opting for using chainer framework instead\n",
    "so.loc[so['toolkit'] == 'chainer', 'so_question_count'] = gso.get_body_count('chainer framework')"
   ]
  },
  {
   "cell_type": "code",
   "execution_count": 33,
   "metadata": {
    "collapsed": true
   },
   "outputs": [],
   "source": [
    "so.to_csv(\"../data/DL_toolkits_results_stackoverflow.csv\", index=False)"
   ]
  },
  {
   "cell_type": "markdown",
   "metadata": {},
   "source": [
    "### google search results stats"
   ]
  },
  {
   "cell_type": "code",
   "execution_count": 34,
   "metadata": {
    "collapsed": true
   },
   "outputs": [],
   "source": [
    "from googleapiclient.discovery import build"
   ]
  },
  {
   "cell_type": "code",
   "execution_count": 35,
   "metadata": {
    "collapsed": false
   },
   "outputs": [],
   "source": [
    "with open(\"../code/secrets/google_token.nogit\", \"rb\") as f:\n",
    "    my_api_key = f.read()\n",
    "    \n",
    "with open(\"../code/secrets/cse_token.nogit\", \"rb\") as f:\n",
    "    my_cse_id = f.read()"
   ]
  },
  {
   "cell_type": "code",
   "execution_count": 51,
   "metadata": {
    "collapsed": false
   },
   "outputs": [],
   "source": [
    "def google_search_results_count(search_term, api_key, cse_id):\n",
    "    toolkit = search_term\n",
    "    search_term = search_term.replace(' ','+')\n",
    "    r= requests.get('https://www.googleapis.com/customsearch/v1?q=\"deep+learning\"&alt=json&cx='+\n",
    "                    my_cse_id+'&c2coff=1&dateRestrict=y5&exactTerms='+search_term+'&rc=1&key='+my_api_key)\n",
    "    res = r.json()['queries']['request'][0]\n",
    "    return {'toolkit': toolkit, 'search_results': int(res['totalResults'])}\n",
    "\n",
    "def google_quarterly_growth_rate(search_term, api_key, cse_id):\n",
    "    toolkit = search_term\n",
    "    search_term = search_term.replace(' ','+')    \n",
    "    ##get count for last 6 months--- dateRestrict=m6\n",
    "    r= requests.get('https://www.googleapis.com/customsearch/v1?q=\"deep+learning\"&alt=json&cx='+\n",
    "                    my_cse_id+'&c2coff=1&dateRestrict=m6&exactTerms='+search_term+'&rc=1&key='+my_api_key)\n",
    "    res = r.json()['queries']['request'][0]\n",
    "    six_months = int(res['totalResults'])\n",
    "    ##get count for last 3 months--- dateRestrict=m3    \n",
    "    r= requests.get('https://www.googleapis.com/customsearch/v1?q=\"deep+learning\"&alt=json&cx='+\n",
    "                    my_cse_id+'&c2coff=1&dateRestrict=m3&exactTerms='+search_term+'&rc=1&key='+my_api_key)\n",
    "    res = r.json()['queries']['request'][0]\n",
    "    current_quarter = int(res['totalResults'])\n",
    "    \n",
    "    last_quarter = six_months - current_quarter\n",
    "    growth_rate = (float(current_quarter)-float(last_quarter))/float(last_quarter)\n",
    "    return {'toolkit': toolkit, 'growth_rate': growth_rate}"
   ]
  },
  {
   "cell_type": "code",
   "execution_count": 47,
   "metadata": {
    "collapsed": false
   },
   "outputs": [],
   "source": [
    "results = [res for res in (google_search_results_count(q, my_api_key, my_cse_id) for q in toolkits)\n",
    "        if res is not None]\n",
    "resultsDF = pd.DataFrame(results)[['toolkit', 'search_results']]"
   ]
  },
  {
   "cell_type": "code",
   "execution_count": 49,
   "metadata": {
    "collapsed": false
   },
   "outputs": [
    {
     "data": {
      "text/html": [
       "<div>\n",
       "<table border=\"1\" class=\"dataframe\">\n",
       "  <thead>\n",
       "    <tr style=\"text-align: right;\">\n",
       "      <th></th>\n",
       "      <th>toolkit</th>\n",
       "      <th>search_results</th>\n",
       "    </tr>\n",
       "  </thead>\n",
       "  <tbody>\n",
       "    <tr>\n",
       "      <th>19</th>\n",
       "      <td>tensorflow</td>\n",
       "      <td>98500</td>\n",
       "    </tr>\n",
       "    <tr>\n",
       "      <th>2</th>\n",
       "      <td>caffe</td>\n",
       "      <td>46300</td>\n",
       "    </tr>\n",
       "    <tr>\n",
       "      <th>9</th>\n",
       "      <td>keras</td>\n",
       "      <td>30800</td>\n",
       "    </tr>\n",
       "    <tr>\n",
       "      <th>21</th>\n",
       "      <td>theano</td>\n",
       "      <td>28400</td>\n",
       "    </tr>\n",
       "    <tr>\n",
       "      <th>12</th>\n",
       "      <td>mxnet</td>\n",
       "      <td>18400</td>\n",
       "    </tr>\n",
       "  </tbody>\n",
       "</table>\n",
       "</div>"
      ],
      "text/plain": [
       "       toolkit  search_results\n",
       "19  tensorflow           98500\n",
       "2        caffe           46300\n",
       "9        keras           30800\n",
       "21      theano           28400\n",
       "12       mxnet           18400"
      ]
     },
     "execution_count": 49,
     "metadata": {},
     "output_type": "execute_result"
    }
   ],
   "source": [
    "resultsDF.sort_values(['search_results'], ascending=False).head()"
   ]
  },
  {
   "cell_type": "code",
   "execution_count": 38,
   "metadata": {
    "collapsed": false
   },
   "outputs": [
    {
     "data": {
      "text/html": [
       "<div>\n",
       "<table border=\"1\" class=\"dataframe\">\n",
       "  <thead>\n",
       "    <tr style=\"text-align: right;\">\n",
       "      <th></th>\n",
       "      <th>toolkit</th>\n",
       "      <th>search_results</th>\n",
       "    </tr>\n",
       "  </thead>\n",
       "  <tbody>\n",
       "    <tr>\n",
       "      <th>22</th>\n",
       "      <td>torch</td>\n",
       "      <td>374000</td>\n",
       "    </tr>\n",
       "    <tr>\n",
       "      <th>19</th>\n",
       "      <td>tensorflow</td>\n",
       "      <td>178000</td>\n",
       "    </tr>\n",
       "    <tr>\n",
       "      <th>2</th>\n",
       "      <td>caffe</td>\n",
       "      <td>67800</td>\n",
       "    </tr>\n",
       "    <tr>\n",
       "      <th>9</th>\n",
       "      <td>keras</td>\n",
       "      <td>43900</td>\n",
       "    </tr>\n",
       "    <tr>\n",
       "      <th>18</th>\n",
       "      <td>sonnet</td>\n",
       "      <td>34000</td>\n",
       "    </tr>\n",
       "  </tbody>\n",
       "</table>\n",
       "</div>"
      ],
      "text/plain": [
       "       toolkit  search_results\n",
       "22       torch          374000\n",
       "19  tensorflow          178000\n",
       "2        caffe           67800\n",
       "9        keras           43900\n",
       "18      sonnet           34000"
      ]
     },
     "execution_count": 38,
     "metadata": {},
     "output_type": "execute_result"
    }
   ],
   "source": [
    "resultsDF.sort_values(['search_results'], ascending=False).head()"
   ]
  },
  {
   "cell_type": "code",
   "execution_count": 52,
   "metadata": {
    "collapsed": false
   },
   "outputs": [],
   "source": [
    "growth_rate = [res for res in (google_quarterly_growth_rate(q, my_api_key, my_cse_id) for q in toolkits)\n",
    "        if res is not None]\n",
    "growthDF =  pd.DataFrame(growth_rate)[['toolkit', 'growth_rate']]"
   ]
  },
  {
   "cell_type": "code",
   "execution_count": 53,
   "metadata": {
    "collapsed": false
   },
   "outputs": [
    {
     "data": {
      "text/html": [
       "<div>\n",
       "<table border=\"1\" class=\"dataframe\">\n",
       "  <thead>\n",
       "    <tr style=\"text-align: right;\">\n",
       "      <th></th>\n",
       "      <th>toolkit</th>\n",
       "      <th>growth_rate</th>\n",
       "    </tr>\n",
       "  </thead>\n",
       "  <tbody>\n",
       "    <tr>\n",
       "      <th>18</th>\n",
       "      <td>sonnet</td>\n",
       "      <td>2.724409</td>\n",
       "    </tr>\n",
       "    <tr>\n",
       "      <th>17</th>\n",
       "      <td>pytorch</td>\n",
       "      <td>2.360360</td>\n",
       "    </tr>\n",
       "    <tr>\n",
       "      <th>19</th>\n",
       "      <td>tensorflow</td>\n",
       "      <td>1.280576</td>\n",
       "    </tr>\n",
       "    <tr>\n",
       "      <th>5</th>\n",
       "      <td>cntk</td>\n",
       "      <td>1.236220</td>\n",
       "    </tr>\n",
       "    <tr>\n",
       "      <th>7</th>\n",
       "      <td>dlib</td>\n",
       "      <td>1.209486</td>\n",
       "    </tr>\n",
       "  </tbody>\n",
       "</table>\n",
       "</div>"
      ],
      "text/plain": [
       "       toolkit  growth_rate\n",
       "18      sonnet     2.724409\n",
       "17     pytorch     2.360360\n",
       "19  tensorflow     1.280576\n",
       "5         cntk     1.236220\n",
       "7         dlib     1.209486"
      ]
     },
     "execution_count": 53,
     "metadata": {},
     "output_type": "execute_result"
    }
   ],
   "source": [
    "growthDF.sort_values(['growth_rate'], ascending=False).head()"
   ]
  },
  {
   "cell_type": "code",
   "execution_count": 54,
   "metadata": {
    "collapsed": true
   },
   "outputs": [],
   "source": [
    "googleDF = growthDF.merge(resultsDF, on='toolkit', copy = False)"
   ]
  },
  {
   "cell_type": "code",
   "execution_count": 55,
   "metadata": {
    "collapsed": true
   },
   "outputs": [],
   "source": [
    "googleDF.to_csv(\"../data/DL_toolkits_results_google.csv\", index=False)"
   ]
  },
  {
   "cell_type": "markdown",
   "metadata": {},
   "source": [
    "## Combine all data"
   ]
  },
  {
   "cell_type": "code",
   "execution_count": 56,
   "metadata": {
    "collapsed": true
   },
   "outputs": [],
   "source": [
    "dltkDF = github.merge(so, on='toolkit', copy = False)\n",
    "dltkDF = dltkDF.merge(googleDF, on='toolkit', copy = False)"
   ]
  },
  {
   "cell_type": "code",
   "execution_count": 57,
   "metadata": {
    "collapsed": false
   },
   "outputs": [
    {
     "data": {
      "text/html": [
       "<div>\n",
       "<table border=\"1\" class=\"dataframe\">\n",
       "  <thead>\n",
       "    <tr style=\"text-align: right;\">\n",
       "      <th></th>\n",
       "      <th>toolkit</th>\n",
       "      <th>full_name</th>\n",
       "      <th>forks</th>\n",
       "      <th>stars</th>\n",
       "      <th>so_tag_counts</th>\n",
       "      <th>so_question_count</th>\n",
       "      <th>growth_rate</th>\n",
       "      <th>search_results</th>\n",
       "    </tr>\n",
       "  </thead>\n",
       "  <tbody>\n",
       "    <tr>\n",
       "      <th>0</th>\n",
       "      <td>apache singa</td>\n",
       "      <td>apache/incubator-singa</td>\n",
       "      <td>253</td>\n",
       "      <td>1036</td>\n",
       "      <td>NaN</td>\n",
       "      <td>1</td>\n",
       "      <td>0.600000</td>\n",
       "      <td>233</td>\n",
       "    </tr>\n",
       "    <tr>\n",
       "      <th>1</th>\n",
       "      <td>bigdl</td>\n",
       "      <td>intel-analytics/BigDL</td>\n",
       "      <td>401</td>\n",
       "      <td>1990</td>\n",
       "      <td>NaN</td>\n",
       "      <td>3</td>\n",
       "      <td>0.791176</td>\n",
       "      <td>1490</td>\n",
       "    </tr>\n",
       "    <tr>\n",
       "      <th>2</th>\n",
       "      <td>caffe</td>\n",
       "      <td>BVLC/caffe</td>\n",
       "      <td>12371</td>\n",
       "      <td>20155</td>\n",
       "      <td>2191.0</td>\n",
       "      <td>2636</td>\n",
       "      <td>0.575758</td>\n",
       "      <td>46300</td>\n",
       "    </tr>\n",
       "    <tr>\n",
       "      <th>3</th>\n",
       "      <td>caffe2</td>\n",
       "      <td>caffe2/caffe2</td>\n",
       "      <td>1233</td>\n",
       "      <td>5628</td>\n",
       "      <td>26.0</td>\n",
       "      <td>34</td>\n",
       "      <td>1.086420</td>\n",
       "      <td>3690</td>\n",
       "    </tr>\n",
       "    <tr>\n",
       "      <th>4</th>\n",
       "      <td>chainer</td>\n",
       "      <td>chainer/chainer</td>\n",
       "      <td>772</td>\n",
       "      <td>2925</td>\n",
       "      <td>49.0</td>\n",
       "      <td>940</td>\n",
       "      <td>0.956522</td>\n",
       "      <td>6590</td>\n",
       "    </tr>\n",
       "  </tbody>\n",
       "</table>\n",
       "</div>"
      ],
      "text/plain": [
       "        toolkit               full_name  forks  stars  so_tag_counts  \\\n",
       "0  apache singa  apache/incubator-singa    253   1036            NaN   \n",
       "1         bigdl   intel-analytics/BigDL    401   1990            NaN   \n",
       "2         caffe              BVLC/caffe  12371  20155         2191.0   \n",
       "3        caffe2           caffe2/caffe2   1233   5628           26.0   \n",
       "4       chainer         chainer/chainer    772   2925           49.0   \n",
       "\n",
       "   so_question_count  growth_rate  search_results  \n",
       "0                  1     0.600000             233  \n",
       "1                  3     0.791176            1490  \n",
       "2               2636     0.575758           46300  \n",
       "3                 34     1.086420            3690  \n",
       "4                940     0.956522            6590  "
      ]
     },
     "execution_count": 57,
     "metadata": {},
     "output_type": "execute_result"
    }
   ],
   "source": [
    "dltkDF.head()"
   ]
  },
  {
   "cell_type": "code",
   "execution_count": 58,
   "metadata": {
    "collapsed": false
   },
   "outputs": [],
   "source": [
    "dltkDF.to_csv(\"../output/deep_learning_data.csv\", index=False)"
   ]
  },
  {
   "cell_type": "code",
   "execution_count": null,
   "metadata": {
    "collapsed": true
   },
   "outputs": [],
   "source": []
  }
 ],
 "metadata": {
  "anaconda-cloud": {},
  "kernelspec": {
   "display_name": "Python [default]",
   "language": "python",
   "name": "python2"
  },
  "language_info": {
   "codemirror_mode": {
    "name": "ipython",
    "version": 2
   },
   "file_extension": ".py",
   "mimetype": "text/x-python",
   "name": "python",
   "nbconvert_exporter": "python",
   "pygments_lexer": "ipython2",
   "version": "2.7.12"
  }
 },
 "nbformat": 4,
 "nbformat_minor": 1
}
