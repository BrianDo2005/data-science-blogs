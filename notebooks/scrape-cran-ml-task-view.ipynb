{
 "cells": [
  {
   "cell_type": "markdown",
   "metadata": {},
   "source": [
    "# Get list of R packages for ML"
   ]
  },
  {
   "cell_type": "markdown",
   "metadata": {},
   "source": [
    "From the [\"CRAN Task View: Machine Learning & Statistical Learning\"](https://cran.r-project.org/web/views/MachineLearning.html)"
   ]
  },
  {
   "cell_type": "code",
   "execution_count": 31,
   "metadata": {
    "collapsed": true
   },
   "outputs": [],
   "source": [
    "import requests\n",
    "import re\n",
    "from bs4 import BeautifulSoup"
   ]
  },
  {
   "cell_type": "code",
   "execution_count": 4,
   "metadata": {
    "collapsed": true
   },
   "outputs": [],
   "source": [
    "URL = 'https://cran.r-project.org/web/views/MachineLearning.html'"
   ]
  },
  {
   "cell_type": "code",
   "execution_count": 43,
   "metadata": {
    "collapsed": true
   },
   "outputs": [],
   "source": [
    "r = requests.get(URL)"
   ]
  },
  {
   "cell_type": "code",
   "execution_count": 44,
   "metadata": {
    "collapsed": false
   },
   "outputs": [],
   "source": [
    "soup = BeautifulSoup(r.text, 'lxml')\n",
    "h3 = soup.find('h3')"
   ]
  },
  {
   "cell_type": "code",
   "execution_count": 51,
   "metadata": {
    "collapsed": false
   },
   "outputs": [],
   "source": [
    "descendants_list = h3.findNextSibling().text.strip().split(\"\\n\")\n",
    "package_list = [re.sub(\" \\([A-z]+\\)\", \"\", item) for item in descendants_list]"
   ]
  },
  {
   "cell_type": "code",
   "execution_count": 52,
   "metadata": {
    "collapsed": false
   },
   "outputs": [
    {
     "name": "stdout",
     "output_type": "stream",
     "text": [
      "[u'ahaz', u'arules', u'BayesTree', u'biglasso', u'bigRR', u'bmrm', u'Boruta', u'bst', u'C50', u'caret', u'CORElearn', u'CoxBoost', u'Cubist', u'e1071', u'earth', u'elasticnet', u'ElemStatLearn', u'evclass', u'evtree', u'FCNN4R', u'frbs', u'GAMBoost', u'gamboostLSS', u'gbm', u'glmnet', u'glmpath', u'GMMBoost', u'gmum.r', u'grplasso', u'grpreg', u'h2o', u'hda', u'hdi', u'hdm', u'ipred', u'kernlab', u'klaR', u'lars', u'lasso2', u'LiblineaR', u'LogicForest', u'LogicReg', u'maptree', u'mboost', u'mlr', u'ncvreg', u'nnet', u'oblique.tree', u'OneR', u'pamr', u'party', u'partykit', u'penalized', u'penalizedLDA', u'penalizedSVM', u'quantregForest', u'randomForest', u'randomForestSRC', u'ranger', u'rattle', u'Rborist', u'rda', u'rdetools', u'REEMtree', u'relaxo', u'rgenoud', u'rgp', u'Rmalschains', u'rminer', u'rnn', u'ROCR', u'RoughSets', u'rpart', u'RPMM', u'RSNNS', u'RWeka', u'RXshrink', u'sda', u'SIS', u'spa', u'stabs', u'SuperLearner', u'svmpath', u'tgp', u'tree', u'varSelRF', u'vcrpart']\n"
     ]
    }
   ],
   "source": [
    "print package_list"
   ]
  },
  {
   "cell_type": "code",
   "execution_count": 30,
   "metadata": {
    "collapsed": false
   },
   "outputs": [
    {
     "data": {
      "text/plain": [
       "87"
      ]
     },
     "execution_count": 30,
     "metadata": {},
     "output_type": "execute_result"
    }
   ],
   "source": [
    "len(descendants)"
   ]
  },
  {
   "cell_type": "code",
   "execution_count": null,
   "metadata": {
    "collapsed": true
   },
   "outputs": [],
   "source": []
  },
  {
   "cell_type": "code",
   "execution_count": null,
   "metadata": {
    "collapsed": true
   },
   "outputs": [],
   "source": [
    "soup = BeautifulSoup(r.text, 'lxml')\n",
    "table = soup.find('table', id='cwsearchabletable')\n",
    "pd_table = pd.read_html(str(table))\n",
    "if len(pd_table) != 1:\n",
    "    print 'WARNING: multiple tables found.  I am using the first one only.'\n",
    "df = pd.DataFrame(pd_table[0])\n"
   ]
  }
 ],
 "metadata": {
  "kernelspec": {
   "display_name": "Python 2",
   "language": "python",
   "name": "python2"
  },
  "language_info": {
   "codemirror_mode": {
    "name": "ipython",
    "version": 2
   },
   "file_extension": ".py",
   "mimetype": "text/x-python",
   "name": "python",
   "nbconvert_exporter": "python",
   "pygments_lexer": "ipython2",
   "version": "2.7.12"
  }
 },
 "nbformat": 4,
 "nbformat_minor": 1
}
